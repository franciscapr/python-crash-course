{
 "cells": [
  {
   "cell_type": "markdown",
   "metadata": {},
   "source": [
    "# **CAPÍTULO 8: FUNCIONES**\n",
    "* Definir una función\n",
    "* Pasar información a una función\n",
    "* Argumentos y parámetros\n",
    "* Ejercicio 8-1: Mensaje\n",
    "* Ejercicio 8-2: Libro favorito\n",
    "* Pasar argumentos\n",
    "* Argumentos posicionales\n",
    "* Argumentos de palabra clave\n",
    "* Valores predeterminados\n",
    "* Llamadas de función equivalentes\n",
    "* Evitar errores de argumentos\n",
    "* Ejercicio 8-3: Camiseta\n",
    "* Ejercicio 8-4: Camisetas grandes\n",
    "* Ejercicio 8-5: Ciudades\n",
    "* Valores de retorno\n",
    "* Devolver un valor simple\n",
    "* Hacer un argumento opcional\n",
    "* Devolver un diccionario\n",
    "* Usar una función con un bucle while\n",
    "* Ejercicio 8-6: Nombres de ciudades\n",
    "* Ejercicio 8-7: Álbum\n",
    "* Ejercicio 8-8: Álbumes de usuario\n",
    "* Pasar una lista\n",
    "* Modificar una lista en una función\n",
    "* Evitar que una función modifique una lista\n",
    "* Ejercicio 8-9: Mensajes\n",
    "* Ejercicio 8-10: Envío de mensajes\n",
    "* Ejercicio 8-11: Mensajes archivados\n",
    "* Pasar un número arbitrario de argumentos\n",
    "* Mezclar argumentos posicionales y arbitrarios\n",
    "* Usar argumentos de palabra clave arbitrarios\n",
    "* Ejercicio 8-12: Bocadillos\n",
    "* Ejercicio 8-13: Perfil de usuario\n",
    "* Ejercicio 8-14: Coches\n",
    "* Almacenar tus funciones en módulos\n",
    "* Importar un módulo completo\n",
    "* Importar funciones específicas\n",
    "* Usar as para darle un alias a una función\n",
    "* Usar as para darle un alias a un módulo\n",
    "* Importar todas las funciones de un módulo\n",
    "* Estilo de funciones\n",
    "* Ejercicio 8-15: Imprimir modelos\n",
    "* Ejercicio 8-16: Importaciones\n",
    "* Ejercicio 8-17: Estilo de funciones\n",
    "* Resumen"
   ]
  },
  {
   "cell_type": "markdown",
   "metadata": {},
   "source": [
    "Este capítulo se enfoca en enseñarte a escribir funciones, que son bloques de código con nombre diseñados para realizar una tarea específica. Cuando deseas realizar una tarea particular que has definido en una función, llamas a la función responsable de ello. Si necesitas realizar esa tarea múltiples veces a lo largo de tu programa, no necesitas escribir todo el código de la misma tarea una y otra vez; simplemente llamas a la función dedicada a manejar esa tarea, y la llamada le dice a Python que ejecute el código dentro de la función. Descubrirás que el uso de funciones hace que tus programas sean más fáciles de escribir, leer, probar y corregir.\n",
    "\n",
    "En este capítulo también aprenderás diversas formas de pasar información a las funciones. Aprenderás cómo escribir ciertas funciones cuya tarea principal es mostrar información y otras funciones diseñadas para procesar datos y devolver un valor o conjunto de valores. Por último, aprenderás a almacenar funciones en archivos separados llamados módulos para ayudar a organizar tus archivos principales de programa."
   ]
  },
  {
   "cell_type": "markdown",
   "metadata": {},
   "source": [
    "# Definiendo una funciòn"
   ]
  },
  {
   "cell_type": "code",
   "execution_count": 1,
   "metadata": {},
   "outputs": [
    {
     "name": "stdout",
     "output_type": "stream",
     "text": [
      "Hello!\n"
     ]
    }
   ],
   "source": [
    "# greeter.py\n",
    "\n",
    "def greet_user():\n",
    "    \"\"\"Display a simple greeting\"\"\"\n",
    "    print(\"Hello!\")\n",
    "\n",
    "# Llamada a la funciòn\n",
    "greet_user()"
   ]
  },
  {
   "cell_type": "markdown",
   "metadata": {},
   "source": [
    "\n",
    "Este ejemplo muestra la estructura más simple de una función. La primera línea utiliza la palabra clave **`def`** para informar a Python que estás definiendo una función. Esta es la definición de la función, que le dice a Python el nombre de la función y, si aplica, qué tipo de información necesita la función para realizar su trabajo. Los paréntesis contienen esa información. En este caso, el nombre de la función es `greet_user()` y no necesita información para realizar su trabajo, por lo que sus paréntesis están vacíos. (Aun así, los paréntesis son necesarios). Finalmente, la definición termina con dos puntos. Cualquier línea con sangría que siga a `def greet_user():` forma el cuerpo de la función. El texto en la segunda línea es un comentario llamado una cadena de documentación `(docstring)`, que describe lo que hace la función. Cuando Python genera documentación para las funciones en tus programas, busca una cadena de texto inmediatamente después de la definición de la función. Estas cadenas suelen estar encerradas en triples comillas, lo que te permite escribir varias líneas. La línea print(\"¡Hola!\") es la única línea de código real en el cuerpo de esta función, por lo que `greet_user()` tiene solo una tarea: imprimir \"¡Hola!\". Cuando quieras usar esta función, debes llamarla. Una llamada a función le indica a Python que ejecute el código en la función. Para llamar a una función, escribes el nombre de la función, seguido de cualquier información necesaria en paréntesis. Como aquí no se necesita información, llamar a nuestra función es tan simple como ingresar `greet_user()`. Como se esperaba, imprime ¡Hola!:\n",
    "\n",
    "```python\n",
    "¡Hola!\n",
    "```"
   ]
  },
  {
   "cell_type": "markdown",
   "metadata": {},
   "source": [
    "#  Pasar información a una función\n",
    "\n",
    "Si modificas ligeramente la función `greet_user()`, puede saludar al usuario por su nombre. Para que la función haga esto, ingresas `username` entre paréntesis en la definición de la función en `def greet_user()`. Al agregar `username` aquí, permites que la función acepte cualquier valor de `username` que especifiques. La función ahora espera que proporciones un valor para `username` cada vez que la llames. Cuando llamas a `greet_user()`, puedes pasarle un nombre, como 'jesse', dentro de los paréntesis:"
   ]
  },
  {
   "cell_type": "code",
   "execution_count": 3,
   "metadata": {},
   "outputs": [
    {
     "name": "stdout",
     "output_type": "stream",
     "text": [
      "Hello, Jesse!\n"
     ]
    }
   ],
   "source": [
    "def greet_user(username):\n",
    "    \"\"\"Display a simple greeting.\"\"\"\n",
    "    print(f\"Hello, {username.title()}!\")\n",
    "    \n",
    "greet_user(\"jesse\")"
   ]
  },
  {
   "cell_type": "markdown",
   "metadata": {},
   "source": [
    "Al ingresar `greet_user('jesse')`, llamas a `greet_user()` y le das a la función la información que necesita para ejecutar la llamada a `print()`. La función acepta el nombre que le proporcionaste y muestra el saludo para ese nombre:"
   ]
  },
  {
   "cell_type": "code",
   "execution_count": 4,
   "metadata": {},
   "outputs": [
    {
     "name": "stdout",
     "output_type": "stream",
     "text": [
      "Hello, Jesse!\n"
     ]
    }
   ],
   "source": [
    "greet_user('jesse')"
   ]
  },
  {
   "cell_type": "markdown",
   "metadata": {},
   "source": [
    "De manera similar, al ingresar `greet_user('sarah')`, llamas a `greet_user()`, le pasas `'sarah'` y muestra ¡Hola, Sarah! Puedes llamar a `greet_user()` tantas veces como quieras y pasarle cualquier nombre que desees para producir un resultado predecible cada vez."
   ]
  },
  {
   "cell_type": "markdown",
   "metadata": {},
   "source": [
    "# Argumentos y parámetros\n",
    "\n",
    "En la función `greet_user()` anterior, definimos `greet_user()` para requerir un valor para la variable `username`. Una vez que llamamos a la función y le proporcionamos la información (el nombre de una persona), imprimió el saludo correcto. La variable `username` en la definición de `greet_user()` es un ejemplo de un parámetro, una pieza de información que la función necesita para hacer su trabajo. El valor 'jesse' en `greet_user('jesse')` es un ejemplo de un argumento. Un argumento es una pieza de información que se pasa desde una llamada de función a una función. Cuando llamamos a la función, colocamos el valor con el que queremos que la función trabaje entre paréntesis. En este caso, el argumento 'jesse' se pasó a la función `greet_user()`, y el valor se asignó al parámetro `username`.\n"
   ]
  },
  {
   "cell_type": "markdown",
   "metadata": {},
   "source": [
    "**NOTA**\n",
    "\n",
    "A veces, las personas hablan de argumentos y parámetros de manera intercambiable. No te sorprendas si ves que a las variables en la definición de una función se les llama argumentos, o a las variables en una llamada de función se les llama parámetros.\n"
   ]
  },
  {
   "cell_type": "markdown",
   "metadata": {},
   "source": [
    "## **HAZLO TU MISM**O\n",
    "**8-1. Message:** \n",
    "* Escribe una función llamada display_message() que imprima una oración diciéndole a todos lo que está aprendiendo en este capítulo. \n",
    "* Llame a la función y asegúrese de que el mensaje se muestre correctamente."
   ]
  },
  {
   "cell_type": "code",
   "execution_count": 5,
   "metadata": {},
   "outputs": [
    {
     "name": "stdout",
     "output_type": "stream",
     "text": [
      "Estoy en el Cap8 - Funciones\n"
     ]
    }
   ],
   "source": [
    "def display_message():\n",
    "    print(\"Estoy en el Cap8 - Funciones\")\n",
    "\n",
    "display_message()"
   ]
  }
 ],
 "metadata": {
  "kernelspec": {
   "display_name": "env",
   "language": "python",
   "name": "python3"
  },
  "language_info": {
   "codemirror_mode": {
    "name": "ipython",
    "version": 3
   },
   "file_extension": ".py",
   "mimetype": "text/x-python",
   "name": "python",
   "nbconvert_exporter": "python",
   "pygments_lexer": "ipython3",
   "version": "3.12.3"
  }
 },
 "nbformat": 4,
 "nbformat_minor": 2
}
