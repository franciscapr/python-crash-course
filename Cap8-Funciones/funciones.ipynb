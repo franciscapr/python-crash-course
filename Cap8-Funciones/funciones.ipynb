{
 "cells": [
  {
   "cell_type": "markdown",
   "metadata": {},
   "source": [
    "# **CAPÍTULO 8: FUNCIONES**\n",
    "* Definir una función\n",
    "* Pasar información a una función\n",
    "* Argumentos y parámetros\n",
    "* Ejercicio 8-1: Mensaje\n",
    "* Ejercicio 8-2: Libro favorito\n",
    "* Pasar argumentos\n",
    "* Argumentos posicionales\n",
    "* Argumentos de palabra clave\n",
    "* Valores predeterminados\n",
    "* Llamadas de función equivalentes\n",
    "* Evitar errores de argumentos\n",
    "* Ejercicio 8-3: Camiseta\n",
    "* Ejercicio 8-4: Camisetas grandes\n",
    "* Ejercicio 8-5: Ciudades\n",
    "* Valores de retorno\n",
    "* Devolver un valor simple\n",
    "* Hacer un argumento opcional\n",
    "* Devolver un diccionario\n",
    "* Usar una función con un bucle while\n",
    "* Ejercicio 8-6: Nombres de ciudades\n",
    "* Ejercicio 8-7: Álbum\n",
    "* Ejercicio 8-8: Álbumes de usuario\n",
    "* Pasar una lista\n",
    "* Modificar una lista en una función\n",
    "* Evitar que una función modifique una lista\n",
    "* Ejercicio 8-9: Mensajes\n",
    "* Ejercicio 8-10: Envío de mensajes\n",
    "* Ejercicio 8-11: Mensajes archivados\n",
    "* Pasar un número arbitrario de argumentos\n",
    "* Mezclar argumentos posicionales y arbitrarios\n",
    "* Usar argumentos de palabra clave arbitrarios\n",
    "* Ejercicio 8-12: Bocadillos\n",
    "* Ejercicio 8-13: Perfil de usuario\n",
    "* Ejercicio 8-14: Coches\n",
    "* Almacenar tus funciones en módulos\n",
    "* Importar un módulo completo\n",
    "* Importar funciones específicas\n",
    "* Usar as para darle un alias a una función\n",
    "* Usar as para darle un alias a un módulo\n",
    "* Importar todas las funciones de un módulo\n",
    "* Estilo de funciones\n",
    "* Ejercicio 8-15: Imprimir modelos\n",
    "* Ejercicio 8-16: Importaciones\n",
    "* Ejercicio 8-17: Estilo de funciones\n",
    "* Resumen"
   ]
  },
  {
   "cell_type": "markdown",
   "metadata": {},
   "source": [
    "Este capítulo se enfoca en enseñarte a escribir funciones, que son bloques de código con nombre diseñados para realizar una tarea específica. Cuando deseas realizar una tarea particular que has definido en una función, llamas a la función responsable de ello. Si necesitas realizar esa tarea múltiples veces a lo largo de tu programa, no necesitas escribir todo el código de la misma tarea una y otra vez; simplemente llamas a la función dedicada a manejar esa tarea, y la llamada le dice a Python que ejecute el código dentro de la función. Descubrirás que el uso de funciones hace que tus programas sean más fáciles de escribir, leer, probar y corregir.\n",
    "\n",
    "En este capítulo también aprenderás diversas formas de pasar información a las funciones. Aprenderás cómo escribir ciertas funciones cuya tarea principal es mostrar información y otras funciones diseñadas para procesar datos y devolver un valor o conjunto de valores. Por último, aprenderás a almacenar funciones en archivos separados llamados módulos para ayudar a organizar tus archivos principales de programa."
   ]
  },
  {
   "cell_type": "markdown",
   "metadata": {},
   "source": [
    "# Definiendo una funciòn"
   ]
  },
  {
   "cell_type": "code",
   "execution_count": 40,
   "metadata": {},
   "outputs": [
    {
     "name": "stdout",
     "output_type": "stream",
     "text": [
      "Hello!\n"
     ]
    }
   ],
   "source": [
    "# greeter.py\n",
    "\n",
    "def greet_user():\n",
    "    \"\"\"Display a simple greeting\"\"\"\n",
    "    print(\"Hello!\")\n",
    "\n",
    "# Llamada a la funciòn\n",
    "greet_user()"
   ]
  },
  {
   "cell_type": "markdown",
   "metadata": {},
   "source": [
    "\n",
    "Este ejemplo muestra la estructura más simple de una función. La primera línea utiliza la palabra clave **`def`** para informar a Python que estás definiendo una función. Esta es la definición de la función, que le dice a Python el nombre de la función y, si aplica, qué tipo de información necesita la función para realizar su trabajo. Los paréntesis contienen esa información. En este caso, el nombre de la función es `greet_user()` y no necesita información para realizar su trabajo, por lo que sus paréntesis están vacíos. (Aun así, los paréntesis son necesarios). Finalmente, la definición termina con dos puntos. Cualquier línea con sangría que siga a `def greet_user():` forma el cuerpo de la función. El texto en la segunda línea es un comentario llamado una cadena de documentación `(docstring)`, que describe lo que hace la función. Cuando Python genera documentación para las funciones en tus programas, busca una cadena de texto inmediatamente después de la definición de la función. Estas cadenas suelen estar encerradas en triples comillas, lo que te permite escribir varias líneas. La línea print(\"¡Hola!\") es la única línea de código real en el cuerpo de esta función, por lo que `greet_user()` tiene solo una tarea: imprimir \"¡Hola!\". Cuando quieras usar esta función, debes llamarla. Una llamada a función le indica a Python que ejecute el código en la función. Para llamar a una función, escribes el nombre de la función, seguido de cualquier información necesaria en paréntesis. Como aquí no se necesita información, llamar a nuestra función es tan simple como ingresar `greet_user()`. Como se esperaba, imprime ¡Hola!:\n",
    "\n",
    "```python\n",
    "¡Hola!\n",
    "```"
   ]
  },
  {
   "cell_type": "markdown",
   "metadata": {},
   "source": [
    "#  Pasar información a una función\n",
    "\n",
    "Si modificas ligeramente la función `greet_user()`, puede saludar al usuario por su nombre. Para que la función haga esto, ingresas `username` entre paréntesis en la definición de la función en `def greet_user()`. Al agregar `username` aquí, permites que la función acepte cualquier valor de `username` que especifiques. La función ahora espera que proporciones un valor para `username` cada vez que la llames. Cuando llamas a `greet_user()`, puedes pasarle un nombre, como 'jesse', dentro de los paréntesis:"
   ]
  },
  {
   "cell_type": "code",
   "execution_count": 41,
   "metadata": {},
   "outputs": [
    {
     "name": "stdout",
     "output_type": "stream",
     "text": [
      "Hello, Jesse!\n"
     ]
    }
   ],
   "source": [
    "def greet_user(username):\n",
    "    \"\"\"Display a simple greeting.\"\"\"\n",
    "    print(f\"Hello, {username.title()}!\")\n",
    "    \n",
    "greet_user(\"jesse\")"
   ]
  },
  {
   "cell_type": "markdown",
   "metadata": {},
   "source": [
    "Al ingresar `greet_user('jesse')`, llamas a `greet_user()` y le das a la función la información que necesita para ejecutar la llamada a `print()`. La función acepta el nombre que le proporcionaste y muestra el saludo para ese nombre:"
   ]
  },
  {
   "cell_type": "code",
   "execution_count": 42,
   "metadata": {},
   "outputs": [
    {
     "name": "stdout",
     "output_type": "stream",
     "text": [
      "Hello, Jesse!\n"
     ]
    }
   ],
   "source": [
    "greet_user('jesse')"
   ]
  },
  {
   "cell_type": "markdown",
   "metadata": {},
   "source": [
    "De manera similar, al ingresar `greet_user('sarah')`, llamas a `greet_user()`, le pasas `'sarah'` y muestra ¡Hola, Sarah! Puedes llamar a `greet_user()` tantas veces como quieras y pasarle cualquier nombre que desees para producir un resultado predecible cada vez."
   ]
  },
  {
   "cell_type": "markdown",
   "metadata": {},
   "source": [
    "# Argumentos y parámetros\n",
    "\n",
    "En la función `greet_user()` anterior, definimos `greet_user()` para requerir un valor para la variable `username`. Una vez que llamamos a la función y le proporcionamos la información (el nombre de una persona), imprimió el saludo correcto. La variable `username` en la definición de `greet_user()` es un ejemplo de un parámetro, una pieza de información que la función necesita para hacer su trabajo. El valor 'jesse' en `greet_user('jesse')` es un ejemplo de un argumento. Un argumento es una pieza de información que se pasa desde una llamada de función a una función. Cuando llamamos a la función, colocamos el valor con el que queremos que la función trabaje entre paréntesis. En este caso, el argumento 'jesse' se pasó a la función `greet_user()`, y el valor se asignó al parámetro `username`.\n"
   ]
  },
  {
   "cell_type": "markdown",
   "metadata": {},
   "source": [
    "**NOTA**\n",
    "\n",
    "A veces, las personas hablan de argumentos y parámetros de manera intercambiable. No te sorprendas si ves que a las variables en la definición de una función se les llama argumentos, o a las variables en una llamada de función se les llama parámetros.\n"
   ]
  },
  {
   "cell_type": "markdown",
   "metadata": {},
   "source": [
    "## **HAZLO TU MISM**O\n",
    "**8-1. Message:** \n",
    "* Escribe una función llamada display_message() que imprima una oración diciéndole a todos lo que está aprendiendo en este capítulo. \n",
    "* Llame a la función y asegúrese de que el mensaje se muestre correctamente."
   ]
  },
  {
   "cell_type": "code",
   "execution_count": 43,
   "metadata": {},
   "outputs": [
    {
     "name": "stdout",
     "output_type": "stream",
     "text": [
      "Estoy en el Cap8 - Funciones\n"
     ]
    }
   ],
   "source": [
    "def display_message():\n",
    "    print(\"Estoy en el Cap8 - Funciones\")\n",
    "\n",
    "display_message()"
   ]
  },
  {
   "cell_type": "markdown",
   "metadata": {},
   "source": [
    "**8-2. Favorite Book:** \n",
    "\n",
    "* Escribe una función llamada favorito_book() que acepte uno parámetro, título. \n",
    "* La función debería imprimir un mensaje, como Uno de mis libros favoritos es Alicia en el país de las maravillas. \n",
    "* Llame a la función, asegurándose de incluir el título de un libro como un argumento en la llamada a la función."
   ]
  },
  {
   "cell_type": "code",
   "execution_count": 44,
   "metadata": {},
   "outputs": [
    {
     "name": "stdout",
     "output_type": "stream",
     "text": [
      " Unos de mis libros favoritos es Alicia En El Paìs De Las Maravillas.\n"
     ]
    }
   ],
   "source": [
    "def favorito_book(book):\n",
    "    print(f\" Unos de mis libros favoritos es {book.title()}.\")\n",
    "\n",
    "favorito_book('alicia en el paìs de las maravillas')"
   ]
  },
  {
   "cell_type": "markdown",
   "metadata": {},
   "source": [
    "# Pasar argumentos\n",
    "\n",
    "Debido a que una definición de función puede tener múltiples parámetros, una llamada a función puede necesitar múltiples argumentos. Puedes pasar argumentos a tus funciones de varias maneras. Puedes utilizar argumentos posicionales, que deben estar en el mismo orden en el que se escribieron los parámetros; argumentos de palabra clave, donde cada argumento consiste en un nombre de variable y un valor; y listas y diccionarios de valores. Veamos cada uno de ellos por turno.\n"
   ]
  },
  {
   "cell_type": "markdown",
   "metadata": {},
   "source": [
    "# Argumentos posicionales\n",
    "\n",
    "Cuando llamas a una función, Python debe asociar cada argumento en la llamada de función con un parámetro en la definición de la función. La forma más sencilla de hacer esto se basa en el orden de los argumentos proporcionados. Los valores emparejados de esta manera se llaman argumentos posicionales.\n",
    "\n",
    "Para ver cómo funciona esto, considera una función que muestra información sobre mascotas. La función nos dice qué tipo de animal es cada mascota y el nombre de la mascota, como se muestra aquí:\n"
   ]
  },
  {
   "cell_type": "code",
   "execution_count": 45,
   "metadata": {},
   "outputs": [
    {
     "name": "stdout",
     "output_type": "stream",
     "text": [
      "\n",
      "I have a hamster.\n",
      "My hamster's name is Harry.\n"
     ]
    }
   ],
   "source": [
    "# pets.py\n",
    "# Definimos una funciòn\n",
    "# Definimos dos paràmetros\n",
    "\n",
    "def describe_pet(animal_type, pet_name):\n",
    "    # Escribimos un docstring\n",
    "    \"\"\"Display information about a pet.\"\"\"\n",
    "    # Imprimimos un texto con un argumento\n",
    "    print(f\"\\nI have a {animal_type}.\")\n",
    "    # Imprimimos un texto con dos argumentos\n",
    "    print(f\"My {animal_type}'s name is {pet_name.title()}.\")\n",
    "\n",
    "# Llamamos a la funciòn\n",
    "describe_pet(\"hamster\", \"harry\")"
   ]
  },
  {
   "cell_type": "markdown",
   "metadata": {},
   "source": [
    "La definición muestra que esta función necesita un tipo de animal y el nombre del animal. Cuando llamamos a `describe_pet()`, necesitamos proporcionar un tipo de animal y un nombre, en ese orden. Por ejemplo, en la llamada a la función, el argumento 'hámster' se asigna al parámetro `animal_type` y el argumento 'Harry' se asigna al parámetro `pet_name`. En el cuerpo de la función, estos dos parámetros se utilizan para mostrar información sobre la mascota que se describe.\n",
    "\n",
    "La salida describe a un hámster llamado Harry:"
   ]
  },
  {
   "cell_type": "code",
   "execution_count": 46,
   "metadata": {},
   "outputs": [
    {
     "name": "stdout",
     "output_type": "stream",
     "text": [
      "\n",
      "I have a hamster.\n",
      "My hamster's name is Harry.\n"
     ]
    }
   ],
   "source": [
    "# Llamamos a la funciòn\n",
    "describe_pet(\"hamster\", \"harry\")"
   ]
  },
  {
   "cell_type": "markdown",
   "metadata": {},
   "source": [
    "# Llamadas múltiples a funciones\n",
    "\n",
    "Puedes llamar a una función tantas veces como sea necesario. Describir una segunda mascota diferente solo requiere una llamada más a `describe_pet()`:\n"
   ]
  },
  {
   "cell_type": "code",
   "execution_count": 47,
   "metadata": {},
   "outputs": [
    {
     "name": "stdout",
     "output_type": "stream",
     "text": [
      "\n",
      "I have a hamster.\n",
      "My hamster's name is Harry.\n",
      "\n",
      "I have a dog.\n",
      "My dog's name is Willie.\n"
     ]
    }
   ],
   "source": [
    "# Definimos una funciòn con sus parametros y argumentos\n",
    "\n",
    "def describe_pet(animal_type, pet_name):\n",
    "    \"\"\"Display information about a pet.\"\"\"\n",
    "    print(f\"\\nI have a {animal_type}.\")\n",
    "    print(f\"My {animal_type}'s name is {pet_name.title()}.\")\n",
    "\n",
    "describe_pet(\"hamster\", \"harry\")\n",
    "describe_pet(\"dog\", \"willie\")"
   ]
  },
  {
   "cell_type": "markdown",
   "metadata": {},
   "source": [
    "En esta segunda llamada a la función, pasamos a `describe_pet()` los argumentos 'perro' y 'Willie'. Al igual que con el conjunto anterior de argumentos que usamos, Python empareja 'perro' con el parámetro `animal_type` y 'Willie' con el parámetro `pet_name`. Como antes, la función realiza su tarea, pero esta vez imprime los valores para un perro llamado Willie. Ahora tenemos un hámster llamado Harry y un perro llamado Willie:"
   ]
  },
  {
   "cell_type": "code",
   "execution_count": 48,
   "metadata": {},
   "outputs": [
    {
     "name": "stdout",
     "output_type": "stream",
     "text": [
      "\n",
      "I have a hamster.\n",
      "My hamster's name is Harry.\n",
      "\n",
      "I have a dog.\n",
      "My dog's name is Willie.\n"
     ]
    }
   ],
   "source": [
    "describe_pet(\"hamster\", \"harry\")\n",
    "describe_pet(\"dog\", \"willie\")"
   ]
  },
  {
   "cell_type": "markdown",
   "metadata": {},
   "source": [
    "Llamar a una función múltiples veces es una forma muy eficiente de trabajar. El código que describe una mascota se escribe una vez en la función. Luego, cada vez que quieras describir una nueva mascota, llamas a la función con la información de la nueva mascota. Incluso si el código para describir una mascota se expandiera a 10 líneas, aún podrías describir una nueva mascota en solo una línea llamando nuevamente a la función."
   ]
  },
  {
   "cell_type": "markdown",
   "metadata": {},
   "source": [
    "# El orden importa en los argumentos posicionales\n",
    "\n",
    "Puedes obtener resultados inesperados si mezclas el orden de los argumentos en una llamada a función cuando usas argumentos posicionales:\n"
   ]
  },
  {
   "cell_type": "code",
   "execution_count": 49,
   "metadata": {},
   "outputs": [
    {
     "name": "stdout",
     "output_type": "stream",
     "text": [
      "\n",
      "I have a harry.\n",
      "My harry's name is Hamster.\n"
     ]
    }
   ],
   "source": [
    "def describe_pet(animal_type, pet_name):\n",
    "    \"\"\"Display information about a pet.\"\"\"\n",
    "    print(f\"\\nI have a {animal_type}.\")\n",
    "    print(f\"My {animal_type}'s name is {pet_name.title()}.\")\n",
    "\n",
    "describe_pet(\"harry\", \"hamster\")"
   ]
  },
  {
   "cell_type": "markdown",
   "metadata": {},
   "source": [
    "En esta llamada a la función, listamos primero el nombre y segundo el tipo de animal. Debido a que el argumento 'harry' se enumera primero esta vez, ese valor se asigna al parámetro `animal_type`. De manera similar, 'hámster' se asigna a `pet_name`. Ahora tenemos un \"harry\" llamado \"Hámster\":\n",
    "\n"
   ]
  },
  {
   "cell_type": "code",
   "execution_count": 50,
   "metadata": {},
   "outputs": [
    {
     "name": "stdout",
     "output_type": "stream",
     "text": [
      "\n",
      "I have a harry.\n",
      "My harry's name is Hamster.\n"
     ]
    }
   ],
   "source": [
    "describe_pet(\"harry\", \"hamster\")"
   ]
  },
  {
   "cell_type": "markdown",
   "metadata": {},
   "source": [
    "Si obtienes resultados extraños como este, verifica que el orden de los argumentos en tu llamada a función coincida con el orden de los parámetros en la definición de la función.\n"
   ]
  },
  {
   "cell_type": "markdown",
   "metadata": {},
   "source": [
    "# Argumentos de palabras clave\n",
    "\n",
    "Un argumento de palabra clave es un par de nombre-valor que pasas a una función. Asocias directamente el nombre y el valor dentro del argumento, por lo que al pasar el argumento a la función, no hay confusión (no terminarás con un harry llamado Hámster). Los argumentos de palabras clave te liberan de tener que preocuparte por ordenar correctamente tus argumentos en la llamada a la función, y clarifican el papel de cada valor en la llamada a la función.\n",
    "\n",
    "Reescribamos `pets.py` usando argumentos de palabras clave para llamar a `describe_pet()`:\n"
   ]
  },
  {
   "cell_type": "code",
   "execution_count": 51,
   "metadata": {},
   "outputs": [
    {
     "name": "stdout",
     "output_type": "stream",
     "text": [
      "\n",
      "I have a hamster.\n",
      "My hamster's name is Harry.\n"
     ]
    }
   ],
   "source": [
    "def describe_pet(animal_type, pet_name):\n",
    "    \"\"\"Display information about a pet.\"\"\"\n",
    "    print(f\"\\nI have a {animal_type}.\")\n",
    "    print(f\"My {animal_type}'s name is {pet_name.title()}.\")\n",
    "\n",
    "describe_pet(animal_type=\"hamster\", pet_name=\"harry\")"
   ]
  },
  {
   "cell_type": "markdown",
   "metadata": {},
   "source": [
    "La función `describe_pet()` no ha cambiado. Pero cuando llamamos a la función, le decimos explícitamente a Python con qué parámetro debería coincidir cada argumento. Cuando Python lee la llamada a la función, sabe asignar el argumento 'hámster' al parámetro `animal_type` y el argumento 'harry' a `pet_name`. La salida muestra correctamente que tenemos un hámster llamado Harry.\n",
    "\n",
    "El orden de los argumentos de palabras clave no importa porque Python sabe dónde debe ir cada valor. Las siguientes dos llamadas a la función son equivalentes:\n"
   ]
  },
  {
   "cell_type": "code",
   "execution_count": 52,
   "metadata": {},
   "outputs": [
    {
     "name": "stdout",
     "output_type": "stream",
     "text": [
      "\n",
      "I have a hamster.\n",
      "My hamster's name is Harry.\n",
      "\n",
      "I have a hamster.\n",
      "My hamster's name is Harry.\n"
     ]
    }
   ],
   "source": [
    "describe_pet(animal_type=\"hamster\", pet_name=\"harry\")\n",
    "describe_pet(pet_name=\"harry\", animal_type=\"hamster\")"
   ]
  },
  {
   "cell_type": "markdown",
   "metadata": {},
   "source": [
    "**NOTA**\n",
    "\n",
    "Cuando uses argumentos de palabras clave, asegúrate de utilizar los nombres exactos de los parámetros en la definición de la función.\n"
   ]
  },
  {
   "cell_type": "markdown",
   "metadata": {},
   "source": [
    "# Valores predeterminados\n",
    "\n",
    "Al escribir una función, puedes definir un valor predeterminado para cada parámetro. Si se proporciona un argumento para un parámetro en la llamada a la función, Python utiliza el valor del argumento. Si no se proporciona, utiliza el valor predeterminado del parámetro. Por lo tanto, al definir un valor predeterminado para un parámetro, puedes excluir el argumento correspondiente que normalmente escribirías en la llamada a la función. El uso de valores predeterminados puede simplificar tus llamadas a funciones y clarificar las formas en que se utilizan típicamente tus funciones.\n",
    "\n",
    "Por ejemplo, si notas que la mayoría de las llamadas a `describe_pet()` se utilizan para describir perros, puedes establecer el valor predeterminado de `animal_type` en 'perro'. Ahora cualquiera que llame a `describe_pet()` para un perro puede omitir esa información:"
   ]
  },
  {
   "cell_type": "code",
   "execution_count": 53,
   "metadata": {},
   "outputs": [
    {
     "name": "stdout",
     "output_type": "stream",
     "text": [
      "\n",
      "I have a dog.\n",
      "My dog's name is Willie.\n"
     ]
    }
   ],
   "source": [
    "def describe_pet(pet_name, animale_type=\"dog\"):\n",
    "    \"\"\"Display information about a pet.\"\"\"\n",
    "    print(f\"\\nI have a {animale_type}.\")\n",
    "    print(f\"My {animale_type}'s name is {pet_name.title()}.\")\n",
    "\n",
    "describe_pet(pet_name=\"willie\")"
   ]
  },
  {
   "cell_type": "markdown",
   "metadata": {},
   "source": [
    "Cambiamos la definición de `describe_pet()` para incluir un valor predeterminado, 'perro', para `animal_type`. Ahora, cuando se llama a la función sin especificar `animal_type`, Python sabe que debe usar el valor 'perro' para este parámetro:"
   ]
  },
  {
   "cell_type": "code",
   "execution_count": 54,
   "metadata": {},
   "outputs": [
    {
     "name": "stdout",
     "output_type": "stream",
     "text": [
      "\n",
      "I have a dog.\n",
      "My dog's name is Willie.\n"
     ]
    }
   ],
   "source": [
    "describe_pet(pet_name=\"willie\")"
   ]
  },
  {
   "cell_type": "markdown",
   "metadata": {},
   "source": [
    "Ten en cuenta que se tuvo que cambiar el orden de los parámetros en la definición de la función. Debido al valor predeterminado, no es necesario especificar un tipo de animal como argumento, por lo que el único argumento que queda en la llamada a la función es el nombre de la mascota. Python todavía interpreta esto como un argumento posicional, por lo que si la función se llama solo con el nombre de la mascota, ese argumento se asociará con el primer parámetro listado en la definición de la función. Esta es la razón por la que el primer parámetro debe ser `pet_name`.\n",
    "\n",
    "La forma más sencilla de usar esta función ahora es proporcionar solo el nombre de un perro en la llamada a la función:"
   ]
  },
  {
   "cell_type": "code",
   "execution_count": 55,
   "metadata": {},
   "outputs": [
    {
     "name": "stdout",
     "output_type": "stream",
     "text": [
      "\n",
      "I have a dog.\n",
      "My dog's name is Willie.\n"
     ]
    }
   ],
   "source": [
    "describe_pet(\"willie\")"
   ]
  },
  {
   "cell_type": "markdown",
   "metadata": {},
   "source": [
    "Esta llamada a la función tendría el mismo resultado que el ejemplo anterior. El único argumento proporcionado es 'willie', por lo que se corresponderá con el primer parámetro en la definición, `pet_name`. Como no se proporciona ningún argumento para `animal_type`, Python utiliza el valor predeterminado 'perro'.\n",
    "\n",
    "Para describir un animal que no sea un perro, podrías utilizar una llamada a la función de esta manera:"
   ]
  },
  {
   "cell_type": "code",
   "execution_count": 56,
   "metadata": {},
   "outputs": [
    {
     "name": "stdout",
     "output_type": "stream",
     "text": [
      "\n",
      "I have a hamster.\n",
      "My hamster's name is Harry.\n"
     ]
    }
   ],
   "source": [
    "describe_pet(pet_name=\"harry\", animale_type=\"hamster\")"
   ]
  },
  {
   "cell_type": "markdown",
   "metadata": {},
   "source": [
    "Como se proporciona un argumento explícito para `animal_type`, Python ignorará el valor predeterminado del parámetro."
   ]
  },
  {
   "cell_type": "markdown",
   "metadata": {},
   "source": [
    "**NOTA**\n",
    "\n",
    "Cuando uses valores predeterminados, cualquier parámetro con un valor predeterminado debe estar listado después de todos los parámetros que no tienen valores predeterminados. Esto permite que Python continúe interpretando correctamente los argumentos posicionales."
   ]
  },
  {
   "cell_type": "markdown",
   "metadata": {},
   "source": [
    "# Llamadas de función equivalentes\n",
    "\n",
    "Debido a que los argumentos posicionales, los argumentos de palabras clave y los valores predeterminados pueden utilizarse juntos, a menudo tendrás varias formas equivalentes de llamar a una función. Considera la siguiente definición para `describe_pet()` con un valor predeterminado proporcionado:"
   ]
  },
  {
   "cell_type": "code",
   "execution_count": 57,
   "metadata": {},
   "outputs": [],
   "source": [
    "def describe(pet_name, animal_type=\"dog\"):\n",
    "    pass"
   ]
  },
  {
   "cell_type": "markdown",
   "metadata": {},
   "source": [
    "Con esta definición, siempre se necesita un argumento para `pet_name`, y este valor puede ser proporcionado utilizando el formato posicional o de palabras clave. Si el animal que se describe no es un perro, se debe incluir un argumento para `animal_type` en la llamada, y este argumento también se puede especificar utilizando el formato posicional o de palabras clave.\n",
    "\n",
    "Todas las siguientes llamadas funcionarían para esta función:"
   ]
  },
  {
   "cell_type": "code",
   "execution_count": 58,
   "metadata": {},
   "outputs": [
    {
     "name": "stdout",
     "output_type": "stream",
     "text": [
      "\n",
      "I have a dog.\n",
      "My dog's name is Willie.\n",
      "\n",
      "I have a dog.\n",
      "My dog's name is Willie.\n",
      "\n",
      "I have a hamster.\n",
      "My hamster's name is Harry.\n",
      "\n",
      "I have a hamster.\n",
      "My hamster's name is Harry.\n",
      "\n",
      "I have a hamster.\n",
      "My hamster's name is Harry.\n"
     ]
    }
   ],
   "source": [
    "# A dog named Willie.\n",
    "describe_pet(\"Willie\")\n",
    "\n",
    "describe_pet(pet_name=\"willie\")\n",
    "\n",
    "# A hamster named harry.\n",
    "describe_pet(\"harry\", \"hamster\")\n",
    "describe_pet(pet_name=\"harry\", animale_type=\"hamster\")\n",
    "describe_pet(animale_type=\"hamster\", pet_name=\"harry\")"
   ]
  },
  {
   "cell_type": "markdown",
   "metadata": {},
   "source": [
    "Cada una de estas llamadas a la función tendría el mismo resultado que los ejemplos anteriores.\n",
    "\n",
    "Realmente no importa qué estilo de llamada uses. Siempre y cuando tus llamadas a funciones produzcan la salida que deseas, simplemente utiliza el estilo que encuentres más fácil de entender."
   ]
  },
  {
   "cell_type": "markdown",
   "metadata": {},
   "source": [
    "# Evitando errores de argumentos\n",
    "\n",
    "Cuando comienzas a usar funciones, no te sorprendas si encuentras errores relacionados con argumentos no coincidentes. Los argumentos no coincidentes ocurren cuando proporcionas menos o más argumentos de los que una función necesita para realizar su trabajo. Por ejemplo, esto es lo que sucede si intentamos llamar a `describe_pet()` sin argumentos:"
   ]
  },
  {
   "cell_type": "code",
   "execution_count": 59,
   "metadata": {},
   "outputs": [
    {
     "name": "stderr",
     "output_type": "stream",
     "text": [
      "<>:3: SyntaxWarning: invalid escape sequence '\\I'\n",
      "<>:3: SyntaxWarning: invalid escape sequence '\\I'\n",
      "/tmp/ipykernel_5319/2725296339.py:3: SyntaxWarning: invalid escape sequence '\\I'\n",
      "  print(f\"n\\I have a {animal_type}.\")\n"
     ]
    },
    {
     "ename": "TypeError",
     "evalue": "describe_pet() missing 2 required positional arguments: 'animal_type' and 'pet_name'",
     "output_type": "error",
     "traceback": [
      "\u001b[0;31m---------------------------------------------------------------------------\u001b[0m",
      "\u001b[0;31mTypeError\u001b[0m                                 Traceback (most recent call last)",
      "Cell \u001b[0;32mIn[59], line 6\u001b[0m\n\u001b[1;32m      3\u001b[0m     \u001b[38;5;28mprint\u001b[39m(\u001b[38;5;124mf\u001b[39m\u001b[38;5;124m\"\u001b[39m\u001b[38;5;124mn\u001b[39m\u001b[38;5;124m\\\u001b[39m\u001b[38;5;124mI have a \u001b[39m\u001b[38;5;132;01m{\u001b[39;00manimal_type\u001b[38;5;132;01m}\u001b[39;00m\u001b[38;5;124m.\u001b[39m\u001b[38;5;124m\"\u001b[39m)\n\u001b[1;32m      4\u001b[0m     \u001b[38;5;28mprint\u001b[39m(\u001b[38;5;124mf\u001b[39m\u001b[38;5;124m\"\u001b[39m\u001b[38;5;124mMy \u001b[39m\u001b[38;5;132;01m{\u001b[39;00manimal_type\u001b[38;5;132;01m}\u001b[39;00m\u001b[38;5;124m'\u001b[39m\u001b[38;5;124ms name is \u001b[39m\u001b[38;5;132;01m{\u001b[39;00mpet_name\u001b[38;5;241m.\u001b[39mtitle()\u001b[38;5;132;01m}\u001b[39;00m\u001b[38;5;124m.\u001b[39m\u001b[38;5;124m\"\u001b[39m)\n\u001b[0;32m----> 6\u001b[0m \u001b[43mdescribe_pet\u001b[49m\u001b[43m(\u001b[49m\u001b[43m)\u001b[49m\n",
      "\u001b[0;31mTypeError\u001b[0m: describe_pet() missing 2 required positional arguments: 'animal_type' and 'pet_name'"
     ]
    }
   ],
   "source": [
    "def describe_pet(animal_type, pet_name):\n",
    "    \"\"\"Display information about a pet.\"\"\"\n",
    "    print(f\"n\\I have a {animal_type}.\")\n",
    "    print(f\"My {animal_type}'s name is {pet_name.title()}.\")\n",
    "\n",
    "describe_pet()"
   ]
  },
  {
   "cell_type": "markdown",
   "metadata": {},
   "source": [
    "Python reconoce que falta información en la llamada a la función, y la traza de error nos dice:\n"
   ]
  },
  {
   "cell_type": "code",
   "execution_count": 8,
   "metadata": {},
   "outputs": [
    {
     "ename": "TypeError",
     "evalue": "describe_pet() missing 2 required positional arguments: 'animal_type' and 'pet_name'",
     "output_type": "error",
     "traceback": [
      "\u001b[0;31m---------------------------------------------------------------------------\u001b[0m",
      "\u001b[0;31mTypeError\u001b[0m                                 Traceback (most recent call last)",
      "Cell \u001b[0;32mIn[8], line 1\u001b[0m\n\u001b[0;32m----> 1\u001b[0m \u001b[43mdescribe_pet\u001b[49m\u001b[43m(\u001b[49m\u001b[43m)\u001b[49m\n",
      "\u001b[0;31mTypeError\u001b[0m: describe_pet() missing 2 required positional arguments: 'animal_type' and 'pet_name'"
     ]
    }
   ],
   "source": [
    "describe_pet()"
   ]
  },
  {
   "cell_type": "markdown",
   "metadata": {},
   "source": [
    "La traza de error primero nos indica la ubicación del problema, lo que nos permite retroceder y ver que algo salió mal en nuestra llamada a la función. Luego, la llamada a la función con error se muestra para que podamos verla. Por último, la traza de error nos indica que la llamada está faltando con dos argumentos y reporta los nombres de los argumentos faltantes. Si esta función estuviera en un archivo separado, probablemente podríamos corregir la llamada correctamente sin tener que abrir ese archivo y leer el código de la función.\n",
    "\n",
    "Python es útil en el sentido de que lee el código de la función por nosotros y nos dice los nombres de los argumentos que necesitamos proporcionar. Esta es otra motivación para dar nombres descriptivos a tus variables y funciones. Si lo haces, los mensajes de error de Python serán más útiles para ti y para cualquier otra persona que pueda usar tu código.\n",
    "\n",
    "Si proporcionas demasiados argumentos, deberías obtener una traza de error similar que te ayudará a hacer coincidir correctamente tu llamada a la función con la definición de la función."
   ]
  },
  {
   "cell_type": "markdown",
   "metadata": {},
   "source": [
    "# **HAZLO TU MISMO**\n",
    "**8-3. Camiseta**\n",
    "\n",
    "* Escribe una función llamada `hacer_camiseta()` que acepte un tamaño y el texto de un mensaje que se imprimirá en la camiseta.\n",
    "* La función debe imprimir una oración resumiendo el tamaño de la camiseta y el mensaje impreso en ella.\n",
    "* Llama a la función una vez usando argumentos posicionales para hacer una camiseta. \n",
    "* Llama a la función una segunda vez usando argumentos de palabras clave.\n"
   ]
  },
  {
   "cell_type": "code",
   "execution_count": 10,
   "metadata": {},
   "outputs": [
    {
     "name": "stdout",
     "output_type": "stream",
     "text": [
      "La camiseta es de tamaño Xl y tiene impreso el mensaje Los Na\n",
      "La camiseta es de tamaño Xl y tiene impreso el mensaje Los Na\n"
     ]
    }
   ],
   "source": [
    "def hacer_camiseta(tamano, mensaje):\n",
    "    print(f\"La camiseta es de tamaño {tamano.title()} y tiene impreso el mensaje {mensaje.title()}\")\n",
    "\n",
    "hacer_camiseta('xl', 'los Na')\n",
    "\n",
    "hacer_camiseta(tamano=\"xl\", mensaje=\"los na\")"
   ]
  },
  {
   "cell_type": "markdown",
   "metadata": {},
   "source": [
    "**8-4. Camisetas Grandes**\n",
    "\n",
    "* Modifica la función `hacer_camiseta()` para que las camisetas sean grandes de forma predeterminada con un mensaje que diga \"Me encanta Python\". \n",
    "* Haz una camiseta grande y una mediana con el mensaje predeterminado, y una camiseta de cualquier tamaño con un mensaje diferente."
   ]
  },
  {
   "cell_type": "code",
   "execution_count": 16,
   "metadata": {},
   "outputs": [
    {
     "name": "stdout",
     "output_type": "stream",
     "text": [
      "La camiseta es de tamaño Xl y tiene impreso el mensaje Me Encanta Python\n",
      "La camiseta es de tamaño M y tiene impreso el mensaje Me Encanta Python\n",
      "La camiseta es de tamaño S y tiene impreso el mensaje A Mi No Me Encanta Python, Yo Lo Amo!!\n"
     ]
    }
   ],
   "source": [
    "def hacer_camiseta(tamano=\"xl\", mensaje=\"Me encanta python\"):\n",
    "    print(f\"La camiseta es de tamaño {tamano.title()} y tiene impreso el mensaje {mensaje.title()}\")\n",
    "\n",
    "hacer_camiseta()\n",
    "\n",
    "hacer_camiseta('m')\n",
    "\n",
    "hacer_camiseta('s', 'a mi no me encanta python, yo lo amo!!')"
   ]
  },
  {
   "cell_type": "markdown",
   "metadata": {},
   "source": [
    "**8-5. Ciudades**\n",
    " \n",
    "* Escribe una función llamada `describir_ciudad()` que acepte el nombre de una ciudad y su país. \n",
    "* La función debe imprimir una oración simple, como \"Reikiavik está en Islandia\". \n",
    "* Dale al parámetro para el país un valor predeterminado. \n",
    "* Llama a tu función para tres ciudades diferentes, al menos una de las cuales no esté en el país predeterminado."
   ]
  },
  {
   "cell_type": "code",
   "execution_count": 17,
   "metadata": {},
   "outputs": [
    {
     "name": "stdout",
     "output_type": "stream",
     "text": [
      "Reikiavik esta en Islandia.\n",
      "Hofn esta en Islandia.\n",
      "Tokio esta en Japòn.\n"
     ]
    }
   ],
   "source": [
    "def describir_ciudad(ciudad, pais='islandia'):\n",
    "    print(f\"{ciudad.title()} esta en {pais.title()}.\")\n",
    "\n",
    "describir_ciudad('reikiavik')\n",
    "describir_ciudad('hofn')\n",
    "describir_ciudad('tokio', 'japòn')\n"
   ]
  },
  {
   "cell_type": "markdown",
   "metadata": {},
   "source": [
    "# Valores de retorno\n",
    "\n",
    "Una función no siempre tiene que mostrar su salida directamente. En cambio, puede procesar algunos datos y luego devolver un valor o conjunto de valores. El valor que devuelve la función se llama valor de retorno. La declaración `return` toma un valor desde dentro de una función y lo envía de vuelta a la línea que llamó a la función. Los valores de retorno te permiten trasladar gran parte del trabajo pesado de tu programa a funciones, lo que puede simplificar el cuerpo de tu programa."
   ]
  },
  {
   "cell_type": "markdown",
   "metadata": {},
   "source": [
    "# Devolver un valor simple\n",
    "\n",
    "Veamos una función que toma un nombre y un apellido, y devuelve un nombre completo con un formato ordenado:"
   ]
  },
  {
   "cell_type": "code",
   "execution_count": 18,
   "metadata": {},
   "outputs": [
    {
     "name": "stdout",
     "output_type": "stream",
     "text": [
      "Jimi Hendrix\n"
     ]
    }
   ],
   "source": [
    "# Definimos una funciòn llamada que toma dos paràmetros: first_name y last_name\n",
    "def get_formatted_name(first_name, last_name):\n",
    "    # Escribimos un doscting para explicar lo que hace la funciòn.\n",
    "    \"\"\"Return a full name, neatly formatted\"\"\"\n",
    "\n",
    "    # Creamos una variable llamada 'full_name' para almacenar el formato completo del nombre.\n",
    "    full_name = f\"{first_name} {last_name}\"\n",
    "\n",
    "    # Utilizamos el mètodo 'title()' para que el nombre tenga una capitalizaciòn consistente.\n",
    "    return full_name.title()\n",
    "\n",
    "musician = get_formatted_name('jimi', 'hendrix')\n",
    "print(musician)"
   ]
  },
  {
   "cell_type": "markdown",
   "metadata": {},
   "source": [
    "La definición de `get_formatted_name()` toma como parámetros un nombre y un apellido. La función combina estos dos nombres, añade un espacio entre ellos y asigna el resultado a `full_name`. El valor de `full_name` se convierte a formato de título y luego se devuelve a la línea de llamada.\n",
    "\n",
    "Cuando llamas a una función que devuelve un valor, necesitas proporcionar una variable a la que se pueda asignar el valor devuelto. En este caso, el valor devuelto se asigna a la variable `musician`. La salida muestra un nombre ordenado compuesto por las partes del nombre de una persona:"
   ]
  },
  {
   "cell_type": "code",
   "execution_count": 19,
   "metadata": {},
   "outputs": [
    {
     "name": "stdout",
     "output_type": "stream",
     "text": [
      "Jimi Hendrix\n"
     ]
    }
   ],
   "source": [
    "print(musician)"
   ]
  },
  {
   "cell_type": "markdown",
   "metadata": {},
   "source": [
    "\n",
    "Puede parecer mucho trabajo obtener un nombre con un formato ordenado cuando podríamos haber escrito simplemente:\n"
   ]
  },
  {
   "cell_type": "code",
   "execution_count": 20,
   "metadata": {},
   "outputs": [
    {
     "name": "stdout",
     "output_type": "stream",
     "text": [
      "Jimi Hendrix\n"
     ]
    }
   ],
   "source": [
    "print('Jimi Hendrix')"
   ]
  },
  {
   "cell_type": "markdown",
   "metadata": {},
   "source": [
    "Sin embargo, al considerar trabajar con un programa grande que necesita almacenar muchos nombres y apellidos por separado, funciones como `get_formatted_name()` se vuelven muy útiles. Almacenar nombres y apellidos por separado y luego llamar a esta función cuando desees mostrar un nombre completo puede simplificar significativamente tu programa."
   ]
  },
  {
   "cell_type": "markdown",
   "metadata": {},
   "source": [
    "# Haciendo un argumento opcional\n",
    "\n",
    "A veces tiene sentido hacer que un argumento sea opcional, de modo que las personas que usan la función puedan elegir proporcionar información adicional solo si lo desean. Puedes usar valores predeterminados para hacer que un argumento sea opcional.\n",
    "\n",
    "Por ejemplo, digamos que queremos ampliar `get_formatted_name()` para manejar también los segundos nombres. Un primer intento de incluir segundos nombres podría verse así:"
   ]
  },
  {
   "cell_type": "code",
   "execution_count": 21,
   "metadata": {},
   "outputs": [
    {
     "name": "stdout",
     "output_type": "stream",
     "text": [
      "John Lee Hooker\n"
     ]
    }
   ],
   "source": [
    "# Definimos una funciòn y le pasamos tres paràmetros\n",
    "def get_formatted_name(first_name, middle_name, last_name):\n",
    "    # Creamos un docstring\n",
    "    \"\"\"Return a full name, neatly formatted\"\"\"\n",
    "    # Creamos una variable para almacenar el full_name formateado\n",
    "    full_name = (f\"{first_name} {middle_name} {last_name}\")\n",
    "    # Realizamos una return que devuelve full_name con el mètodo title\n",
    "    return full_name.title()\n",
    "\n",
    "# Creamos una variable para llamar a la funciòn y pasar los argumentos\n",
    "musician = get_formatted_name('john', 'lee', 'hooker')\n",
    "\n",
    "# Imprimimos la variable\n",
    "print(musician)"
   ]
  },
  {
   "cell_type": "markdown",
   "metadata": {},
   "source": [
    "Esta función funciona cuando se le proporciona un nombre, un segundo nombre y un apellido. La función toma las tres partes de un nombre y luego construye una cadena con ellas. La función agrega espacios cuando corresponde y convierte el nombre completo a mayúsculas:"
   ]
  },
  {
   "cell_type": "code",
   "execution_count": 22,
   "metadata": {},
   "outputs": [
    {
     "name": "stdout",
     "output_type": "stream",
     "text": [
      "John Lee Hooker\n"
     ]
    }
   ],
   "source": [
    "print(musician)"
   ]
  },
  {
   "cell_type": "markdown",
   "metadata": {},
   "source": [
    "Pero los segundos nombres no siempre son necesarios, y esta función, tal como está escrita, no funcionaría si intentaras llamarla solo con un nombre y un apellido. Para hacer que el segundo nombre sea opcional, podemos darle al argumento `middle_name` un valor predeterminado vacío e ignorar el argumento a menos que el usuario proporcione un valor. Para que `get_formatted_name()` funcione sin un segundo nombre, establecemos el valor predeterminado de ` middle_name ` como una cadena vacía y lo colocamos al final de la lista de parámetros:"
   ]
  },
  {
   "cell_type": "code",
   "execution_count": 25,
   "metadata": {},
   "outputs": [
    {
     "name": "stdout",
     "output_type": "stream",
     "text": [
      "Jimi Hendrix\n",
      "John Lee Hooker\n"
     ]
    }
   ],
   "source": [
    "# Definimos una funciòn con tre paràmetros\n",
    "def get_formatted_name(first_name, last_name, middle_name=''):\n",
    "    \"\"\"Return a full name, neatly formatted.\"\"\"\n",
    "    # SI middle_name esta presente ...\n",
    "    if middle_name:\n",
    "        full_name = (f\"{first_name} {middle_name} {last_name}\")\n",
    "    # Si no ...\n",
    "    else:\n",
    "        full_name =  (f\"{first_name} {last_name}\")\n",
    "    return full_name.title()\n",
    "\n",
    "musician = get_formatted_name(\"jimi\", \"hendrix\")\n",
    "print(musician)\n",
    "\n",
    "musician = get_formatted_name(\"john\", \"hooker\", \"lee\")\n",
    "print(musician)"
   ]
  },
  {
   "cell_type": "markdown",
   "metadata": {},
   "source": [
    "En este ejemplo, el nombre se construye a partir de tres partes posibles. Como siempre hay un nombre y un apellido, estos parámetros se enumeran primero en la definición de la función. El segundo nombre es opcional, por lo que se enumera al final en la definición y su valor predeterminado es una cadena vacía.\n",
    "\n",
    "En el cuerpo de la función, verificamos si se ha proporcionado un segundo nombre. Python interpreta las cadenas no vacías como Verdadero, por lo que la prueba condicional `if middle_name:` se evalúa como Verdadero si un argumento de segundo nombre está en la llamada a la función. Si se proporciona un segundo nombre, se combinan el primer, segundo y último nombres para formar un nombre completo. Este nombre se convierte a formato de título y se devuelve a la línea de llamada a la función, donde se asigna a la variable `musician` y se imprime.\n",
    "\n",
    "Si no se proporciona un segundo nombre, la cadena vacía falla la prueba `if` y se ejecuta el bloque `else`. Se crea el nombre completo con solo un nombre y un apellido, y se devuelve el nombre formateado a la línea de llamada donde se asigna a `musician` y se imprime.\n",
    "\n",
    "Llamar a esta función con un nombre y un apellido es sencillo. Sin embargo, si usamos un segundo nombre, debemos asegurarnos de que el segundo nombre sea el último argumento pasado para que Python haga coincidir correctamente los argumentos posicionales.\n",
    "\n",
    "Esta versión modificada de nuestra función funciona para personas con solo un nombre y un apellido, y también funciona para personas que tienen un segundo nombre:"
   ]
  },
  {
   "cell_type": "code",
   "execution_count": 26,
   "metadata": {},
   "outputs": [
    {
     "name": "stdout",
     "output_type": "stream",
     "text": [
      "John Lee Hooker\n"
     ]
    }
   ],
   "source": [
    "print(musician)"
   ]
  },
  {
   "cell_type": "markdown",
   "metadata": {},
   "source": [
    "Los valores opcionales permiten que las funciones manejen una amplia gama de casos de uso, al mismo tiempo que mantienen las llamadas a la función lo más simples posible."
   ]
  },
  {
   "cell_type": "markdown",
   "metadata": {},
   "source": [
    "# Devolver un Diccionario\n",
    "\n",
    "Una función puede devolver cualquier tipo de valor que necesites, incluso estructuras de datos más complicadas como listas y diccionarios. Por ejemplo, la siguiente función recibe partes de un nombre y devuelve un diccionario que representa a una persona:"
   ]
  },
  {
   "cell_type": "code",
   "execution_count": 27,
   "metadata": {},
   "outputs": [
    {
     "name": "stdout",
     "output_type": "stream",
     "text": [
      "{'first': 'jimi', 'last': 'hendrix'}\n"
     ]
    }
   ],
   "source": [
    "# person.py\n",
    "# Definimos una funciòn con dos paràmeteos, first_name and last_name\n",
    "\n",
    "def build_person(first_name, last_name):\n",
    "    # Creamos una docstring para informaciòn sobre la funciòn\n",
    "    \"\"\"Return a dictionary of information about a person.\"\"\"\n",
    "    # Creamos una variable como diccionario pasando la clave y los valores como argumentos\n",
    "    person = {\"first\": first_name, \"last\": last_name}\n",
    "    # Devolvemos la variable person\n",
    "    return person\n",
    "\n",
    "# Almacenamos la funciòn con los argumentos en la variable musician\n",
    "musician = build_person(\"jimi\", \"hendrix\")\n",
    "\n",
    "# Imprimimos la variable con la funciòn\n",
    "print(musician)"
   ]
  },
  {
   "cell_type": "markdown",
   "metadata": {},
   "source": [
    "La función `build_person()` recibe un primer y un último nombre, y coloca estos valores en un diccionario. El valor de `first_name` se almacena con la clave first, y el valor de last_name se almacena con la clave last. Luego, se devuelve todo el diccionario que representa a la persona. El valor de retorno se imprime con la información original de dos partes ahora almacenada en un diccionario:"
   ]
  },
  {
   "cell_type": "code",
   "execution_count": 28,
   "metadata": {},
   "outputs": [
    {
     "name": "stdout",
     "output_type": "stream",
     "text": [
      "{'first': 'jimi', 'last': 'hendrix'}\n"
     ]
    }
   ],
   "source": [
    "print(musician)"
   ]
  },
  {
   "cell_type": "markdown",
   "metadata": {},
   "source": [
    "Esta función toma información textual simple y la coloca en una estructura de datos más significativa que te permite trabajar con la información más allá de simplemente imprimirla. Las cadenas 'jimi' y 'hendrix' ahora están etiquetadas como un nombre y un apellido. Puedes extender fácilmente esta función para aceptar valores opcionales como un segundo nombre, una edad, una ocupación o cualquier otra información que desees almacenar sobre una persona. Por ejemplo, el siguiente cambio te permite almacenar también la edad de una persona:"
   ]
  },
  {
   "cell_type": "code",
   "execution_count": 30,
   "metadata": {},
   "outputs": [
    {
     "name": "stdout",
     "output_type": "stream",
     "text": [
      "{'first': 'jimi', 'last': 'hendrix', 'age': 27}\n"
     ]
    }
   ],
   "source": [
    "# Definimos una funciòn llamada build_persona que toma dos paràmetros obligatorios\n",
    "# first_name y last_name\n",
    "# y un paràmetros opcional age\n",
    "\n",
    "def build_person(first_name, last_name, age=None):\n",
    "    \"\"\"Return a dictionary of information about a person.\"\"\"\n",
    "    # Docstring que describe el propòsito de la funciòn.\n",
    "\n",
    "    # Creamos un diccionario llamado persona que contiene la informaciòn del nombre de la persona.\n",
    "    person = {\"first\": first_name, \"last\": last_name}\n",
    "\n",
    "    # Si el paràmetro age tiene un valor (es decir, no es None),\n",
    "    # Agregamos la edad al diccionario person.\n",
    "    if age:\n",
    "        person[\"age\"] = age\n",
    "\n",
    "    # Devolvemos el diccionario person que contiene la informaciòn de la persona.\n",
    "    return person\n",
    "\n",
    "# Llamamos a la funciòn build_person pasando los argumentos \"jimi\", \"hendrix\" y age=27,\n",
    "# y almacenamos el resultado en la variable 'musician'.\n",
    "musician = build_person(\"jimi\", \"hendrix\", age=27)\n",
    "\n",
    "# Imprimimos el diccionario 'musician' que contiene la informaciòn de la persona.\n",
    "print(musician)"
   ]
  },
  {
   "cell_type": "markdown",
   "metadata": {},
   "source": [
    "Añadimos un nuevo parámetro opcional, `age` (edad), a la definición de la función y asignamos al parámetro el valor especial `None`, que se usa cuando una variable no tiene asignado un valor específico. Puedes pensar en `None` como un valor de marcador de posición. En pruebas condicionales, `None` se evalúa como Falso. Si la llamada a la función incluye un valor para la edad, ese valor se almacena en el diccionario. Esta función siempre almacena el nombre de una persona, pero también se puede modificar para almacenar cualquier otra información que desees sobre una persona."
   ]
  },
  {
   "cell_type": "markdown",
   "metadata": {},
   "source": [
    "# Usando una función con un bucle while\n",
    "\n",
    "Puedes utilizar funciones con todas las estructuras de Python que has aprendido hasta ahora. Por ejemplo, usemos la función `get_formatted_name()` con un bucle `while` para saludar a los usuarios de manera más formal. Aquí está un primer intento de saludar a las personas usando sus nombres y apellidos:"
   ]
  },
  {
   "cell_type": "code",
   "execution_count": null,
   "metadata": {},
   "outputs": [],
   "source": [
    "# greeter.py\n",
    "# Definimos una funciòn con dos paràmetros\n",
    "def get_formatted_name(first_name, last_name):\n",
    "    \"\"\"Return a full name, neatly formatted.\"\"\"\n",
    "    # Definimos una variable con la cadena formateada con los argumentos\n",
    "    full_name = (f\"{first_name} {last_name}\")\n",
    "    # Devuelve la variable full_ane, con el mètodo title()\n",
    "    return full_name.title()\n",
    "\n",
    "# This is an infinite loop!\n",
    "# Mientras sea verdadero\n",
    "while True:\n",
    "    # Imprime please tell me your name:\n",
    "    print(\"\\nPlease tell me your name: \")\n",
    "    # Input\n",
    "    f_name = input(\"First name: \")\n",
    "    l_name = input(\"Last name: \")\n",
    "\n",
    "# Almacenamos los argumentos entregados por el usuario y se asignan a la variable\n",
    "formatted_name = get_formatted_name(f_name, l_name)\n",
    "\n",
    "# Imprimimos la variable con los argumentos formateados\n",
    "print(f\"\\nHello, {formatted_name}!\")"
   ]
  },
  {
   "cell_type": "markdown",
   "metadata": {},
   "source": [
    "Para este ejemplo, utilizamos una versión simple de `get_formatted_name()` que no involucra nombres del medio. El bucle `while` pide al usuario que ingrese su nombre, y solicitamos su nombre y apellido por separado.\n",
    "Pero hay un problema con este bucle `while`: no hemos definido una condición para salir. ¿Dónde colocamos una condición de salida cuando pedimos una serie de entradas? Queremos que el usuario pueda salir lo más fácilmente posible, así que cada solicitud debería ofrecer una forma de salir. La declaración `break` ofrece una forma sencilla de salir del bucle en cualquier momento:"
   ]
  },
  {
   "cell_type": "code",
   "execution_count": null,
   "metadata": {},
   "outputs": [],
   "source": [
    "def get_formatted_name(first_name, last_name):\n",
    "    \"\"\"Return a full name, neatly formatted.\"\"\"\n",
    "    full_name = (f\"{first_name} {last_name}\")\n",
    "    return full_name.title()\n",
    "\n",
    "while True:\n",
    "    print(\"\\nPlease tell me your name: \")\n",
    "    print(\"(enter 'q' at any time to quit)\")\n",
    "\n",
    "    f_name = input(\"Last name: \")\n",
    "    if l_name == 'q':\n",
    "        break\n",
    "    \n",
    "formatted_name = get_formatted_name(f_name, l_name)\n",
    "print(f\"\\nHello, {formatted_name}!\")"
   ]
  },
  {
   "cell_type": "markdown",
   "metadata": {},
   "source": [
    "Añadimos un mensaje que informa al usuario cómo salir, y luego salimos del bucle si el usuario ingresa el valor de salida en cualquiera de las solicitudes. Ahora el programa seguirá saludando a las personas hasta que alguien ingrese 'q' para cualquiera de los nombres:"
   ]
  },
  {
   "cell_type": "markdown",
   "metadata": {},
   "source": [
    "# **HAZLO TU MISMO**\n",
    "**Ejercicio 8-6: Nombres de Ciudades**\n",
    "\n",
    "Escribe una función llamada `ciudad_pais()` que tome el nombre de una ciudad y su país. La función debería devolver una cadena formateada como: \"Santiago, Chile\". Llama a tu función con al menos tres pares de ciudad-país e imprime los valores devueltos."
   ]
  },
  {
   "cell_type": "code",
   "execution_count": 35,
   "metadata": {},
   "outputs": [
    {
     "name": "stdout",
     "output_type": "stream",
     "text": [
      "('Santiago', {'Chile'})\n",
      "('Buenos Aires', {'Argentina'})\n",
      "('Rio De Janeiro', {'Brasil'})\n"
     ]
    }
   ],
   "source": [
    "def ciudad_pais(ciudad, pais):\n",
    "    return print(f\"{ciudad.title(), {pais.title()}}\")\n",
    "\n",
    "ciudad_pais('santiago', 'chile')\n",
    "ciudad_pais('buenos aires', 'argentina')\n",
    "ciudad_pais('rio de janeiro', 'brasil')"
   ]
  },
  {
   "cell_type": "markdown",
   "metadata": {},
   "source": [
    "**Ejercicio 8-7: Álbum**\n",
    "\n",
    "Escribe una función llamada `hacer_album()` que construya un diccionario describiendo un álbum de música. La función debería recibir el nombre del artista y el título del álbum, y debería devolver un diccionario conteniendo estas dos piezas de información. Utiliza la función para crear tres diccionarios que representen diferentes álbumes. Imprime cada valor devuelto para mostrar que los diccionarios están almacenando correctamente la información del álbum. Utiliza `None` para agregar un parámetro opcional a `hacer_album()` que permita almacenar el número de canciones en un álbum. Si la línea de llamada incluye un valor para el número de canciones, agrega ese valor al diccionario del álbum. Realiza al menos una nueva llamada a la función que incluya el número de canciones en un álbum.\n"
   ]
  },
  {
   "cell_type": "code",
   "execution_count": 36,
   "metadata": {},
   "outputs": [
    {
     "name": "stdout",
     "output_type": "stream",
     "text": [
      "{'first': 'rheynira', 'last': 'targarian', 'age': 32}\n"
     ]
    }
   ],
   "source": [
    "def hacer_album(artista, album, age=None):\n",
    "    \"\"\"Funciòn album\"\"\"\n",
    "    musico = {'first': artista, 'last': album}\n",
    "    if age:\n",
    "        musico['age'] = age\n",
    "    return musico\n",
    "\n",
    "musico = hacer_album(\"jimi\", \"hendrix\")\n",
    "musico = hacer_album(\"shamanes\", \"crew\", age=30)\n",
    "musico = hacer_album(\"rheynira\", \"targarian\", age=32)\n",
    "print(musico)"
   ]
  },
  {
   "cell_type": "markdown",
   "metadata": {},
   "source": [
    "**Ejercicio 8-8: Álbumes de Usuario**\n",
    "\n",
    "Comienza con tu programa del Ejercicio 8-7. Escribe un bucle `while` que permita a los usuarios ingresar el nombre del artista y el título de un álbum. Una vez que tengas esa información, llama a `hacer_album()` con la entrada del usuario e imprime el diccionario creado. Asegúrate de incluir un valor de salida en el bucle `while`."
   ]
  },
  {
   "cell_type": "code",
   "execution_count": null,
   "metadata": {},
   "outputs": [],
   "source": [
    "def hacer_album(artista, album, age=None):\n",
    "    \"\"\"Docstring\"\"\"\n",
    "    musico = {'first': artista, 'last': album}\n",
    "    if age:\n",
    "        musico['age'] = age\n",
    "    return musico\n",
    "\n",
    "while True:\n",
    "    print(\"\\nEscribe un cantante: \")\n",
    "    f_name = input(\"Primero nombre: \")\n",
    "    l_name = input(\"Apellido: \")\n",
    "\n",
    "musico = hacer_album(f_name, l_name)\n",
    "print(f\"\\nEntonces, {musico}\")"
   ]
  },
  {
   "cell_type": "markdown",
   "metadata": {},
   "source": [
    "# Pasar una lista\n",
    "\n",
    "A menudo resulta útil pasar una lista a una función, ya sea una lista de nombres, números u objetos más complejos, como diccionarios. Cuando pasas una lista a una función, ésta obtiene acceso directo al contenido de la lista. Utilicemos funciones para hacer más eficiente el trabajo con listas.\n",
    "\n",
    "Imagina que tenemos una lista de usuarios y queremos imprimir un saludo para cada uno. El siguiente ejemplo envía una lista de nombres a una función llamada `greet_users()`, la cual saluda a cada persona de la lista individualmente:"
   ]
  },
  {
   "cell_type": "code",
   "execution_count": 1,
   "metadata": {},
   "outputs": [
    {
     "name": "stdout",
     "output_type": "stream",
     "text": [
      "Hello, Hannah!\n",
      "Hello, Ty!\n",
      "Hello, Margot!\n"
     ]
    }
   ],
   "source": [
    "# greet_users.py\n",
    "# Definimos una funciòn con un paràmetro names\n",
    "def greet_users(names):\n",
    "    # Creamos un docstings\n",
    "    \"\"\"Print a simple greeting to each user in the list.\"\"\"\n",
    "    # Para cada name in names\n",
    "    for name in names:\n",
    "        # Creamos una variables para asignar el mensaje formateado\n",
    "        msg = (f\"Hello, {name.title()}!\")\n",
    "        # Imprimimos la variable\n",
    "        print(msg)\n",
    "\n",
    "# Variable con los nombres como argumentos\n",
    "usernames = [\"hannah\", \"ty\", \"margot\"]\n",
    "\n",
    "# Llamamos a la funciòn y le pasamos los argumentos\n",
    "greet_users(usernames)"
   ]
  },
  {
   "cell_type": "markdown",
   "metadata": {},
   "source": [
    "En este ejemplo, definimos `greet_users()` para que espere una lista de nombres, la cual se asigna al parámetro `names`. La función recorre la lista que recibe e imprime un saludo para cada usuario. Fuera de la función, definimos una lista de usuarios (`usernames`) y luego pasamos esta lista a `greet_users()` en la llamada a la función."
   ]
  },
  {
   "cell_type": "code",
   "execution_count": 2,
   "metadata": {},
   "outputs": [
    {
     "name": "stdout",
     "output_type": "stream",
     "text": [
      "Hello, Hannah!\n",
      "Hello, Ty!\n",
      "Hello, Margot!\n"
     ]
    }
   ],
   "source": [
    "greet_users(usernames)"
   ]
  },
  {
   "cell_type": "markdown",
   "metadata": {},
   "source": [
    "Este es el resultado que esperábamos. Cada usuario recibe un saludo personalizado, y puedes llamar a la función en cualquier momento para saludar a un conjunto específico de usuarios."
   ]
  },
  {
   "cell_type": "markdown",
   "metadata": {},
   "source": [
    "# Modificar una lista en una función\n",
    "\n",
    "Cuando pasas una lista a una función, esta función puede modificar la lista. Cualquier cambio realizado en la lista dentro del cuerpo de la función es permanente, lo que te permite trabajar de manera eficiente incluso cuando estás manejando grandes cantidades de datos.\n",
    "\n",
    "Considera una empresa que crea modelos impresos en 3D de diseños que los usuarios envían. Los diseños que necesitan ser impresos se almacenan en una lista, y después de ser impresos, se mueven a una lista separada. El siguiente código realiza esto sin utilizar funciones:"
   ]
  },
  {
   "cell_type": "code",
   "execution_count": 3,
   "metadata": {},
   "outputs": [
    {
     "name": "stdout",
     "output_type": "stream",
     "text": [
      "Printing model: dodecahedron\n",
      "Printing model: robot pendant\n",
      "Printing model: phone case\n",
      "\n",
      "The following models hace been printed: \n",
      "dodecahedron\n",
      "robot pendant\n",
      "phone case\n"
     ]
    }
   ],
   "source": [
    "# priting_models.py\n",
    "# Start with some designs that neewd to be printed.\n",
    "# Creamos una lista con diseños no impresos.\n",
    "unprinted_designs = [\"phone case\", \"robot pendant\", \"dodecahedron\"]\n",
    "\n",
    "# Creamos una lista vacia con los diseños completados\n",
    "completed_models = []\n",
    "\n",
    "# Simulate printing each design, until none are left.\n",
    "# Move each design to completed_models after printing.\n",
    "# Iniciamos un ciclo while, mientras unprinting_designs\n",
    "while unprinted_designs:\n",
    "    # diseño actual\n",
    "    current_design = unprinted_designs.pop()\n",
    "    # Imprimimos el diseño actual\n",
    "    print(f\"Printing model: {current_design}\")\n",
    "    # Añadimos el diseño actual con el mètodo append a la lista de modelos completos\n",
    "    completed_models.append(current_design)\n",
    "\n",
    "# Display all completed models.\n",
    "print(\"\\nThe following models hace been printed: \")\n",
    "for completed_model in completed_models:\n",
    "    print(completed_model)"
   ]
  },
  {
   "cell_type": "markdown",
   "metadata": {},
   "source": [
    "Este programa comienza con una lista de diseños que necesitan ser impresos y una lista vacía llamada `completed_models` a la que se moverán los diseños después de ser impresos. Mientras queden diseños en `unprinted_designs`, el bucle `while` simula imprimir cada diseño eliminando un diseño del final de la lista, almacenándolo en ` current_design` y mostrando un mensaje indicando que se está imprimiendo el diseño actual. Luego, añade el diseño a la lista de modelos completados. Cuando el bucle termina, se muestra una lista de los diseños que han sido impresos."
   ]
  },
  {
   "cell_type": "code",
   "execution_count": 4,
   "metadata": {},
   "outputs": [
    {
     "name": "stdout",
     "output_type": "stream",
     "text": [
      "\n",
      "The following models hace been printed:\n",
      "dodecahedron\n",
      "robot pendant\n",
      "phone case\n"
     ]
    }
   ],
   "source": [
    "print(\"\\nThe following models hace been printed:\")\n",
    "for completed_model in completed_models:\n",
    "    print(completed_model)"
   ]
  },
  {
   "cell_type": "markdown",
   "metadata": {},
   "source": [
    "Podemos reorganizar este código escribiendo dos funciones, cada una de las cuales realiza una tarea específica. La mayor parte del código no cambiará; simplemente lo estamos estructurando de manera más cuidadosa. La primera función manejará la impresión de los diseños, y la segunda resumirá las impresiones realizadas:"
   ]
  },
  {
   "cell_type": "code",
   "execution_count": 5,
   "metadata": {},
   "outputs": [
    {
     "name": "stdout",
     "output_type": "stream",
     "text": [
      "Printing model: dodecahedron\n",
      "Printing model: robot pendant\n",
      "Printing model: phone case\n",
      "\n",
      "The following models have been printed:\n",
      "dodecahedron\n",
      "robot pendant\n",
      "phone case\n"
     ]
    }
   ],
   "source": [
    "# Definimos una función con dos parámetros\n",
    "def print_models(unprinted_designs, completed_models):\n",
    "    \"\"\"Simulate printing each design until none are left.\n",
    "    Move each design to completed_models after printing.\n",
    "    \"\"\"\n",
    "    while unprinted_designs:\n",
    "        current_design = unprinted_designs.pop()\n",
    "        print(f\"Printing model: {current_design}\")\n",
    "        completed_models.append(current_design)\n",
    "\n",
    "# Definimos una función para mostrar los modelos completados\n",
    "def show_completed_models(completed_models):\n",
    "    \"\"\"Show all the models that were printed.\"\"\"\n",
    "    print(\"\\nThe following models have been printed:\")  # Corregimos el mensaje\n",
    "    # para que sea gramaticalmente correcto\n",
    "    for completed_model in completed_models:\n",
    "        print(completed_model)\n",
    "\n",
    "# Creamos una lista con diseños no impresos\n",
    "unprinted_designs = [\"phone case\", \"robot pendant\", \"dodecahedron\"]\n",
    "# Creamos una lista vacía para almacenar los diseños completados\n",
    "completed_models = []\n",
    "\n",
    "# Llamamos a la función 'print_models' pasando los diseños no impresos\n",
    "# y la lista vacía de diseños completados\n",
    "print_models(unprinted_designs, completed_models)\n",
    "\n",
    "# Llamamos a la función 'show_completed_models' para mostrar los diseños completados\n",
    "show_completed_models(completed_models)\n"
   ]
  },
  {
   "cell_type": "markdown",
   "metadata": {},
   "source": [
    "\n",
    "Definimos la función `print_models()` con dos parámetros: una lista de diseños que necesitan ser impresos y una lista de modelos completados. Dadas estas dos listas, la función simula imprimir cada diseño vaciando la lista de diseños no impresos y llenando la lista de modelos completados. Luego definimos la función `show_completed_models()` con un parámetro: la lista de modelos completados. Dada esta lista, `show_completed_models()` muestra el nombre de cada modelo que fue impreso.\n",
    "Este programa tiene la misma salida que la versión sin funciones, pero el código está mucho más organizado. El código que realiza la mayor parte del trabajo se ha movido a dos funciones separadas, lo que hace que la parte principal del programa sea más fácil de entender. Observa cómo se organiza el cuerpo del programa y cómo se pueden seguir fácilmente los pasos:\n"
   ]
  },
  {
   "cell_type": "code",
   "execution_count": 6,
   "metadata": {},
   "outputs": [
    {
     "name": "stdout",
     "output_type": "stream",
     "text": [
      "Printing model: dodecahedron\n",
      "Printing model: robot pendant\n",
      "Printing model: phone case\n",
      "\n",
      "The following models have been printed:\n",
      "dodecahedron\n",
      "robot pendant\n",
      "phone case\n"
     ]
    }
   ],
   "source": [
    "# Lista con los modelos aun no impresos\n",
    "unprinted_designs = [\"phone case\", \"robot pendant\", \"dodecahedron\"]\n",
    "# Lista vacía que almacenará los modelos completos\n",
    "completed_models = []\n",
    "\n",
    "# Llamamos a la función para imprimir los modelos\n",
    "print_models(unprinted_designs, completed_models)\n",
    "\n",
    "# Llamamos a la función para mostrar los modelos completados\n",
    "show_completed_models(completed_models)"
   ]
  },
  {
   "cell_type": "markdown",
   "metadata": {},
   "source": [
    "Configuramos una lista de diseños no impresos y una lista vacía que contendrá los modelos completados. Luego, como ya hemos definido nuestras dos funciones, todo lo que tenemos que hacer es llamarlas y pasarles los argumentos adecuados. Llamamos a `print_models()` y le pasamos las dos listas que necesita; como era de esperar, `print_models()` simula imprimir los diseños. Luego llamamos a `show_completed_models()` y le pasamos la lista de modelos completados para que pueda informar sobre los modelos que han sido impresos. Los nombres descriptivos de las funciones permiten que otros lean este código y lo comprendan, incluso sin comentarios.\n",
    "\n",
    "Este programa es más fácil de ampliar y mantener que la versión sin funciones. Si necesitamos imprimir más diseños más adelante, simplemente podemos llamar a `print_models()` de nuevo. Si nos damos cuenta de que el código de impresión necesita ser modificado, podemos cambiar el código una vez, y nuestros cambios se aplicarán en todos los lugares donde se llame a la función. Esta técnica es más eficiente que tener que actualizar el código por separado en varios lugares del programa.\n",
    "\n",
    "Este ejemplo también demuestra la idea de que cada función debe tener una tarea específica. La primera función imprime cada diseño, y la segunda muestra los modelos completados. Esto es más beneficioso que utilizar una función para hacer ambas tareas. Si estás escribiendo una función y notas que está realizando demasiadas tareas diferentes, intenta dividir el código en dos funciones. Recuerda que siempre puedes llamar a una función desde otra función, lo que puede ser útil al dividir una tarea compleja en una serie de pasos."
   ]
  },
  {
   "cell_type": "markdown",
   "metadata": {},
   "source": [
    "# Evitar que una función modifique una lista\n",
    "\n",
    "A veces, querrás evitar que una función modifique una lista. Por ejemplo, supongamos que comienzas con una lista de diseños no impresos y escribes una función para moverlos a una lista de modelos completados, como en el ejemplo anterior. Puede que decidas que, aunque hayas impreso todos los diseños, quieres conservar la lista original de diseños no impresos para tus registros. Sin embargo, debido a que moviste todos los nombres de diseño fuera de `unprinted_designs`, la lista ahora está vacía, y la lista vacía es la única versión que tienes; la original se ha perdido. En este caso, puedes abordar este problema pasando a la función una copia de la lista, no la original. Cualquier cambio que la función haga en la lista afectará solo a la copia, dejando la lista original intacta.\n",
    "\n",
    "Puedes enviar una copia de una lista a una función de la siguiente manera:"
   ]
  },
  {
   "cell_type": "code",
   "execution_count": 7,
   "metadata": {},
   "outputs": [],
   "source": [
    "#function_name(list_name[:])"
   ]
  },
  {
   "cell_type": "markdown",
   "metadata": {},
   "source": [
    "La notación de rebanado `[:]` hace una copia de la lista para enviarla a la función. Si no quisiéramos vaciar la lista de diseños no impresos en `printing_models.py`, podríamos llamar a `print_models()` así:"
   ]
  },
  {
   "cell_type": "code",
   "execution_count": 8,
   "metadata": {},
   "outputs": [],
   "source": [
    "#print_models(unprintied_designd[:], completed_models)"
   ]
  },
  {
   "cell_type": "markdown",
   "metadata": {},
   "source": [
    "La función `print_models()` puede hacer su trabajo porque aún recibe los nombres de todos los diseños no impresos. Pero esta vez usa una copia de la lista original de diseños no impresos, no la lista `unprintied_designd` actual. La lista `completed_models` se llenará con los nombres de los modelos impresos como lo hizo antes, pero la lista original de diseños no impresos no se verá afectada por la función.\n",
    "\n",
    "A pesar de que puedes preservar el contenido de una lista pasando una copia a tus funciones, deberías pasar la lista original a las funciones a menos que tengas una razón específica para pasar una copia. Es más eficiente que una función trabaje con una lista existente, ya que esto evita el uso del tiempo y la memoria necesarios para hacer una copia separada. Esto es especialmente cierto al trabajar con listas grandes."
   ]
  },
  {
   "cell_type": "markdown",
   "metadata": {},
   "source": [
    "# **HAZLO TU MISMO**\n",
    "**8-9. Mensajes:**\n",
    "\n",
    "Crea una lista que contenga una serie de mensajes cortos de texto. Pasa la lista a una función llamada mostrar_mensajes(), la cual imprime cada mensaje de texto."
   ]
  },
  {
   "cell_type": "code",
   "execution_count": 11,
   "metadata": {},
   "outputs": [
    {
     "name": "stdout",
     "output_type": "stream",
     "text": [
      "Este es el mensaje: hola\n",
      "Este es el mensaje: adios\n",
      "Este es el mensaje: como\n",
      "Este es el mensaje: por\n"
     ]
    }
   ],
   "source": [
    "# Creamos una lista \n",
    "mensajes = ['hola', 'adios', 'como', 'por']\n",
    "\n",
    "# Definimos una funciòn mostrar_mensahes y le pasamos como parametros una lista\n",
    "def mostrar_mensajes(lista):\n",
    "    # Para cada mensaje en lista\n",
    "    for mensaje in lista:\n",
    "        # Imprimir ...  mensaje\n",
    "        print(f\"Este es el mensaje: {mensaje}\")\n",
    "\n",
    "# Invocamos a la funciòn con su argumento mensajes\n",
    "mostrar_mensajes(mensajes)"
   ]
  },
  {
   "cell_type": "markdown",
   "metadata": {},
   "source": [
    "**8-10. Enviando mensajes:**\n",
    "\n",
    "* Comienza con una copia de tu programa del Ejercicio 8-9. \n",
    "* Escribe una función llamada `enviar_mensajes()` que imprima cada mensaje de texto y mueva cada mensaje a una nueva lista llamada `mensajes_enviados` a medida que se imprima. \n",
    "* Después de llamar a la función, imprime ambas listas para asegurarte de que los mensajes se hayan movido correctamente."
   ]
  },
  {
   "cell_type": "code",
   "execution_count": 13,
   "metadata": {},
   "outputs": [
    {
     "name": "stdout",
     "output_type": "stream",
     "text": [
      "Este es el mensaje: hola!\n",
      "Este es el mensaje: adios!\n",
      "Este es el mensaje: como!\n",
      "Este es el mensaje: por!\n",
      "Lista de mensajes originales:  ['hola', 'adios', 'como', 'por']\n",
      "Lista de mensajes enviados:  ['hola', 'adios', 'como', 'por']\n"
     ]
    }
   ],
   "source": [
    "# Creamos una lista\n",
    "mensajes = ['hola', 'adios', 'como', 'por']\n",
    "\n",
    "# Definimos una funciòn enviar_mensajes\n",
    "def enviar_mensajes(lista):\n",
    "    # Creamos una lista vacia para almacenar los mensajes enviados\n",
    "    mensajes_enviados = []\n",
    "    # Para cada mensaje en lista\n",
    "    for mensaje in lista:\n",
    "        # Imprimir el mensaje\n",
    "        print(f\"Este es el mensaje: {mensaje}!\")\n",
    "        # Agregar el mensaje a la lista de mensajes enviados\n",
    "        mensajes_enviados.append(mensaje)\n",
    "    # Devolver la lista de mensajes enviados\n",
    "    return mensajes_enviados\n",
    "\n",
    "# Llamamos a la funciòn enviar_mensajes con la lista mensajes\n",
    "mensajes_enviados = enviar_mensajes(mensajes)\n",
    "\n",
    "# Imprimimos ambas listas para verificar\n",
    "print(\"Lista de mensajes originales: \", mensajes)\n",
    "print(\"Lista de mensajes enviados: \", mensajes_enviados)"
   ]
  },
  {
   "cell_type": "markdown",
   "metadata": {},
   "source": [
    "**8-11. Mensajes archivados:**\n",
    "\n",
    "Comienza con tu trabajo del Ejercicio 8-10. Llama a la función `enviar_mensajes()` con una copia de la lista de mensajes. Después de llamar a la función, imprime ambas listas para mostrar que la lista original ha mantenido sus mensajes."
   ]
  },
  {
   "cell_type": "code",
   "execution_count": 14,
   "metadata": {},
   "outputs": [
    {
     "name": "stdout",
     "output_type": "stream",
     "text": [
      "Este es el mensaje: hola\n",
      "Este es el mensaje: adios\n",
      "Este es el mensaje: como\n",
      "Este es el mensaje: por\n",
      "Lista original de mensajes: ['hola', 'adios', 'como', 'por']\n",
      "Lista de mensaes enviados: ['hola', 'adios', 'como', 'por']\n"
     ]
    }
   ],
   "source": [
    "# Creamos una lista\n",
    "mensajes = [\"hola\", \"adios\", \"como\", \"por\"]\n",
    "\n",
    "# Definimos una función enviar_mensajes\n",
    "def enviar_mensajes(lista):\n",
    "    # Creamos una lista vacia para alamacenar los mensajes enviados\n",
    "    mensajes_enviados = []\n",
    "    # Para cada mensaje en lista\n",
    "    for mensaje in lista:\n",
    "        # Imprimir el mensaje\n",
    "        print(f\"Este es el mensaje: {mensaje}\")\n",
    "        # Agregar el mensaje a la lista de mensajes enviados\n",
    "        mensajes_enviados.append(mensaje)\n",
    "        # Devolver la lista de mensajes enviados\n",
    "    return mensajes_enviados\n",
    "\n",
    "# Llamamos a la función enviar_mensajes con una copia\n",
    "mensajes_enviados = enviar_mensajes(mensajes[:])\n",
    "\n",
    "# Imprimimos ambas listas\n",
    "print(\"Lista original de mensajes:\", mensajes)\n",
    "print(\"Lista de mensaes enviados:\", mensajes_enviados)"
   ]
  },
  {
   "cell_type": "markdown",
   "metadata": {},
   "source": [
    "# Pasar un número arbitrario de argumentos\n",
    "\n",
    "A veces no sabrás de antemano cuántos argumentos necesita aceptar una función. Afortunadamente, Python permite que una función recoja un número arbitrario de argumentos desde la declaración de llamada.\n",
    "\n",
    "Por ejemplo, considera una función que construye una pizza. Necesita aceptar una cantidad de ingredientes, pero no puedes saber de antemano cuántos ingredientes va a querer una persona. La función en el siguiente ejemplo tiene un parámetro, *toppings, pero este parámetro recoge tantos argumentos como la línea de llamada proporcione:"
   ]
  },
  {
   "cell_type": "code",
   "execution_count": 15,
   "metadata": {},
   "outputs": [
    {
     "name": "stdout",
     "output_type": "stream",
     "text": [
      "('pepperoni',)\n",
      "('mashrooms', 'green peppers', 'extra cheese')\n"
     ]
    }
   ],
   "source": [
    "# pizza.py\n",
    "def make_pizza(*toppings):\n",
    "    \"\"\"Print the list if toppings that have been requested\"\"\"\n",
    "    print(toppings)\n",
    "\n",
    "make_pizza('pepperoni')\n",
    "make_pizza('mashrooms', 'green peppers', 'extra cheese')"
   ]
  },
  {
   "cell_type": "markdown",
   "metadata": {},
   "source": [
    "El **`asterisco` en el nombre del parámetro *toppings le indica a Python que cree una tupla llamada toppings, conteniendo todos los valores que esta función recibe.** La llamada print() en el cuerpo de la función produce una salida que muestra que Python puede manejar una llamada a la función con un valor y una llamada con tres valores. Trata las diferentes llamadas de manera similar. Observa que Python empaqueta los argumentos en una tupla, incluso si la función recibe solo un valor:"
   ]
  },
  {
   "cell_type": "code",
   "execution_count": 16,
   "metadata": {},
   "outputs": [
    {
     "name": "stdout",
     "output_type": "stream",
     "text": [
      "('pepperoni',)\n",
      "('mushrooms', 'green peppers', 'extra cheese')\n"
     ]
    }
   ],
   "source": [
    "make_pizza(\"pepperoni\")\n",
    "make_pizza(\"mushrooms\", \"green peppers\", \"extra cheese\")"
   ]
  },
  {
   "cell_type": "markdown",
   "metadata": {},
   "source": [
    "Ahora podemos reemplazar la llamada print() con un bucle que recorre la lista de ingredientes y describe la pizza que se está ordenando:"
   ]
  },
  {
   "cell_type": "code",
   "execution_count": 17,
   "metadata": {},
   "outputs": [
    {
     "name": "stdout",
     "output_type": "stream",
     "text": [
      "\n",
      "Making a pizza with the following toppings\n",
      " - pepperoni\n",
      "\n",
      "Making a pizza with the following toppings\n",
      " - mushrooms\n",
      " - green peppers\n",
      " - extra cheese\n"
     ]
    }
   ],
   "source": [
    "def make_pizza(*toppings):\n",
    "    \"\"\"Summerize the pizza we are about to make.\"\"\"\n",
    "    print(\"\\nMaking a pizza with the following toppings\")\n",
    "    for topping in toppings:\n",
    "        print(f\" - {topping}\")\n",
    "\n",
    "make_pizza(\"pepperoni\")\n",
    "make_pizza(\"mushrooms\", \"green peppers\", \"extra cheese\")"
   ]
  },
  {
   "cell_type": "markdown",
   "metadata": {},
   "source": [
    "La función responde apropiadamente, ya sea que reciba un valor o tres valores:"
   ]
  },
  {
   "cell_type": "code",
   "execution_count": 18,
   "metadata": {},
   "outputs": [
    {
     "name": "stdout",
     "output_type": "stream",
     "text": [
      "\n",
      "Making a pizza with the following toppings\n",
      " - pepperoni\n",
      "\n",
      "Making a pizza with the following toppings\n",
      " - mushrooms\n",
      " - green peppers\n",
      " - extra cheese\n"
     ]
    }
   ],
   "source": [
    "make_pizza(\"pepperoni\")\n",
    "make_pizza(\"mushrooms\", \"green peppers\", \"extra cheese\")"
   ]
  },
  {
   "cell_type": "markdown",
   "metadata": {},
   "source": [
    "Esta sintaxis funciona sin importar cuántos argumentos reciba la función."
   ]
  },
  {
   "cell_type": "markdown",
   "metadata": {},
   "source": [
    "# Mezclando argumentos posicionales y arbitrarios\n",
    "\n",
    "Si deseas que una función acepte varios tipos diferentes de argumentos, el parámetro que acepta un número arbitrario de argumentos debe colocarse al final en la definición de la función. Python primero coincide con argumentos posicionales y de palabra clave, y luego recoge cualquier argumento restante en el parámetro final.\n",
    "\n",
    "Cuando defines una función en Python, puedes especificar diferentes tipos de parámetros. Los parámetros pueden ser:\n",
    "\n",
    "1. Argumentos posicionales: Estos son argumentos que pasan a la función en el orden en que aparecen en la definición de la función.\n",
    "2. Argumentos de palabra clave (kewyword arguments): Estos son argumentos que se pasan a la función utilizando la sintaxis `nombre=valor`, lo que te permite especificar el nombre del parámetro al que estás pasando el valor.\n",
    "3. Argumentos arbitrarios o variables: Estos son argumentos que pueden aceptar un número arbitrario de valores. Pueden ser de dos tipos:\n",
    "\n",
    "   - *args: Regoce argumentos posicionales adicionales en un tupla.\n",
    "   - **kwargs: Recoge argumentos de palabra clave adicionales en un diccionario.\n",
    "  \n",
    "Cuando mezclas argumentos posicionales y arbitrarios en una función, es importante colocar los parámetros que aceptan un número arbitrario de argumentos al final de la lista de parámetros de la función. Esto se debe a que Python primero intentará coincidir los argumentos posicionales y de palabra clave que los parámetros definidos en la función en el orden en que están definidos, y luego recogerá cualquier argumento restante en los parámetros que aceptan un número arbitrario de argumentos.\n",
    "\n",
    "Por ejemplo, si tienes una función asi:\n",
    "```python\n",
    "    def funcion(param1, param2, *args):\n",
    "        # Cuerpo de la función\n",
    "        pass\n",
    "```\n",
    "Python asignará `param1` al primer argumento pasado, `param2` al segundo argumento pasado y cualqueir argumento adicional se recogerá en la tupla `args`.\n",
    "\n",
    "Por ejemplo, si la función necesita tomar un tamaño para la pizza, ese parámetro debe venir antes del parámetro *toppings:"
   ]
  },
  {
   "cell_type": "code",
   "execution_count": 19,
   "metadata": {},
   "outputs": [
    {
     "name": "stdout",
     "output_type": "stream",
     "text": [
      "\n",
      "Making a 16-inch pizza the following toppings: \n",
      " - pepperoni\n",
      "\n",
      "Making a 12-inch pizza the following toppings: \n",
      " - mushrooms\n",
      " - green peppers\n",
      " - extra cheese\n"
     ]
    }
   ],
   "source": [
    "# Definimos una funciòn con dos paràmetros\n",
    "def make_pizza(size, *toppings):\n",
    "    \"\"\"Simmerize the pizza we are about to make.\"\"\"\n",
    "    # Imprimimos\n",
    "    print(f\"\\nMaking a {size}-inch pizza the following toppings: \")\n",
    "    # Para cada topping en toppings\n",
    "    for topping in toppings:\n",
    "        # Imprimimos topping (cada ingrediente de toppings)\n",
    "        print(f\" - {topping}\")\n",
    "\n",
    "# Llamada a la funciòn con solo dos argumentos\n",
    "make_pizza(16, \"pepperoni\")\n",
    "\n",
    "# Llamada a la funciòn con mas de dos argumentos\n",
    "make_pizza(12, \"mushrooms\", \"green peppers\", \"extra cheese\")\n"
   ]
  },
  {
   "cell_type": "markdown",
   "metadata": {},
   "source": [
    "**Nota:**\n",
    "\n",
    "- En Python, el uso de un solo asterisco `*` antes de un parámetro en la definición de una función indica que ese parámetro es un parámetro de recopilación de argumentos posicionales arbitrarios, comúnmente conocidos como `*args`.\n",
    "  \n",
    "- Cuando se utiliza `*args` en la definición de una función, este parámetro recopila todos los argumentos posicionales adicionales que se pasan a la función en una tupla. Esto significa que puedes pasar cualquier número de argumentos posicionales a esa función, y todos serán recopilados en la tupla `args`."
   ]
  },
  {
   "cell_type": "markdown",
   "metadata": {},
   "source": [
    "En la definición de la función, Python asigna el primer valor que recibe al parámetro tamaño. Todos los demás valores que vienen después se almacenan en la tupla toppings. Las llamadas a la función incluyen un argumento para el tamaño primero, seguido por tantos ingredientes como sea necesario.\n",
    "\n",
    "Ahora cada pizza tiene un tamaño y una cantidad de ingredientes, y cada información se imprime en el lugar adecuado, mostrando primero el tamaño y luego los ingredientes:"
   ]
  },
  {
   "cell_type": "code",
   "execution_count": 20,
   "metadata": {},
   "outputs": [
    {
     "name": "stdout",
     "output_type": "stream",
     "text": [
      "\n",
      "Making a 16-inch pizza the following toppings: \n",
      " - pepperoni\n",
      "\n",
      "Making a 12-inch pizza the following toppings: \n",
      " - mushrooms\n",
      " - green peppers\n",
      " - extra cheese\n"
     ]
    }
   ],
   "source": [
    "# Llamada a la función con solo dos argumentos\n",
    "make_pizza(16, \"pepperoni\")\n",
    "# Llamada ala función con mas de dos argumentos\n",
    "make_pizza(12, \"mushrooms\", \"green peppers\", \"extra cheese\")"
   ]
  },
  {
   "cell_type": "markdown",
   "metadata": {},
   "source": [
    "**NOTA**\n",
    "\n",
    "A menudo verás el nombre de parámetro genérico *args, el cual recopila argumentos posicionales arbitrarios de esta manera."
   ]
  },
  {
   "cell_type": "markdown",
   "metadata": {},
   "source": [
    "# Uso de argumentos de palabras clave arbitrarios\n",
    "\n",
    "En Python, puedes escribir funciones que aceptan un número arbitrario de argumentos de palabra clave usando el doble asterisco `**` antes de una parámetro en la definicion de la funcion. Este tipo de parámetro se conoce como `**kwargs`.\n",
    "\n",
    "Cuando se utiliza `**kwargs` en la definición de una función, ese parámeto recopila todos los argumentos de palabra clave adicionales que se pasan ala función en un diccionario. Esto significa que pueden proporcionar tantos pares clave-valor como desees al llamar a esa función, y todo se recopilarán en el diccioanrio `kwargs`.\n",
    "\n",
    "A veces querrás aceptar un número arbitrario de argumentos, pero no sabrás de antemano qué tipo de información se pasará a la función. En este caso, puedes escribir funciones que acepten tantos pares clave-valor como la declaración de llamada proporcione. Un ejemplo implica la construcción de perfiles de usuario: sabes que recibirás información sobre un usuario, pero no estás seguro qué tipo de información recibirás. La función build_profile() en el siguiente ejemplo siempre toma un nombre y apellido, pero también acepta un número arbitrario de argumentos de palabra clave:"
   ]
  },
  {
   "cell_type": "code",
   "execution_count": 21,
   "metadata": {},
   "outputs": [
    {
     "name": "stdout",
     "output_type": "stream",
     "text": [
      "{'location': 'princeton', 'field': 'physics', 'first_name': 'albert', 'last_name': 'einstein'}\n"
     ]
    }
   ],
   "source": [
    "# user_profile.py\n",
    "def build_profile(first, last, **user_info):\n",
    "    \"\"\"Build a dictionary containing everything we know about a user.\"\"\"\n",
    "    user_info[\"first_name\"] = first\n",
    "    user_info[\"last_name\"] = last\n",
    "    return user_info\n",
    "\n",
    "user_profile = build_profile(\"albert\", \"einstein\", location=\"princeton\", field=\"physics\")\n",
    "print(user_profile)"
   ]
  },
  {
   "cell_type": "markdown",
   "metadata": {},
   "source": [
    "\n",
    "La definición de build_profile() espera un nombre y apellido, y luego permite al usuario pasar tantos pares nombre-valor como deseen. Los dobles asteriscos antes del parámetro **user_info hacen que Python cree un diccionario llamado user_info que contiene todos los pares nombre-valor adicionales que reciba la función. Dentro de la función, puedes acceder a los pares clave-valor en user_info tal como lo harías para cualquier diccionario.\n",
    "\n",
    "En el cuerpo de build_profile(), agregamos los nombres y apellidos al diccionario user_info porque siempre recibiremos estas dos piezas de información del usuario, y aún no se han colocado en el diccionario. Luego, retornamos el diccionario user_info a la línea de llamada de la función.\n",
    "\n",
    "Llamamos a build_profile(), pasándole el nombre 'albert', el apellido 'einstein', y los dos pares clave-valor ubicacion='princeton' y campo='física'. Asignamos el perfil devuelto a perfil_usuario e imprimimos perfil_usuario:"
   ]
  },
  {
   "cell_type": "code",
   "execution_count": 22,
   "metadata": {},
   "outputs": [
    {
     "name": "stdout",
     "output_type": "stream",
     "text": [
      "{'location': 'princeton', 'field': 'physics', 'first_name': 'albert', 'last_name': 'einstein'}\n"
     ]
    }
   ],
   "source": [
    "user_profile = build_profile(\"albert\", \"einstein\", location=\"princeton\", field=\"physics\")\n",
    "print(user_profile)"
   ]
  },
  {
   "cell_type": "markdown",
   "metadata": {},
   "source": [
    "\n",
    "El diccionario devuelto contiene los nombres y apellidos del usuario y, en este caso, la ubicación y el campo de estudio también. La función funcionará sin importar cuántos pares clave-valor adicionales se proporcionen en la llamada a la función.\n",
    "\n",
    "Puedes mezclar valores posicionales, de palabra clave y arbitrarios de muchas maneras diferentes al escribir tus propias funciones. Es útil saber que existen todos estos tipos de argumentos porque los verás a menudo cuando comiences a leer el código de otras personas. Requiere práctica utilizar correctamente los diferentes tipos y saber cuándo usar cada uno. Por ahora, recuerda usar el enfoque más simple que cumpla con el trabajo. A medida que avances, aprenderás a usar el enfoque más eficiente en cada ocasión.\n"
   ]
  },
  {
   "cell_type": "markdown",
   "metadata": {},
   "source": [
    "**NOTA**\n",
    "\n",
    "A menudo verás el nombre de parámetro **kwargs utilizado para recopilar argumentos de palabras clave no específicos."
   ]
  },
  {
   "cell_type": "markdown",
   "metadata": {},
   "source": [
    "# **HAZLO TU MISMO**\n",
    "**8-12. Sandwiches:**\n",
    "\n",
    "* Escribe una función que acepte una lista de elementos que una persona desea en un sándwich. \n",
    "* La función debe tener un parámetro que recolecte tantos elementos como proporcione la llamada a la función, y debe imprimir un resumen del sándwich que se está ordenando. \n",
    "* Llama a la función tres veces, utilizando un número diferente de argumentos cada vez."
   ]
  },
  {
   "cell_type": "code",
   "execution_count": 24,
   "metadata": {},
   "outputs": [
    {
     "name": "stdout",
     "output_type": "stream",
     "text": [
      "Lista de elementos de un sandwich: ('queso', 'pepinillo', 'pan')\n"
     ]
    }
   ],
   "source": [
    "def lista(*elementos):\n",
    "    return print(f\"Lista de elementos de un sandwich: {elementos}\")\n",
    "\n",
    "lista('queso', 'pepinillo', 'pan')"
   ]
  },
  {
   "cell_type": "code",
   "execution_count": 25,
   "metadata": {},
   "outputs": [
    {
     "name": "stdout",
     "output_type": "stream",
     "text": [
      "\n",
      "Making a 16-inch sandwich\n",
      "- lettuce\n",
      "\n",
      "Making a 16-inch sandwich\n",
      "- tomate\n",
      "- cebolla\n",
      "- lechuga\n"
     ]
    }
   ],
   "source": [
    "# Definimos una funciòn\n",
    "def sandwich(size, *toppings):\n",
    "    \"\"\"Docstring\"\"\"\n",
    "    print(f\"\\nMaking a {size}-inch sandwich\")\n",
    "    for topping in toppings:\n",
    "        print(f\"- {topping}\")\n",
    "\n",
    "sandwich(16, \"lettuce\")\n",
    "sandwich(16, 'tomate', 'cebolla', 'lechuga')"
   ]
  }
 ],
 "metadata": {
  "kernelspec": {
   "display_name": "env",
   "language": "python",
   "name": "python3"
  },
  "language_info": {
   "codemirror_mode": {
    "name": "ipython",
    "version": 3
   },
   "file_extension": ".py",
   "mimetype": "text/x-python",
   "name": "python",
   "nbconvert_exporter": "python",
   "pygments_lexer": "ipython3",
   "version": "3.12.3"
  }
 },
 "nbformat": 4,
 "nbformat_minor": 2
}
