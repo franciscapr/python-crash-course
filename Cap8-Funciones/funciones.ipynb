{
 "cells": [
  {
   "cell_type": "markdown",
   "metadata": {},
   "source": [
    "# **CAPÍTULO 8: FUNCIONES**\n",
    "* Definir una función\n",
    "* Pasar información a una función\n",
    "* Argumentos y parámetros\n",
    "* Ejercicio 8-1: Mensaje\n",
    "* Ejercicio 8-2: Libro favorito\n",
    "* Pasar argumentos\n",
    "* Argumentos posicionales\n",
    "* Argumentos de palabra clave\n",
    "* Valores predeterminados\n",
    "* Llamadas de función equivalentes\n",
    "* Evitar errores de argumentos\n",
    "* Ejercicio 8-3: Camiseta\n",
    "* Ejercicio 8-4: Camisetas grandes\n",
    "* Ejercicio 8-5: Ciudades\n",
    "* Valores de retorno\n",
    "* Devolver un valor simple\n",
    "* Hacer un argumento opcional\n",
    "* Devolver un diccionario\n",
    "* Usar una función con un bucle while\n",
    "* Ejercicio 8-6: Nombres de ciudades\n",
    "* Ejercicio 8-7: Álbum\n",
    "* Ejercicio 8-8: Álbumes de usuario\n",
    "* Pasar una lista\n",
    "* Modificar una lista en una función\n",
    "* Evitar que una función modifique una lista\n",
    "* Ejercicio 8-9: Mensajes\n",
    "* Ejercicio 8-10: Envío de mensajes\n",
    "* Ejercicio 8-11: Mensajes archivados\n",
    "* Pasar un número arbitrario de argumentos\n",
    "* Mezclar argumentos posicionales y arbitrarios\n",
    "* Usar argumentos de palabra clave arbitrarios\n",
    "* Ejercicio 8-12: Bocadillos\n",
    "* Ejercicio 8-13: Perfil de usuario\n",
    "* Ejercicio 8-14: Coches\n",
    "* Almacenar tus funciones en módulos\n",
    "* Importar un módulo completo\n",
    "* Importar funciones específicas\n",
    "* Usar as para darle un alias a una función\n",
    "* Usar as para darle un alias a un módulo\n",
    "* Importar todas las funciones de un módulo\n",
    "* Estilo de funciones\n",
    "* Ejercicio 8-15: Imprimir modelos\n",
    "* Ejercicio 8-16: Importaciones\n",
    "* Ejercicio 8-17: Estilo de funciones\n",
    "* Resumen"
   ]
  },
  {
   "cell_type": "markdown",
   "metadata": {},
   "source": [
    "Este capítulo se enfoca en enseñarte a escribir funciones, que son bloques de código con nombre diseñados para realizar una tarea específica. Cuando deseas realizar una tarea particular que has definido en una función, llamas a la función responsable de ello. Si necesitas realizar esa tarea múltiples veces a lo largo de tu programa, no necesitas escribir todo el código de la misma tarea una y otra vez; simplemente llamas a la función dedicada a manejar esa tarea, y la llamada le dice a Python que ejecute el código dentro de la función. Descubrirás que el uso de funciones hace que tus programas sean más fáciles de escribir, leer, probar y corregir.\n",
    "\n",
    "En este capítulo también aprenderás diversas formas de pasar información a las funciones. Aprenderás cómo escribir ciertas funciones cuya tarea principal es mostrar información y otras funciones diseñadas para procesar datos y devolver un valor o conjunto de valores. Por último, aprenderás a almacenar funciones en archivos separados llamados módulos para ayudar a organizar tus archivos principales de programa."
   ]
  },
  {
   "cell_type": "markdown",
   "metadata": {},
   "source": [
    "# Definiendo una funciòn"
   ]
  },
  {
   "cell_type": "code",
   "execution_count": 1,
   "metadata": {},
   "outputs": [
    {
     "name": "stdout",
     "output_type": "stream",
     "text": [
      "Hello!\n"
     ]
    }
   ],
   "source": [
    "# greeter.py\n",
    "\n",
    "def greet_user():\n",
    "    \"\"\"Display a simple greeting\"\"\"\n",
    "    print(\"Hello!\")\n",
    "\n",
    "# Llamada a la funciòn\n",
    "greet_user()"
   ]
  },
  {
   "cell_type": "markdown",
   "metadata": {},
   "source": [
    "\n",
    "Este ejemplo muestra la estructura más simple de una función. La primera línea utiliza la palabra clave **`def`** para informar a Python que estás definiendo una función. Esta es la definición de la función, que le dice a Python el nombre de la función y, si aplica, qué tipo de información necesita la función para realizar su trabajo. Los paréntesis contienen esa información. En este caso, el nombre de la función es `greet_user()` y no necesita información para realizar su trabajo, por lo que sus paréntesis están vacíos. (Aun así, los paréntesis son necesarios). Finalmente, la definición termina con dos puntos. Cualquier línea con sangría que siga a `def greet_user():` forma el cuerpo de la función. El texto en la segunda línea es un comentario llamado una cadena de documentación `(docstring)`, que describe lo que hace la función. Cuando Python genera documentación para las funciones en tus programas, busca una cadena de texto inmediatamente después de la definición de la función. Estas cadenas suelen estar encerradas en triples comillas, lo que te permite escribir varias líneas. La línea print(\"¡Hola!\") es la única línea de código real en el cuerpo de esta función, por lo que `greet_user()` tiene solo una tarea: imprimir \"¡Hola!\". Cuando quieras usar esta función, debes llamarla. Una llamada a función le indica a Python que ejecute el código en la función. Para llamar a una función, escribes el nombre de la función, seguido de cualquier información necesaria en paréntesis. Como aquí no se necesita información, llamar a nuestra función es tan simple como ingresar `greet_user()`. Como se esperaba, imprime ¡Hola!:\n",
    "\n",
    "```python\n",
    "¡Hola!\n",
    "```"
   ]
  },
  {
   "cell_type": "markdown",
   "metadata": {},
   "source": [
    "#  Pasar información a una función\n",
    "\n",
    "Si modificas ligeramente la función `greet_user()`, puede saludar al usuario por su nombre. Para que la función haga esto, ingresas `username` entre paréntesis en la definición de la función en `def greet_user()`. Al agregar `username` aquí, permites que la función acepte cualquier valor de `username` que especifiques. La función ahora espera que proporciones un valor para `username` cada vez que la llames. Cuando llamas a `greet_user()`, puedes pasarle un nombre, como 'jesse', dentro de los paréntesis:"
   ]
  },
  {
   "cell_type": "code",
   "execution_count": 3,
   "metadata": {},
   "outputs": [
    {
     "name": "stdout",
     "output_type": "stream",
     "text": [
      "Hello, Jesse!\n"
     ]
    }
   ],
   "source": [
    "def greet_user(username):\n",
    "    \"\"\"Display a simple greeting.\"\"\"\n",
    "    print(f\"Hello, {username.title()}!\")\n",
    "    \n",
    "greet_user(\"jesse\")"
   ]
  },
  {
   "cell_type": "markdown",
   "metadata": {},
   "source": [
    "Al ingresar `greet_user('jesse')`, llamas a `greet_user()` y le das a la función la información que necesita para ejecutar la llamada a `print()`. La función acepta el nombre que le proporcionaste y muestra el saludo para ese nombre:"
   ]
  },
  {
   "cell_type": "code",
   "execution_count": 4,
   "metadata": {},
   "outputs": [
    {
     "name": "stdout",
     "output_type": "stream",
     "text": [
      "Hello, Jesse!\n"
     ]
    }
   ],
   "source": [
    "greet_user('jesse')"
   ]
  },
  {
   "cell_type": "markdown",
   "metadata": {},
   "source": [
    "De manera similar, al ingresar `greet_user('sarah')`, llamas a `greet_user()`, le pasas `'sarah'` y muestra ¡Hola, Sarah! Puedes llamar a `greet_user()` tantas veces como quieras y pasarle cualquier nombre que desees para producir un resultado predecible cada vez."
   ]
  },
  {
   "cell_type": "markdown",
   "metadata": {},
   "source": [
    "# Argumentos y parámetros\n",
    "\n",
    "En la función `greet_user()` anterior, definimos `greet_user()` para requerir un valor para la variable `username`. Una vez que llamamos a la función y le proporcionamos la información (el nombre de una persona), imprimió el saludo correcto. La variable `username` en la definición de `greet_user()` es un ejemplo de un parámetro, una pieza de información que la función necesita para hacer su trabajo. El valor 'jesse' en `greet_user('jesse')` es un ejemplo de un argumento. Un argumento es una pieza de información que se pasa desde una llamada de función a una función. Cuando llamamos a la función, colocamos el valor con el que queremos que la función trabaje entre paréntesis. En este caso, el argumento 'jesse' se pasó a la función `greet_user()`, y el valor se asignó al parámetro `username`.\n"
   ]
  },
  {
   "cell_type": "markdown",
   "metadata": {},
   "source": [
    "**NOTA**\n",
    "\n",
    "A veces, las personas hablan de argumentos y parámetros de manera intercambiable. No te sorprendas si ves que a las variables en la definición de una función se les llama argumentos, o a las variables en una llamada de función se les llama parámetros.\n"
   ]
  },
  {
   "cell_type": "markdown",
   "metadata": {},
   "source": [
    "## **HAZLO TU MISM**O\n",
    "**8-1. Message:** \n",
    "* Escribe una función llamada display_message() que imprima una oración diciéndole a todos lo que está aprendiendo en este capítulo. \n",
    "* Llame a la función y asegúrese de que el mensaje se muestre correctamente."
   ]
  },
  {
   "cell_type": "code",
   "execution_count": 5,
   "metadata": {},
   "outputs": [
    {
     "name": "stdout",
     "output_type": "stream",
     "text": [
      "Estoy en el Cap8 - Funciones\n"
     ]
    }
   ],
   "source": [
    "def display_message():\n",
    "    print(\"Estoy en el Cap8 - Funciones\")\n",
    "\n",
    "display_message()"
   ]
  },
  {
   "cell_type": "markdown",
   "metadata": {},
   "source": [
    "**8-2. Favorite Book:** \n",
    "\n",
    "* Escribe una función llamada favorito_book() que acepte uno parámetro, título. \n",
    "* La función debería imprimir un mensaje, como Uno de mis libros favoritos es Alicia en el país de las maravillas. \n",
    "* Llame a la función, asegurándose de incluir el título de un libro como un argumento en la llamada a la función."
   ]
  },
  {
   "cell_type": "code",
   "execution_count": 6,
   "metadata": {},
   "outputs": [
    {
     "name": "stdout",
     "output_type": "stream",
     "text": [
      " Unos de mis libros favoritos es Alicia En El Paìs De Las Maravillas.\n"
     ]
    }
   ],
   "source": [
    "def favorito_book(book):\n",
    "    print(f\" Unos de mis libros favoritos es {book.title()}.\")\n",
    "\n",
    "favorito_book('alicia en el paìs de las maravillas')"
   ]
  },
  {
   "cell_type": "markdown",
   "metadata": {},
   "source": [
    "# Pasar argumentos\n",
    "\n",
    "Debido a que una definición de función puede tener múltiples parámetros, una llamada a función puede necesitar múltiples argumentos. Puedes pasar argumentos a tus funciones de varias maneras. Puedes utilizar argumentos posicionales, que deben estar en el mismo orden en el que se escribieron los parámetros; argumentos de palabra clave, donde cada argumento consiste en un nombre de variable y un valor; y listas y diccionarios de valores. Veamos cada uno de ellos por turno.\n"
   ]
  },
  {
   "cell_type": "markdown",
   "metadata": {},
   "source": [
    "# Argumentos posicionales\n",
    "\n",
    "Cuando llamas a una función, Python debe asociar cada argumento en la llamada de función con un parámetro en la definición de la función. La forma más sencilla de hacer esto se basa en el orden de los argumentos proporcionados. Los valores emparejados de esta manera se llaman argumentos posicionales.\n",
    "\n",
    "Para ver cómo funciona esto, considera una función que muestra información sobre mascotas. La función nos dice qué tipo de animal es cada mascota y el nombre de la mascota, como se muestra aquí:\n"
   ]
  },
  {
   "cell_type": "code",
   "execution_count": 7,
   "metadata": {},
   "outputs": [
    {
     "name": "stdout",
     "output_type": "stream",
     "text": [
      "\n",
      "I have a hamster.\n",
      "My hamster's name is Harry.\n"
     ]
    }
   ],
   "source": [
    "# pets.py\n",
    "# Definimos una funciòn\n",
    "# Definimos dos paràmetros\n",
    "\n",
    "def describe_pet(animal_type, pet_name):\n",
    "    # Escribimos un docstring\n",
    "    \"\"\"Display information about a pet.\"\"\"\n",
    "    # Imprimimos un texto con un argumento\n",
    "    print(f\"\\nI have a {animal_type}.\")\n",
    "    # Imprimimos un texto con dos argumentos\n",
    "    print(f\"My {animal_type}'s name is {pet_name.title()}.\")\n",
    "\n",
    "# Llamamos a la funciòn\n",
    "describe_pet(\"hamster\", \"harry\")"
   ]
  },
  {
   "cell_type": "markdown",
   "metadata": {},
   "source": [
    "La definición muestra que esta función necesita un tipo de animal y el nombre del animal. Cuando llamamos a `describe_pet()`, necesitamos proporcionar un tipo de animal y un nombre, en ese orden. Por ejemplo, en la llamada a la función, el argumento 'hámster' se asigna al parámetro `animal_type` y el argumento 'Harry' se asigna al parámetro `pet_name`. En el cuerpo de la función, estos dos parámetros se utilizan para mostrar información sobre la mascota que se describe.\n",
    "\n",
    "La salida describe a un hámster llamado Harry:"
   ]
  },
  {
   "cell_type": "code",
   "execution_count": 8,
   "metadata": {},
   "outputs": [
    {
     "name": "stdout",
     "output_type": "stream",
     "text": [
      "\n",
      "I have a hamster.\n",
      "My hamster's name is Harry.\n"
     ]
    }
   ],
   "source": [
    "# Llamamos a la funciòn\n",
    "describe_pet(\"hamster\", \"harry\")"
   ]
  },
  {
   "cell_type": "markdown",
   "metadata": {},
   "source": [
    "# Llamadas múltiples a funciones\n",
    "\n",
    "Puedes llamar a una función tantas veces como sea necesario. Describir una segunda mascota diferente solo requiere una llamada más a `describe_pet()`:\n"
   ]
  },
  {
   "cell_type": "code",
   "execution_count": 9,
   "metadata": {},
   "outputs": [
    {
     "name": "stdout",
     "output_type": "stream",
     "text": [
      "\n",
      "I have a hamster.\n",
      "My hamster's name is Harry.\n",
      "\n",
      "I have a dog.\n",
      "My dog's name is Willie.\n"
     ]
    }
   ],
   "source": [
    "# Definimos una funciòn con sus parametros y argumentos\n",
    "\n",
    "def describe_pet(animal_type, pet_name):\n",
    "    \"\"\"Display information about a pet.\"\"\"\n",
    "    print(f\"\\nI have a {animal_type}.\")\n",
    "    print(f\"My {animal_type}'s name is {pet_name.title()}.\")\n",
    "\n",
    "describe_pet(\"hamster\", \"harry\")\n",
    "describe_pet(\"dog\", \"willie\")"
   ]
  },
  {
   "cell_type": "markdown",
   "metadata": {},
   "source": [
    "En esta segunda llamada a la función, pasamos a `describe_pet()` los argumentos 'perro' y 'Willie'. Al igual que con el conjunto anterior de argumentos que usamos, Python empareja 'perro' con el parámetro `animal_type` y 'Willie' con el parámetro `pet_name`. Como antes, la función realiza su tarea, pero esta vez imprime los valores para un perro llamado Willie. Ahora tenemos un hámster llamado Harry y un perro llamado Willie:"
   ]
  },
  {
   "cell_type": "code",
   "execution_count": 10,
   "metadata": {},
   "outputs": [
    {
     "name": "stdout",
     "output_type": "stream",
     "text": [
      "\n",
      "I have a hamster.\n",
      "My hamster's name is Harry.\n",
      "\n",
      "I have a dog.\n",
      "My dog's name is Willie.\n"
     ]
    }
   ],
   "source": [
    "describe_pet(\"hamster\", \"harry\")\n",
    "describe_pet(\"dog\", \"willie\")"
   ]
  },
  {
   "cell_type": "markdown",
   "metadata": {},
   "source": [
    "Llamar a una función múltiples veces es una forma muy eficiente de trabajar. El código que describe una mascota se escribe una vez en la función. Luego, cada vez que quieras describir una nueva mascota, llamas a la función con la información de la nueva mascota. Incluso si el código para describir una mascota se expandiera a 10 líneas, aún podrías describir una nueva mascota en solo una línea llamando nuevamente a la función."
   ]
  },
  {
   "cell_type": "markdown",
   "metadata": {},
   "source": [
    "# El orden importa en los argumentos posicionales\n",
    "\n",
    "Puedes obtener resultados inesperados si mezclas el orden de los argumentos en una llamada a función cuando usas argumentos posicionales:\n"
   ]
  },
  {
   "cell_type": "code",
   "execution_count": 12,
   "metadata": {},
   "outputs": [
    {
     "name": "stdout",
     "output_type": "stream",
     "text": [
      "\n",
      "I have a harry.\n",
      "My harry's name is Hamster.\n"
     ]
    }
   ],
   "source": [
    "def describe_pet(animal_type, pet_name):\n",
    "    \"\"\"Display information about a pet.\"\"\"\n",
    "    print(f\"\\nI have a {animal_type}.\")\n",
    "    print(f\"My {animal_type}'s name is {pet_name.title()}.\")\n",
    "\n",
    "describe_pet(\"harry\", \"hamster\")"
   ]
  },
  {
   "cell_type": "markdown",
   "metadata": {},
   "source": [
    "En esta llamada a la función, listamos primero el nombre y segundo el tipo de animal. Debido a que el argumento 'harry' se enumera primero esta vez, ese valor se asigna al parámetro `animal_type`. De manera similar, 'hámster' se asigna a `pet_name`. Ahora tenemos un \"harry\" llamado \"Hámster\":\n",
    "\n"
   ]
  },
  {
   "cell_type": "code",
   "execution_count": 13,
   "metadata": {},
   "outputs": [
    {
     "name": "stdout",
     "output_type": "stream",
     "text": [
      "\n",
      "I have a harry.\n",
      "My harry's name is Hamster.\n"
     ]
    }
   ],
   "source": [
    "describe_pet(\"harry\", \"hamster\")"
   ]
  },
  {
   "cell_type": "markdown",
   "metadata": {},
   "source": [
    "Si obtienes resultados extraños como este, verifica que el orden de los argumentos en tu llamada a función coincida con el orden de los parámetros en la definición de la función.\n"
   ]
  },
  {
   "cell_type": "markdown",
   "metadata": {},
   "source": [
    "# Argumentos de palabras clave\n",
    "\n",
    "Un argumento de palabra clave es un par de nombre-valor que pasas a una función. Asocias directamente el nombre y el valor dentro del argumento, por lo que al pasar el argumento a la función, no hay confusión (no terminarás con un harry llamado Hámster). Los argumentos de palabras clave te liberan de tener que preocuparte por ordenar correctamente tus argumentos en la llamada a la función, y clarifican el papel de cada valor en la llamada a la función.\n",
    "\n",
    "Reescribamos `pets.py` usando argumentos de palabras clave para llamar a `describe_pet()`:\n"
   ]
  },
  {
   "cell_type": "code",
   "execution_count": 15,
   "metadata": {},
   "outputs": [
    {
     "name": "stdout",
     "output_type": "stream",
     "text": [
      "\n",
      "I have a hamster.\n",
      "My hamster's name is Harry.\n"
     ]
    }
   ],
   "source": [
    "def describe_pet(animal_type, pet_name):\n",
    "    \"\"\"Display information about a pet.\"\"\"\n",
    "    print(f\"\\nI have a {animal_type}.\")\n",
    "    print(f\"My {animal_type}'s name is {pet_name.title()}.\")\n",
    "\n",
    "describe_pet(animal_type=\"hamster\", pet_name=\"harry\")"
   ]
  },
  {
   "cell_type": "markdown",
   "metadata": {},
   "source": [
    "La función `describe_pet()` no ha cambiado. Pero cuando llamamos a la función, le decimos explícitamente a Python con qué parámetro debería coincidir cada argumento. Cuando Python lee la llamada a la función, sabe asignar el argumento 'hámster' al parámetro `animal_type` y el argumento 'harry' a `pet_name`. La salida muestra correctamente que tenemos un hámster llamado Harry.\n",
    "\n",
    "El orden de los argumentos de palabras clave no importa porque Python sabe dónde debe ir cada valor. Las siguientes dos llamadas a la función son equivalentes:\n"
   ]
  },
  {
   "cell_type": "code",
   "execution_count": 16,
   "metadata": {},
   "outputs": [
    {
     "name": "stdout",
     "output_type": "stream",
     "text": [
      "\n",
      "I have a hamster.\n",
      "My hamster's name is Harry.\n",
      "\n",
      "I have a hamster.\n",
      "My hamster's name is Harry.\n"
     ]
    }
   ],
   "source": [
    "describe_pet(animal_type=\"hamster\", pet_name=\"harry\")\n",
    "describe_pet(pet_name=\"harry\", animal_type=\"hamster\")"
   ]
  },
  {
   "cell_type": "markdown",
   "metadata": {},
   "source": [
    "**NOTA**\n",
    "\n",
    "Cuando uses argumentos de palabras clave, asegúrate de utilizar los nombres exactos de los parámetros en la definición de la función.\n"
   ]
  }
 ],
 "metadata": {
  "kernelspec": {
   "display_name": "env",
   "language": "python",
   "name": "python3"
  },
  "language_info": {
   "codemirror_mode": {
    "name": "ipython",
    "version": 3
   },
   "file_extension": ".py",
   "mimetype": "text/x-python",
   "name": "python",
   "nbconvert_exporter": "python",
   "pygments_lexer": "ipython3",
   "version": "3.12.3"
  }
 },
 "nbformat": 4,
 "nbformat_minor": 2
}
