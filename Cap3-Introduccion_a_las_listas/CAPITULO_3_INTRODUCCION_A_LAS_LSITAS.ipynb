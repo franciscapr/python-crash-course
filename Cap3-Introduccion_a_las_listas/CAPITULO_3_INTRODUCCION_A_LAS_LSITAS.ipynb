{
 "cells": [
  {
   "cell_type": "markdown",
   "metadata": {},
   "source": [
    "# CAPÍTULO 3: INTRODUCCIÓN A LAS LISTAS\n",
    "* ¿Qué es una lista?\n",
    "* Acceder a elementos en una lista\n",
    "* Las posiciones de índice comienzan en 0, no en 1\n",
    "* Usar valores individuales de una lista\n",
    "* Ejercicio 3-1: Nombres\n",
    "* Ejercicio 3-2: Saludos\n",
    "* Ejercicio 3-3: Tu propia lista\n",
    "* Modificar, agregar y eliminar elementos\n",
    "* Modificar elementos en una lista\n",
    "* Agregar elementos a una lista\n",
    "* Eliminar elementos de una lista\n",
    "* Ejercicio 3-4: Lista de invitados\n",
    "* Ejercicio 3-5: Cambio en la lista de invitados\n",
    "* Ejercicio 3-6: Más invitados\n",
    "* Ejercicio 3-7: Reducción de la lista de invitados\n",
    "* Organizar una lista\n",
    "* Ordenar permanentemente una lista con el método sort()\n",
    "* Ordenar temporalmente una lista con la función sorted()\n",
    "* Imprimir una lista en orden inverso\n",
    "* Encontrar la longitud de una lista\n",
    "* Ejercicio 3-8: Viendo el mundo\n",
    "* Ejercicio 3-9: Invitados a cenar\n",
    "* Ejercicio 3-10: Cada función\n",
    "* Evitar errores de índice al trabajar con listas\n",
    "* Ejercicio 3-11: Error intencional\n",
    "* Resumen"
   ]
  },
  {
   "cell_type": "markdown",
   "metadata": {},
   "source": [
    "## Presentando Listas\n",
    "\n",
    "En este capítulo y el siguiente aprenderás qué son las listas y cómo comenzar a trabajar con los elementos en una lista. Las listas te permiten almacenar conjuntos de información en un solo lugar, ya sea que tengas solo unos pocos elementos o millones de elementos. Las listas son una de las características más poderosas de Python fácilmente accesibles para nuevos programadores, y conectan muchos conceptos importantes en la programación.\n",
    "\n",
    "### Que es un lista\n",
    "\n",
    "Una lista es una colección de elementos en un orden particular. Puedes crear una lista que incluya las letras del alfabeto, los dígitos del 0 al 9 o los nombres de todas las personas en tu familia. Puedes colocar cualquier cosa que desees en una lista y los elementos en tu lista no tienen que estar relacionados de ninguna manera en particular. Dado que una lista generalmente contiene más de un elemento, es una buena idea nombrar tu lista en plural, como letras, dígitos o nombres.\n",
    "\n",
    "En Python, los corchetes cuadrados `[]` indican una lista, y los elementos individuales en la lista están separados por comas. Aquí tienes un ejemplo simple de una lista que contiene algunos tipos de bicicletas:"
   ]
  },
  {
   "cell_type": "code",
   "execution_count": 3,
   "metadata": {},
   "outputs": [],
   "source": [
    "bicicletas = ['trek', 'cannodale', 'redline', 'specialized']"
   ]
  },
  {
   "cell_type": "markdown",
   "metadata": {},
   "source": [
    "Si le pides a Python que imprima una lista, Python devuelve su representación de la lista, incluyendo los corchetes cuadrados:"
   ]
  },
  {
   "cell_type": "code",
   "execution_count": 4,
   "metadata": {},
   "outputs": [
    {
     "name": "stdout",
     "output_type": "stream",
     "text": [
      "['trek', 'cannodale', 'redline', 'specialized']\n"
     ]
    }
   ],
   "source": [
    "print(bicicletas)"
   ]
  },
  {
   "cell_type": "markdown",
   "metadata": {},
   "source": [
    "Como esta no es la salida que quieres que vean tus usuarios, aprendamos cómo acceder a los elementos individuales en una lista."
   ]
  },
  {
   "cell_type": "markdown",
   "metadata": {},
   "source": [
    "## Accediendo a Elementos en una Lista\n",
    "\n",
    "Las listas son colecciones ordenadas, por lo que puedes acceder a cualquier elemento en una lista indicando a Python la posición o índice del elemento deseado. Para acceder a un elemento en una lista, escribe el nombre de la lista seguido del índice del elemento encerrado entre corchetes.\n",
    "Por ejemplo, saquemos la primera bicicleta de la lista de bicicletas:\n"
   ]
  },
  {
   "cell_type": "code",
   "execution_count": 6,
   "metadata": {},
   "outputs": [],
   "source": [
    "bicicletas = ['trek', 'cannondale', 'redline', 'specialized']"
   ]
  },
  {
   "cell_type": "markdown",
   "metadata": {},
   "source": [
    "Cuando solicitamos un único elemento de una lista, Python devuelve solo ese elemento sin corchetes:"
   ]
  },
  {
   "cell_type": "code",
   "execution_count": 7,
   "metadata": {},
   "outputs": [
    {
     "name": "stdout",
     "output_type": "stream",
     "text": [
      "trek\n"
     ]
    }
   ],
   "source": [
    "print(bicicletas[0])"
   ]
  },
  {
   "cell_type": "markdown",
   "metadata": {},
   "source": [
    "Este es el resultado que quieres que vean tus usuarios: una salida limpia y ordenada.\n",
    "\n",
    "También puedes usar los métodos de cadenas de texto del Capítulo 2 en cualquier elemento de esta lista. Por ejemplo, puedes dar formato al elemento 'trek' para que luzca más presentable utilizando el método `title()`:"
   ]
  },
  {
   "cell_type": "code",
   "execution_count": 8,
   "metadata": {},
   "outputs": [
    {
     "name": "stdout",
     "output_type": "stream",
     "text": [
      "Trek\n"
     ]
    }
   ],
   "source": [
    "bicicletas = ['trek', 'cannodale', 'redline', 'specialized']\n",
    "\n",
    "print(bicicletas[0].title())"
   ]
  },
  {
   "cell_type": "markdown",
   "metadata": {},
   "source": [
    "\n",
    "Este ejemplo produce la misma salida que el ejemplo anterior, excepto que 'Trek' está capitalizado."
   ]
  },
  {
   "cell_type": "markdown",
   "metadata": {},
   "source": [
    "## Las Posiciones de los Índices Comienzan en 0, no en 1\n",
    "\n",
    "Python considera que el primer elemento en una lista está en la posición 0, no en la posición 1. Esto es cierto en la mayoría de los lenguajes de programación, y la razón tiene que ver con cómo se implementan las operaciones de lista a un nivel más bajo. Si estás obteniendo resultados inesperados, pregúntate si estás cometiendo un error simple pero común por desfase de uno.\n",
    "\n",
    "El segundo elemento en una lista tiene un índice de 1. Usando este sistema de conteo, puedes obtener cualquier elemento que desees de una lista restando uno de su posición en la lista. Por ejemplo, para acceder al cuarto elemento en una lista, solicitas el elemento en el índice 3.\n",
    "\n",
    "Lo siguiente solicita las bicicletas en el índice 1 e índice 3:"
   ]
  },
  {
   "cell_type": "code",
   "execution_count": 1,
   "metadata": {},
   "outputs": [
    {
     "name": "stdout",
     "output_type": "stream",
     "text": [
      "cannodale\n",
      "specialized\n"
     ]
    }
   ],
   "source": [
    "bicicletas = ['trek', 'cannodale', 'redline', 'specialized']\n",
    "print(bicicletas[1])\n",
    "print(bicicletas[3])"
   ]
  },
  {
   "cell_type": "markdown",
   "metadata": {},
   "source": [
    "Este código devuelve la segunda y cuarta bicicletas en la lista:"
   ]
  },
  {
   "cell_type": "code",
   "execution_count": 2,
   "metadata": {},
   "outputs": [
    {
     "name": "stdout",
     "output_type": "stream",
     "text": [
      "cannodale\n",
      "specialized\n"
     ]
    }
   ],
   "source": [
    "print(bicicletas[1])    # Imprimimos la segunda bicicleta\n",
    "print(bicicletas[3])    # Imprimimos la cuarta bicicleta"
   ]
  },
  {
   "cell_type": "markdown",
   "metadata": {},
   "source": [
    "Python tiene una sintaxis especial para acceder al último elemento en una lista. Si solicitas el elemento en el índice -1, Python siempre devuelve el último elemento en la lista:"
   ]
  },
  {
   "cell_type": "code",
   "execution_count": 3,
   "metadata": {},
   "outputs": [
    {
     "name": "stdout",
     "output_type": "stream",
     "text": [
      "specialized\n"
     ]
    }
   ],
   "source": [
    "bicicletas = ['trek', 'cannondale', 'redline', 'specialized']\n",
    "print(bicicletas[-1])"
   ]
  },
  {
   "cell_type": "markdown",
   "metadata": {},
   "source": [
    "Este código devuelve el valor 'specialized'. Esta sintaxis es bastante útil, ya que a menudo querrás acceder a los últimos elementos en una lista sin saber exactamente cuán larga es la lista. Esta convención se extiende también a otros valores de índice negativo. El índice -2 devuelve el segundo elemento desde el final de la lista, el índice -3 devuelve el tercer elemento desde el final, y así sucesivamente."
   ]
  },
  {
   "cell_type": "markdown",
   "metadata": {},
   "source": [
    "## Usando Valores Individuales de una Lista\n",
    "\n",
    "Puedes usar valores individuales de una lista de la misma manera que usarías cualquier otra variable. Por ejemplo, puedes utilizar `f-strings` para crear un mensaje basado en un valor de una lista.\n",
    "\n",
    "Intentemos extraer la primera bicicleta de la lista y componer un mensaje usando ese valor:"
   ]
  },
  {
   "cell_type": "code",
   "execution_count": 4,
   "metadata": {},
   "outputs": [
    {
     "name": "stdout",
     "output_type": "stream",
     "text": [
      "Mi primera bicicleta fue un Trek.\n"
     ]
    }
   ],
   "source": [
    "bicicletas = ['trek', 'cannondale', 'readline', 'specialized']\n",
    "mensaje = f\"Mi primera bicicleta fue un {bicicletas[0].title()}.\"\n",
    "print(mensaje)"
   ]
  },
  {
   "cell_type": "markdown",
   "metadata": {},
   "source": [
    "Construimos una oración usando el valor en `bicicletas[0]` y lo asignamos a la variable `mensaje`. La salida es una oración simple sobre la primera bicicleta en la lista:"
   ]
  },
  {
   "cell_type": "code",
   "execution_count": 5,
   "metadata": {},
   "outputs": [
    {
     "name": "stdout",
     "output_type": "stream",
     "text": [
      "Mi primera bicicleta fue un Trek.\n"
     ]
    }
   ],
   "source": [
    "print(mensaje)"
   ]
  },
  {
   "cell_type": "markdown",
   "metadata": {},
   "source": [
    "## **INTÉNTALO TÚ MISMO**\n",
    "\n",
    "Intenta estos programas cortos para obtener experiencia práctica con las listas de Python. Es posible que desees crear una carpeta nueva para los ejercicios de cada capítulo, para mantenerlos organizados.\n",
    "\n",
    "**3-1. Nombres**: Guarda los nombres de algunos de tus amigos en una lista llamada nombres. Imprime el nombre de cada persona accediendo a cada elemento de la lista, uno por uno."
   ]
  },
  {
   "cell_type": "code",
   "execution_count": 8,
   "metadata": {},
   "outputs": [
    {
     "name": "stdout",
     "output_type": "stream",
     "text": [
      "Dario\n",
      "Maximiliano\n",
      "Marco\n"
     ]
    }
   ],
   "source": [
    "nombres = ['dario', 'maximiliano', 'marco']\n",
    "print(nombres[0].title())\n",
    "print(nombres[1].title())\n",
    "print(nombres[2].title())"
   ]
  },
  {
   "cell_type": "markdown",
   "metadata": {},
   "source": [
    "**3-2. Saludos:** Comienza con la lista que usaste en el Ejercicio 3-1, pero en lugar de solo imprimir el nombre de cada persona, imprime un mensaje para ellos. El texto de cada mensaje debería ser el mismo, pero cada mensaje debería ser personalizado con el nombre de la persona."
   ]
  },
  {
   "cell_type": "code",
   "execution_count": 10,
   "metadata": {},
   "outputs": [
    {
     "name": "stdout",
     "output_type": "stream",
     "text": [
      "Buenisima amigo Dario, ha pasado un monton de tiempo!!!\n",
      "Buenisima amigo Maximiliano, ha pasado un monton de tiempo!!!\n",
      "Buenisima amigo Marco, ha pasado un monton de tiempo!!!\n"
     ]
    }
   ],
   "source": [
    "nombres = ['dario', 'maximiliano', 'marco']\n",
    "print(f\"Buenisima amigo {nombres[0].title()}, ha pasado un monton de tiempo!!!\")\n",
    "print(f\"Buenisima amigo {nombres[1].title()}, ha pasado un monton de tiempo!!!\")\n",
    "print(f\"Buenisima amigo {nombres[2].title()}, ha pasado un monton de tiempo!!!\")"
   ]
  },
  {
   "cell_type": "markdown",
   "metadata": {},
   "source": [
    "**3-3. Tu Propia Lista:** Piensa en tu modo de transporte favorito, como una motocicleta o un automóvil, y haz una lista que almacene varios ejemplos. Usa tu lista para imprimir una serie de declaraciones sobre estos elementos, como \"Me gustaría tener una motocicleta Honda\"."
   ]
  },
  {
   "cell_type": "code",
   "execution_count": 13,
   "metadata": {},
   "outputs": [
    {
     "name": "stdout",
     "output_type": "stream",
     "text": [
      "Me encantaria tener un moto Ktm\n"
     ]
    }
   ],
   "source": [
    "motocicleta = ['honda', 'ducati', 'yamaha', 'husqvarna', 'ktm', 'kawasaki']\n",
    "print(f\"Me encantaria tener un moto {motocicleta[4].title()}\")"
   ]
  },
  {
   "cell_type": "markdown",
   "metadata": {},
   "source": [
    "## Modificación, Adición y Eliminación de Elementos\n",
    "\n",
    "La mayoría de las listas que crees serán dinámicas, lo que significa que construirás una lista y luego agregarás y eliminarás elementos a medida que tu programa se ejecute. Por ejemplo, podrías crear un juego en el que un jugador tenga que dispararle a alienígenas que están en el cielo. Podrías almacenar el conjunto inicial de alienígenas en una lista y luego eliminar un alienígena de la lista cada vez que se dispare uno. Cada vez que aparezca un nuevo alienígena en la pantalla, lo añades a la lista. Tu lista de alienígenas aumentará y disminuirá en longitud a lo largo del juego."
   ]
  },
  {
   "cell_type": "markdown",
   "metadata": {},
   "source": [
    "## Modificando Elementos en una Lista\n",
    "\n",
    "La sintaxis para modificar un elemento es similar a la sintaxis para acceder a un elemento en una lista. Para cambiar un elemento, utiliza el nombre de la lista seguido por el índice del elemento que deseas cambiar, y luego proporciona el nuevo valor que deseas que tenga ese elemento.\n",
    "\n",
    "Por ejemplo, digamos que tenemos una lista de motocicletas y el primer elemento en la lista es 'honda'. Podemos cambiar el valor de este primer elemento después de que se haya creado la lista:"
   ]
  },
  {
   "cell_type": "code",
   "execution_count": 15,
   "metadata": {},
   "outputs": [
    {
     "name": "stdout",
     "output_type": "stream",
     "text": [
      "['honda', 'yamaha', 'suzuki']\n"
     ]
    }
   ],
   "source": [
    "# motos.py\n",
    "\n",
    "motos = ['honda', 'yamaha', 'suzuki']\n",
    "print(motos)"
   ]
  },
  {
   "cell_type": "markdown",
   "metadata": {},
   "source": [
    "Aquí definimos la lista motos, con 'honda' como el primer elemento. Luego cambiamos el valor del primer elemento a 'ducati'. La salida muestra que el primer elemento ha sido cambiado, mientras que el resto de la lista se mantiene igual:"
   ]
  },
  {
   "cell_type": "code",
   "execution_count": 16,
   "metadata": {},
   "outputs": [
    {
     "name": "stdout",
     "output_type": "stream",
     "text": [
      "['ducati', 'yamaha', 'suzuki']\n"
     ]
    }
   ],
   "source": [
    "motos[0] = 'ducati'\n",
    "print(motos)"
   ]
  },
  {
   "cell_type": "markdown",
   "metadata": {},
   "source": [
    "Puedes cambiar el valor de cualquier elemento en una lista, no solo del primer elemento."
   ]
  },
  {
   "cell_type": "markdown",
   "metadata": {},
   "source": [
    "## Añadiendo Elementos a una Lista\n",
    "\n",
    "Es posible que desees agregar un nuevo elemento a una lista por muchas razones. Por ejemplo, es posible que desees hacer que aparezcan nuevos alienígenas en un juego, agregar nuevos datos a una visualización o añadir nuevos usuarios registrados a un sitio web que has construido. Python proporciona varias formas de agregar nuevos datos a listas existentes."
   ]
  },
  {
   "cell_type": "markdown",
   "metadata": {},
   "source": [
    "## Añadiendo Elementos al Final de una Lista\n",
    "\n",
    "La forma más sencilla de agregar un nuevo elemento a una lista es agregar el ítem a la lista. Cuando añades un ítem a una lista, el nuevo elemento se agrega al final de la lista. Usando la misma lista que teníamos en el ejemplo anterior, agregaremos el nuevo elemento 'ducati' al final de la lista:"
   ]
  },
  {
   "cell_type": "code",
   "execution_count": 17,
   "metadata": {},
   "outputs": [
    {
     "name": "stdout",
     "output_type": "stream",
     "text": [
      "['honda', 'yamaha', 'suzuki']\n",
      "['honda', 'yamaha', 'suzuki', 'ducati']\n"
     ]
    }
   ],
   "source": [
    "motos = ['honda', 'yamaha', 'suzuki']\n",
    "print(motos)\n",
    "motos.append('ducati')\n",
    "print(motos)"
   ]
  },
  {
   "cell_type": "markdown",
   "metadata": {},
   "source": [
    "Aquí, el método `append()` añade 'ducati' al final de la lista, sin afectar ninguno de los otros elementos en la lista:\n",
    "\n",
    "        ['honda', 'yamaha', 'suzuki']\n",
    "        ['honda', 'yamaha', 'suzuki', 'ducati']"
   ]
  },
  {
   "cell_type": "markdown",
   "metadata": {},
   "source": [
    "El método `append()` facilita la creación dinámica de listas. Por ejemplo, puedes comenzar con una lista vacía y luego agregar elementos a la lista utilizando una serie de llamadas a `append()`. Usando una lista vacía, agreguemos los elementos 'honda', 'yamaha' y 'suzuki' a la lista:"
   ]
  },
  {
   "cell_type": "code",
   "execution_count": 18,
   "metadata": {},
   "outputs": [
    {
     "name": "stdout",
     "output_type": "stream",
     "text": [
      "['honda', 'yamaha', 'suzuki']\n"
     ]
    }
   ],
   "source": [
    "motos = []    # Lista vacia\n",
    "motos.append('honda')\n",
    "motos.append('yamaha')\n",
    "motos.append('suzuki')\n",
    "print(motos)"
   ]
  },
  {
   "cell_type": "markdown",
   "metadata": {},
   "source": [
    "La lista resultante se ve exactamente igual que las listas en los ejemplos anteriores:"
   ]
  },
  {
   "cell_type": "code",
   "execution_count": 19,
   "metadata": {},
   "outputs": [
    {
     "name": "stdout",
     "output_type": "stream",
     "text": [
      "['honda', 'yamaha', 'suzuki']\n"
     ]
    }
   ],
   "source": [
    "print(motos)"
   ]
  },
  {
   "cell_type": "markdown",
   "metadata": {},
   "source": [
    "\n",
    "Construir listas de esta manera es muy común, ya que a menudo no conocerás los datos que tus usuarios quieren almacenar en un programa hasta después de que el programa esté en funcionamiento. Para darle a tus usuarios control sobre esto, comienza definiendo una lista vacía que contendrá los valores de los usuarios. Luego, añade cada nuevo valor proporcionado a la lista que acabas de crear."
   ]
  }
 ],
 "metadata": {
  "kernelspec": {
   "display_name": "env",
   "language": "python",
   "name": "python3"
  },
  "language_info": {
   "codemirror_mode": {
    "name": "ipython",
    "version": 3
   },
   "file_extension": ".py",
   "mimetype": "text/x-python",
   "name": "python",
   "nbconvert_exporter": "python",
   "pygments_lexer": "ipython3",
   "version": "3.12.3"
  }
 },
 "nbformat": 4,
 "nbformat_minor": 2
}
