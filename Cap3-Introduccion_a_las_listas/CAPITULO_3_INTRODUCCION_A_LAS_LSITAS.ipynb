{
 "cells": [
  {
   "cell_type": "markdown",
   "metadata": {},
   "source": [
    "# CAPÍTULO 3: INTRODUCCIÓN A LAS LISTAS\n",
    "* ¿Qué es una lista?\n",
    "* Acceder a elementos en una lista\n",
    "* Las posiciones de índice comienzan en 0, no en 1\n",
    "* Usar valores individuales de una lista\n",
    "* Ejercicio 3-1: Nombres\n",
    "* Ejercicio 3-2: Saludos\n",
    "* Ejercicio 3-3: Tu propia lista\n",
    "* Modificar, agregar y eliminar elementos\n",
    "* Modificar elementos en una lista\n",
    "* Agregar elementos a una lista\n",
    "* Eliminar elementos de una lista\n",
    "* Ejercicio 3-4: Lista de invitados\n",
    "* Ejercicio 3-5: Cambio en la lista de invitados\n",
    "* Ejercicio 3-6: Más invitados\n",
    "* Ejercicio 3-7: Reducción de la lista de invitados\n",
    "* Organizar una lista\n",
    "* Ordenar permanentemente una lista con el método sort()\n",
    "* Ordenar temporalmente una lista con la función sorted()\n",
    "* Imprimir una lista en orden inverso\n",
    "* Encontrar la longitud de una lista\n",
    "* Ejercicio 3-8: Viendo el mundo\n",
    "* Ejercicio 3-9: Invitados a cenar\n",
    "* Ejercicio 3-10: Cada función\n",
    "* Evitar errores de índice al trabajar con listas\n",
    "* Ejercicio 3-11: Error intencional\n",
    "* Resumen"
   ]
  },
  {
   "cell_type": "markdown",
   "metadata": {},
   "source": [
    "## Presentando Listas\n",
    "\n",
    "En este capítulo y el siguiente aprenderás qué son las listas y cómo comenzar a trabajar con los elementos en una lista. Las listas te permiten almacenar conjuntos de información en un solo lugar, ya sea que tengas solo unos pocos elementos o millones de elementos. Las listas son una de las características más poderosas de Python fácilmente accesibles para nuevos programadores, y conectan muchos conceptos importantes en la programación.\n",
    "\n",
    "### Que es un lista\n",
    "\n",
    "Una lista es una colección de elementos en un orden particular. Puedes crear una lista que incluya las letras del alfabeto, los dígitos del 0 al 9 o los nombres de todas las personas en tu familia. Puedes colocar cualquier cosa que desees en una lista y los elementos en tu lista no tienen que estar relacionados de ninguna manera en particular. Dado que una lista generalmente contiene más de un elemento, es una buena idea nombrar tu lista en plural, como letras, dígitos o nombres.\n",
    "\n",
    "En Python, los corchetes cuadrados `[]` indican una lista, y los elementos individuales en la lista están separados por comas. Aquí tienes un ejemplo simple de una lista que contiene algunos tipos de bicicletas:"
   ]
  },
  {
   "cell_type": "code",
   "execution_count": 3,
   "metadata": {},
   "outputs": [],
   "source": [
    "bicicletas = ['trek', 'cannodale', 'redline', 'specialized']"
   ]
  },
  {
   "cell_type": "markdown",
   "metadata": {},
   "source": [
    "Si le pides a Python que imprima una lista, Python devuelve su representación de la lista, incluyendo los corchetes cuadrados:"
   ]
  },
  {
   "cell_type": "code",
   "execution_count": 4,
   "metadata": {},
   "outputs": [
    {
     "name": "stdout",
     "output_type": "stream",
     "text": [
      "['trek', 'cannodale', 'redline', 'specialized']\n"
     ]
    }
   ],
   "source": [
    "print(bicicletas)"
   ]
  },
  {
   "cell_type": "markdown",
   "metadata": {},
   "source": [
    "Como esta no es la salida que quieres que vean tus usuarios, aprendamos cómo acceder a los elementos individuales en una lista."
   ]
  },
  {
   "cell_type": "markdown",
   "metadata": {},
   "source": [
    "## Accediendo a Elementos en una Lista\n",
    "\n",
    "Las listas son colecciones ordenadas, por lo que puedes acceder a cualquier elemento en una lista indicando a Python la posición o índice del elemento deseado. Para acceder a un elemento en una lista, escribe el nombre de la lista seguido del índice del elemento encerrado entre corchetes.\n",
    "Por ejemplo, saquemos la primera bicicleta de la lista de bicicletas:\n"
   ]
  },
  {
   "cell_type": "code",
   "execution_count": 6,
   "metadata": {},
   "outputs": [],
   "source": [
    "bicicletas = ['trek', 'cannondale', 'redline', 'specialized']"
   ]
  },
  {
   "cell_type": "markdown",
   "metadata": {},
   "source": [
    "Cuando solicitamos un único elemento de una lista, Python devuelve solo ese elemento sin corchetes:"
   ]
  },
  {
   "cell_type": "code",
   "execution_count": 7,
   "metadata": {},
   "outputs": [
    {
     "name": "stdout",
     "output_type": "stream",
     "text": [
      "trek\n"
     ]
    }
   ],
   "source": [
    "print(bicicletas[0])"
   ]
  },
  {
   "cell_type": "markdown",
   "metadata": {},
   "source": [
    "Este es el resultado que quieres que vean tus usuarios: una salida limpia y ordenada.\n",
    "\n",
    "También puedes usar los métodos de cadenas de texto del Capítulo 2 en cualquier elemento de esta lista. Por ejemplo, puedes dar formato al elemento 'trek' para que luzca más presentable utilizando el método `title()`:"
   ]
  },
  {
   "cell_type": "code",
   "execution_count": 8,
   "metadata": {},
   "outputs": [
    {
     "name": "stdout",
     "output_type": "stream",
     "text": [
      "Trek\n"
     ]
    }
   ],
   "source": [
    "bicicletas = ['trek', 'cannodale', 'redline', 'specialized']\n",
    "\n",
    "print(bicicletas[0].title())"
   ]
  },
  {
   "cell_type": "markdown",
   "metadata": {},
   "source": [
    "\n",
    "Este ejemplo produce la misma salida que el ejemplo anterior, excepto que 'Trek' está capitalizado."
   ]
  }
 ],
 "metadata": {
  "kernelspec": {
   "display_name": "env",
   "language": "python",
   "name": "python3"
  },
  "language_info": {
   "codemirror_mode": {
    "name": "ipython",
    "version": 3
   },
   "file_extension": ".py",
   "mimetype": "text/x-python",
   "name": "python",
   "nbconvert_exporter": "python",
   "pygments_lexer": "ipython3",
   "version": "3.12.3"
  }
 },
 "nbformat": 4,
 "nbformat_minor": 2
}
