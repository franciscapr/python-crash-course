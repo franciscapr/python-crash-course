{
 "cells": [
  {
   "cell_type": "markdown",
   "metadata": {},
   "source": [
    "# CAPÍTULO 3: INTRODUCCIÓN A LAS LISTAS\n",
    "* ¿Qué es una lista?\n",
    "* Acceder a elementos en una lista\n",
    "* Las posiciones de índice comienzan en 0, no en 1\n",
    "* Usar valores individuales de una lista\n",
    "* Ejercicio 3-1: Nombres\n",
    "* Ejercicio 3-2: Saludos\n",
    "* Ejercicio 3-3: Tu propia lista\n",
    "* Modificar, agregar y eliminar elementos\n",
    "* Modificar elementos en una lista\n",
    "* Agregar elementos a una lista\n",
    "* Eliminar elementos de una lista\n",
    "* Ejercicio 3-4: Lista de invitados\n",
    "* Ejercicio 3-5: Cambio en la lista de invitados\n",
    "* Ejercicio 3-6: Más invitados\n",
    "* Ejercicio 3-7: Reducción de la lista de invitados\n",
    "* Organizar una lista\n",
    "* Ordenar permanentemente una lista con el método sort()\n",
    "* Ordenar temporalmente una lista con la función sorted()\n",
    "* Imprimir una lista en orden inverso\n",
    "* Encontrar la longitud de una lista\n",
    "* Ejercicio 3-8: Viendo el mundo\n",
    "* Ejercicio 3-9: Invitados a cenar\n",
    "* Ejercicio 3-10: Cada función\n",
    "* Evitar errores de índice al trabajar con listas\n",
    "* Ejercicio 3-11: Error intencional\n",
    "* Resumen"
   ]
  },
  {
   "cell_type": "markdown",
   "metadata": {},
   "source": [
    "## Presentando Listas\n",
    "\n",
    "En este capítulo y el siguiente aprenderás qué son las listas y cómo comenzar a trabajar con los elementos en una lista. Las listas te permiten almacenar conjuntos de información en un solo lugar, ya sea que tengas solo unos pocos elementos o millones de elementos. Las listas son una de las características más poderosas de Python fácilmente accesibles para nuevos programadores, y conectan muchos conceptos importantes en la programación.\n",
    "\n",
    "### Que es un lista\n",
    "\n",
    "Una lista es una colección de elementos en un orden particular. Puedes crear una lista que incluya las letras del alfabeto, los dígitos del 0 al 9 o los nombres de todas las personas en tu familia. Puedes colocar cualquier cosa que desees en una lista y los elementos en tu lista no tienen que estar relacionados de ninguna manera en particular. Dado que una lista generalmente contiene más de un elemento, es una buena idea nombrar tu lista en plural, como letras, dígitos o nombres.\n",
    "\n",
    "En Python, los corchetes cuadrados `[]` indican una lista, y los elementos individuales en la lista están separados por comas. Aquí tienes un ejemplo simple de una lista que contiene algunos tipos de bicicletas:"
   ]
  },
  {
   "cell_type": "code",
   "execution_count": 3,
   "metadata": {},
   "outputs": [],
   "source": [
    "bicicletas = ['trek', 'cannodale', 'redline', 'specialized']"
   ]
  },
  {
   "cell_type": "markdown",
   "metadata": {},
   "source": [
    "Si le pides a Python que imprima una lista, Python devuelve su representación de la lista, incluyendo los corchetes cuadrados:"
   ]
  },
  {
   "cell_type": "code",
   "execution_count": 4,
   "metadata": {},
   "outputs": [
    {
     "name": "stdout",
     "output_type": "stream",
     "text": [
      "['trek', 'cannodale', 'redline', 'specialized']\n"
     ]
    }
   ],
   "source": [
    "print(bicicletas)"
   ]
  },
  {
   "cell_type": "markdown",
   "metadata": {},
   "source": [
    "Como esta no es la salida que quieres que vean tus usuarios, aprendamos cómo acceder a los elementos individuales en una lista."
   ]
  },
  {
   "cell_type": "markdown",
   "metadata": {},
   "source": [
    "## Accediendo a Elementos en una Lista\n",
    "\n",
    "Las listas son colecciones ordenadas, por lo que puedes acceder a cualquier elemento en una lista indicando a Python la posición o índice del elemento deseado. Para acceder a un elemento en una lista, escribe el nombre de la lista seguido del índice del elemento encerrado entre corchetes.\n",
    "Por ejemplo, saquemos la primera bicicleta de la lista de bicicletas:\n"
   ]
  },
  {
   "cell_type": "code",
   "execution_count": 6,
   "metadata": {},
   "outputs": [],
   "source": [
    "bicicletas = ['trek', 'cannondale', 'redline', 'specialized']"
   ]
  },
  {
   "cell_type": "markdown",
   "metadata": {},
   "source": [
    "Cuando solicitamos un único elemento de una lista, Python devuelve solo ese elemento sin corchetes:"
   ]
  },
  {
   "cell_type": "code",
   "execution_count": 7,
   "metadata": {},
   "outputs": [
    {
     "name": "stdout",
     "output_type": "stream",
     "text": [
      "trek\n"
     ]
    }
   ],
   "source": [
    "print(bicicletas[0])"
   ]
  },
  {
   "cell_type": "markdown",
   "metadata": {},
   "source": [
    "Este es el resultado que quieres que vean tus usuarios: una salida limpia y ordenada.\n",
    "\n",
    "También puedes usar los métodos de cadenas de texto del Capítulo 2 en cualquier elemento de esta lista. Por ejemplo, puedes dar formato al elemento 'trek' para que luzca más presentable utilizando el método `title()`:"
   ]
  },
  {
   "cell_type": "code",
   "execution_count": 8,
   "metadata": {},
   "outputs": [
    {
     "name": "stdout",
     "output_type": "stream",
     "text": [
      "Trek\n"
     ]
    }
   ],
   "source": [
    "bicicletas = ['trek', 'cannodale', 'redline', 'specialized']\n",
    "\n",
    "print(bicicletas[0].title())"
   ]
  },
  {
   "cell_type": "markdown",
   "metadata": {},
   "source": [
    "\n",
    "Este ejemplo produce la misma salida que el ejemplo anterior, excepto que 'Trek' está capitalizado."
   ]
  },
  {
   "cell_type": "markdown",
   "metadata": {},
   "source": [
    "## Las Posiciones de los Índices Comienzan en 0, no en 1\n",
    "\n",
    "Python considera que el primer elemento en una lista está en la posición 0, no en la posición 1. Esto es cierto en la mayoría de los lenguajes de programación, y la razón tiene que ver con cómo se implementan las operaciones de lista a un nivel más bajo. Si estás obteniendo resultados inesperados, pregúntate si estás cometiendo un error simple pero común por desfase de uno.\n",
    "\n",
    "El segundo elemento en una lista tiene un índice de 1. Usando este sistema de conteo, puedes obtener cualquier elemento que desees de una lista restando uno de su posición en la lista. Por ejemplo, para acceder al cuarto elemento en una lista, solicitas el elemento en el índice 3.\n",
    "\n",
    "Lo siguiente solicita las bicicletas en el índice 1 e índice 3:"
   ]
  },
  {
   "cell_type": "code",
   "execution_count": 1,
   "metadata": {},
   "outputs": [
    {
     "name": "stdout",
     "output_type": "stream",
     "text": [
      "cannodale\n",
      "specialized\n"
     ]
    }
   ],
   "source": [
    "bicicletas = ['trek', 'cannodale', 'redline', 'specialized']\n",
    "print(bicicletas[1])\n",
    "print(bicicletas[3])"
   ]
  },
  {
   "cell_type": "markdown",
   "metadata": {},
   "source": [
    "Este código devuelve la segunda y cuarta bicicletas en la lista:"
   ]
  },
  {
   "cell_type": "code",
   "execution_count": 2,
   "metadata": {},
   "outputs": [
    {
     "name": "stdout",
     "output_type": "stream",
     "text": [
      "cannodale\n",
      "specialized\n"
     ]
    }
   ],
   "source": [
    "print(bicicletas[1])    # Imprimimos la segunda bicicleta\n",
    "print(bicicletas[3])    # Imprimimos la cuarta bicicleta"
   ]
  },
  {
   "cell_type": "markdown",
   "metadata": {},
   "source": [
    "Python tiene una sintaxis especial para acceder al último elemento en una lista. Si solicitas el elemento en el índice -1, Python siempre devuelve el último elemento en la lista:"
   ]
  },
  {
   "cell_type": "code",
   "execution_count": 3,
   "metadata": {},
   "outputs": [
    {
     "name": "stdout",
     "output_type": "stream",
     "text": [
      "specialized\n"
     ]
    }
   ],
   "source": [
    "bicicletas = ['trek', 'cannondale', 'redline', 'specialized']\n",
    "print(bicicletas[-1])"
   ]
  },
  {
   "cell_type": "markdown",
   "metadata": {},
   "source": [
    "Este código devuelve el valor 'specialized'. Esta sintaxis es bastante útil, ya que a menudo querrás acceder a los últimos elementos en una lista sin saber exactamente cuán larga es la lista. Esta convención se extiende también a otros valores de índice negativo. El índice -2 devuelve el segundo elemento desde el final de la lista, el índice -3 devuelve el tercer elemento desde el final, y así sucesivamente."
   ]
  },
  {
   "cell_type": "markdown",
   "metadata": {},
   "source": [
    "## Usando Valores Individuales de una Lista\n",
    "\n",
    "Puedes usar valores individuales de una lista de la misma manera que usarías cualquier otra variable. Por ejemplo, puedes utilizar `f-strings` para crear un mensaje basado en un valor de una lista.\n",
    "\n",
    "Intentemos extraer la primera bicicleta de la lista y componer un mensaje usando ese valor:"
   ]
  },
  {
   "cell_type": "code",
   "execution_count": 4,
   "metadata": {},
   "outputs": [
    {
     "name": "stdout",
     "output_type": "stream",
     "text": [
      "Mi primera bicicleta fue un Trek.\n"
     ]
    }
   ],
   "source": [
    "bicicletas = ['trek', 'cannondale', 'readline', 'specialized']\n",
    "mensaje = f\"Mi primera bicicleta fue un {bicicletas[0].title()}.\"\n",
    "print(mensaje)"
   ]
  },
  {
   "cell_type": "markdown",
   "metadata": {},
   "source": [
    "Construimos una oración usando el valor en `bicicletas[0]` y lo asignamos a la variable `mensaje`. La salida es una oración simple sobre la primera bicicleta en la lista:"
   ]
  },
  {
   "cell_type": "code",
   "execution_count": 5,
   "metadata": {},
   "outputs": [
    {
     "name": "stdout",
     "output_type": "stream",
     "text": [
      "Mi primera bicicleta fue un Trek.\n"
     ]
    }
   ],
   "source": [
    "print(mensaje)"
   ]
  },
  {
   "cell_type": "markdown",
   "metadata": {},
   "source": [
    "## **INTÉNTALO TÚ MISMO**\n",
    "\n",
    "Intenta estos programas cortos para obtener experiencia práctica con las listas de Python. Es posible que desees crear una carpeta nueva para los ejercicios de cada capítulo, para mantenerlos organizados.\n",
    "\n",
    "**3-1. Nombres**: Guarda los nombres de algunos de tus amigos en una lista llamada nombres. Imprime el nombre de cada persona accediendo a cada elemento de la lista, uno por uno."
   ]
  },
  {
   "cell_type": "code",
   "execution_count": 8,
   "metadata": {},
   "outputs": [
    {
     "name": "stdout",
     "output_type": "stream",
     "text": [
      "Dario\n",
      "Maximiliano\n",
      "Marco\n"
     ]
    }
   ],
   "source": [
    "nombres = ['dario', 'maximiliano', 'marco']\n",
    "print(nombres[0].title())\n",
    "print(nombres[1].title())\n",
    "print(nombres[2].title())"
   ]
  },
  {
   "cell_type": "markdown",
   "metadata": {},
   "source": [
    "**3-2. Saludos:** Comienza con la lista que usaste en el Ejercicio 3-1, pero en lugar de solo imprimir el nombre de cada persona, imprime un mensaje para ellos. El texto de cada mensaje debería ser el mismo, pero cada mensaje debería ser personalizado con el nombre de la persona."
   ]
  },
  {
   "cell_type": "code",
   "execution_count": 10,
   "metadata": {},
   "outputs": [
    {
     "name": "stdout",
     "output_type": "stream",
     "text": [
      "Buenisima amigo Dario, ha pasado un monton de tiempo!!!\n",
      "Buenisima amigo Maximiliano, ha pasado un monton de tiempo!!!\n",
      "Buenisima amigo Marco, ha pasado un monton de tiempo!!!\n"
     ]
    }
   ],
   "source": [
    "nombres = ['dario', 'maximiliano', 'marco']\n",
    "print(f\"Buenisima amigo {nombres[0].title()}, ha pasado un monton de tiempo!!!\")\n",
    "print(f\"Buenisima amigo {nombres[1].title()}, ha pasado un monton de tiempo!!!\")\n",
    "print(f\"Buenisima amigo {nombres[2].title()}, ha pasado un monton de tiempo!!!\")"
   ]
  },
  {
   "cell_type": "markdown",
   "metadata": {},
   "source": [
    "**3-3. Tu Propia Lista:** Piensa en tu modo de transporte favorito, como una motocicleta o un automóvil, y haz una lista que almacene varios ejemplos. Usa tu lista para imprimir una serie de declaraciones sobre estos elementos, como \"Me gustaría tener una motocicleta Honda\"."
   ]
  },
  {
   "cell_type": "code",
   "execution_count": 13,
   "metadata": {},
   "outputs": [
    {
     "name": "stdout",
     "output_type": "stream",
     "text": [
      "Me encantaria tener un moto Ktm\n"
     ]
    }
   ],
   "source": [
    "motocicleta = ['honda', 'ducati', 'yamaha', 'husqvarna', 'ktm', 'kawasaki']\n",
    "print(f\"Me encantaria tener un moto {motocicleta[4].title()}\")"
   ]
  },
  {
   "cell_type": "markdown",
   "metadata": {},
   "source": [
    "## Modificación, Adición y Eliminación de Elementos\n",
    "\n",
    "La mayoría de las listas que crees serán dinámicas, lo que significa que construirás una lista y luego agregarás y eliminarás elementos a medida que tu programa se ejecute. Por ejemplo, podrías crear un juego en el que un jugador tenga que dispararle a alienígenas que están en el cielo. Podrías almacenar el conjunto inicial de alienígenas en una lista y luego eliminar un alienígena de la lista cada vez que se dispare uno. Cada vez que aparezca un nuevo alienígena en la pantalla, lo añades a la lista. Tu lista de alienígenas aumentará y disminuirá en longitud a lo largo del juego."
   ]
  },
  {
   "cell_type": "markdown",
   "metadata": {},
   "source": [
    "## Modificando Elementos en una Lista\n",
    "\n",
    "La sintaxis para modificar un elemento es similar a la sintaxis para acceder a un elemento en una lista. Para cambiar un elemento, utiliza el nombre de la lista seguido por el índice del elemento que deseas cambiar, y luego proporciona el nuevo valor que deseas que tenga ese elemento.\n",
    "\n",
    "Por ejemplo, digamos que tenemos una lista de motocicletas y el primer elemento en la lista es 'honda'. Podemos cambiar el valor de este primer elemento después de que se haya creado la lista:"
   ]
  },
  {
   "cell_type": "code",
   "execution_count": 15,
   "metadata": {},
   "outputs": [
    {
     "name": "stdout",
     "output_type": "stream",
     "text": [
      "['honda', 'yamaha', 'suzuki']\n"
     ]
    }
   ],
   "source": [
    "# motos.py\n",
    "\n",
    "motos = ['honda', 'yamaha', 'suzuki']\n",
    "print(motos)"
   ]
  },
  {
   "cell_type": "markdown",
   "metadata": {},
   "source": [
    "Aquí definimos la lista motos, con 'honda' como el primer elemento. Luego cambiamos el valor del primer elemento a 'ducati'. La salida muestra que el primer elemento ha sido cambiado, mientras que el resto de la lista se mantiene igual:"
   ]
  },
  {
   "cell_type": "code",
   "execution_count": 16,
   "metadata": {},
   "outputs": [
    {
     "name": "stdout",
     "output_type": "stream",
     "text": [
      "['ducati', 'yamaha', 'suzuki']\n"
     ]
    }
   ],
   "source": [
    "motos[0] = 'ducati'\n",
    "print(motos)"
   ]
  },
  {
   "cell_type": "markdown",
   "metadata": {},
   "source": [
    "Puedes cambiar el valor de cualquier elemento en una lista, no solo del primer elemento."
   ]
  },
  {
   "cell_type": "markdown",
   "metadata": {},
   "source": [
    "## Añadiendo Elementos a una Lista\n",
    "\n",
    "Es posible que desees agregar un nuevo elemento a una lista por muchas razones. Por ejemplo, es posible que desees hacer que aparezcan nuevos alienígenas en un juego, agregar nuevos datos a una visualización o añadir nuevos usuarios registrados a un sitio web que has construido. Python proporciona varias formas de agregar nuevos datos a listas existentes."
   ]
  },
  {
   "cell_type": "markdown",
   "metadata": {},
   "source": [
    "## Añadiendo Elementos al Final de una Lista\n",
    "\n",
    "La forma más sencilla de agregar un nuevo elemento a una lista es agregar el ítem a la lista. Cuando añades un ítem a una lista, el nuevo elemento se agrega al final de la lista. Usando la misma lista que teníamos en el ejemplo anterior, agregaremos el nuevo elemento 'ducati' al final de la lista:"
   ]
  },
  {
   "cell_type": "code",
   "execution_count": 17,
   "metadata": {},
   "outputs": [
    {
     "name": "stdout",
     "output_type": "stream",
     "text": [
      "['honda', 'yamaha', 'suzuki']\n",
      "['honda', 'yamaha', 'suzuki', 'ducati']\n"
     ]
    }
   ],
   "source": [
    "motos = ['honda', 'yamaha', 'suzuki']\n",
    "print(motos)\n",
    "motos.append('ducati')\n",
    "print(motos)"
   ]
  },
  {
   "cell_type": "markdown",
   "metadata": {},
   "source": [
    "Aquí, el método `append()` añade 'ducati' al final de la lista, sin afectar ninguno de los otros elementos en la lista:\n",
    "\n",
    "        ['honda', 'yamaha', 'suzuki']\n",
    "        ['honda', 'yamaha', 'suzuki', 'ducati']"
   ]
  },
  {
   "cell_type": "markdown",
   "metadata": {},
   "source": [
    "El método `append()` facilita la creación dinámica de listas. Por ejemplo, puedes comenzar con una lista vacía y luego agregar elementos a la lista utilizando una serie de llamadas a `append()`. Usando una lista vacía, agreguemos los elementos 'honda', 'yamaha' y 'suzuki' a la lista:"
   ]
  },
  {
   "cell_type": "code",
   "execution_count": 18,
   "metadata": {},
   "outputs": [
    {
     "name": "stdout",
     "output_type": "stream",
     "text": [
      "['honda', 'yamaha', 'suzuki']\n"
     ]
    }
   ],
   "source": [
    "motos = []    # Lista vacia\n",
    "motos.append('honda')\n",
    "motos.append('yamaha')\n",
    "motos.append('suzuki')\n",
    "print(motos)"
   ]
  },
  {
   "cell_type": "markdown",
   "metadata": {},
   "source": [
    "La lista resultante se ve exactamente igual que las listas en los ejemplos anteriores:"
   ]
  },
  {
   "cell_type": "code",
   "execution_count": 19,
   "metadata": {},
   "outputs": [
    {
     "name": "stdout",
     "output_type": "stream",
     "text": [
      "['honda', 'yamaha', 'suzuki']\n"
     ]
    }
   ],
   "source": [
    "print(motos)"
   ]
  },
  {
   "cell_type": "markdown",
   "metadata": {},
   "source": [
    "\n",
    "Construir listas de esta manera es muy común, ya que a menudo no conocerás los datos que tus usuarios quieren almacenar en un programa hasta después de que el programa esté en funcionamiento. Para darle a tus usuarios control sobre esto, comienza definiendo una lista vacía que contendrá los valores de los usuarios. Luego, añade cada nuevo valor proporcionado a la lista que acabas de crear."
   ]
  },
  {
   "cell_type": "markdown",
   "metadata": {},
   "source": [
    "## Insertando Elementos en una Lista\n",
    "\n",
    "Puedes añadir un nuevo elemento en cualquier posición de tu lista utilizando el método `insert()`. Lo haces especificando el índice del nuevo elemento y el valor del nuevo ítem:"
   ]
  },
  {
   "cell_type": "code",
   "execution_count": 20,
   "metadata": {},
   "outputs": [
    {
     "name": "stdout",
     "output_type": "stream",
     "text": [
      "['ducati', 'honda', 'yamaha', 'suzuki']\n"
     ]
    }
   ],
   "source": [
    "motos = ['honda', 'yamaha', 'suzuki']\n",
    "motos.insert(0, 'ducati')    # Espacificamos el indica en donde queremos insertar el valor\n",
    "print(motos)"
   ]
  },
  {
   "cell_type": "markdown",
   "metadata": {},
   "source": [
    "En este ejemplo, insertamos el valor 'ducati' al principio de la lista. El método `insert()` abre un espacio en la posición 0 y almacena el valor 'ducati' en esa ubicación:"
   ]
  },
  {
   "cell_type": "code",
   "execution_count": 21,
   "metadata": {},
   "outputs": [
    {
     "name": "stdout",
     "output_type": "stream",
     "text": [
      "['ducati', 'honda', 'yamaha', 'suzuki']\n"
     ]
    }
   ],
   "source": [
    "print(motos)"
   ]
  },
  {
   "cell_type": "markdown",
   "metadata": {},
   "source": [
    "\n",
    "Esta operación desplaza cada otro valor en la lista una posición a la derecha."
   ]
  },
  {
   "cell_type": "markdown",
   "metadata": {},
   "source": [
    "## Eliminando Elementos de una Lista\n",
    "\n",
    "A menudo, querrás eliminar un elemento o un conjunto de elementos de una lista. Por ejemplo, cuando un jugador derriba a un alienígena del cielo, probablemente querrás eliminarlo de la lista de alienígenas activos. O cuando un usuario decide cancelar su cuenta en una aplicación web que has creado, querrás eliminar a ese usuario de la lista de usuarios activos. Puedes eliminar un elemento según su posición en la lista o según su valor."
   ]
  },
  {
   "cell_type": "markdown",
   "metadata": {},
   "source": [
    "## Eliminando un Elemento Usando la Instrucción `del`\n",
    "\n",
    "Si conoces la posición del elemento que deseas eliminar de una lista, puedes usar la instrucción del:"
   ]
  },
  {
   "cell_type": "code",
   "execution_count": 22,
   "metadata": {},
   "outputs": [
    {
     "name": "stdout",
     "output_type": "stream",
     "text": [
      "['honda', 'yamaha', 'suzuki']\n",
      "['yamaha', 'suzuki']\n"
     ]
    }
   ],
   "source": [
    "motos = ['honda', 'yamaha', 'suzuki']\n",
    "print(motos)\n",
    "del motos[0]\n",
    "print(motos)"
   ]
  },
  {
   "cell_type": "markdown",
   "metadata": {},
   "source": [
    "Aquí usamos la instrucción del para eliminar el primer elemento, 'honda', de la lista de motocicletas:\n",
    "\n",
    "    ['honda', 'yamaha', 'suzuki']\n",
    "    ['yamaha', 'suzuki']"
   ]
  },
  {
   "cell_type": "markdown",
   "metadata": {},
   "source": [
    "Puedes eliminar un elemento de cualquier posición en una lista usando la instrucción del si conoces su índice. Por ejemplo, así es cómo eliminar el segundo elemento, 'yamaha', de la lista:"
   ]
  },
  {
   "cell_type": "code",
   "execution_count": 23,
   "metadata": {},
   "outputs": [
    {
     "name": "stdout",
     "output_type": "stream",
     "text": [
      "['honda', 'yamaha', 'suzuki']\n",
      "['honda', 'suzuki']\n"
     ]
    }
   ],
   "source": [
    "motos = ['honda', 'yamaha', 'suzuki']\n",
    "print(motos)\n",
    "del motos[1]\n",
    "print(motos)"
   ]
  },
  {
   "cell_type": "markdown",
   "metadata": {},
   "source": [
    "La segunda motocicleta es eliminada de la lista:\n",
    "\n",
    "    ['honda', 'yamaha', 'suzuki']\n",
    "    ['honda', 'suzuki']\n",
    "\n",
    "En ambos ejemplos, ya no puedes acceder al valor que fue eliminado de la lista después de que se usa la instrucción `del`."
   ]
  },
  {
   "cell_type": "markdown",
   "metadata": {},
   "source": [
    "## Eliminando un elemento utilizando el método `pop()`\n",
    "\n",
    "A veces querrás utilizar el valor de un elemento después de haberlo eliminado de una lista. Por ejemplo, es posible que desees obtener la posición x e y de un alienígena que acaba de ser derribado, para dibujar una explosión en esa posición. En una aplicación web, es posible que desees eliminar a un usuario de una lista de miembros activos y luego agregar a ese usuario a una lista de miembros inactivos.\n",
    "El método `pop()` elimina el último elemento de una lista, pero te permite trabajar con ese elemento después de haberlo eliminado. El término \"pop\" proviene de pensar en una lista como una pila de elementos y sacar un elemento de la parte superior de la pila. En esta analogía, la parte superior de una pila corresponde al final de una lista.\n",
    "Vamos a sacar una motocicleta de la lista de motocicletas:"
   ]
  },
  {
   "cell_type": "code",
   "execution_count": 26,
   "metadata": {},
   "outputs": [
    {
     "name": "stdout",
     "output_type": "stream",
     "text": [
      "['honda', 'yamaha', 'suzuki']\n",
      "['honda', 'yamaha']\n",
      "suzuki\n"
     ]
    }
   ],
   "source": [
    "motocicletas = ['honda', 'yamaha', 'suzuki']\n",
    "print(motocicletas)\n",
    "popped_motocicleta = motocicletas.pop()\n",
    "print(motocicletas)\n",
    "print(popped_motocicleta)"
   ]
  },
  {
   "cell_type": "markdown",
   "metadata": {},
   "source": [
    "Comenzamos definiendo e imprimiendo la lista de motocicletas. Luego sacamos un valor de la lista y asignamos ese valor a la variable popped_motocicleta. Imprimimos la lista para mostrar que se ha eliminado un valor de la lista. Luego imprimimos el valor sacado para demostrar que todavía tenemos acceso al valor que se eliminó.\n",
    "La salida muestra que se eliminó el valor 'suzuki' del final de la lista y ahora se asigna a la variable popped_motocicleta:\n",
    "\n",
    "    ['honda', 'yamaha', 'suzuki']\n",
    "    ['honda', 'yamaha']\n",
    "    suzuki\n",
    "    \n",
    "¿Cómo podría ser útil este método pop()? Imagina que las motocicletas en la lista están almacenadas en orden cronológico, de acuerdo con cuándo las poseíamos. Si este es el caso, podemos utilizar el método pop() para imprimir una declaración sobre la última motocicleta que compramos:"
   ]
  },
  {
   "cell_type": "code",
   "execution_count": 27,
   "metadata": {},
   "outputs": [
    {
     "name": "stdout",
     "output_type": "stream",
     "text": [
      "La ùltima motocicleta que poseì fue una Kawasaki.\n"
     ]
    }
   ],
   "source": [
    "motocicletas = ['honda', 'yamaha', 'suzuki']\n",
    "ultima_poseida = motocicleta.pop()\n",
    "print(f\"La ùltima motocicleta que poseì fue una {ultima_poseida.title()}.\")"
   ]
  },
  {
   "cell_type": "markdown",
   "metadata": {},
   "source": [
    "La salida es una simple oración sobre la motocicleta más reciente que poseímos:\n",
    "La última motocicleta que poseí fue una Suzuki."
   ]
  },
  {
   "cell_type": "markdown",
   "metadata": {},
   "source": [
    "## Eliminar elementos desde cualquier posición en una lista.\n",
    "\n",
    "Puedes utilizar `pop()` para eliminar un elemento de cualquier posición en una lista, simplemente incluyendo el índice del elemento que deseas eliminar entre paréntesis:"
   ]
  },
  {
   "cell_type": "code",
   "execution_count": 28,
   "metadata": {},
   "outputs": [
    {
     "name": "stdout",
     "output_type": "stream",
     "text": [
      "La primera motocicleta que tuve fue una Honda\n"
     ]
    }
   ],
   "source": [
    "motorcycles = ['honda', 'yamaha', 'suzuki']\n",
    "first_owned = motorcycles.pop(0)\n",
    "print(f\"La primera motocicleta que tuve fue una {first_owned.title()}\")"
   ]
  },
  {
   "cell_type": "markdown",
   "metadata": {},
   "source": [
    "Comenzamos eliminando la primera motocicleta de la lista, y luego imprimimos un mensaje sobre esa motocicleta. La salida es una simple oración que describe la primera motocicleta que tuve:\n",
    "\n",
    "    \"La primera motocicleta que tuve fue una Honda.\"\n",
    "\n",
    "Recuerda que cada vez que utilizas `pop()`, el elemento con el que trabajas ya no se encuentra en la lista.\n",
    "\n",
    "Si no estás seguro de si usar la declaración `del` o el método `pop()`, aquí hay una forma sencilla de decidir: cuando quieras eliminar un elemento de una lista y no utilizar ese elemento de ninguna manera, usa la declaración `del`; si deseas usar un elemento mientras lo eliminas, usa el método `pop()`."
   ]
  },
  {
   "cell_type": "markdown",
   "metadata": {},
   "source": [
    "## Eliminar un elemento por su valor.\n",
    "\n",
    "A veces, no conocerás la posición del valor que deseas eliminar de una lista. Si solo conoces el valor del elemento que deseas eliminar, puedes utilizar el método `remove()`.\n",
    "\n",
    "Por ejemplo, supongamos que queremos eliminar el valor 'ducati' de la lista de motocicletas:\""
   ]
  },
  {
   "cell_type": "code",
   "execution_count": 29,
   "metadata": {},
   "outputs": [
    {
     "name": "stdout",
     "output_type": "stream",
     "text": [
      "['honda', 'yamaha', 'suzuki', 'ducati']\n"
     ]
    }
   ],
   "source": [
    "motorcycles = ['honda', 'yamaha', 'suzuki', 'ducati']\n",
    "print(motorcycles)"
   ]
  },
  {
   "cell_type": "code",
   "execution_count": 30,
   "metadata": {},
   "outputs": [],
   "source": [
    "motorcycles.remove('ducati')"
   ]
  },
  {
   "cell_type": "markdown",
   "metadata": {},
   "source": [
    "Aquí, el método `remove()` indica a Python que encuentre dónde aparece 'ducati' en la lista y elimine ese elemento:"
   ]
  },
  {
   "cell_type": "code",
   "execution_count": 31,
   "metadata": {},
   "outputs": [
    {
     "name": "stdout",
     "output_type": "stream",
     "text": [
      "['honda', 'yamaha', 'suzuki']\n"
     ]
    }
   ],
   "source": [
    "print(motorcycles)"
   ]
  },
  {
   "cell_type": "markdown",
   "metadata": {},
   "source": [
    "También puedes utilizar el método `remove()` para trabajar con un valor que está siendo eliminado de una lista. Eliminemos el valor 'ducati' e imprimamos una razón por la cual lo eliminamos de la lista:"
   ]
  },
  {
   "cell_type": "code",
   "execution_count": 32,
   "metadata": {},
   "outputs": [
    {
     "name": "stdout",
     "output_type": "stream",
     "text": [
      "['honda', 'yamaha', 'suzuki', 'ducati']\n"
     ]
    }
   ],
   "source": [
    "motorcycles = ['honda', 'yamaha', 'suzuki', 'ducati']\n",
    "print(motorcycles)"
   ]
  },
  {
   "cell_type": "code",
   "execution_count": 33,
   "metadata": {},
   "outputs": [],
   "source": [
    "too_expensive = 'ducati'"
   ]
  },
  {
   "cell_type": "code",
   "execution_count": 34,
   "metadata": {},
   "outputs": [
    {
     "name": "stdout",
     "output_type": "stream",
     "text": [
      "['honda', 'yamaha', 'suzuki']\n"
     ]
    }
   ],
   "source": [
    "motorcycles.remove(too_expensive)\n",
    "print(motorcycles)"
   ]
  },
  {
   "cell_type": "code",
   "execution_count": 35,
   "metadata": {},
   "outputs": [
    {
     "name": "stdout",
     "output_type": "stream",
     "text": [
      "\n",
      "A Ducati is too expensive for me.\n"
     ]
    }
   ],
   "source": [
    "print(f\"\\nA {too_expensive.title()} is too expensive for me.\")"
   ]
  },
  {
   "cell_type": "markdown",
   "metadata": {},
   "source": [
    "\"Después de definir la lista, asignamos el valor 'ducati' a una variable llamada `too_expensive`. Luego, usamos esta variable para indicarle a Python qué valor eliminar de la lista. El valor 'ducati' ha sido eliminado de la lista, pero sigue siendo accesible a través de la variable `too_expensive`, lo que nos permite imprimir una declaración sobre por qué eliminamos 'ducati' de la lista de motocicleta:\""
   ]
  },
  {
   "cell_type": "markdown",
   "metadata": {},
   "source": [
    "**NOTA**\n",
    "\n",
    "El método `remove()` elimina únicamente la primera ocurrencia del valor que especificas. Si existe la posibilidad de que el valor aparezca más de una vez en la lista, necesitarás usar un bucle para asegurarte de que se eliminen todas las ocurrencias del valor. Aprenderás cómo hacer esto en el Capítulo 7."
   ]
  },
  {
   "cell_type": "markdown",
   "metadata": {},
   "source": [
    "## **Hazlo Tu Mismo**\n",
    "Los siguientes ejercicios son un poco más complejos que los del Capítulo 2, pero te brindan la oportunidad de usar listas de todas las formas descritas."
   ]
  },
  {
   "cell_type": "markdown",
   "metadata": {},
   "source": [
    "**3-4. Lista de invitados**\n",
    "Si pudieras invitar a cualquier persona, viva o fallecida, a cenar, ¿a quién invitarías? Haz una lista que incluya al menos tres personas a las que te gustaría invitar a cenar. Luego, usa tu lista para imprimir un mensaje a cada persona, invitándola a cenar."
   ]
  },
  {
   "cell_type": "code",
   "execution_count": 36,
   "metadata": {},
   "outputs": [
    {
     "name": "stdout",
     "output_type": "stream",
     "text": [
      "Anais, te invito a cener en mi quincho.\n",
      "Deysi, te invito a cener en mi quincho.\n",
      "Gabriel, te invito a cener en mi quincho.\n",
      "Dario, te invito a cener en mi quincho.\n"
     ]
    }
   ],
   "source": [
    "invitados = ['anais', 'deysi', 'gabriel', 'dario']\n",
    "print(f\"{invitados[0].title()}, te invito a cener en mi quincho.\")\n",
    "print(f\"{invitados[1].title()}, te invito a cener en mi quincho.\")\n",
    "print(f\"{invitados[2].title()}, te invito a cener en mi quincho.\")\n",
    "print(f\"{invitados[3].title()}, te invito a cener en mi quincho.\")"
   ]
  },
  {
   "cell_type": "markdown",
   "metadata": {},
   "source": [
    "**3-5. Cambio en la lista de invitados:** Acabas de enterarte de que uno de tus invitados no puede venir a la cena, así que necesitas enviar un nuevo conjunto de invitaciones. Tendrás que pensar en otra persona a la que invitar.\n",
    "Comienza con tu programa del Ejercicio 3-4. Agrega una llamada a print() al final de tu programa, indicando el nombre del invitado que no puede asistir.\n",
    "Modifica tu lista, reemplazando el nombre del invitado que no puede asistir con el nombre de la nueva persona a la que estás invitando.\n",
    "Imprime un segundo conjunto de mensajes de invitación, uno para cada persona que aún está en tu lista."
   ]
  },
  {
   "cell_type": "code",
   "execution_count": 39,
   "metadata": {},
   "outputs": [
    {
     "name": "stdout",
     "output_type": "stream",
     "text": [
      "Anais, te invito a cener en mi quincho.\n",
      "Deysi, te invito a cener en mi quincho.\n",
      "Gabriel, te invito a cener en mi quincho.\n",
      "Dario, Se que no puedes venir, nos vemos en la proxima\n"
     ]
    }
   ],
   "source": [
    "invitados = ['anais', 'deysi', 'gabriel', 'dario']\n",
    "print(f\"{invitados[0].title()}, te invito a cener en mi quincho.\")\n",
    "print(f\"{invitados[1].title()}, te invito a cener en mi quincho.\")\n",
    "print(f\"{invitados[2].title()}, te invito a cener en mi quincho.\")\n",
    "print(f\"{invitados.pop().title()}, Se que no puedes venir, nos vemos en la proxima\")"
   ]
  },
  {
   "cell_type": "markdown",
   "metadata": {},
   "source": [
    "**3-6. Más invitados:** Acabas de encontrar una mesa de cena más grande, por lo que ahora hay más espacio disponible. Piensa en tres invitados más para invitar a cenar.\n",
    "Comienza con tu programa del Ejercicio 3-4 o 3-5. Agrega una llamada a print() al final de tu programa, informando a las personas que encontraste una mesa más grande.\n",
    "Usa insert() para agregar un nuevo invitado al principio de tu lista.\n",
    "Usa insert() para agregar un nuevo invitado en la mitad de tu lista.\n",
    "Usa append() para agregar un nuevo invitado al final de tu lista.\n",
    "Imprime un nuevo conjunto de mensajes de invitación, uno para cada persona en tu lista."
   ]
  },
  {
   "cell_type": "code",
   "execution_count": 49,
   "metadata": {},
   "outputs": [
    {
     "name": "stdout",
     "output_type": "stream",
     "text": [
      "Anais, te invito a cener en mi quincho.\n",
      "Deysi, te invito a cener en mi quincho.\n",
      "Gabriel, te invito a cener en mi quincho.\n",
      "Dario, Se que no puedes venir, nos vemos en la proxima\n",
      "Chicos ['anais', 'deysi', 'gabriel'], me han informado que nos coordinaron una mesa màs grande\n",
      "y amplia asique envitare a otros amigos mas\n",
      "['marisol', 'anais', 'marco', 'deysi', 'gabriel', 'maximiliano']\n"
     ]
    }
   ],
   "source": [
    "invitados = ['anais', 'deysi', 'gabriel', 'dario']\n",
    "print(f\"{invitados[0].title()}, te invito a cener en mi quincho.\")\n",
    "print(f\"{invitados[1].title()}, te invito a cener en mi quincho.\")\n",
    "print(f\"{invitados[2].title()}, te invito a cener en mi quincho.\")\n",
    "print(f\"{invitados.pop().title()}, Se que no puedes venir, nos vemos en la proxima\")\n",
    "print(f\"Chicos {invitados}, me han informado que nos coordinaron una mesa màs grande\\ny amplia asique envitare a otros amigos mas\")\n",
    "\n",
    "invitados.append('maximiliano')\n",
    "invitados.insert(0, 'marisol')\n",
    "invitados.insert(2, 'marco')\n",
    "\n",
    "print(invitados)"
   ]
  },
  {
   "cell_type": "markdown",
   "metadata": {},
   "source": [
    "**3-7. Reducción de la lista de invitados:** Acabas de enterarte de que tu nueva mesa de cena no llegará a tiempo para la cena, y ahora solo tienes espacio para dos invitados.\n",
    "Comienza con tu programa del Ejercicio 3-6. Agrega una nueva línea que imprima un mensaje diciendo que solo puedes invitar a dos personas para cenar.\n",
    "Usa pop() para eliminar invitados de tu lista uno por uno hasta que solo queden dos nombres en tu lista. Cada vez que hagas pop a un nombre de tu lista, imprime un mensaje a esa persona disculpándote por no poder invitarla a cenar.\n",
    "Imprime un mensaje a cada una de las dos personas que todavía están en tu lista, informándoles que aún están invitadas.\n",
    "Usa del para eliminar los dos últimos nombres de tu lista, para que tengas una lista vacía. Imprime tu lista para asegurarte de que realmente tienes una lista vacía al final de tu programa."
   ]
  },
  {
   "cell_type": "code",
   "execution_count": 53,
   "metadata": {},
   "outputs": [
    {
     "name": "stdout",
     "output_type": "stream",
     "text": [
      "Anais, te invito a cener en mi quincho.\n",
      "Deysi, te invito a cener en mi quincho.\n",
      "Gabriel, te invito a cener en mi quincho.\n",
      "Dario, Se que no puedes venir, nos vemos en la proxima\n",
      "Chicos ['anais', 'deysi', 'gabriel'], me han informado que nos coordinaron una mesa màs grande\n",
      "y amplia asique envitare a otros amigos mas\n",
      "['marisol', 'anais', 'marco', 'deysi', 'gabriel', 'maximiliano']\n",
      "Chicos, me informaron que al final solo podre invitar a dos personas, dejo a las primeras dos que me confirmaron\n",
      "Disculpa no podras asistir al evento Maximiliano, nos vemos en la proxima reunion\n",
      "Disculpa no podras asistir al evento Gabriel, nos vemos en la proxima reunion\n",
      "Disculpa no podras asistir al evento Deysi, nos vemos en la proxima reunion\n",
      "Disculpa no podras asistir al evento Marco, nos vemos en la proxima reunion\n",
      "El final solo quedamos ['marisol', 'anais'] en nuestra reunion\n"
     ]
    }
   ],
   "source": [
    "invitados = ['anais', 'deysi', 'gabriel', 'dario']\n",
    "print(f\"{invitados[0].title()}, te invito a cener en mi quincho.\")\n",
    "print(f\"{invitados[1].title()}, te invito a cener en mi quincho.\")\n",
    "print(f\"{invitados[2].title()}, te invito a cener en mi quincho.\")\n",
    "print(f\"{invitados.pop().title()}, Se que no puedes venir, nos vemos en la proxima\")\n",
    "print(f\"Chicos {invitados}, me han informado que nos coordinaron una mesa màs grande\\ny amplia asique envitare a otros amigos mas\")\n",
    "\n",
    "invitados.append('maximiliano')\n",
    "invitados.insert(0, 'marisol')\n",
    "invitados.insert(2, 'marco')\n",
    "\n",
    "print(invitados)\n",
    "\n",
    "print(f\"Chicos, me informaron que al final solo podre invitar a dos personas, dejo a las primeras dos que me confirmaron\")\n",
    "print(f\"Disculpa no podras asistir al evento {invitados.pop().title()}, nos vemos en la proxima reunion\")\n",
    "print(f\"Disculpa no podras asistir al evento {invitados.pop().title()}, nos vemos en la proxima reunion\")\n",
    "print(f\"Disculpa no podras asistir al evento {invitados.pop().title()}, nos vemos en la proxima reunion\")\n",
    "print(f\"Disculpa no podras asistir al evento {invitados.pop().title()}, nos vemos en la proxima reunion\")\n",
    "\n",
    "print(f\"El final solo quedamos {invitados} en nuestra reunion\")"
   ]
  },
  {
   "cell_type": "markdown",
   "metadata": {},
   "source": []
  }
 ],
 "metadata": {
  "kernelspec": {
   "display_name": "env",
   "language": "python",
   "name": "python3"
  },
  "language_info": {
   "codemirror_mode": {
    "name": "ipython",
    "version": 3
   },
   "file_extension": ".py",
   "mimetype": "text/x-python",
   "name": "python",
   "nbconvert_exporter": "python",
   "pygments_lexer": "ipython3",
   "version": "3.12.3"
  }
 },
 "nbformat": 4,
 "nbformat_minor": 2
}
