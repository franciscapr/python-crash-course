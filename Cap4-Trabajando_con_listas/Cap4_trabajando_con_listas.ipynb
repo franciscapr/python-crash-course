{
 "cells": [
  {
   "cell_type": "markdown",
   "metadata": {
    "vscode": {
     "languageId": "plaintext"
    }
   },
   "source": [
    "# **CAPÍTULO 4: TRABAJANDO CON LISTAS**\n",
    "* Recorrer toda una lista\n",
    "* Una mirada más cercana al bucle (loop)\n",
    "* Realizar más trabajo dentro de un bucle for\n",
    "* Hacer algo después de un bucle for\n",
    "* Evitar errores de sangría\n",
    "* Olvidar la sangría\n",
    "* Olvidar la sangría en líneas adicionales\n",
    "* Sangrar innecesariamente\n",
    "* Sangrar innecesariamente después del bucle\n",
    "* Olvidar los dos puntos\n",
    "* Ejercicio 4-1: Pizzas\n",
    "* Ejercicio 4-2: Animales\n",
    "* Crear listas numéricas\n",
    "* Usar la función range()\n",
    "* Usar range() para hacer una lista de números\n",
    "* Estadísticas simples con una lista de números\n",
    "* Comprensiones de lista\n",
    "* Ejercicio 4-3: Contando hasta veinte\n",
    "* Ejercicio 4-4: Un millón\n",
    "* Ejercicio 4-5: Sumando un millón\n",
    "* Ejercicio 4-6: Números impares\n",
    "* Ejercicio 4-7: Números tres\n",
    "* Ejercicio 4-8: Cubos\n",
    "* Ejercicio 4-9: Comprensión de cubos\n",
    "* Trabajar con parte de una lista\n",
    "* Rebanar (slicing) una lista\n",
    "* Recorrer una rebanada\n",
    "* Copiar una lista\n",
    "* Ejercicio 4-10: Rebanadas\n",
    "* Ejercicio 4-11: Mis pizzas, tus pizzas\n",
    "* Ejercicio 4-12: Más bucles\n",
    "* Tuplas\n",
    "* Definir una tupla\n",
    "* Recorrer todos los valores en una tupla\n",
    "* Sobrescribir una tupla\n",
    "* Ejercicio 4-13: Buffet\n",
    "* Estilo de tu código\n",
    "* La guía de estilo\n",
    "* Sangría\n",
    "* Longitud de línea\n",
    "* Líneas en blanco\n",
    "* Otras pautas de estilo\n",
    "* Ejercicio 4-14: PEP 8\n",
    "* Ejercicio 4-15: Revisión de código\n",
    "* Resumen"
   ]
  },
  {
   "cell_type": "markdown",
   "metadata": {},
   "source": [
    "## TRABAJANDO CON LISTAS\n",
    "\n",
    "En el Capítulo 3 aprendiste cómo crear una lista simple y cómo trabajar con los elementos individuales de una lista. En este capítulo aprenderás a recorrer toda una lista usando solo unas pocas líneas de código, sin importar cuántos elementos tenga la lista. Recorrer te permite realizar la misma acción o conjunto de acciones con cada elemento de una lista. Como resultado, podrás trabajar de manera eficiente con listas de cualquier longitud, incluyendo aquellas con miles o incluso millones de elementos."
   ]
  },
  {
   "cell_type": "markdown",
   "metadata": {},
   "source": [
    "## Recorrer toda una lista con un bucle\n",
    "\n",
    "A menudo, desearás recorrer todas las entradas en una lista, realizando la misma tarea con cada elemento. Por ejemplo, en un juego podrías querer mover cada elemento en la pantalla la misma cantidad. En una lista de números, podrías querer realizar la misma operación estadística en cada elemento. O tal vez desees mostrar cada titular de una lista de artículos en un sitio web. Cuando deseas realizar la misma acción con cada elemento en una lista, puedes usar el bucle `for` de Python.\n",
    "\n",
    "Imagina que tenemos una lista de nombres de magos y queremos imprimir cada nombre en la lista. Podríamos hacer esto recuperando cada nombre de la lista individualmente, pero este enfoque podría causar varios problemas. Por un lado, sería repetitivo hacer esto con una larga lista de nombres. Además, tendríamos que cambiar nuestro código cada vez que cambie la longitud de la lista. El uso de un bucle `for` evita ambos problemas al permitir que Python maneje estas cuestiones internamente.\n",
    "\n",
    "Usaremos un bucle `for` para imprimir cada nombre en una lista de magos:"
   ]
  },
  {
   "cell_type": "code",
   "execution_count": 1,
   "metadata": {},
   "outputs": [
    {
     "name": "stdout",
     "output_type": "stream",
     "text": [
      "alice\n",
      "david\n",
      "carolina\n"
     ]
    }
   ],
   "source": [
    "magicians = ['alice', 'david', 'carolina']\n",
    "for magician in magicians:\n",
    "    print(magician)"
   ]
  },
  {
   "cell_type": "markdown",
   "metadata": {},
   "source": [
    "Comenzamos definiendo una lista, tal como lo hicimos en el Capítulo 3. Luego, definimos un bucle `for`. Esta línea le indica a Python que tome un nombre de la lista `magicians` y lo asocie con la variable `magician`. Luego, le decimos a Python que imprima el nombre que acaba de ser asignado a `magician`. Python luego repite estas dos últimas líneas, una vez por cada nombre en la lista. Puede ser útil leer este código como \"Por cada mago en la lista de magos, imprime el nombre del mago\".\n",
    "\n",
    "La salida es una simple impresión de cada nombre en la lista:\n",
    "\n",
    "```\n",
    "alice\n",
    "david\n",
    "carolina\n",
    "```\n"
   ]
  }
 ],
 "metadata": {
  "kernelspec": {
   "display_name": "env",
   "language": "python",
   "name": "python3"
  },
  "language_info": {
   "codemirror_mode": {
    "name": "ipython",
    "version": 3
   },
   "file_extension": ".py",
   "mimetype": "text/x-python",
   "name": "python",
   "nbconvert_exporter": "python",
   "pygments_lexer": "ipython3",
   "version": "3.12.3"
  }
 },
 "nbformat": 4,
 "nbformat_minor": 2
}
