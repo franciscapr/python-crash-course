{
 "cells": [
  {
   "cell_type": "markdown",
   "metadata": {
    "vscode": {
     "languageId": "plaintext"
    }
   },
   "source": [
    "# **CAPÍTULO 4: TRABAJANDO CON LISTAS**\n",
    "* Recorrer toda una lista\n",
    "* Una mirada más cercana al bucle (loop)\n",
    "* Realizar más trabajo dentro de un bucle for\n",
    "* Hacer algo después de un bucle for\n",
    "* Evitar errores de sangría\n",
    "* Olvidar la sangría\n",
    "* Olvidar la sangría en líneas adicionales\n",
    "* Sangrar innecesariamente\n",
    "* Sangrar innecesariamente después del bucle\n",
    "* Olvidar los dos puntos\n",
    "* Ejercicio 4-1: Pizzas\n",
    "* Ejercicio 4-2: Animales\n",
    "* Crear listas numéricas\n",
    "* Usar la función range()\n",
    "* Usar range() para hacer una lista de números\n",
    "* Estadísticas simples con una lista de números\n",
    "* Comprensiones de lista\n",
    "* Ejercicio 4-3: Contando hasta veinte\n",
    "* Ejercicio 4-4: Un millón\n",
    "* Ejercicio 4-5: Sumando un millón\n",
    "* Ejercicio 4-6: Números impares\n",
    "* Ejercicio 4-7: Números tres\n",
    "* Ejercicio 4-8: Cubos\n",
    "* Ejercicio 4-9: Comprensión de cubos\n",
    "* Trabajar con parte de una lista\n",
    "* Rebanar (slicing) una lista\n",
    "* Recorrer una rebanada\n",
    "* Copiar una lista\n",
    "* Ejercicio 4-10: Rebanadas\n",
    "* Ejercicio 4-11: Mis pizzas, tus pizzas\n",
    "* Ejercicio 4-12: Más bucles\n",
    "* Tuplas\n",
    "* Definir una tupla\n",
    "* Recorrer todos los valores en una tupla\n",
    "* Sobrescribir una tupla\n",
    "* Ejercicio 4-13: Buffet\n",
    "* Estilo de tu código\n",
    "* La guía de estilo\n",
    "* Sangría\n",
    "* Longitud de línea\n",
    "* Líneas en blanco\n",
    "* Otras pautas de estilo\n",
    "* Ejercicio 4-14: PEP 8\n",
    "* Ejercicio 4-15: Revisión de código\n",
    "* Resumen"
   ]
  },
  {
   "cell_type": "markdown",
   "metadata": {},
   "source": [
    "## TRABAJANDO CON LISTAS\n",
    "\n",
    "En el Capítulo 3 aprendiste cómo crear una lista simple y cómo trabajar con los elementos individuales de una lista. En este capítulo aprenderás a recorrer toda una lista usando solo unas pocas líneas de código, sin importar cuántos elementos tenga la lista. Recorrer te permite realizar la misma acción o conjunto de acciones con cada elemento de una lista. Como resultado, podrás trabajar de manera eficiente con listas de cualquier longitud, incluyendo aquellas con miles o incluso millones de elementos."
   ]
  },
  {
   "cell_type": "markdown",
   "metadata": {},
   "source": [
    "## Recorrer toda una lista con un bucle\n",
    "\n",
    "A menudo, desearás recorrer todas las entradas en una lista, realizando la misma tarea con cada elemento. Por ejemplo, en un juego podrías querer mover cada elemento en la pantalla la misma cantidad. En una lista de números, podrías querer realizar la misma operación estadística en cada elemento. O tal vez desees mostrar cada titular de una lista de artículos en un sitio web. Cuando deseas realizar la misma acción con cada elemento en una lista, puedes usar el bucle `for` de Python.\n",
    "\n",
    "Imagina que tenemos una lista de nombres de magos y queremos imprimir cada nombre en la lista. Podríamos hacer esto recuperando cada nombre de la lista individualmente, pero este enfoque podría causar varios problemas. Por un lado, sería repetitivo hacer esto con una larga lista de nombres. Además, tendríamos que cambiar nuestro código cada vez que cambie la longitud de la lista. El uso de un bucle `for` evita ambos problemas al permitir que Python maneje estas cuestiones internamente.\n",
    "\n",
    "Usaremos un bucle `for` para imprimir cada nombre en una lista de magos:"
   ]
  },
  {
   "cell_type": "code",
   "execution_count": 54,
   "metadata": {},
   "outputs": [
    {
     "name": "stdout",
     "output_type": "stream",
     "text": [
      "alice\n",
      "david\n",
      "carolina\n"
     ]
    }
   ],
   "source": [
    "magicians = ['alice', 'david', 'carolina']\n",
    "for magician in magicians:\n",
    "    print(magician)"
   ]
  },
  {
   "cell_type": "markdown",
   "metadata": {},
   "source": [
    "Comenzamos definiendo una lista, tal como lo hicimos en el Capítulo 3. Luego, definimos un bucle `for`. Esta línea le indica a Python que tome un nombre de la lista `magicians` y lo asocie con la variable `magician`. Luego, le decimos a Python que imprima el nombre que acaba de ser asignado a `magician`. Python luego repite estas dos últimas líneas, una vez por cada nombre en la lista. Puede ser útil leer este código como \"Por cada mago en la lista de magos, imprime el nombre del mago\".\n",
    "\n",
    "La salida es una simple impresión de cada nombre en la lista:\n",
    "\n",
    "```python\n",
    "alice\n",
    "david\n",
    "carolina\n",
    "```\n"
   ]
  },
  {
   "cell_type": "markdown",
   "metadata": {},
   "source": [
    "## Un Vistazo Más Detallado al Uso de los Bucles\n",
    "\n",
    "Los bucles son importantes porque son una de las formas más comunes en que una computadora automatiza tareas repetitivas. Por ejemplo, en un bucle simple como el que usamos en `magicians.py`, Python lee inicialmente la primera línea del bucle:\n",
    "\n",
    "```python\n",
    "for magician in magicians:\n",
    "```\n",
    "\n",
    "Esta línea le indica a Python que obtenga el primer valor de la lista `magicians` y lo asocie con la variable `magician`. Este primer valor es 'alice'. Luego, Python lee la siguiente línea:\n",
    "\n",
    "```python\n",
    "print(magician)\n",
    "```\n",
    "\n",
    "Python imprime el valor actual de `magician`, que sigue siendo 'alice'. Como la lista contiene más valores, Python vuelve a la primera línea del bucle:\n",
    "\n",
    "```python\n",
    "for magician in magicians:\n",
    "```\n",
    "\n",
    "Python obtiene el siguiente nombre en la lista, 'david', y asocia ese valor con la variable `magician`. Luego ejecuta la línea:\n",
    "\n",
    "```python\n",
    "print(magician)\n",
    "```\n",
    "\n",
    "Python imprime nuevamente el valor actual de `magician`, que ahora es 'david'. Python repite todo el bucle una vez más con el último valor de la lista, 'carolina'. Como no hay más valores en la lista, Python continúa con la siguiente línea en el programa. En este caso, no hay nada después del bucle `for`, por lo que el programa termina.\n",
    "\n",
    "Cuando estás utilizando bucles por primera vez, ten en cuenta que el conjunto de pasos se repite una vez por cada elemento en la lista, sin importar cuántos elementos haya en ella. Si tienes un millón de elementos en tu lista, Python repetirá estos pasos un millón de veces, y generalmente de manera muy rápida.\n",
    "\n",
    "También recuerda que al escribir tus propios bucles `for`, puedes elegir cualquier nombre para la variable temporal que estará asociada con cada valor en la lista. Sin embargo, es útil elegir un nombre significativo que represente un solo elemento de la lista. Por ejemplo, aquí tienes una buena manera de comenzar un bucle `for` para una lista de gatos, una lista de perros y una lista general de elementos:\n",
    "\n",
    "```python\n",
    "for cat in cats:\n",
    "for dog in dogs:\n",
    "for item in list_of_items:\n",
    "```\n",
    "\n",
    "Estas convenciones de nomenclatura pueden ayudarte a seguir la acción que se realiza en cada elemento dentro de un bucle `for`. El uso de nombres en singular y plural puede ayudarte a identificar si una sección de código está trabajando con un solo elemento de la lista o con toda la lista."
   ]
  },
  {
   "cell_type": "markdown",
   "metadata": {},
   "source": [
    "## Realizando Más Trabajo Dentro de un Bucle for\n",
    "\n",
    "Puedes hacer prácticamente cualquier cosa con cada elemento dentro de un bucle for. Vamos a ampliar el ejemplo anterior imprimiendo un mensaje a cada mago, diciéndoles que realizaron un truco genial:"
   ]
  },
  {
   "cell_type": "code",
   "execution_count": 55,
   "metadata": {},
   "outputs": [
    {
     "name": "stdout",
     "output_type": "stream",
     "text": [
      "¡Alice, eso fue un truco genial!\n",
      "¡David, eso fue un truco genial!\n",
      "¡Carolina, eso fue un truco genial!\n"
     ]
    }
   ],
   "source": [
    "magicians = ['alice', 'david', 'carolina']\n",
    "for magician in magicians:\n",
    "    print(f\"¡{magician.title()}, eso fue un truco genial!\")"
   ]
  },
  {
   "cell_type": "markdown",
   "metadata": {},
   "source": [
    "La única diferencia en este código es donde componemos un mensaje para cada mago, comenzando con el nombre de ese mago. La primera vez que se ejecuta el bucle, el valor de `magician` es 'alice', por lo que Python inicia el primer mensaje con el nombre 'Alice'. La segunda vez, el mensaje comenzará con 'David', y la tercera vez, comenzará con 'Carolina'.\n",
    "\n",
    "La salida muestra un mensaje personalizado para cada mago en la lista:\n",
    "\n",
    "```python\n",
    "¡Alice, eso fue un truco genial!\n",
    "¡David, eso fue un truco genial!\n",
    "¡Carolina, eso fue un truco genial!\n",
    "```\n",
    "\n",
    "También puedes escribir tantas líneas de código como desees dentro del bucle for. Cada línea con sangría que sigue a la línea `for magician in magicians:` se considera dentro del bucle, y cada línea con sangría se ejecuta una vez por cada valor en la lista. Por lo tanto, puedes realizar todo el trabajo que desees con cada valor en la lista.\n",
    "\n",
    "Agreguemos una segunda línea a nuestro mensaje, diciendo a cada mago que estamos ansiosos por ver su próximo truco:"
   ]
  },
  {
   "cell_type": "code",
   "execution_count": 56,
   "metadata": {},
   "outputs": [
    {
     "name": "stdout",
     "output_type": "stream",
     "text": [
      "¡Alice, eso fue un truco genial!\n",
      "¡Estoy deseando ver tu pròximo truco, Alice!\n",
      "\n",
      "¡David, eso fue un truco genial!\n",
      "¡Estoy deseando ver tu pròximo truco, David!\n",
      "\n",
      "¡Carolina, eso fue un truco genial!\n",
      "¡Estoy deseando ver tu pròximo truco, Carolina!\n",
      "\n"
     ]
    }
   ],
   "source": [
    "magicians = ['alice', 'david', 'carolina']\n",
    "for magician in magicians:\n",
    "    print(f\"¡{magician.title()}, eso fue un truco genial!\")\n",
    "    print(f\"¡Estoy deseando ver tu pròximo truco, {magician.title()}!\\n\")"
   ]
  },
  {
   "cell_type": "markdown",
   "metadata": {},
   "source": [
    "Dado que hemos sangrado ambas llamadas a `print()`, cada línea se ejecutará una vez por cada mago en la lista. El carácter de nueva línea (\"\\n\") en la segunda llamada a `print()` inserta una línea en blanco después de cada pasada por el bucle.\n",
    "\n",
    "Esto crea un conjunto de mensajes que están ordenadamente agrupados para cada persona en la lista:\n",
    "\n",
    "```python\n",
    "¡Alice, eso fue un truco genial!\n",
    "¡Estoy deseando ver tu próximo truco, Alice!\n",
    "\n",
    "¡David, eso fue un truco genial!\n",
    "¡Estoy deseando ver tu próximo truco, David!\n",
    "\n",
    "¡Carolina, eso fue un truco genial!\n",
    "¡Estoy deseando ver tu próximo truco, Carolina!\n",
    "```\n",
    "\n",
    "Puedes utilizar tantas líneas como desees en tus bucles for. En la práctica, a menudo encontrarás útil realizar varias operaciones diferentes con cada elemento en una lista cuando utilices un bucle for."
   ]
  },
  {
   "cell_type": "markdown",
   "metadata": {},
   "source": [
    "## Haciendo Algo Después de un Bucle for\n",
    "\n",
    "¿Qué sucede una vez que un bucle for ha terminado de ejecutarse? Por lo general, querrás resumir un bloque de salida o pasar a otras tareas que tu programa debe realizar.\n",
    "\n",
    "Cualquier línea de código después del bucle for que no esté sangrada se ejecuta una sola vez sin repetición. Escribamos un agradecimiento al grupo de magos en conjunto, agradeciéndoles por ofrecer un excelente espectáculo. Para mostrar este mensaje de agradecimiento después de que se hayan impreso todos los mensajes individuales, colocamos el mensaje de agradecimiento después del bucle for, sin sangrado:"
   ]
  },
  {
   "cell_type": "code",
   "execution_count": 57,
   "metadata": {},
   "outputs": [
    {
     "name": "stdout",
     "output_type": "stream",
     "text": [
      "¡Alice, eso fue un truco genial!\n",
      "¡Estoy deseando ver tu pròximo truco, Alice!\n",
      "\n",
      "¡David, eso fue un truco genial!\n",
      "¡Estoy deseando ver tu pròximo truco, David!\n",
      "\n",
      "¡Carolina, eso fue un truco genial!\n",
      "¡Estoy deseando ver tu pròximo truco, Carolina!\n",
      "\n",
      "¡Gracias a todos! ¡Fue una gran espectàculo de magia!\n"
     ]
    }
   ],
   "source": [
    "magicians = ['alice', 'david', 'carolina']\n",
    "for magician in magicians:\n",
    "    print(f\"¡{magician.title()}, eso fue un truco genial!\")\n",
    "    print(f\"¡Estoy deseando ver tu pròximo truco, {magician.title()}!\\n\")\n",
    "print(\"¡Gracias a todos! ¡Fue una gran espectàculo de magia!\")"
   ]
  },
  {
   "cell_type": "markdown",
   "metadata": {},
   "source": [
    "Las dos primeras llamadas a `print()` se repiten una vez por cada mago en la lista, como viste anteriormente. Sin embargo, como la última línea no está sangrada, se imprime solo una vez:\n",
    "\n",
    "```python\n",
    "¡Alice, eso fue un truco genial!\n",
    "¡Estoy deseando ver tu próximo truco, Alice!\n",
    "\n",
    "¡David, eso fue un truco genial!\n",
    "¡Estoy deseando ver tu próximo truco, David!\n",
    "\n",
    "¡Carolina, eso fue un truco genial!\n",
    "¡Estoy deseando ver tu próximo truco, Carolina!\n",
    "\n",
    "¡Gracias a todos! ¡Fue un gran espectáculo de magia!\n",
    "```\n",
    "\n",
    "Cuando estás procesando datos usando un bucle for, encontrarás que esta es una buena forma de resumir una operación que se realizó en un conjunto de datos completo. Por ejemplo, podrías usar un bucle for para inicializar un juego recorriendo una lista de personajes y mostrando cada personaje en la pantalla. Luego, podrías escribir algo de código adicional después de este bucle que muestre un botón de \"Jugar ahora\" después de que todos los personajes se hayan dibujado en la pantalla."
   ]
  },
  {
   "cell_type": "markdown",
   "metadata": {},
   "source": [
    "## Evitar errores de sangría\n",
    "\n",
    "Python utiliza la indentación para determinar cómo una línea o un grupo de líneas está relacionado con el resto del programa. En los ejemplos anteriores, las líneas que imprimían mensajes a los magos individuales eran parte del bucle \"for\" porque estaban indentadas. El uso de la indentación en Python hace que el código sea muy fácil de leer.\n",
    "\n",
    "Básicamente, utiliza espacios en blanco para obligarte a escribir un código con formato limpio y con una estructura visual clara. En programas de Python más largos, notarás bloques de código indentados a diferentes niveles. Estos niveles de indentación te ayudan a tener una idea general de la organización del programa.\n",
    "\n",
    "Al comenzar a escribir código que depende de una indentación adecuada, deberás estar atento a algunos errores comunes de indentación. Por ejemplo, a veces las personas indentan líneas de código que no necesitan estar indentadas o se olvidan de indentar líneas que deberían estarlo. Ver ejemplos de estos errores ahora te ayudará a evitarlos en el futuro y a corregirlos cuando aparezcan en tus propios programas.\n",
    "\n",
    "Vamos a examinar algunos de los errores de indentación más comunes."
   ]
  },
  {
   "cell_type": "markdown",
   "metadata": {},
   "source": [
    "## Olvidar la Indentación\n",
    "\n",
    "Siempre debes indentar la línea después de la instrucción \"for\" en un bucle. Si lo olvidas, Python te lo recordará:"
   ]
  },
  {
   "cell_type": "code",
   "execution_count": 58,
   "metadata": {},
   "outputs": [
    {
     "ename": "IndentationError",
     "evalue": "expected an indented block after 'for' statement on line 2 (886402987.py, line 3)",
     "output_type": "error",
     "traceback": [
      "\u001b[0;36m  Cell \u001b[0;32mIn[58], line 3\u001b[0;36m\u001b[0m\n\u001b[0;31m    print(magician)\u001b[0m\n\u001b[0m    ^\u001b[0m\n\u001b[0;31mIndentationError\u001b[0m\u001b[0;31m:\u001b[0m expected an indented block after 'for' statement on line 2\n"
     ]
    }
   ],
   "source": [
    "magician = ['alice', 'david', 'carolina']\n",
    "for magician in magicians:\n",
    "print(magician)"
   ]
  },
  {
   "cell_type": "markdown",
   "metadata": {},
   "source": [
    "La llamada a `print()` debería estar indentada, pero no lo está. Cuando Python espera un bloque indentado y no lo encuentra, te indica con qué línea tuvo un problema:\n",
    "\n",
    "```python\n",
    " File \"magicians.py\", line 3\n",
    " print(magician)\n",
    " ^\n",
    "IndentationError: expected an indented block after 'for' statement on line 2\n",
    "```\n",
    "\n",
    "Por lo general, puedes resolver este tipo de error de indentación indentando la línea o líneas inmediatamente después de la instrucción \"for\"."
   ]
  },
  {
   "cell_type": "code",
   "execution_count": 8,
   "metadata": {},
   "outputs": [
    {
     "name": "stdout",
     "output_type": "stream",
     "text": [
      "alice\n",
      "david\n",
      "carolina\n"
     ]
    }
   ],
   "source": [
    "magicians = ['alice', 'david', 'carolina']\n",
    "for magician in magicians:\n",
    "    print(magician)    # Correcta identaciòn"
   ]
  },
  {
   "cell_type": "markdown",
   "metadata": {},
   "source": [
    "## Olvidar Indentar Líneas Adicionales\n",
    "\n",
    "A veces, tu bucle se ejecutará sin errores pero no producirá el resultado esperado. Esto puede suceder cuando estás intentando realizar varias tareas en un bucle y olvidas indentar algunas de sus líneas.\n",
    "Por ejemplo, esto es lo que sucede cuando olvidamos indentar la segunda línea en el bucle que le dice a cada mago que estamos ansiosos por su próximo truco:"
   ]
  },
  {
   "cell_type": "code",
   "execution_count": 10,
   "metadata": {},
   "outputs": [
    {
     "name": "stdout",
     "output_type": "stream",
     "text": [
      "Alice, that was a great trick!\n",
      "David, that was a great trick!\n",
      "Carolina, that was a great trick!\n",
      "I can`t wat to see your next trick, Carolina.\n",
      "\n"
     ]
    }
   ],
   "source": [
    "magiciasn = ['alice', 'david', 'carolina']\n",
    "for magician in magicians:\n",
    "    print(f\"{magician.title()}, that was a great trick!\")\n",
    "print(f\"I can`t wat to see your next trick, {magician.title()}.\\n\")"
   ]
  },
  {
   "cell_type": "markdown",
   "metadata": {},
   "source": [
    "La segunda llamada a print() se supone que debe estar indentada, pero como Python encuentra al menos una línea indentada después de la instrucción \"for\", no informa un error. Como resultado, la primera llamada a print() se ejecuta una vez por cada nombre en la lista porque está indentada. La segunda llamada a print() no está indentada, por lo que se ejecuta solo una vez después de que el bucle haya terminado de ejecutarse. Debido a que el último valor asociado con magician es 'carolina', ella es la única que recibe el mensaje \"esperando el próximo truco\":\n",
    "\n",
    "```python\n",
    "Alice, that was a great trick!\n",
    "David, that was a great trick!\n",
    "Carolina, that was a great trick!\n",
    "I can't wait to see your next trick, Carolina.\n",
    "```\n",
    "\n",
    "Este es un error lógico. La sintaxis es un código Python válido, pero el código no produce el resultado deseado porque hay un problema en su lógica. Si esperas ver una cierta acción repetida una vez por cada elemento en una lista y se ejecuta solo una vez, determina si simplemente necesitas indentar una línea o un grupo de líneas."
   ]
  },
  {
   "cell_type": "markdown",
   "metadata": {},
   "source": [
    "## Indentar Innecesariamente\n",
    "\n",
    "Si accidentalmente indentas una línea que no necesita estar indentada, Python te informa sobre la indentación inesperada:"
   ]
  },
  {
   "cell_type": "code",
   "execution_count": 11,
   "metadata": {},
   "outputs": [
    {
     "ename": "IndentationError",
     "evalue": "unexpected indent (4233384051.py, line 2)",
     "output_type": "error",
     "traceback": [
      "\u001b[0;36m  Cell \u001b[0;32mIn[11], line 2\u001b[0;36m\u001b[0m\n\u001b[0;31m    print(message)\u001b[0m\n\u001b[0m    ^\u001b[0m\n\u001b[0;31mIndentationError\u001b[0m\u001b[0;31m:\u001b[0m unexpected indent\n"
     ]
    }
   ],
   "source": [
    "message = \"¡Hola mundo Python!\"\n",
    " print(message)"
   ]
  },
  {
   "cell_type": "markdown",
   "metadata": {},
   "source": [
    "No necesitamos indentar la llamada a print() ya que no forma parte de un bucle; por lo tanto, Python informa sobre ese error:\n",
    "\n",
    "```python\n",
    "File \"hello_world.py\", line 2\n",
    "    print(message)\n",
    "    ^\n",
    "IndentationError: indentación inesperada\n",
    "```\n",
    "Puedes evitar errores de indentación inesperada indentando solo cuando tengas una razón específica para hacerlo. En los programas que estás escribiendo en este momento, las únicas líneas que debes indentar son las acciones que deseas repetir para cada elemento en un bucle for."
   ]
  },
  {
   "cell_type": "markdown",
   "metadata": {},
   "source": [
    "## Indentar Innecesariamente Después del Bucle\n",
    "\n",
    "Si por accidente indentas código que debería ejecutarse después de que un bucle haya finalizado, ese código se repetirá una vez por cada elemento en la lista. A veces, esto lleva a que Python informe un error, pero en muchas ocasiones resultará en un error lógico.\n",
    "Por ejemplo, veamos qué sucede si indentamos accidentalmente la línea que agradece a los magos como grupo por haber presentado un buen espectáculo:\n"
   ]
  },
  {
   "cell_type": "code",
   "execution_count": 13,
   "metadata": {},
   "outputs": [
    {
     "name": "stdout",
     "output_type": "stream",
     "text": [
      "Alice, ¡ese fue un gran truco!\n",
      "No puedo esperar para ver tu pròximo truco, Alice.\n",
      "\n",
      "¡Gracias a todos, fue un gras espectaculo de magia!\n",
      "David, ¡ese fue un gran truco!\n",
      "No puedo esperar para ver tu pròximo truco, David.\n",
      "\n",
      "¡Gracias a todos, fue un gras espectaculo de magia!\n",
      "Carolina, ¡ese fue un gran truco!\n",
      "No puedo esperar para ver tu pròximo truco, Carolina.\n",
      "\n",
      "¡Gracias a todos, fue un gras espectaculo de magia!\n"
     ]
    }
   ],
   "source": [
    "magicians = ['alice', 'david', 'carolina']\n",
    "for magician in magicians:\n",
    "    print(f\"{magician.title()}, ¡ese fue un gran truco!\")\n",
    "    print(f\"No puedo esperar para ver tu pròximo truco, {magician.title()}.\\n\")\n",
    "    print(f\"¡Gracias a todos, fue un gras espectaculo de magia!\")"
   ]
  },
  {
   "cell_type": "markdown",
   "metadata": {},
   "source": [
    "Como la última línea está indentada, se imprimirá una vez por cada persona en la lista:\n",
    "\n",
    "```python\n",
    "Alice, ¡ese fue un gran truco!\n",
    "No puedo esperar para ver tu próximo truco, Alice.\n",
    "¡Gracias a todos, fue un gran espectáculo de magia!\n",
    "David, ¡ese fue un gran truco!\n",
    "No puedo esperar para ver tu próximo truco, David.\n",
    "¡Gracias a todos, fue un gran espectáculo de magia!\n",
    "Carolina, ¡ese fue un gran truco!\n",
    "No puedo esperar para ver tu próximo truco, Carolina.\n",
    "¡Gracias a todos, fue un gran espectáculo de magia!\n",
    "```\n",
    "Este es otro error lógico, similar al que se presenta en \"Olvidar Indentar Líneas Adicionales\" en la página 54. Debido a que Python no sabe lo que estás intentando lograr con tu código, ejecutará todo el código que esté escrito en una sintaxis válida. Si una acción se repite muchas veces cuando debería ejecutarse solo una vez, probablemente necesites desindentar el código para esa acción."
   ]
  },
  {
   "cell_type": "markdown",
   "metadata": {},
   "source": [
    "## Olvidar los Dos Puntos\n",
    "\n",
    "Los dos puntos al final de una declaración for le indican a Python que interprete la siguiente línea como el inicio de un bucle."
   ]
  },
  {
   "cell_type": "code",
   "execution_count": 15,
   "metadata": {},
   "outputs": [
    {
     "ename": "SyntaxError",
     "evalue": "expected ':' (518316207.py, line 2)",
     "output_type": "error",
     "traceback": [
      "\u001b[0;36m  Cell \u001b[0;32mIn[15], line 2\u001b[0;36m\u001b[0m\n\u001b[0;31m    for magician in magicians\u001b[0m\n\u001b[0m                             ^\u001b[0m\n\u001b[0;31mSyntaxError\u001b[0m\u001b[0;31m:\u001b[0m expected ':'\n"
     ]
    }
   ],
   "source": [
    "magicians = ['alice', 'david', 'carolina']\n",
    "for magician in magicians\n",
    "    print(magician)"
   ]
  },
  {
   "cell_type": "markdown",
   "metadata": {},
   "source": [
    "Si olvidas accidentalmente los dos puntos, obtendrás un error de sintaxis porque Python no sabe exactamente qué estás intentando hacer:\n",
    "\n",
    "```python\n",
    "File \"magicians.py\", line 2\n",
    "for magician in magicians\n",
    "                          ^\n",
    "SyntaxError: expected ':'\n",
    "```\n",
    "Python no sabe si simplemente olvidaste los dos puntos, o si querías escribir código adicional para configurar un bucle más complejo. Si el intérprete puede identificar una posible solución, sugerirá una, como agregar dos puntos al final de una línea, como hace aquí con la respuesta esperada ':'.\n",
    "Algunos errores tienen soluciones fáciles y obvias, gracias a las sugerencias en los rastreos de Python. Algunos errores son mucho más difíciles de resolver, incluso cuando la solución final solo implica cambiar un solo carácter. No te sientas mal si una pequeña corrección tarda mucho tiempo en encontrarla; definitivamente no estás solo en esta experiencia."
   ]
  },
  {
   "cell_type": "markdown",
   "metadata": {},
   "source": [
    "## **INTÉNTALO TÚ MISMO**\n",
    "\n",
    "**Ejercicio 4-1: Pizzas**\n",
    "\n",
    "Piensa en al menos tres tipos de tus pizzas favoritas. Guarda estos nombres de pizzas en una lista, y luego utiliza un bucle `for` para imprimir el nombre de cada pizza.\n",
    "Modifica tu bucle `for` para imprimir una oración utilizando el nombre de la pizza, en lugar de imprimir solo el nombre de la pizza. Para cada pizza, deberías tener una línea de salida que contenga una declaración simple como \"Me gusta la pizza de pepperoni\".\n",
    "Agrega una línea al final de tu programa, fuera del bucle `for`, que indique cuánto te gusta la pizza. La salida debe consistir en tres o más líneas sobre los tipos de pizza que te gustan y luego una oración adicional, como \"¡Realmente amo la pizza!\"."
   ]
  },
  {
   "cell_type": "code",
   "execution_count": 16,
   "metadata": {},
   "outputs": [
    {
     "name": "stdout",
     "output_type": "stream",
     "text": [
      "La pizza newyorquina, es la màs ricas de todas!\n",
      "La pizza napolitana, es la màs ricas de todas!\n",
      "La pizza hawaiana, es la màs ricas de todas!\n",
      "Me gusta mucho la pizza hawaiana, es muy buena\n"
     ]
    }
   ],
   "source": [
    "pizzas = ['newyorquina', 'napolitana', 'hawaiana']\n",
    "\n",
    "for pizza in pizzas:\n",
    "    print(f\"La pizza {pizza}, es la màs ricas de todas!\")\n",
    "print(f\"Me gusta mucho la pizza {pizza}, es muy buena\")"
   ]
  },
  {
   "cell_type": "markdown",
   "metadata": {},
   "source": [
    "**Ejercicio 4-2: Animales**\n",
    "\n",
    "Piensa en al menos tres animales diferentes que tengan una característica común. Guarda los nombres de estos animales en una lista, y luego utiliza un bucle `for` para imprimir el nombre de cada animal.\n",
    "Modifica tu programa para imprimir una declaración sobre cada animal, como \"Un perro sería una gran mascota\".\n",
    "Agrega una línea al final de tu programa, indicando qué tienen en común estos animales. Podrías imprimir una oración, como \"Cualquiera de estos animales sería una gran mascota\"."
   ]
  },
  {
   "cell_type": "code",
   "execution_count": 26,
   "metadata": {},
   "outputs": [
    {
     "name": "stdout",
     "output_type": "stream",
     "text": [
      "El caballo, seria una muy buena mascota\n",
      "El perro, seria una muy buena mascota\n",
      "El nutria, seria una muy buena mascota\n",
      "El caballo, el perro y la nutria tiene 4 patas\n"
     ]
    }
   ],
   "source": [
    "animales = ['caballo', 'perro', 'nutria']\n",
    "\n",
    "for animal in animales:\n",
    "    print(f\"El {animal}, seria una muy buena mascota\")\n",
    "print(f\"El {animales[0]}, el {animales[1]} y la {animales[2]} tiene 4 patas\")"
   ]
  },
  {
   "cell_type": "markdown",
   "metadata": {},
   "source": [
    "## Hacer listas numéricas\n",
    "\n",
    "Existen muchas razones para almacenar un conjunto de números. Por ejemplo, necesitarás hacer un seguimiento de las posiciones de cada carácter en un juego, y es posible que también desees llevar un registro de las puntuaciones más altas de un jugador. En visualizaciones de datos, casi siempre trabajarás con conjuntos de números, como temperaturas, distancias, tamaños de población o valores de latitud y longitud, entre otros tipos de conjuntos numéricos.\n",
    "Las listas son ideales para almacenar conjuntos de números, y Python proporciona una variedad de herramientas para ayudarte a trabajar de manera eficiente con listas de números. Una vez que entiendas cómo utilizar estas herramientas de manera efectiva, tu código funcionará bien incluso cuando tus listas contengan millones de elementos."
   ]
  },
  {
   "cell_type": "markdown",
   "metadata": {},
   "source": [
    "## Usando la función `range()`\n",
    "\n",
    "La función range() de Python facilita la generación de una serie de números. Por ejemplo, puedes usar la función range() para imprimir una serie de números de esta manera: primeros_numeros.py"
   ]
  },
  {
   "cell_type": "code",
   "execution_count": 27,
   "metadata": {},
   "outputs": [
    {
     "name": "stdout",
     "output_type": "stream",
     "text": [
      "1\n",
      "2\n",
      "3\n",
      "4\n"
     ]
    }
   ],
   "source": [
    "for valor in range(1, 5):\n",
    "    print(valor)"
   ]
  },
  {
   "cell_type": "markdown",
   "metadata": {},
   "source": [
    "Aunque este código parece que debería imprimir los números del 1 al 5, no imprime el número 5:\n",
    "\n",
    "```python\n",
    "1\n",
    "2\n",
    "3\n",
    "4\n",
    "```\n",
    "\n",
    "En este ejemplo, `range()` imprime solo los números del 1 al 4. Este es otro resultado del comportamiento de desfase por uno que a menudo se ve en los lenguajes de programación. La función `range()` hace que Python comience a contar desde el primer valor que le proporcionas y se detiene cuando alcanza el segundo valor que proporcionas. Debido a que se detiene en ese segundo valor, la salida nunca contiene el valor final, que habría sido 5 en este caso.\n",
    "\n",
    "Para imprimir los números del 1 al 5, usarías range(1, 6):"
   ]
  },
  {
   "cell_type": "code",
   "execution_count": 28,
   "metadata": {},
   "outputs": [
    {
     "name": "stdout",
     "output_type": "stream",
     "text": [
      "1\n",
      "2\n",
      "3\n",
      "4\n",
      "5\n"
     ]
    }
   ],
   "source": [
    "for valor in range(1, 6):\n",
    "    print(valor)"
   ]
  },
  {
   "cell_type": "markdown",
   "metadata": {},
   "source": [
    "Esta vez, la salida comienza en 1 y termina en 5:\n",
    "\n",
    "```python\n",
    "1\n",
    "2\n",
    "3\n",
    "4\n",
    "5\n",
    "```\n",
    "\n",
    "Si tu salida es diferente de lo que esperas cuando estás usando range(), intenta ajustar tu valor final en 1.\n",
    "\n",
    "También puedes pasarle a range() solo un argumento, y comenzará la secuencia de números en 0. Por ejemplo, range(6) devolvería los números del 0 al 5."
   ]
  },
  {
   "cell_type": "markdown",
   "metadata": {},
   "source": [
    "## Usando range() para crear una lista de números\n",
    "\n",
    "Si deseas crear una lista de números, puedes convertir los resultados de `range()` directamente en una lista utilizando la función `list()`. Cuando envuelves list() alrededor de una llamada a la función range(), la salida será una lista de números.\n",
    "\n",
    "En el ejemplo de la sección anterior, simplemente imprimimos una serie de números. Podemos usar list() para convertir ese mismo conjunto de números en una lista:"
   ]
  },
  {
   "cell_type": "code",
   "execution_count": 29,
   "metadata": {},
   "outputs": [
    {
     "name": "stdout",
     "output_type": "stream",
     "text": [
      "[1, 2, 3, 4, 5]\n"
     ]
    }
   ],
   "source": [
    "numeros = list(range(1, 6))\n",
    "print(numeros)"
   ]
  },
  {
   "cell_type": "markdown",
   "metadata": {},
   "source": [
    "Este es el resultado:\n",
    "\n",
    "```python\n",
    "[1, 2, 3, 4, 5]\n",
    "```\n",
    "\n",
    "También podemos usar la función range() para indicar a Python que salte números en un rango dado. Si le pasas un tercer argumento a range(), Python utilizará ese valor como un paso al generar números.\n",
    "\n",
    "Por ejemplo, así es como puedes listar los números pares entre 1 y 10:"
   ]
  },
  {
   "cell_type": "code",
   "execution_count": 30,
   "metadata": {},
   "outputs": [
    {
     "name": "stdout",
     "output_type": "stream",
     "text": [
      "[2, 4, 6, 8, 10]\n"
     ]
    }
   ],
   "source": [
    "numeros_pares = list(range(2,11, 2))\n",
    "print(numeros_pares)"
   ]
  },
  {
   "cell_type": "code",
   "execution_count": 31,
   "metadata": {},
   "outputs": [
    {
     "name": "stdout",
     "output_type": "stream",
     "text": [
      "[1, 2, 3, 4, 5, 6, 7, 8, 9, 10]\n"
     ]
    }
   ],
   "source": [
    "# ejemplo\n",
    "\n",
    "number = list(range(1, 11))\n",
    "print(number)"
   ]
  },
  {
   "cell_type": "markdown",
   "metadata": {},
   "source": [
    "En este ejemplo, la función range() comienza con el valor 2 y luego suma 2 a ese valor. Agrega 2 repetidamente hasta que alcance o supere el valor final, 11, y produce este resultado:\n",
    "\n",
    "```python\n",
    "[2, 4, 6, 8, 10]\n",
    "```\n",
    "\n",
    "Puedes crear casi cualquier conjunto de números que desees usando la función range(). Por ejemplo, considera cómo podrías hacer una lista de los primeros 10 números cuadrados (es decir, el cuadrado de cada número entero del 1 al 10). En Python, dos asteriscos (`**`) representan exponentes. Así es como podrías poner los primeros 10 números cuadrados en una lista:\n"
   ]
  },
  {
   "cell_type": "code",
   "execution_count": 33,
   "metadata": {},
   "outputs": [
    {
     "name": "stdout",
     "output_type": "stream",
     "text": [
      "[1, 4, 9, 16, 25, 36, 49, 64, 81, 100]\n"
     ]
    }
   ],
   "source": [
    "numeros_cuadrados = []    # Creamos una lista vacia\n",
    "for valor in range(1, 11):    # Para cada valor en una rango del 1 al 10\n",
    "    cuadrado = valor ** 2    # almacenamos el valor al cuadrado en cuadrado\n",
    "    numeros_cuadrados.append(cuadrado)    # agregamos cada valor ** 2\n",
    "print(numeros_cuadrados)    # Imprimimos los valores"
   ]
  },
  {
   "cell_type": "markdown",
   "metadata": {},
   "source": [
    "Comenzamos con una lista vacía llamada numeros_cuadrados. Luego, le decimos a Python que recorra cada valor del 1 al 10 usando la función range(). Dentro del bucle, el valor actual se eleva al cuadrado y se asigna a la variable cuadrado. Luego, cada nuevo valor de cuadrado se agrega a la lista numeros_cuadrados. Finalmente, cuando el bucle ha terminado de ejecutarse, se imprime la lista de cuadrados:\n",
    "\n",
    "```python\n",
    "[1, 4, 9, 16, 25, 36, 49, 64, 81, 100]\n",
    "```\n",
    "\n",
    "Para escribir este código de manera más concisa, omite la variable temporal cuadrado y agrega cada nuevo valor directamente a la lista:\n"
   ]
  },
  {
   "cell_type": "code",
   "execution_count": 34,
   "metadata": {},
   "outputs": [
    {
     "name": "stdout",
     "output_type": "stream",
     "text": [
      "[1, 4, 9, 16, 25, 36, 49, 64, 81, 100]\n"
     ]
    }
   ],
   "source": [
    "numeros_cuadrados = []\n",
    "for valor in range(1, 11):\n",
    "    numeros_cuadrados.append(valor ** 2)\n",
    "print(numeros_cuadrados)"
   ]
  },
  {
   "cell_type": "markdown",
   "metadata": {},
   "source": [
    "Esta línea realiza el mismo trabajo que las líneas dentro del bucle for en la lista anterior. Cada valor en el bucle se eleva al cuadrado y luego se agrega inmediatamente a la lista de números_cuadrados.\n",
    "\n",
    "Puedes usar cualquiera de estos enfoques cuando estés creando listas más complejas. A veces, el uso de una variable temporal hace que tu código sea más fácil de leer; otras veces, hace que el código sea innecesariamente largo. Enfócate primero en escribir un código que entiendas claramente y que haga lo que deseas. Luego busca enfoques más eficientes a medida que revisas tu código."
   ]
  },
  {
   "cell_type": "markdown",
   "metadata": {},
   "source": [
    "## Estadísticas simples con una lista de números\n",
    "\n",
    "Las funciones de Python son útiles al trabajar con listas de números. Por ejemplo, puedes encontrar fácilmente el mínimo, máximo y la suma de una lista de números:"
   ]
  },
  {
   "cell_type": "code",
   "execution_count": 35,
   "metadata": {},
   "outputs": [
    {
     "name": "stdout",
     "output_type": "stream",
     "text": [
      "0\n"
     ]
    }
   ],
   "source": [
    "digitos = [1, 2, 3, 4, 5, 6, 7, 8, 9, 0]\n",
    "print(min(digitos))    # Imprimimos el minimo"
   ]
  },
  {
   "cell_type": "code",
   "execution_count": 36,
   "metadata": {},
   "outputs": [
    {
     "name": "stdout",
     "output_type": "stream",
     "text": [
      "9\n"
     ]
    }
   ],
   "source": [
    "print(max(digitos))    # Imprimimos el maximo"
   ]
  },
  {
   "cell_type": "code",
   "execution_count": 37,
   "metadata": {},
   "outputs": [
    {
     "name": "stdout",
     "output_type": "stream",
     "text": [
      "45\n"
     ]
    }
   ],
   "source": [
    "print(sum(digitos))    # Imprimimos la suma de los digitos"
   ]
  },
  {
   "cell_type": "markdown",
   "metadata": {},
   "source": [
    "Estas funciones son bastante útiles: `min()` devuelve el valor mínimo en la lista, `max()` devuelve el valor máximo y `sum()` devuelve la suma de todos los elementos de la lista."
   ]
  },
  {
   "cell_type": "markdown",
   "metadata": {},
   "source": [
    "**NOTA**\n",
    "\n",
    "Los ejemplos en esta sección utilizan listas cortas de números que caben fácilmente en la página. Funcionarían igual de bien si tu lista contuviera un millón o más números."
   ]
  },
  {
   "cell_type": "markdown",
   "metadata": {},
   "source": [
    "## Listas por comprensión\n",
    "\n",
    "El enfoque descrito anteriormente para generar la lista de cuadrados consistía en utilizar tres o cuatro líneas de código. Una lista por comprensión te permite generar esta misma lista en solo una línea de código. Una lista por comprensión combina el bucle for y la creación de nuevos elementos en una sola línea, y automáticamente añade cada nuevo elemento. Las listas por comprensión no siempre se presentan a los principiantes, pero las he incluido aquí porque es muy probable que las veas tan pronto como comiences a mirar el código de otras personas.\n",
    "El siguiente ejemplo construye la misma lista de números cuadrados que viste anteriormente, pero usa una lista por comprensión:\n"
   ]
  },
  {
   "cell_type": "code",
   "execution_count": 38,
   "metadata": {},
   "outputs": [
    {
     "name": "stdout",
     "output_type": "stream",
     "text": [
      "[1, 4, 9, 16, 25, 36, 49, 64, 81, 100]\n"
     ]
    }
   ],
   "source": [
    "cuadrados = [valor**2 for valor in range(1, 11)]\n",
    "print(cuadrados)"
   ]
  },
  {
   "cell_type": "markdown",
   "metadata": {},
   "source": [
    "Para utilizar esta sintaxis, comienza con un nombre descriptivo para la lista, como 'cuadrados'. A continuación, abre un conjunto de corchetes y define la expresión para los valores que deseas almacenar en la nueva lista. En este ejemplo, la expresión es 'valor**2', que eleva el valor al cuadrado. Luego, escribe un bucle for para generar los números que deseas alimentar en la expresión, y cierra los corchetes. El bucle for en este ejemplo es 'for valor in range(1, 11)', que alimenta los valores del 1 al 10 en la expresión 'valor**2'. Observa que no se utiliza dos puntos al final de la declaración for.\n",
    "\n",
    "El resultado es la misma lista de números cuadrados que viste anteriormente:\n",
    "\n",
    "```python\n",
    "[1, 4, 9, 16, 25, 36, 49, 64, 81, 100]\n",
    "```\n",
    "\n",
    "Requiere práctica escribir tus propias listas por comprensión, pero te resultarán útiles una vez que te sientas cómodo/a creando listas ordinarias. Cuando estés escribiendo tres o cuatro líneas de código para generar listas y comience a sentirse repetitivo, considera escribir tus propias listas por comprensión."
   ]
  },
  {
   "cell_type": "markdown",
   "metadata": {},
   "source": [
    "## **HAZLO TU MISMO**"
   ]
  },
  {
   "cell_type": "markdown",
   "metadata": {},
   "source": [
    "**4-3. Contando hasta Veinte:**\n",
    "\n",
    "Utiliza un bucle for para imprimir los números del 1 al 20, inclusive."
   ]
  },
  {
   "cell_type": "code",
   "execution_count": 40,
   "metadata": {},
   "outputs": [
    {
     "name": "stdout",
     "output_type": "stream",
     "text": [
      "[1, 2, 3, 4, 5, 6, 7, 8, 9, 10, 11, 12, 13, 14, 15, 16, 17, 18, 19, 20]\n"
     ]
    }
   ],
   "source": [
    "valores = []\n",
    "for valor in range(1, 21):\n",
    "    valores.append(valor)\n",
    "print(valores)"
   ]
  },
  {
   "cell_type": "markdown",
   "metadata": {},
   "source": [
    "**4-4. Un Millón:**\n",
    "\n",
    "Haz una lista de los números del uno al un millón, y luego usa un bucle for para imprimir los números. (Si la salida está tardando demasiado, detén el proceso presionando Ctrl+C o cerrando la ventana de salida)."
   ]
  },
  {
   "cell_type": "code",
   "execution_count": 1,
   "metadata": {},
   "outputs": [
    {
     "name": "stdout",
     "output_type": "stream",
     "text": [
      "[1, 2, 3, 4, 5, 6, 7, 8, 9, 10, 11, 12, 13, 14, 15, 16, 17, 18, 19, 20, 21, 22, 23, 24, 25, 26, 27, 28, 29, 30, 31, 32, 33, 34, 35, 36, 37, 38, 39, 40, 41, 42, 43, 44, 45, 46, 47, 48, 49, 50, 51, 52, 53, 54, 55, 56, 57, 58, 59, 60, 61, 62, 63, 64, 65, 66, 67, 68, 69, 70, 71, 72, 73, 74, 75, 76, 77, 78, 79, 80, 81, 82, 83, 84, 85, 86, 87, 88, 89, 90, 91, 92, 93, 94, 95, 96, 97, 98, 99, 100, 101, 102, 103, 104, 105, 106, 107, 108, 109, 110, 111, 112, 113, 114, 115, 116, 117, 118, 119, 120, 121, 122, 123, 124, 125, 126, 127, 128, 129, 130, 131, 132, 133, 134, 135, 136, 137, 138, 139, 140, 141, 142, 143, 144, 145, 146, 147, 148, 149, 150, 151, 152, 153, 154, 155, 156, 157, 158, 159, 160, 161, 162, 163, 164, 165, 166, 167, 168, 169, 170, 171, 172, 173, 174, 175, 176, 177, 178, 179, 180, 181, 182, 183, 184, 185, 186, 187, 188, 189, 190, 191, 192, 193, 194, 195, 196, 197, 198, 199, 200, 201, 202, 203, 204, 205, 206, 207, 208, 209, 210, 211, 212, 213, 214, 215, 216, 217, 218, 219, 220, 221, 222, 223, 224, 225, 226, 227, 228, 229, 230, 231, 232, 233, 234, 235, 236, 237, 238, 239, 240, 241, 242, 243, 244, 245, 246, 247, 248, 249, 250, 251, 252, 253, 254, 255, 256, 257, 258, 259, 260, 261, 262, 263, 264, 265, 266, 267, 268, 269, 270, 271, 272, 273, 274, 275, 276, 277, 278, 279, 280, 281, 282, 283, 284, 285, 286, 287, 288, 289, 290, 291, 292, 293, 294, 295, 296, 297, 298, 299, 300, 301, 302, 303, 304, 305, 306, 307, 308, 309, 310, 311, 312, 313, 314, 315, 316, 317, 318, 319, 320, 321, 322, 323, 324, 325, 326, 327, 328, 329, 330, 331, 332, 333, 334, 335, 336, 337, 338, 339, 340, 341, 342, 343, 344, 345, 346, 347, 348, 349, 350, 351, 352, 353, 354, 355, 356, 357, 358, 359, 360, 361, 362, 363, 364, 365, 366, 367, 368, 369, 370, 371, 372, 373, 374, 375, 376, 377, 378, 379, 380, 381, 382, 383, 384, 385, 386, 387, 388, 389, 390, 391, 392, 393, 394, 395, 396, 397, 398, 399, 400, 401, 402, 403, 404, 405, 406, 407, 408, 409, 410, 411, 412, 413, 414, 415, 416, 417, 418, 419, 420, 421, 422, 423, 424, 425, 426, 427, 428, 429, 430, 431, 432, 433, 434, 435, 436, 437, 438, 439, 440, 441, 442, 443, 444, 445, 446, 447, 448, 449, 450, 451, 452, 453, 454, 455, 456, 457, 458, 459, 460, 461, 462, 463, 464, 465, 466, 467, 468, 469, 470, 471, 472, 473, 474, 475, 476, 477, 478, 479, 480, 481, 482, 483, 484, 485, 486, 487, 488, 489, 490, 491, 492, 493, 494, 495, 496, 497, 498, 499, 500, 501, 502, 503, 504, 505, 506, 507, 508, 509, 510, 511, 512, 513, 514, 515, 516, 517, 518, 519, 520, 521, 522, 523, 524, 525, 526, 527, 528, 529, 530, 531, 532, 533, 534, 535, 536, 537, 538, 539, 540, 541, 542, 543, 544, 545, 546, 547, 548, 549, 550, 551, 552, 553, 554, 555, 556, 557, 558, 559, 560, 561, 562, 563, 564, 565, 566, 567, 568, 569, 570, 571, 572, 573, 574, 575, 576, 577, 578, 579, 580, 581, 582, 583, 584, 585, 586, 587, 588, 589, 590, 591, 592, 593, 594, 595, 596, 597, 598, 599, 600, 601, 602, 603, 604, 605, 606, 607, 608, 609, 610, 611, 612, 613, 614, 615, 616, 617, 618, 619, 620, 621, 622, 623, 624, 625, 626, 627, 628, 629, 630, 631, 632, 633, 634, 635, 636, 637, 638, 639, 640, 641, 642, 643, 644, 645, 646, 647, 648, 649, 650, 651, 652, 653, 654, 655, 656, 657, 658, 659, 660, 661, 662, 663, 664, 665, 666, 667, 668, 669, 670, 671, 672, 673, 674, 675, 676, 677, 678, 679, 680, 681, 682, 683, 684, 685, 686, 687, 688, 689, 690, 691, 692, 693, 694, 695, 696, 697, 698, 699, 700, 701, 702, 703, 704, 705, 706, 707, 708, 709, 710, 711, 712, 713, 714, 715, 716, 717, 718, 719, 720, 721, 722, 723, 724, 725, 726, 727, 728, 729, 730, 731, 732, 733, 734, 735, 736, 737, 738, 739, 740, 741, 742, 743, 744, 745, 746, 747, 748, 749, 750, 751, 752, 753, 754, 755, 756, 757, 758, 759, 760, 761, 762, 763, 764, 765, 766, 767, 768, 769, 770, 771, 772, 773, 774, 775, 776, 777, 778, 779, 780, 781, 782, 783, 784, 785, 786, 787, 788, 789, 790, 791, 792, 793, 794, 795, 796, 797, 798, 799, 800, 801, 802, 803, 804, 805, 806, 807, 808, 809, 810, 811, 812, 813, 814, 815, 816, 817, 818, 819, 820, 821, 822, 823, 824, 825, 826, 827, 828, 829, 830, 831, 832, 833, 834, 835, 836, 837, 838, 839, 840, 841, 842, 843, 844, 845, 846, 847, 848, 849, 850, 851, 852, 853, 854, 855, 856, 857, 858, 859, 860, 861, 862, 863, 864, 865, 866, 867, 868, 869, 870, 871, 872, 873, 874, 875, 876, 877, 878, 879, 880, 881, 882, 883, 884, 885, 886, 887, 888, 889, 890, 891, 892, 893, 894, 895, 896, 897, 898, 899, 900, 901, 902, 903, 904, 905, 906, 907, 908, 909, 910, 911, 912, 913, 914, 915, 916, 917, 918, 919, 920, 921, 922, 923, 924, 925, 926, 927, 928, 929, 930, 931, 932, 933, 934, 935, 936, 937, 938, 939, 940, 941, 942, 943, 944, 945, 946, 947, 948, 949, 950, 951, 952, 953, 954, 955, 956, 957, 958, 959, 960, 961, 962, 963, 964, 965, 966, 967, 968, 969, 970, 971, 972, 973, 974, 975, 976, 977, 978, 979, 980, 981, 982, 983, 984, 985, 986, 987, 988, 989, 990, 991, 992, 993, 994, 995, 996, 997, 998, 999]\n"
     ]
    }
   ],
   "source": [
    "list = []\n",
    "for valor in range(1, 1_000):    # Se modifico el millon para que no sea un nùmero demasiado elevado y pese al cargar en el env\n",
    "    list.append(valor)\n",
    "print(list)"
   ]
  },
  {
   "cell_type": "markdown",
   "metadata": {},
   "source": [
    "**4-5. Sumando un Millón:** \n",
    "\n",
    "Haz una lista de los números del uno al un millón y luego usa min() y max() para asegurarte de que tu lista realmente comience en uno y termine en un millón. Además, utiliza la función sum() para ver cuán rápidamente puede Python sumar un millón de números."
   ]
  },
  {
   "cell_type": "code",
   "execution_count": 42,
   "metadata": {},
   "outputs": [
    {
     "data": {
      "text/plain": [
       "499999500000"
      ]
     },
     "execution_count": 42,
     "metadata": {},
     "output_type": "execute_result"
    }
   ],
   "source": [
    "sum(list)"
   ]
  },
  {
   "cell_type": "code",
   "execution_count": 43,
   "metadata": {},
   "outputs": [
    {
     "data": {
      "text/plain": [
       "1"
      ]
     },
     "execution_count": 43,
     "metadata": {},
     "output_type": "execute_result"
    }
   ],
   "source": [
    "min(list)"
   ]
  },
  {
   "cell_type": "code",
   "execution_count": 44,
   "metadata": {},
   "outputs": [
    {
     "data": {
      "text/plain": [
       "999999"
      ]
     },
     "execution_count": 44,
     "metadata": {},
     "output_type": "execute_result"
    }
   ],
   "source": [
    "max(list)"
   ]
  },
  {
   "cell_type": "markdown",
   "metadata": {},
   "source": [
    "**4-6. Números Impares:**\n",
    "\n",
    "Utiliza el tercer argumento de la función range() para hacer una lista de los números impares del 1 al 20. Utiliza un bucle for para imprimir cada número."
   ]
  },
  {
   "cell_type": "code",
   "execution_count": 47,
   "metadata": {},
   "outputs": [
    {
     "name": "stdout",
     "output_type": "stream",
     "text": [
      "[1, 3, 5, 7, 9, 11, 13, 15, 17, 19]\n"
     ]
    }
   ],
   "source": [
    "lista = []\n",
    "for valor in range(1, 21, 2):\n",
    "    lista.append(valor)\n",
    "print(lista)"
   ]
  },
  {
   "cell_type": "markdown",
   "metadata": {},
   "source": [
    "**4-7. Múltiplos de Tres:**\n",
    "\n",
    "Haz una lista de los múltiplos de 3, desde 3 hasta 30. Utiliza un bucle for para imprimir los números de tu lista.\n",
    "\n"
   ]
  },
  {
   "cell_type": "code",
   "execution_count": 1,
   "metadata": {},
   "outputs": [
    {
     "name": "stdout",
     "output_type": "stream",
     "text": [
      "[3, 6, 9, 12, 15, 18, 21, 24, 27]\n"
     ]
    }
   ],
   "source": [
    "lista = []\n",
    "for valor in range(3, 30, 3):\n",
    "    lista.append(valor)\n",
    "print(lista)"
   ]
  },
  {
   "cell_type": "markdown",
   "metadata": {},
   "source": [
    "**4-8. Cubos:**\n",
    "\n",
    "Un número elevado al cubo se llama cubo. Por ejemplo, el cubo de 2 se escribe como 2**3 en Python. Haz una lista de los primeros 10 cubos (es decir, el cubo de cada número entero del 1 al 10) y utiliza un bucle for para imprimir el valor de cada cubo."
   ]
  },
  {
   "cell_type": "code",
   "execution_count": 5,
   "metadata": {},
   "outputs": [
    {
     "name": "stdout",
     "output_type": "stream",
     "text": [
      "EL valor de cada nùmero del 1 al 10 al cubo es: [1, 8, 27, 64, 125, 216, 343, 512, 729, 1000]\n"
     ]
    }
   ],
   "source": [
    "lista = []\n",
    "for cubo in range(1, 11):\n",
    "    cubo = cubo**3\n",
    "    lista.append(cubo)\n",
    "print(f\"EL valor de cada nùmero del 1 al 10 al cubo es: {lista}\")"
   ]
  },
  {
   "cell_type": "markdown",
   "metadata": {},
   "source": [
    "**4-9. Comprensión de Cubos:**\n",
    "\n",
    "Utiliza una comprensión de lista para generar una lista de los primeros 10 cubos."
   ]
  },
  {
   "cell_type": "code",
   "execution_count": 6,
   "metadata": {},
   "outputs": [
    {
     "name": "stdout",
     "output_type": "stream",
     "text": [
      "[1, 8, 27, 64, 125, 216, 343, 512, 729, 1000]\n"
     ]
    }
   ],
   "source": [
    "first_number = [value**3 for value in range(1, 11)]\n",
    "print(first_number)"
   ]
  },
  {
   "cell_type": "markdown",
   "metadata": {},
   "source": [
    "## Trabajar con parte de una lista\n",
    "\n",
    "En el Capítulo 3 aprendiste cómo acceder a elementos individuales en una lista, y en este capítulo has estado aprendiendo cómo trabajar a través de todos los elementos en una lista. También puedes trabajar con un grupo específico de elementos en una lista, lo que se llama un \"slice\" en Python."
   ]
  },
  {
   "cell_type": "markdown",
   "metadata": {},
   "source": [
    "## Cortar, rebanar (slicing) una lista\n",
    "\n",
    "Para realizar un \"slice\" (rebanada) en una lista, debes especificar el índice del primer y último elemento con los que deseas trabajar. Al igual que con la función range(), Python se detiene un elemento antes del segundo índice que especifiques. Para obtener los primeros tres elementos en una lista, solicitarías los índices del 0 al 3, lo que devolvería los elementos 0, 1 y 2.\n",
    "\n",
    "El siguiente ejemplo involucra una lista de jugadores en un equipo:"
   ]
  },
  {
   "cell_type": "code",
   "execution_count": 7,
   "metadata": {},
   "outputs": [
    {
     "name": "stdout",
     "output_type": "stream",
     "text": [
      "['carlos', 'martina', 'miguel']\n"
     ]
    }
   ],
   "source": [
    "jugadores = ['carlos', 'martina', 'miguel', 'florencia', 'eli']\n",
    "print(jugadores[0:3])"
   ]
  },
  {
   "cell_type": "markdown",
   "metadata": {},
   "source": [
    "Este código imprime una porción de la lista. La salida conserva la estructura de la lista e incluye a los primeros tres jugadores en la lista:\n",
    "\n",
    "```python\n",
    "['carlos', 'martina', 'miguel']\n",
    "```\n",
    "\n",
    "Puedes generar cualquier subconjunto de una lista. Por ejemplo, si deseas los elementos segundo, tercero y cuarto en una lista, comenzarías la rebanada en el índice 1 y la terminarías en el índice 4:"
   ]
  },
  {
   "cell_type": "code",
   "execution_count": 8,
   "metadata": {},
   "outputs": [
    {
     "name": "stdout",
     "output_type": "stream",
     "text": [
      "['martina', 'miguel', 'florencia']\n"
     ]
    }
   ],
   "source": [
    "jugadores = ['carlos', 'martina', 'miguel', 'florencia', 'eli']\n",
    "print(jugadores[1:4])"
   ]
  },
  {
   "cell_type": "markdown",
   "metadata": {},
   "source": [
    "Esta vez, la rebanada comienza con 'martina' y termina con 'florencia':\n",
    "\n",
    "```python\n",
    "['martina', 'miguel', 'florencia']\n",
    "```\n",
    "\n",
    "Si omites el primer índice en un slice, Python automáticamente comienza la rebanada al principio de la lista:\n"
   ]
  },
  {
   "cell_type": "code",
   "execution_count": 9,
   "metadata": {},
   "outputs": [
    {
     "name": "stdout",
     "output_type": "stream",
     "text": [
      "['carlos', 'martina', 'florencia', 'eli']\n"
     ]
    }
   ],
   "source": [
    "jugadores = ['carlos', 'martina', 'florencia', 'eli']\n",
    "print(jugadores[:4])"
   ]
  },
  {
   "cell_type": "markdown",
   "metadata": {},
   "source": [
    "Sin un índice de inicio, Python comienza al principio de la lista:\n",
    "\n",
    "```python\n",
    "['carlos', 'martina', 'miguel', 'florencia']\n",
    "```\n",
    "\n",
    "Una sintaxis similar funciona si deseas una rebanada que incluya el final de una lista. Por ejemplo, si quieres todos los elementos desde el tercer elemento hasta el último elemento, puedes comenzar con el índice 2 y omitir el segundo índice:\n"
   ]
  },
  {
   "cell_type": "code",
   "execution_count": 11,
   "metadata": {},
   "outputs": [
    {
     "name": "stdout",
     "output_type": "stream",
     "text": [
      "['miguel', 'florencia', 'eli']\n"
     ]
    }
   ],
   "source": [
    "jugadores = ['carlos', 'martina', 'miguel', 'florencia', 'eli']\n",
    "print(jugadores[2:])"
   ]
  },
  {
   "cell_type": "markdown",
   "metadata": {},
   "source": [
    "Python devuelve todos los elementos desde el tercero hasta el final de la lista:\n",
    "\n",
    "```python\n",
    "['miguel', 'florencia', 'eli']\n",
    "```\n",
    "\n",
    "Esta sintaxis te permite mostrar todos los elementos desde cualquier punto en tu lista hasta el final, independientemente de la longitud de la lista. Recuerda que un índice negativo devuelve un elemento a cierta distancia desde el final de una lista; por lo tanto, puedes obtener cualquier rebanada desde el final de una lista. Por ejemplo, si deseamos mostrar los últimos tres jugadores en la lista, podemos usar la rebanada `jugadores[-3:]`:"
   ]
  },
  {
   "cell_type": "code",
   "execution_count": 12,
   "metadata": {},
   "outputs": [
    {
     "name": "stdout",
     "output_type": "stream",
     "text": [
      "['miguel', 'florencia', 'eli']\n"
     ]
    }
   ],
   "source": [
    "jugadores = ['carlos', 'martina', 'miguel', 'florencia', 'eli']\n",
    "print(jugadores[-3:])"
   ]
  },
  {
   "cell_type": "markdown",
   "metadata": {},
   "source": [
    "\n",
    "\n",
    "```python\n",
    "jugadores = ['carlos', 'martina', 'miguel', 'florencia', 'eli']\n",
    "print(jugadores[-3:])\n",
    "```\n",
    "\n",
    "Esto imprime los nombres de los últimos tres jugadores y seguirá funcionando a medida que cambie el tamaño de la lista de jugadores."
   ]
  },
  {
   "cell_type": "markdown",
   "metadata": {},
   "source": [
    "**NOTA**\n",
    "\n",
    "Puedes incluir un tercer valor en los corchetes al indicar un slice. Si se incluye un tercer valor, esto le indica a Python cuántos elementos omitir entre elementos en el rango especificado."
   ]
  },
  {
   "cell_type": "markdown",
   "metadata": {},
   "source": [
    "## Recorriendo un segmento\n",
    "\n",
    "Puedes usar un slice en un bucle for si deseas recorrer un subconjunto de elementos en una lista. En el siguiente ejemplo, recorremos los nombres de los tres primeros jugadores e imprimimos sus nombres como parte de una lista de jugadores:"
   ]
  },
  {
   "cell_type": "code",
   "execution_count": 13,
   "metadata": {},
   "outputs": [
    {
     "name": "stdout",
     "output_type": "stream",
     "text": [
      "Aquì estàn los tres primeros jugadores en mi equipo:\n",
      "Carlos\n",
      "Martina\n",
      "Miguel\n"
     ]
    }
   ],
   "source": [
    "jugadores = ['carlos', 'martina', 'miguel', 'florencia', 'eli']\n",
    "print(\"Aquì estàn los tres primeros jugadores en mi equipo:\")\n",
    "for jugador in jugadores[:3]:\n",
    "    print(jugador.title())"
   ]
  },
  {
   "cell_type": "markdown",
   "metadata": {},
   "source": [
    "En lugar de recorrer toda la lista de jugadores, Python recorre solo los primeros tres nombres:\n",
    "\n",
    "```python\n",
    "Aquí están los tres primeros jugadores en mi equipo:\n",
    "Carlos\n",
    "Martina\n",
    "Miguel\n",
    "```\n",
    "\n",
    "Los slices son muy útiles en diversas situaciones. Por ejemplo, cuando estás creando un juego, podrías agregar la puntuación final de un jugador a una lista cada vez que el jugador termina de jugar. Luego podrías obtener las tres mejores puntuaciones de un jugador ordenando la lista en orden descendente y tomando un slice que incluya solo las tres primeras puntuaciones. Cuando trabajas con datos, puedes usar slices para procesar tus datos en bloques de un tamaño específico. O, al construir una aplicación web, podrías usar slices para mostrar información en una serie de páginas con una cantidad adecuada de información en cada página."
   ]
  },
  {
   "cell_type": "markdown",
   "metadata": {},
   "source": [
    "## Copiar una lista\n",
    "\n",
    "A menudo, querrás comenzar con una lista existente y crear una lista completamente nueva basada en la primera. Vamos a explorar cómo funciona la copia de una lista y examinar una situación en la que copiar una lista es útil.\n",
    "\n",
    "Para copiar una lista, puedes hacer un slice que incluya toda la lista original omitiendo el primer índice y el segundo índice (`[:]`). Esto le indica a Python que haga un slice que comience en el primer ítem y termine con el último ítem, produciendo una copia de toda la lista.\n",
    "\n",
    "Por ejemplo, imagina que tienes una lista de tus comidas favoritas y quieres hacer una lista separada de las comidas que le gustan a un amigo. Este amigo le gusta todo en nuestra lista hasta ahora, así que podemos crear su lista copiando la nuestra:"
   ]
  },
  {
   "cell_type": "code",
   "execution_count": 14,
   "metadata": {},
   "outputs": [
    {
     "name": "stdout",
     "output_type": "stream",
     "text": [
      "Mis comidas favoritas son:\n",
      "['pizza', 'falafel', 'torta de zanahoria']\n",
      "\n",
      "Las comidas favortias de mi amigo son:\n",
      "['pizza', 'falafel', 'torta de zanahoria']\n"
     ]
    }
   ],
   "source": [
    "mis_comidas = ['pizza', 'falafel', 'torta de zanahoria']\n",
    "amigo_comidas = mis_comidas[:]\n",
    "print(\"Mis comidas favoritas son:\")\n",
    "print(mis_comidas)\n",
    "print(\"\\nLas comidas favortias de mi amigo son:\")\n",
    "print(amigo_comidas)"
   ]
  },
  {
   "cell_type": "markdown",
   "metadata": {},
   "source": [
    "Primero, creamos una lista de las comidas que nos gustan llamada `mis_comidas`. Luego creamos una nueva lista llamada `amigo_comidas`. Hacemos una copia de `mis_comidas` pidiendo un slice de `mis_comidas` sin especificar ningún índice, y asignamos la copia a `amigo_comidas`. Cuando imprimimos cada lista, vemos que ambas contienen las mismas comidas:\n",
    "\n",
    "```python\n",
    "Mis comidas favoritas son:\n",
    "['pizza', 'falafel', 'torta de zanahoria']\n",
    "Las comidas favoritas de mi amigo son:\n",
    "['pizza', 'falafel', 'torta de zanahoria']\n",
    "```\n",
    "\n",
    "Para demostrar que realmente tenemos dos listas separadas, agregaremos una nueva comida a cada lista y mostraremos que cada lista realiza un seguimiento de las comidas favoritas de la persona correspondiente:"
   ]
  },
  {
   "cell_type": "code",
   "execution_count": 15,
   "metadata": {},
   "outputs": [
    {
     "name": "stdout",
     "output_type": "stream",
     "text": [
      "Mis comidas favoritas son:\n",
      "['pizza', 'falafel', 'torta de zanahoria', 'cannoli']\n",
      "\n",
      "Las comidas favoritas de mi amigo son:\n",
      "['pizza', 'falafel', 'torta de zanahoria', 'helado']\n"
     ]
    }
   ],
   "source": [
    "mis_comidas = ['pizza', 'falafel', 'torta de zanahoria']\n",
    "amigo_comidas = mis_comidas[:]\n",
    "mis_comidas.append('cannoli')\n",
    "amigo_comidas.append('helado')\n",
    "print(\"Mis comidas favoritas son:\")\n",
    "print(mis_comidas)\n",
    "print(\"\\nLas comidas favoritas de mi amigo son:\")\n",
    "print(amigo_comidas)\n"
   ]
  },
  {
   "cell_type": "markdown",
   "metadata": {},
   "source": [
    "Copiamos los elementos originales de mis_comidas a la nueva lista amigo_comidas, como hicimos en el ejemplo anterior. Luego agregamos una nueva comida a cada lista: agregamos 'cannoli' a mis_comidas y agregamos 'helado' a amigo_comidas. Luego imprimimos las dos listas para ver si cada una de estas comidas está en la lista correspondiente:\n",
    "\n",
    "```python\n",
    "Mis comidas favoritas son:\n",
    "['pizza', 'falafel', 'torta de zanahoria', 'cannoli']\n",
    "Las comidas favoritas de mi amigo son:\n",
    "['pizza', 'falafel', 'torta de zanahoria', 'helado']\n",
    "```\n",
    "\n",
    "La salida muestra que 'cannoli' ahora aparece en nuestra lista de comidas favoritas, pero 'helado' no. Podemos ver que 'helado' ahora aparece en la lista de comidas de nuestro amigo, pero 'cannoli' no. Si simplemente hubiéramos asignado friend_foods a my_foods, no habríamos producido dos listas separadas.\n",
    "\n",
    "En lugar de asignar una copia de mis_comidas a amigo_comidas, establecemos amigo_comidas igual a mis_comidas. Esta sintaxis le indica realmente a Python asociar la nueva variable amigo_comidas con la lista que ya está asociada con mis_comidas, por lo que ahora ambas variables apuntan a la misma lista. Como resultado, cuando agregamos 'cannoli' a mis_comidas, también aparecerá en amigo_comidas. De manera similar, 'helado' aparecerá en ambas listas, a pesar de que parece ser agregado solo a amigo_comidas."
   ]
  },
  {
   "cell_type": "code",
   "execution_count": 17,
   "metadata": {},
   "outputs": [
    {
     "name": "stdout",
     "output_type": "stream",
     "text": [
      "My favorite food are:\n",
      "['pizza', 'falafel', 'carrot cake']\n",
      "\n",
      "My friend's favortie foods are:\n",
      "['pizza', 'falafel', 'carrot cake']\n"
     ]
    }
   ],
   "source": [
    "my_foods = ['pizza', 'falafel', 'carrot cake']\n",
    "friend_foods = my_foods[:]\n",
    "\n",
    "print(\"My favorite food are:\")\n",
    "print(my_foods)\n",
    "\n",
    "print(\"\\nMy friend's favortie foods are:\")\n",
    "print(friend_foods)"
   ]
  },
  {
   "cell_type": "code",
   "execution_count": 18,
   "metadata": {},
   "outputs": [
    {
     "name": "stdout",
     "output_type": "stream",
     "text": [
      "My favorite foods are:\n",
      "['pizza', 'falafel', 'carrot cake', 'cannoli']\n",
      "\n",
      "My friend`s favorite foods are:\n",
      "['pizza', 'falafel', 'carrot cake']\n"
     ]
    }
   ],
   "source": [
    "my_foods = ['pizza', 'falafel', 'carrot cake']\n",
    "friends_foods = my_foods[:]\n",
    "\n",
    "my_foods.append('cannoli')\n",
    "friend_foods.append('ice cream')\n",
    "\n",
    "print(\"My favorite foods are:\")\n",
    "print(my_foods)\n",
    "\n",
    "print(\"\\nMy friend`s favorite foods are:\")\n",
    "print(friends_foods)"
   ]
  },
  {
   "cell_type": "code",
   "execution_count": 23,
   "metadata": {},
   "outputs": [
    {
     "name": "stdout",
     "output_type": "stream",
     "text": [
      "My favorite foods are:\n",
      "['pizza', 'falafel', 'carrot cake', 'cannoli', 'ice cream']\n",
      "\n",
      "My friend`s favorite foods are:\n",
      "['pizza', 'falafel', 'carrot cake', 'cannoli', 'ice cream']\n"
     ]
    }
   ],
   "source": [
    "my_foods = ['pizza', 'falafel', 'carrot cake']\n",
    "\n",
    "# This doesn`t work:\n",
    "friend_foods = my_foods\n",
    "my_foods.append('cannoli')\n",
    "friend_foods.append('ice cream')\n",
    "print(\"My favorite foods are:\")\n",
    "print(my_foods)\n",
    "print(\"\\nMy friend`s favorite foods are:\")\n",
    "print(friend_foods)"
   ]
  },
  {
   "cell_type": "markdown",
   "metadata": {},
   "source": [
    "**NOTA**\n",
    "\n",
    "No te preocupes por los detalles de este ejemplo por ahora. Si estás intentando trabajar con una copia de una lista y observas un comportamiento inesperado, asegúrate de estar copiando la lista utilizando un slice, tal como hicimos en el primer ejemplo."
   ]
  },
  {
   "cell_type": "markdown",
   "metadata": {},
   "source": [
    "## **HAZLO TU MISMO**\n",
    "\n",
    "**4-10. Slices:**\n",
    "\n",
    "Usa uno de los programas que escribiste en este capítulo y agrega varias líneas al final del programa que hagan lo siguiente:\n",
    "* Imprime el mensaje \"Los primeros tres elementos en la lista son:\". \n",
    "* Luego usa un slice para imprimir los primeros tres elementos de la lista del programa.\n",
    "* Imprime el mensaje \"Tres elementos del medio de la lista son:\". \n",
    "* Luego usa un slice para imprimir tres elementos del medio de la lista.\n",
    "* Imprime el mensaje \"Los últimos tres elementos en la lista son:\".\n",
    "* Luego usa un slice para imprimir los últimos tres elementos de la lista.\n"
   ]
  },
  {
   "cell_type": "code",
   "execution_count": 30,
   "metadata": {},
   "outputs": [
    {
     "name": "stdout",
     "output_type": "stream",
     "text": [
      "Los primero tres elementos de la lista son:\n",
      "['empanada', 'pizza', 'completo']\n",
      "Tres elementos del medio de la lista son:\n",
      "['pizza', 'sushi', 'papapleto']\n",
      "Los ùltimos tres elementos de la lista son:\n",
      "['sushi', 'papapleto', 'asado']\n"
     ]
    }
   ],
   "source": [
    "foods = ['empanada', 'pizza', 'completo', 'pizza', 'sushi', 'papapleto', 'asado']\n",
    "\n",
    "print(f\"Los primero tres elementos de la lista son:\")\n",
    "print(foods[:3])\n",
    "\n",
    "print(\"Tres elementos del medio de la lista son:\")\n",
    "print(foods[3:6])\n",
    "\n",
    "print(\"Los ùltimos tres elementos de la lista son:\")\n",
    "print(foods[-3:])\n"
   ]
  },
  {
   "cell_type": "markdown",
   "metadata": {},
   "source": [
    "#### Otra forma de hacerlo"
   ]
  },
  {
   "cell_type": "code",
   "execution_count": 31,
   "metadata": {},
   "outputs": [
    {
     "name": "stdout",
     "output_type": "stream",
     "text": [
      "Las primeras tres pizzas de mi lista son:\n",
      "Vegetariana\n",
      "Hawayana\n",
      "Chilena\n"
     ]
    }
   ],
   "source": [
    "pizzas = ['vegetariana', 'hawayana', 'chilena', 'peperoni', 'valparadise']\n",
    "print('Las primeras tres pizzas de mi lista son:')\n",
    "for pizza in pizzas[:3]:\n",
    "    print(pizza.title())"
   ]
  },
  {
   "cell_type": "code",
   "execution_count": 34,
   "metadata": {},
   "outputs": [
    {
     "name": "stdout",
     "output_type": "stream",
     "text": [
      "Las ùltimas tres pizzas de mi lista son:\n",
      "Chilena\n",
      "Peperoni\n",
      "Valparadise\n"
     ]
    }
   ],
   "source": [
    "pizzas = ['vegetariaana', 'hawayana', 'chilena', 'peperoni', 'valparadise']\n",
    "print('Las ùltimas tres pizzas de mi lista son:')\n",
    "for pizza in pizzas[-3:]:\n",
    "    print(pizza.title())"
   ]
  },
  {
   "cell_type": "code",
   "execution_count": 37,
   "metadata": {},
   "outputs": [
    {
     "name": "stdout",
     "output_type": "stream",
     "text": [
      "Las tres pizzas medias de mi lista son:\n",
      "Hawayana\n",
      "Chilena\n",
      "Peperoni\n"
     ]
    }
   ],
   "source": [
    "pizzas = ['vegetariaana', 'hawayana', 'chilena', 'peperoni', 'valparadise']\n",
    "print('Las tres pizzas medias de mi lista son:')\n",
    "for pizza in pizzas[1:4]:\n",
    "    print(pizza.title())"
   ]
  },
  {
   "cell_type": "markdown",
   "metadata": {},
   "source": [
    "**4-11. Mis Pizzas, Tus Pizzas:**\n",
    "\n",
    "Comienza con tu programa del Ejercicio 4-1 (página 56).\n",
    "Haz una copia de la lista de pizzas y llámala friend_pizzas. Luego, haz lo siguiente:\n",
    "* Agrega una nueva pizza a la lista original.\n",
    "* Agrega una pizza diferente a la lista friend_pizzas.\n",
    "* Demuestra que tienes dos listas separadas. \n",
    "* Imprime el mensaje \"Mis pizzas favoritas son:\" y luego usa un bucle for para imprimir la primera lista. \n",
    "* Imprime el mensaje \"Las pizzas favoritas de mi amigo son:\" y luego usa un bucle for para imprimir la segunda lista. \n",
    "* Asegúrate de que cada nueva pizza esté almacenada en la lista correspondiente.\n"
   ]
  },
  {
   "cell_type": "code",
   "execution_count": 51,
   "metadata": {},
   "outputs": [
    {
     "name": "stdout",
     "output_type": "stream",
     "text": [
      "Lista Original:\n",
      "['vegetariaana', 'hawayana', 'chilena', 'peperoni', 'valparadise']\n",
      "\n",
      "Lista Nueva:\n",
      "['vegetariaana', 'hawayana', 'chilena', 'peperoni', 'valparadise', 'napolitana']\n",
      "\n",
      "Mis pizzas favoritas son:\n",
      "* Vegetariaana\n",
      "* Hawayana\n",
      "* Chilena\n",
      "* Peperoni\n",
      "* Valparadise\n",
      "\n",
      "Las pizzas favoritas de mi amigo son:\n",
      "* Vegetariaana\n",
      "* Hawayana\n",
      "* Chilena\n",
      "* Peperoni\n",
      "* Valparadise\n",
      "* Napolitana\n"
     ]
    }
   ],
   "source": [
    "pizzas = ['vegetariaana', 'hawayana', 'chilena', 'peperoni', 'valparadise']    # Lista original\n",
    "friend_pizzas =  pizzas[:]    # Nueva lista\n",
    "\n",
    "friend_pizzas.append('napolitana')    # Agregamos una nueva pizza a la lista nueva\n",
    "\n",
    "print(\"Lista Original:\")\n",
    "print(f\"{pizzas}\")\n",
    "\n",
    "print(\"\\nLista Nueva:\")\n",
    "print(f\"{friend_pizzas}\")\n",
    "\n",
    "print(\"\\nMis pizzas favoritas son:\")\n",
    "for pizza in pizzas:\n",
    "    print(f\"* {pizza.title()}\")\n",
    "\n",
    "print(\"\\nLas pizzas favoritas de mi amigo son:\")\n",
    "for p in friend_pizzas:\n",
    "    print(f\"* {p.title()}\")"
   ]
  },
  {
   "cell_type": "markdown",
   "metadata": {},
   "source": [
    "**4-12. Más Bucles:**\n",
    "\n",
    "Todas las versiones de foods.py en esta sección han evitado usar bucles for al imprimir, para ahorrar espacio. Elige una versión de foods.py y escribe dos bucles for para imprimir cada lista de comidas."
   ]
  },
  {
   "cell_type": "code",
   "execution_count": 64,
   "metadata": {},
   "outputs": [
    {
     "name": "stdout",
     "output_type": "stream",
     "text": [
      "Las mejores pizzas que recomiendo son: vegetariana\n",
      "Las mejores pizzas que recomiendo son: hawayana\n",
      "Las mejores pizzas que recomiendo son: chilena\n",
      "Las mejores pizzas que recomiendo son: peperoni\n",
      "Las mejores pizzas que recomiendo son: valparadise\n",
      "Definitivamente tienes que probarlas!!!\n",
      "\n",
      "Este es el Top Tres de licores mas consumidos en Viña del Mar:\n",
      "* piña colada\n",
      "Este es el Top Tres de licores mas consumidos en Viña del Mar:\n",
      "* whisky a las rocas\n",
      "Este es el Top Tres de licores mas consumidos en Viña del Mar:\n",
      "* mojito\n"
     ]
    }
   ],
   "source": [
    "# Creaciòn de listas\n",
    "pizzas = ['vegetariana', 'hawayana', 'chilena', 'peperoni', 'valparadise']    # Lista de pizzas original\n",
    "licores = ['piña colada', 'whisky a las rocas', 'mojito']\n",
    "\n",
    "# Bucle for ---> Iteraciòn\n",
    "for pizza in pizzas:\n",
    "    print(f\"Las mejores pizzas que recomiendo son: {pizza}\")\n",
    "print(\"Definitivamente tienes que probarlas!!!\\n\")\n",
    "\n",
    "for licor in licores:\n",
    "    print(f\"Este es el Top Tres de licores mas consumidos en Viña del Mar:\")\n",
    "    print(f\"* {licor}\")"
   ]
  },
  {
   "cell_type": "markdown",
   "metadata": {},
   "source": [
    "## Tuplas\n",
    "\n",
    "Las listas funcionan bien para almacenar colecciones de elementos que pueden cambiar a lo largo de la vida de un programa. La capacidad de modificar listas es particularmente importante cuando trabajas con una lista de usuarios en un sitio web o una lista de personajes en un juego. Sin embargo, a veces querrás crear una lista de elementos que no puedan cambiar. Las tuplas te permiten hacer precisamente eso. Python se refiere a los valores que no pueden cambiar como inmutables, y una lista inmutable se llama tupla."
   ]
  },
  {
   "cell_type": "markdown",
   "metadata": {},
   "source": [
    "## Definir una Tupla\n",
    "\n",
    "Una tupla se ve igual que una lista, excepto que se usan paréntesis en lugar de corchetes. Una vez que defines una tupla, puedes acceder a elementos individuales usando el índice de cada elemento, de la misma manera que lo harías con una lista.\n",
    "\n",
    "Por ejemplo, si tenemos un rectángulo que siempre debe tener un tamaño específico, podemos asegurar que su tamaño no cambie poniendo las dimensiones en una tupla:"
   ]
  },
  {
   "cell_type": "code",
   "execution_count": 65,
   "metadata": {},
   "outputs": [
    {
     "name": "stdout",
     "output_type": "stream",
     "text": [
      "200\n",
      "50\n"
     ]
    }
   ],
   "source": [
    "dimensiones = (200, 50)\n",
    "print(dimensiones[0])\n",
    "print(dimensiones[1])"
   ]
  },
  {
   "cell_type": "markdown",
   "metadata": {},
   "source": [
    "Definimos la tupla dimensiones, utilizando paréntesis en lugar de corchetes. Luego imprimimos cada elemento de la tupla individualmente, usando la misma sintaxis que hemos estado usando para acceder a elementos en una lista:\n",
    "\n",
    "```python\n",
    "200\n",
    "50\n",
    "```\n",
    "\n",
    "Veamos qué sucede si intentamos cambiar uno de los elementos en la tupla dimensiones:"
   ]
  },
  {
   "cell_type": "code",
   "execution_count": 66,
   "metadata": {},
   "outputs": [
    {
     "ename": "TypeError",
     "evalue": "'tuple' object does not support item assignment",
     "output_type": "error",
     "traceback": [
      "\u001b[0;31m---------------------------------------------------------------------------\u001b[0m",
      "\u001b[0;31mTypeError\u001b[0m                                 Traceback (most recent call last)",
      "Cell \u001b[0;32mIn[66], line 2\u001b[0m\n\u001b[1;32m      1\u001b[0m dimensiones \u001b[38;5;241m=\u001b[39m (\u001b[38;5;241m200\u001b[39m, \u001b[38;5;241m50\u001b[39m)\n\u001b[0;32m----> 2\u001b[0m \u001b[43mdimensiones\u001b[49m\u001b[43m[\u001b[49m\u001b[38;5;241;43m0\u001b[39;49m\u001b[43m]\u001b[49m \u001b[38;5;241m=\u001b[39m \u001b[38;5;241m250\u001b[39m\n",
      "\u001b[0;31mTypeError\u001b[0m: 'tuple' object does not support item assignment"
     ]
    }
   ],
   "source": [
    "dimensiones = (200, 50)\n",
    "dimensiones[0] = 250"
   ]
  },
  {
   "cell_type": "markdown",
   "metadata": {},
   "source": [
    "Este código intenta cambiar el valor de la primera dimensión, pero Python devuelve un error de tipo. Debido a que estamos intentando alterar una tupla, lo cual no se puede hacer en ese tipo de objeto, Python nos dice que no podemos asignar un nuevo valor a un elemento en una tupla:\n",
    "\n",
    "```python\n",
    "Traceback (most recent call last):\n",
    "  File \"dimensions.py\", line 2, in <module>\n",
    "    dimensions[0] = 250\n",
    "TypeError: 'tuple' object does not support item assignment\n",
    "```\n",
    "\n",
    "Esto es beneficioso porque queremos que Python genere un error cuando una línea de código intente cambiar las dimensiones del rectángulo."
   ]
  },
  {
   "cell_type": "markdown",
   "metadata": {},
   "source": [
    "**NOTA**\n",
    "\n",
    "Las tuplas están técnicamente definidas por la presencia de una coma; los paréntesis hacen que se vean más ordenadas y legibles. Si quieres definir una tupla con un solo elemento, necesitas incluir una coma al final:"
   ]
  },
  {
   "cell_type": "code",
   "execution_count": 68,
   "metadata": {},
   "outputs": [],
   "source": [
    "mi_tupla = (3,)"
   ]
  },
  {
   "cell_type": "code",
   "execution_count": 69,
   "metadata": {},
   "outputs": [
    {
     "data": {
      "text/plain": [
       "(3,)"
      ]
     },
     "execution_count": 69,
     "metadata": {},
     "output_type": "execute_result"
    }
   ],
   "source": [
    "mi_tupla"
   ]
  },
  {
   "cell_type": "markdown",
   "metadata": {},
   "source": [
    "No suele tener mucho sentido construir una tupla con un solo elemento, pero esto puede suceder cuando las tuplas se generan automáticamente."
   ]
  },
  {
   "cell_type": "markdown",
   "metadata": {},
   "source": [
    "## Recorriendo todos los valores de una tupla\n",
    "\n",
    "Puedes iterar sobre todos los valores de una tupla usando un bucle for, de la misma manera que lo harías con una lista:"
   ]
  },
  {
   "cell_type": "code",
   "execution_count": 70,
   "metadata": {},
   "outputs": [
    {
     "name": "stdout",
     "output_type": "stream",
     "text": [
      "200\n",
      "50\n"
     ]
    }
   ],
   "source": [
    "dimensiones = (200, 50)\n",
    "for dimension in dimensiones:\n",
    "    print(dimension)"
   ]
  },
  {
   "cell_type": "markdown",
   "metadata": {},
   "source": [
    "Python devuelve todos los elementos en la tupla, tal como lo haría para una lista:\n",
    "\n",
    "```python\n",
    "200\n",
    "50\n",
    "```"
   ]
  },
  {
   "cell_type": "markdown",
   "metadata": {},
   "source": [
    "## Escribir sobre una tupla\n",
    "\n",
    "Aunque no puedes modificar una tupla, puedes asignar un nuevo valor a una variable que representa una tupla. Por ejemplo, si quisiéramos cambiar las dimensiones de este rectángulo, podríamos redefinir toda la tupla:"
   ]
  },
  {
   "cell_type": "code",
   "execution_count": 71,
   "metadata": {},
   "outputs": [
    {
     "name": "stdout",
     "output_type": "stream",
     "text": [
      "Dimensiones originales:\n",
      "200\n",
      "50\n"
     ]
    }
   ],
   "source": [
    "dimensiones = (200, 50)\n",
    "print(\"Dimensiones originales:\")\n",
    "for dimension in dimensiones:\n",
    "    print(dimension)"
   ]
  },
  {
   "cell_type": "code",
   "execution_count": 72,
   "metadata": {},
   "outputs": [
    {
     "name": "stdout",
     "output_type": "stream",
     "text": [
      "Dimensiones modificadas:\n",
      "400\n",
      "100\n"
     ]
    }
   ],
   "source": [
    "dimensiones =  (400, 100)\n",
    "print(\"Dimensiones modificadas:\")\n",
    "for dimension in dimensiones:\n",
    "    print(dimension)"
   ]
  },
  {
   "cell_type": "markdown",
   "metadata": {},
   "source": [
    "Las primeras cuatro líneas definen la tupla original e imprimen las dimensiones iniciales. Luego, asociamos una nueva tupla con la variable `dimensiones` e imprimimos los nuevos valores. Python no genera errores esta vez, porque reasignar una variable es válido:\n",
    "\n",
    "```python\n",
    "Dimensiones originales:\n",
    "200\n",
    "50\n",
    "\n",
    "Dimensiones modificadas:\n",
    "400\n",
    "100\n",
    "```\n",
    "\n",
    "Comparadas con las listas, las tuplas son estructuras de datos simples. Úsalas cuando desees almacenar un conjunto de valores que no deben ser cambiados a lo largo de la vida de un programa.\n"
   ]
  },
  {
   "cell_type": "markdown",
   "metadata": {},
   "source": [
    "## **HAZLO TU MISMO**\n",
    "**4-13. Buffet:**\n",
    "\n",
    "* Un restaurante tipo buffet ofrece solo cinco alimentos básicos. Piensa en cinco comidas simples y almacénalas en una tupla.\n",
    "* Usa un bucle for para imprimir cada alimento que ofrece el restaurante.\n",
    "* Intenta modificar uno de los elementos y asegúrate de que Python rechace el cambio.\n",
    "* El restaurante cambia su menú, reemplazando dos de los elementos con alimentos diferentes. Agrega una línea que reescriba la tupla y luego usa un bucle for para imprimir cada uno de los elementos en el menú revisado."
   ]
  },
  {
   "cell_type": "code",
   "execution_count": 76,
   "metadata": {},
   "outputs": [
    {
     "name": "stdout",
     "output_type": "stream",
     "text": [
      "Las comidas de mi tupla son:\n",
      "* Completo\n",
      "* Pizza\n",
      "* Papas Fritas\n",
      "* Lazagna\n",
      "* Pollo Asado\n"
     ]
    }
   ],
   "source": [
    "comidas = ('completo', 'pizza', 'papas fritas', 'lazagna', 'pollo asado')    # Definimos una tupla con 5 elementos\n",
    "\n",
    "print(\"Las comidas de mi tupla son:\")\n",
    "for c in comidas:\n",
    "    print(f\"* {c.title()}\")"
   ]
  },
  {
   "cell_type": "code",
   "execution_count": 78,
   "metadata": {},
   "outputs": [
    {
     "ename": "AttributeError",
     "evalue": "'tuple' object has no attribute 'append'",
     "output_type": "error",
     "traceback": [
      "\u001b[0;31m---------------------------------------------------------------------------\u001b[0m",
      "\u001b[0;31mAttributeError\u001b[0m                            Traceback (most recent call last)",
      "Cell \u001b[0;32mIn[78], line 1\u001b[0m\n\u001b[0;32m----> 1\u001b[0m \u001b[43mcomidas\u001b[49m\u001b[38;5;241;43m.\u001b[39;49m\u001b[43mappend\u001b[49m(\u001b[38;5;124m'\u001b[39m\u001b[38;5;124mfalafel\u001b[39m\u001b[38;5;124m'\u001b[39m)    \u001b[38;5;66;03m# No podemos agregarle un valor de esta manera a una tupla ya que es inmutable\u001b[39;00m\n",
      "\u001b[0;31mAttributeError\u001b[0m: 'tuple' object has no attribute 'append'"
     ]
    }
   ],
   "source": [
    "comidas.append('falafel')    # No podemos agregarle un valor de esta manera a una tupla ya que es inmutable"
   ]
  },
  {
   "cell_type": "code",
   "execution_count": 79,
   "metadata": {},
   "outputs": [
    {
     "name": "stdout",
     "output_type": "stream",
     "text": [
      "Las comidas de mi tupla son:\n",
      "* Espaguetti\n",
      "* Pizza\n",
      "* Papas Fritas\n",
      "* Lazagna\n",
      "* Pollo Asado\n"
     ]
    }
   ],
   "source": [
    "comidas = ('espaguetti', 'pizza', 'papas fritas', 'lazagna', 'pollo asado')    # Definimos una nueva tupla con 5 elementos\n",
    "\n",
    "print(\"Las comidas de mi tupla son:\")\n",
    "for c in comidas:\n",
    "    print(f\"* {c.title()}\")"
   ]
  },
  {
   "cell_type": "markdown",
   "metadata": {},
   "source": [
    "## Diseñar tu código\n",
    "\n",
    "El estilo de tu código es importante a medida que tus programas se vuelven más extensos. Es una buena práctica aprender a estilizar tu código de manera consistente. Tómate el tiempo para hacer tu código lo más fácil de leer posible. Escribir código fácil de leer te ayuda a mantener el control de lo que hacen tus programas y también ayuda a que otros comprendan tu código.\n",
    "\n",
    "Los programadores de Python han acordado una serie de convenciones de estilo para asegurar que el código de todos esté estructurado de manera similar. Una vez que hayas aprendido a escribir código Python limpio, deberías poder comprender la estructura general del código de cualquier otro programador en Python, siempre y cuando sigan las mismas pautas. Si tienes la esperanza de convertirte en programador profesional en algún momento, deberías comenzar a seguir estas pautas lo antes posible para desarrollar buenos hábitos.\n"
   ]
  },
  {
   "cell_type": "markdown",
   "metadata": {},
   "source": [
    "## La guía de estilo\n",
    "\n",
    "El \"Style Guide\" de Python, definido en el PEP 8 (Python Enhancement Proposal), ofrece directrices sobre cómo dar estilo al código Python. Aunque es extenso, gran parte del PEP 8 se enfoca en estructuras de codificación más complejas que las que has visto hasta ahora.\n",
    "\n",
    "El \"style guide\" de Python se redactó con la comprensión de que el código se lee más a menudo de lo que se escribe. Escribirás tu código una vez y luego lo leerás al comenzar a depurarlo. Cuando agregues funciones a un programa, pasarás más tiempo leyendo tu código. Cuando compartas tu código con otros programadores, ellos también lo leerán.\n",
    "\n",
    "Ante la elección entre escribir código más fácil de escribir o código más fácil de leer, los programadores de Python casi siempre te animarán a escribir código que sea más fácil de leer. Las siguientes pautas te ayudarán a escribir un código claro desde el principio.\n"
   ]
  },
  {
   "cell_type": "markdown",
   "metadata": {},
   "source": [
    "## Identación\n",
    "\n",
    "PEP 8 recomienda el uso de cuatro espacios por nivel de indentación. El uso de cuatro espacios mejora la legibilidad y permite varios niveles de indentación en cada línea.\n",
    "\n",
    "En documentos de procesamiento de texto, a menudo se usan tabulaciones en lugar de espacios para la indentación. Esto funciona bien para documentos de procesamiento de texto, pero el intérprete de Python se confunde cuando se mezclan tabulaciones con espacios. Cada editor de texto proporciona una configuración que te permite usar la tecla TAB, pero luego convierte cada tabulación en un número determinado de espacios. Debes usar tu tecla TAB, pero también asegúrate de que tu editor esté configurado para insertar espacios en lugar de tabulaciones en tu documento.\n",
    "\n",
    "Mezclar tabulaciones y espacios en tu archivo puede causar problemas difíciles de diagnosticar. Si crees que tienes una mezcla de tabulaciones y espacios, puedes convertir todas las tabulaciones a espacios en la mayoría de los editores de texto."
   ]
  },
  {
   "cell_type": "markdown",
   "metadata": {},
   "source": [
    "**NOTA**\n",
    "  \n",
    "El Apéndice B te muestra cómo configurar tu editor de texto para que siempre inserte cuatro espacios cada vez que presiones la tecla TAB y muestra una guía vertical para ayudarte a seguir el límite de 79 caracteres."
   ]
  },
  {
   "cell_type": "markdown",
   "metadata": {},
   "source": [
    "## Líneas en blanco\n",
    "\n",
    "Para agrupar visualmente partes de tu programa, utiliza líneas en blanco. Debes usar líneas en blanco para organizar tus archivos, pero no lo hagas de manera excesiva. Siguiendo los ejemplos proporcionados en este libro, deberías encontrar el equilibrio adecuado. Por ejemplo, si tienes cinco líneas de código que construyen una lista y luego otras tres líneas que hacen algo con esa lista, es apropiado colocar una línea en blanco entre las dos secciones. Sin embargo, no deberías colocar tres o cuatro líneas en blanco entre las dos secciones.\n",
    "Las líneas en blanco no afectarán cómo se ejecuta tu código, pero sí afectarán la legibilidad del mismo. El intérprete de Python utiliza la indentación horizontal para interpretar el significado de tu código, pero ignora el espaciado vertical."
   ]
  },
  {
   "cell_type": "markdown",
   "metadata": {},
   "source": [
    "## Otros lineamientos de estilo\n",
    "\n",
    "PEP 8 tiene muchas recomendaciones adicionales de estilo, pero la mayoría de las directrices se refieren a programas más complejos de lo que estás escribiendo en este momento. A medida que aprendas estructuras de Python más complejas, compartiré las partes relevantes de las directrices de PEP 8."
   ]
  },
  {
   "cell_type": "markdown",
   "metadata": {},
   "source": [
    "## **HAZLO TU MISMO**\n",
    "\n",
    "**4-14. PEP 8:**\n",
    "\n",
    "Echa un vistazo a la guía de estilo original PEP 8 en https://python.org/dev/peps/pep-0008. Es posible que no uses mucho de ella ahora, pero podría ser interesante revisarla por encima."
   ]
  },
  {
   "cell_type": "markdown",
   "metadata": {},
   "source": [
    "\n",
    "\n",
    "**4-15. Revisión de código:**\n",
    "\n",
    "Elige tres de los programas que has escrito en este capítulo y modifica cada uno para cumplir con PEP 8.\n",
    "\n",
    "Utiliza cuatro espacios para cada nivel de indentación. Configura tu editor de texto para que inserte cuatro espacios cada vez que presiones la tecla TAB, si aún no lo has hecho (consulta el Apéndice B para obtener instrucciones sobre cómo hacerlo).\n",
    "\n",
    "Utiliza menos de 80 caracteres en cada línea y configura tu editor para mostrar una guía vertical en la posición del carácter 80.\n",
    "\n",
    "No uses líneas en blanco excesivamente en tus archivos de programa."
   ]
  },
  {
   "cell_type": "markdown",
   "metadata": {},
   "source": [
    "# **Resumen**\n",
    "\n",
    "* En este capítulo, aprendiste a trabajar de manera eficiente con los elementos en una lista. \n",
    "* Aprendiste cómo recorrer una lista usando un bucle for, cómo Python utiliza la indentación para estructurar un programa y cómo evitar algunos errores comunes de indentación. \n",
    "* Aprendiste a crear listas numéricas simples, así como algunas operaciones que puedes realizar en listas numéricas. \n",
    "* Aprendiste cómo dividir una lista para trabajar con un subconjunto de elementos y cómo copiar listas correctamente utilizando una división. \n",
    "* También aprendiste sobre las tuplas, que proporcionan un grado de protección para un conjunto de valores que no deben cambiar, y cómo darle estilo a tu código cada vez más complejo para que sea fácil de leer.\n",
    "\n",
    "```python\n",
    "En el Capítulo 5, aprenderás a responder de manera apropiada a diferentes condiciones utilizando declaraciones if. Aprenderás a concatenar conjuntos relativamente complejos de pruebas condicionales para responder de manera adecuada a exactamente el tipo de situación o información que estás buscando. También aprenderás a usar declaraciones if mientras recorres una lista para tomar acciones específicas con elementos seleccionados de una lista.\n",
    "```"
   ]
  }
 ],
 "metadata": {
  "kernelspec": {
   "display_name": "env",
   "language": "python",
   "name": "python3"
  },
  "language_info": {
   "codemirror_mode": {
    "name": "ipython",
    "version": 3
   },
   "file_extension": ".py",
   "mimetype": "text/x-python",
   "name": "python",
   "nbconvert_exporter": "python",
   "pygments_lexer": "ipython3",
   "version": "3.12.3"
  }
 },
 "nbformat": 4,
 "nbformat_minor": 2
}
