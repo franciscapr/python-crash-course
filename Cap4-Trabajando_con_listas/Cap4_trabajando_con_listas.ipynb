{
 "cells": [
  {
   "cell_type": "markdown",
   "metadata": {
    "vscode": {
     "languageId": "plaintext"
    }
   },
   "source": [
    "# **CAPÍTULO 4: TRABAJANDO CON LISTAS**\n",
    "* Recorrer toda una lista\n",
    "* Una mirada más cercana al bucle (loop)\n",
    "* Realizar más trabajo dentro de un bucle for\n",
    "* Hacer algo después de un bucle for\n",
    "* Evitar errores de sangría\n",
    "* Olvidar la sangría\n",
    "* Olvidar la sangría en líneas adicionales\n",
    "* Sangrar innecesariamente\n",
    "* Sangrar innecesariamente después del bucle\n",
    "* Olvidar los dos puntos\n",
    "* Ejercicio 4-1: Pizzas\n",
    "* Ejercicio 4-2: Animales\n",
    "* Crear listas numéricas\n",
    "* Usar la función range()\n",
    "* Usar range() para hacer una lista de números\n",
    "* Estadísticas simples con una lista de números\n",
    "* Comprensiones de lista\n",
    "* Ejercicio 4-3: Contando hasta veinte\n",
    "* Ejercicio 4-4: Un millón\n",
    "* Ejercicio 4-5: Sumando un millón\n",
    "* Ejercicio 4-6: Números impares\n",
    "* Ejercicio 4-7: Números tres\n",
    "* Ejercicio 4-8: Cubos\n",
    "* Ejercicio 4-9: Comprensión de cubos\n",
    "* Trabajar con parte de una lista\n",
    "* Rebanar (slicing) una lista\n",
    "* Recorrer una rebanada\n",
    "* Copiar una lista\n",
    "* Ejercicio 4-10: Rebanadas\n",
    "* Ejercicio 4-11: Mis pizzas, tus pizzas\n",
    "* Ejercicio 4-12: Más bucles\n",
    "* Tuplas\n",
    "* Definir una tupla\n",
    "* Recorrer todos los valores en una tupla\n",
    "* Sobrescribir una tupla\n",
    "* Ejercicio 4-13: Buffet\n",
    "* Estilo de tu código\n",
    "* La guía de estilo\n",
    "* Sangría\n",
    "* Longitud de línea\n",
    "* Líneas en blanco\n",
    "* Otras pautas de estilo\n",
    "* Ejercicio 4-14: PEP 8\n",
    "* Ejercicio 4-15: Revisión de código\n",
    "* Resumen"
   ]
  },
  {
   "cell_type": "markdown",
   "metadata": {},
   "source": [
    "## TRABAJANDO CON LISTAS\n",
    "\n",
    "En el Capítulo 3 aprendiste cómo crear una lista simple y cómo trabajar con los elementos individuales de una lista. En este capítulo aprenderás a recorrer toda una lista usando solo unas pocas líneas de código, sin importar cuántos elementos tenga la lista. Recorrer te permite realizar la misma acción o conjunto de acciones con cada elemento de una lista. Como resultado, podrás trabajar de manera eficiente con listas de cualquier longitud, incluyendo aquellas con miles o incluso millones de elementos."
   ]
  },
  {
   "cell_type": "markdown",
   "metadata": {},
   "source": [
    "## Recorrer toda una lista con un bucle\n",
    "\n",
    "A menudo, desearás recorrer todas las entradas en una lista, realizando la misma tarea con cada elemento. Por ejemplo, en un juego podrías querer mover cada elemento en la pantalla la misma cantidad. En una lista de números, podrías querer realizar la misma operación estadística en cada elemento. O tal vez desees mostrar cada titular de una lista de artículos en un sitio web. Cuando deseas realizar la misma acción con cada elemento en una lista, puedes usar el bucle `for` de Python.\n",
    "\n",
    "Imagina que tenemos una lista de nombres de magos y queremos imprimir cada nombre en la lista. Podríamos hacer esto recuperando cada nombre de la lista individualmente, pero este enfoque podría causar varios problemas. Por un lado, sería repetitivo hacer esto con una larga lista de nombres. Además, tendríamos que cambiar nuestro código cada vez que cambie la longitud de la lista. El uso de un bucle `for` evita ambos problemas al permitir que Python maneje estas cuestiones internamente.\n",
    "\n",
    "Usaremos un bucle `for` para imprimir cada nombre en una lista de magos:"
   ]
  },
  {
   "cell_type": "code",
   "execution_count": 1,
   "metadata": {},
   "outputs": [
    {
     "name": "stdout",
     "output_type": "stream",
     "text": [
      "alice\n",
      "david\n",
      "carolina\n"
     ]
    }
   ],
   "source": [
    "magicians = ['alice', 'david', 'carolina']\n",
    "for magician in magicians:\n",
    "    print(magician)"
   ]
  },
  {
   "cell_type": "markdown",
   "metadata": {},
   "source": [
    "Comenzamos definiendo una lista, tal como lo hicimos en el Capítulo 3. Luego, definimos un bucle `for`. Esta línea le indica a Python que tome un nombre de la lista `magicians` y lo asocie con la variable `magician`. Luego, le decimos a Python que imprima el nombre que acaba de ser asignado a `magician`. Python luego repite estas dos últimas líneas, una vez por cada nombre en la lista. Puede ser útil leer este código como \"Por cada mago en la lista de magos, imprime el nombre del mago\".\n",
    "\n",
    "La salida es una simple impresión de cada nombre en la lista:\n",
    "\n",
    "```python\n",
    "alice\n",
    "david\n",
    "carolina\n",
    "```\n"
   ]
  },
  {
   "cell_type": "markdown",
   "metadata": {},
   "source": [
    "## Un Vistazo Más Detallado al Uso de los Bucles\n",
    "\n",
    "Los bucles son importantes porque son una de las formas más comunes en que una computadora automatiza tareas repetitivas. Por ejemplo, en un bucle simple como el que usamos en `magicians.py`, Python lee inicialmente la primera línea del bucle:\n",
    "\n",
    "```python\n",
    "for magician in magicians:\n",
    "```\n",
    "\n",
    "Esta línea le indica a Python que obtenga el primer valor de la lista `magicians` y lo asocie con la variable `magician`. Este primer valor es 'alice'. Luego, Python lee la siguiente línea:\n",
    "\n",
    "```python\n",
    "print(magician)\n",
    "```\n",
    "\n",
    "Python imprime el valor actual de `magician`, que sigue siendo 'alice'. Como la lista contiene más valores, Python vuelve a la primera línea del bucle:\n",
    "\n",
    "```python\n",
    "for magician in magicians:\n",
    "```\n",
    "\n",
    "Python obtiene el siguiente nombre en la lista, 'david', y asocia ese valor con la variable `magician`. Luego ejecuta la línea:\n",
    "\n",
    "```python\n",
    "print(magician)\n",
    "```\n",
    "\n",
    "Python imprime nuevamente el valor actual de `magician`, que ahora es 'david'. Python repite todo el bucle una vez más con el último valor de la lista, 'carolina'. Como no hay más valores en la lista, Python continúa con la siguiente línea en el programa. En este caso, no hay nada después del bucle `for`, por lo que el programa termina.\n",
    "\n",
    "Cuando estás utilizando bucles por primera vez, ten en cuenta que el conjunto de pasos se repite una vez por cada elemento en la lista, sin importar cuántos elementos haya en ella. Si tienes un millón de elementos en tu lista, Python repetirá estos pasos un millón de veces, y generalmente de manera muy rápida.\n",
    "\n",
    "También recuerda que al escribir tus propios bucles `for`, puedes elegir cualquier nombre para la variable temporal que estará asociada con cada valor en la lista. Sin embargo, es útil elegir un nombre significativo que represente un solo elemento de la lista. Por ejemplo, aquí tienes una buena manera de comenzar un bucle `for` para una lista de gatos, una lista de perros y una lista general de elementos:\n",
    "\n",
    "```python\n",
    "for cat in cats:\n",
    "for dog in dogs:\n",
    "for item in list_of_items:\n",
    "```\n",
    "\n",
    "Estas convenciones de nomenclatura pueden ayudarte a seguir la acción que se realiza en cada elemento dentro de un bucle `for`. El uso de nombres en singular y plural puede ayudarte a identificar si una sección de código está trabajando con un solo elemento de la lista o con toda la lista."
   ]
  },
  {
   "cell_type": "markdown",
   "metadata": {},
   "source": [
    "## Realizando Más Trabajo Dentro de un Bucle for\n",
    "\n",
    "Puedes hacer prácticamente cualquier cosa con cada elemento dentro de un bucle for. Vamos a ampliar el ejemplo anterior imprimiendo un mensaje a cada mago, diciéndoles que realizaron un truco genial:"
   ]
  },
  {
   "cell_type": "code",
   "execution_count": 3,
   "metadata": {},
   "outputs": [
    {
     "name": "stdout",
     "output_type": "stream",
     "text": [
      "¡Alice, eso fue un truco genial!\n",
      "¡David, eso fue un truco genial!\n",
      "¡Carolina, eso fue un truco genial!\n"
     ]
    }
   ],
   "source": [
    "magicians = ['alice', 'david', 'carolina']\n",
    "for magician in magicians:\n",
    "    print(f\"¡{magician.title()}, eso fue un truco genial!\")"
   ]
  },
  {
   "cell_type": "markdown",
   "metadata": {},
   "source": [
    "La única diferencia en este código es donde componemos un mensaje para cada mago, comenzando con el nombre de ese mago. La primera vez que se ejecuta el bucle, el valor de `magician` es 'alice', por lo que Python inicia el primer mensaje con el nombre 'Alice'. La segunda vez, el mensaje comenzará con 'David', y la tercera vez, comenzará con 'Carolina'.\n",
    "\n",
    "La salida muestra un mensaje personalizado para cada mago en la lista:\n",
    "\n",
    "```python\n",
    "¡Alice, eso fue un truco genial!\n",
    "¡David, eso fue un truco genial!\n",
    "¡Carolina, eso fue un truco genial!\n",
    "```\n",
    "\n",
    "También puedes escribir tantas líneas de código como desees dentro del bucle for. Cada línea con sangría que sigue a la línea `for magician in magicians:` se considera dentro del bucle, y cada línea con sangría se ejecuta una vez por cada valor en la lista. Por lo tanto, puedes realizar todo el trabajo que desees con cada valor en la lista.\n",
    "\n",
    "Agreguemos una segunda línea a nuestro mensaje, diciendo a cada mago que estamos ansiosos por ver su próximo truco:"
   ]
  },
  {
   "cell_type": "code",
   "execution_count": 4,
   "metadata": {},
   "outputs": [
    {
     "name": "stdout",
     "output_type": "stream",
     "text": [
      "¡Alice, eso fue un truco genial!\n",
      "¡Estoy deseando ver tu pròximo truco, Alice!\n",
      "\n",
      "¡David, eso fue un truco genial!\n",
      "¡Estoy deseando ver tu pròximo truco, David!\n",
      "\n",
      "¡Carolina, eso fue un truco genial!\n",
      "¡Estoy deseando ver tu pròximo truco, Carolina!\n",
      "\n"
     ]
    }
   ],
   "source": [
    "magicians = ['alice', 'david', 'carolina']\n",
    "for magician in magicians:\n",
    "    print(f\"¡{magician.title()}, eso fue un truco genial!\")\n",
    "    print(f\"¡Estoy deseando ver tu pròximo truco, {magician.title()}!\\n\")"
   ]
  },
  {
   "cell_type": "markdown",
   "metadata": {},
   "source": [
    "Dado que hemos sangrado ambas llamadas a `print()`, cada línea se ejecutará una vez por cada mago en la lista. El carácter de nueva línea (\"\\n\") en la segunda llamada a `print()` inserta una línea en blanco después de cada pasada por el bucle.\n",
    "\n",
    "Esto crea un conjunto de mensajes que están ordenadamente agrupados para cada persona en la lista:\n",
    "\n",
    "```python\n",
    "¡Alice, eso fue un truco genial!\n",
    "¡Estoy deseando ver tu próximo truco, Alice!\n",
    "\n",
    "¡David, eso fue un truco genial!\n",
    "¡Estoy deseando ver tu próximo truco, David!\n",
    "\n",
    "¡Carolina, eso fue un truco genial!\n",
    "¡Estoy deseando ver tu próximo truco, Carolina!\n",
    "```\n",
    "\n",
    "Puedes utilizar tantas líneas como desees en tus bucles for. En la práctica, a menudo encontrarás útil realizar varias operaciones diferentes con cada elemento en una lista cuando utilices un bucle for."
   ]
  }
 ],
 "metadata": {
  "kernelspec": {
   "display_name": "env",
   "language": "python",
   "name": "python3"
  },
  "language_info": {
   "codemirror_mode": {
    "name": "ipython",
    "version": 3
   },
   "file_extension": ".py",
   "mimetype": "text/x-python",
   "name": "python",
   "nbconvert_exporter": "python",
   "pygments_lexer": "ipython3",
   "version": "3.12.3"
  }
 },
 "nbformat": 4,
 "nbformat_minor": 2
}
