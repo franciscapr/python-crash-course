{
 "cells": [
  {
   "cell_type": "markdown",
   "metadata": {},
   "source": [
    "# **CAPÍTULO 6: DICCIONARIOS**\n",
    "* Un diccionario simple\n",
    "* Trabajar con diccionarios\n",
    "* Acceder a valores en un diccionario\n",
    "* Agregar nuevos pares clave-valor\n",
    "* Comenzar con un diccionario vacío\n",
    "* Modificar valores en un diccionario\n",
    "* Eliminar pares clave-valor\n",
    "* Un diccionario de objetos similares\n",
    "* Uso de get() para acceder a valores\n",
    "* Ejercicio 6-1: Persona\n",
    "* Ejercicio 6-2: Números favoritos\n",
    "* Ejercicio 6-3: Glosario\n",
    "* Recorrer un diccionario\n",
    "* Recorrer todos los pares clave-valor\n",
    "* Recorrer todas las claves en un diccionario\n",
    "* Recorrer las claves de un diccionario en un orden particular\n",
    "* Recorrer todos los valores en un diccionario\n",
    "* Ejercicio 6-4: Glosario 2\n",
    "* Ejercicio 6-5: Ríos\n",
    "* Ejercicio 6-6: Encuestas\n",
    "* Anidamiento\n",
    "* Una lista de diccionarios\n",
    "* Una lista en un diccionario\n",
    "* Un diccionario en un diccionario\n",
    "* Ejercicio 6-7: Personas\n",
    "* Ejercicio 6-8: Mascotas\n",
    "* Ejercicio 6-9: Lugares favoritos\n",
    "* Ejercicio 6-10: Números favoritos\n",
    "* Ejercicio 6-11: Ciudades\n",
    "* Ejercicio 6-12: Extensiones\n",
    "* Resumen\n"
   ]
  },
  {
   "cell_type": "markdown",
   "metadata": {},
   "source": [
    "# **Diccionarios**\n",
    "\n",
    "En este capítulo aprenderás a utilizar los diccionarios de Python, los cuales te permiten conectar piezas de información relacionada. Aprenderás cómo acceder a la información una vez que esté en un diccionario y cómo modificar esa información. Debido a que los diccionarios pueden almacenar una cantidad casi ilimitada de información, te mostraré cómo recorrer los datos en un diccionario. Además, aprenderás a anidar diccionarios dentro de listas, listas dentro de diccionarios e incluso diccionarios dentro de otros diccionarios.\n",
    "\n",
    "Comprender los diccionarios te permitirá modelar de manera más precisa una variedad de objetos del mundo real. Podrás crear un diccionario que represente a una persona y luego almacenar toda la información que desees sobre esa persona. Puedes almacenar su nombre, edad, ubicación, profesión y cualquier otro aspecto de una persona que puedas describir. Podrás almacenar dos tipos de información que se pueden relacionar, como una lista de palabras y sus significados, una lista de nombres de personas y sus números favoritos, una lista de montañas y sus altitudes, entre otros ejemplos."
   ]
  },
  {
   "cell_type": "markdown",
   "metadata": {},
   "source": [
    "## Un diccionario simple\n",
    "\n",
    "Aquí se muestra un ejemplo de un diccionario simple en Python que representa información sobre un alienígena en un juego:"
   ]
  },
  {
   "cell_type": "code",
   "execution_count": 1,
   "metadata": {},
   "outputs": [
    {
     "name": "stdout",
     "output_type": "stream",
     "text": [
      "green\n",
      "5\n"
     ]
    }
   ],
   "source": [
    "alien_0 = {'color': 'green', 'points': 5}\n",
    "print(alien_0['color'])\n",
    "print(alien_0['points'])"
   ]
  },
  {
   "cell_type": "markdown",
   "metadata": {},
   "source": [
    "El diccionario alien_0 almacena información sobre el color y el valor de puntos del alienígena. Las dos líneas finales acceden y muestran esa información, como se muestra a continuación:\n",
    "\n",
    "```python\n",
    "green\n",
    "5\n",
    "```\n",
    "\n",
    "Este ejemplo demuestra cómo puedes acceder a los valores almacenados en un diccionario utilizando las claves correspondientes. Los diccionarios son útiles para almacenar información estructurada y representar objetos con múltiples atributos o propiedades en Python."
   ]
  },
  {
   "cell_type": "markdown",
   "metadata": {},
   "source": [
    "## Trabajar con diccionarios\n",
    "\n",
    "Un diccionario en Python es una colección de pares clave-valor. Cada clave está conectada a un valor y puedes usar una clave para acceder al valor asociado con esa clave. El valor de una clave puede ser un número, una cadena, una lista o incluso otro diccionario. De hecho, puedes utilizar cualquier objeto que puedas crear en Python como un valor en un diccionario.\n",
    "\n",
    "En Python, un diccionario está encerrado entre llaves ({}) con una serie de pares clave-valor dentro de ellas, como se muestra en el ejemplo anterior:"
   ]
  },
  {
   "cell_type": "code",
   "execution_count": 2,
   "metadata": {},
   "outputs": [],
   "source": [
    "alien_0 = {'color': 'green', 'points': 5}"
   ]
  },
  {
   "cell_type": "markdown",
   "metadata": {},
   "source": [
    "Un par clave-valor es un conjunto de valores asociados entre sí. Cuando proporcionas una clave, Python devuelve el valor asociado con esa clave. Cada clave está conectada a su valor mediante dos puntos, y los pares clave-valor individuales están separados por comas. Puedes almacenar tantos pares clave-valor como desees en un diccionario.\n",
    "\n",
    "El diccionario más simple tiene exactamente un par clave-valor, como se muestra en esta versión modificada del diccionario alien_0:\n",
    "\n",
    "```python\n",
    "alien_0 = {'color': 'green'}\n",
    "```\n",
    "\n",
    "Este diccionario almacena una sola pieza de información sobre alien_0: el color del alienígena. La cadena 'color' es una clave en este diccionario, y su valor asociado es 'green'."
   ]
  },
  {
   "cell_type": "markdown",
   "metadata": {},
   "source": [
    "## Acceder a valores en un diccionario\n",
    "\n",
    "Para obtener el valor asociado con una clave en un diccionario, proporciona el nombre del diccionario y luego coloca la clave dentro de un conjunto de corchetes, como se muestra aquí:\n"
   ]
  },
  {
   "cell_type": "code",
   "execution_count": 3,
   "metadata": {},
   "outputs": [
    {
     "name": "stdout",
     "output_type": "stream",
     "text": [
      "green\n"
     ]
    }
   ],
   "source": [
    "aline_0 = {'color': 'green'}\n",
    "print(alien_0['color'])"
   ]
  },
  {
   "cell_type": "markdown",
   "metadata": {},
   "source": [
    "Esto devuelve el valor asociado con la clave 'color' del diccionario alien_0:\n",
    "\n",
    "```python\n",
    "green\n",
    "```\n",
    "\n",
    "Puedes tener un número ilimitado de pares clave-valor en un diccionario. Por ejemplo, aquí está el diccionario original alien_0 con dos pares clave-valor:"
   ]
  },
  {
   "cell_type": "code",
   "execution_count": 4,
   "metadata": {},
   "outputs": [],
   "source": [
    "alien_0 = {'color': 'green', 'points': 5}"
   ]
  },
  {
   "cell_type": "markdown",
   "metadata": {},
   "source": [
    "\n",
    "Ahora puedes acceder tanto al color como al valor de puntos de alien_0. Si un jugador derriba a este alienígena, puedes verificar cuántos puntos deberían ganar usando código como este:"
   ]
  },
  {
   "cell_type": "code",
   "execution_count": 6,
   "metadata": {},
   "outputs": [
    {
     "name": "stdout",
     "output_type": "stream",
     "text": [
      "¡Acabas de ganar 5 puntos!!!\n"
     ]
    }
   ],
   "source": [
    "alien_0 = {'color': 'green', 'points': 5}\n",
    "new_points = alien_0['points']\n",
    "print(f\"¡Acabas de ganar {new_points} puntos!!!\")"
   ]
  },
  {
   "cell_type": "markdown",
   "metadata": {},
   "source": [
    "Una vez que se ha definido el diccionario, extraemos el valor asociado con la clave 'points' del diccionario. Este valor se asigna a la variable new_points. La última línea imprime una declaración sobre cuántos puntos acaba de ganar el jugador:\n",
    "\n",
    "```python\n",
    "¡Acabas de ganar 5 puntos!\n",
    "```\n",
    "\n",
    "Si ejecutas este código cada vez que se derriba a un alienígena, se recuperará el valor de puntos del alienígena."
   ]
  },
  {
   "cell_type": "markdown",
   "metadata": {},
   "source": [
    "## Agregar nuevos pares clave-valor \n",
    "\n",
    "Los diccionarios son estructuras dinámicas y puedes agregar nuevos pares clave-valor a un diccionario en cualquier momento. Para añadir un nuevo par clave-valor, proporcionarías el nombre del diccionario seguido de la nueva clave entre corchetes, junto con el nuevo valor.\n",
    "\n",
    "Vamos a agregar dos nuevas piezas de información al diccionario alien_0: las coordenadas x e y del alienígena, las cuales nos ayudarán a mostrar el alienígena en una posición específica en la pantalla. Colocaremos al alienígena en el borde izquierdo de la pantalla, 25 píxeles hacia abajo desde la parte superior."
   ]
  },
  {
   "cell_type": "code",
   "execution_count": 7,
   "metadata": {},
   "outputs": [
    {
     "name": "stdout",
     "output_type": "stream",
     "text": [
      "{'color': 'green', 'points': 5}\n",
      "{'color': 'green', 'points': 5, 'x_position': 0, 'u_position': 25}\n"
     ]
    }
   ],
   "source": [
    "alien_0 = {'color': 'green', 'points': 5}\n",
    "print(alien_0)\n",
    "\n",
    "alien_0['x_position'] = 0\n",
    "alien_0['u_position'] = 25\n",
    "\n",
    "print(alien_0)"
   ]
  },
  {
   "cell_type": "markdown",
   "metadata": {},
   "source": [
    "\n",
    "Comenzamos definiendo el mismo diccionario con el que hemos estado trabajando. Luego imprimimos este diccionario, mostrando una instantánea de su información. A continuación, agregamos un nuevo par clave-valor al diccionario: la clave 'x_position' y el valor 0. Hacemos lo mismo para la clave 'y_position'. Cuando imprimimos el diccionario modificado, vemos los dos pares clave-valor adicionales:\n",
    "\n",
    "```python\n",
    "{'color': 'green', 'points': 5}\n",
    "{'color': 'green', 'points': 5, 'x_position': 0, 'y_position': 25}\n",
    "```\n",
    "\n",
    "La versión final del diccionario contiene cuatro pares clave-valor. Los dos originales especifican el color y el valor de puntos, y los otros dos especifican la posición del alienígena.\n",
    "\n",
    "Los diccionarios conservan el orden en el que fueron definidos. Cuando imprimes un diccionario o iteras a través de sus elementos, verás los elementos en el mismo orden en que fueron agregados al diccionario."
   ]
  },
  {
   "cell_type": "markdown",
   "metadata": {},
   "source": [
    "## Comenzando con un diccionario vacío\n",
    "\n",
    "A veces es conveniente, o incluso necesario, comenzar con un diccionario vacío y luego agregar cada nuevo elemento a él. Para empezar a llenar un diccionario vacío, se define un diccionario con un conjunto vacío de llaves y luego se agrega cada par clave-valor en su propia línea. Por ejemplo, así es como se construye el diccionario alien_0 usando este enfoque:\n"
   ]
  },
  {
   "cell_type": "code",
   "execution_count": 8,
   "metadata": {},
   "outputs": [
    {
     "name": "stdout",
     "output_type": "stream",
     "text": [
      "{'color': 'green', 'points': 5}\n"
     ]
    }
   ],
   "source": [
    "alien_0 = {}    # Diccionario vacio\n",
    "\n",
    "alien_0['color'] = 'green'\n",
    "alien_0['points'] = 5\n",
    "print(alien_0)"
   ]
  },
  {
   "cell_type": "markdown",
   "metadata": {},
   "source": [
    "Primero definimos un diccionario alien_0 vacío y luego agregamos valores de color y puntos a él. El resultado es el diccionario que hemos estado usando en ejemplos anteriores:\n",
    "\n",
    "```python\n",
    "{'color': 'green', 'points': 5}\n",
    "```\n",
    "\n",
    "Por lo general, se utilizan diccionarios vacíos cuando se almacenan datos proporcionados por el usuario en un diccionario o al escribir código que genera automáticamente una gran cantidad de pares clave-valor.\n"
   ]
  },
  {
   "cell_type": "markdown",
   "metadata": {},
   "source": [
    "## Modificar valores en un diccionario\n",
    "\n",
    "Para modificar un valor en un diccionario, se proporciona el nombre del diccionario con la clave entre corchetes y luego el nuevo valor que se desea asociar con esa clave. Por ejemplo, considera un alienígena que cambia de verde a amarillo a medida que avanza un juego:"
   ]
  },
  {
   "cell_type": "code",
   "execution_count": 10,
   "metadata": {},
   "outputs": [
    {
     "name": "stdout",
     "output_type": "stream",
     "text": [
      "El alienigena es green.\n",
      "El alienìgena ahora es yellow.\n"
     ]
    }
   ],
   "source": [
    "alien_0 = {'color': 'green'}\n",
    "print(f\"El alienigena es {alien_0['color']}.\")\n",
    "alien_0['color'] = 'yellow'\n",
    "print(f\"El alienìgena ahora es {alien_0['color']}.\")"
   ]
  },
  {
   "cell_type": "markdown",
   "metadata": {},
   "source": [
    "Primero definimos un diccionario para alien_0 que contiene solo el color del alienígena; luego cambiamos el valor asociado con la clave 'color' a 'yellow'. La salida muestra que el alienígena ha cambiado de verde a amarillo:\n",
    "\n",
    "```python\n",
    "El alienígena es verde.\n",
    "El alienígena ahora es amarillo.\n",
    "```\n",
    "\n",
    "Para un ejemplo más interesante, rastreemos la posición de un alienígena que puede moverse a diferentes velocidades. Almacenaremos un valor que represente la velocidad actual del alienígena y luego lo usaremos para determinar cuánto debe moverse hacia la derecha el alienígena:"
   ]
  },
  {
   "cell_type": "code",
   "execution_count": 12,
   "metadata": {},
   "outputs": [
    {
     "name": "stdout",
     "output_type": "stream",
     "text": [
      "Position original: 0\n",
      "Nueva posiciòn: 2\n"
     ]
    }
   ],
   "source": [
    "alien_0 = {'x_position': 0, 'y_position': 25, 'speed': 'medium'}\n",
    "print(f\"Position original: {alien_0['x_position']}\")\n",
    "\n",
    "if alien_0['speed'] == 'slow':\n",
    "    x_increment = 1\n",
    "elif alien_0['speed'] == 'medium':\n",
    "    x_increment = 2\n",
    "else: \n",
    "    x_increment = 3\n",
    "\n",
    "alien_0['x_position'] = alien_0['x_position'] + x_increment\n",
    "print(f\"Nueva posiciòn: {alien_0['x_position']}\")"
   ]
  },
  {
   "cell_type": "markdown",
   "metadata": {},
   "source": [
    "Comenzamos definiendo un alienígena con una posición x inicial y una posición y, y una velocidad de 'medium'. Hemos omitido los valores de color y puntos por simplicidad, pero este ejemplo funcionaría de la misma manera si incluyeras esos pares clave-valor también. También imprimimos el valor original de x_position para ver cuánto se mueve el alienígena hacia la derecha.\n",
    "\n",
    "Un bloque if-elif-else determina cuánto debe moverse el alienígena hacia la derecha y asigna este valor a la variable x_increment. Si la velocidad del alienígena es 'slow', se mueve una unidad hacia la derecha; si la velocidad es 'medium', se mueve dos unidades hacia la derecha; y si es 'fast', se mueve tres unidades hacia la derecha. Una vez que se ha calculado el incremento, se agrega al valor de x_position, y el resultado se almacena en x_position del diccionario.\n",
    "\n",
    "Debido a que este es un alienígena de velocidad media, su posición se desplaza dos unidades hacia la derecha:\n",
    "\n",
    "```pythom\n",
    "Posición original x: 0\n",
    "Nueva posición x: 2\n",
    "```\n",
    "\n",
    "Esta técnica es bastante útil: al cambiar un valor en el diccionario del alienígena, puedes cambiar el comportamiento general del alienígena. Por ejemplo, para convertir este alienígena de velocidad media en un alienígena rápido, agregarías esta línea:\n",
    "\n",
    "```python\n",
    "alien_0['speed'] = 'fast'\n",
    "```\n",
    "\n",
    "El bloque if-elif-else asignaría un valor más grande a x_increment la próxima vez que se ejecute el código."
   ]
  }
 ],
 "metadata": {
  "kernelspec": {
   "display_name": "env",
   "language": "python",
   "name": "python3"
  },
  "language_info": {
   "codemirror_mode": {
    "name": "ipython",
    "version": 3
   },
   "file_extension": ".py",
   "mimetype": "text/x-python",
   "name": "python",
   "nbconvert_exporter": "python",
   "pygments_lexer": "ipython3",
   "version": "3.12.3"
  }
 },
 "nbformat": 4,
 "nbformat_minor": 2
}
