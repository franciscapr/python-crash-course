{
 "cells": [
  {
   "cell_type": "markdown",
   "metadata": {},
   "source": [
    "# **CAPÍTULO 6: DICCIONARIOS**\n",
    "* Un diccionario simple\n",
    "* Trabajar con diccionarios\n",
    "* Acceder a valores en un diccionario\n",
    "* Agregar nuevos pares clave-valor\n",
    "* Comenzar con un diccionario vacío\n",
    "* Modificar valores en un diccionario\n",
    "* Eliminar pares clave-valor\n",
    "* Un diccionario de objetos similares\n",
    "* Uso de get() para acceder a valores\n",
    "* Ejercicio 6-1: Persona\n",
    "* Ejercicio 6-2: Números favoritos\n",
    "* Ejercicio 6-3: Glosario\n",
    "* Recorrer un diccionario\n",
    "* Recorrer todos los pares clave-valor\n",
    "* Recorrer todas las claves en un diccionario\n",
    "* Recorrer las claves de un diccionario en un orden particular\n",
    "* Recorrer todos los valores en un diccionario\n",
    "* Ejercicio 6-4: Glosario 2\n",
    "* Ejercicio 6-5: Ríos\n",
    "* Ejercicio 6-6: Encuestas\n",
    "* Anidamiento\n",
    "* Una lista de diccionarios\n",
    "* Una lista en un diccionario\n",
    "* Un diccionario en un diccionario\n",
    "* Ejercicio 6-7: Personas\n",
    "* Ejercicio 6-8: Mascotas\n",
    "* Ejercicio 6-9: Lugares favoritos\n",
    "* Ejercicio 6-10: Números favoritos\n",
    "* Ejercicio 6-11: Ciudades\n",
    "* Ejercicio 6-12: Extensiones\n",
    "* Resumen\n"
   ]
  },
  {
   "cell_type": "markdown",
   "metadata": {},
   "source": [
    "# **Diccionarios**\n",
    "\n",
    "En este capítulo aprenderás a utilizar los diccionarios de Python, los cuales te permiten conectar piezas de información relacionada. Aprenderás cómo acceder a la información una vez que esté en un diccionario y cómo modificar esa información. Debido a que los diccionarios pueden almacenar una cantidad casi ilimitada de información, te mostraré cómo recorrer los datos en un diccionario. Además, aprenderás a anidar diccionarios dentro de listas, listas dentro de diccionarios e incluso diccionarios dentro de otros diccionarios.\n",
    "\n",
    "Comprender los diccionarios te permitirá modelar de manera más precisa una variedad de objetos del mundo real. Podrás crear un diccionario que represente a una persona y luego almacenar toda la información que desees sobre esa persona. Puedes almacenar su nombre, edad, ubicación, profesión y cualquier otro aspecto de una persona que puedas describir. Podrás almacenar dos tipos de información que se pueden relacionar, como una lista de palabras y sus significados, una lista de nombres de personas y sus números favoritos, una lista de montañas y sus altitudes, entre otros ejemplos."
   ]
  },
  {
   "cell_type": "markdown",
   "metadata": {},
   "source": [
    "## Un diccionario simple\n",
    "\n",
    "Aquí se muestra un ejemplo de un diccionario simple en Python que representa información sobre un alienígena en un juego:"
   ]
  },
  {
   "cell_type": "code",
   "execution_count": 1,
   "metadata": {},
   "outputs": [
    {
     "name": "stdout",
     "output_type": "stream",
     "text": [
      "green\n",
      "5\n"
     ]
    }
   ],
   "source": [
    "alien_0 = {'color': 'green', 'points': 5}\n",
    "print(alien_0['color'])\n",
    "print(alien_0['points'])"
   ]
  },
  {
   "cell_type": "markdown",
   "metadata": {},
   "source": [
    "El diccionario alien_0 almacena información sobre el color y el valor de puntos del alienígena. Las dos líneas finales acceden y muestran esa información, como se muestra a continuación:\n",
    "\n",
    "```python\n",
    "green\n",
    "5\n",
    "```\n",
    "\n",
    "Este ejemplo demuestra cómo puedes acceder a los valores almacenados en un diccionario utilizando las claves correspondientes. Los diccionarios son útiles para almacenar información estructurada y representar objetos con múltiples atributos o propiedades en Python."
   ]
  },
  {
   "cell_type": "markdown",
   "metadata": {},
   "source": [
    "## Trabajar con diccionarios\n",
    "\n",
    "Un diccionario en Python es una colección de pares clave-valor. Cada clave está conectada a un valor y puedes usar una clave para acceder al valor asociado con esa clave. El valor de una clave puede ser un número, una cadena, una lista o incluso otro diccionario. De hecho, puedes utilizar cualquier objeto que puedas crear en Python como un valor en un diccionario.\n",
    "\n",
    "En Python, un diccionario está encerrado entre llaves ({}) con una serie de pares clave-valor dentro de ellas, como se muestra en el ejemplo anterior:"
   ]
  },
  {
   "cell_type": "code",
   "execution_count": 2,
   "metadata": {},
   "outputs": [],
   "source": [
    "alien_0 = {'color': 'green', 'points': 5}"
   ]
  },
  {
   "cell_type": "markdown",
   "metadata": {},
   "source": [
    "Un par clave-valor es un conjunto de valores asociados entre sí. Cuando proporcionas una clave, Python devuelve el valor asociado con esa clave. Cada clave está conectada a su valor mediante dos puntos, y los pares clave-valor individuales están separados por comas. Puedes almacenar tantos pares clave-valor como desees en un diccionario.\n",
    "\n",
    "El diccionario más simple tiene exactamente un par clave-valor, como se muestra en esta versión modificada del diccionario alien_0:\n",
    "\n",
    "```python\n",
    "alien_0 = {'color': 'green'}\n",
    "```\n",
    "\n",
    "Este diccionario almacena una sola pieza de información sobre alien_0: el color del alienígena. La cadena 'color' es una clave en este diccionario, y su valor asociado es 'green'."
   ]
  },
  {
   "cell_type": "markdown",
   "metadata": {},
   "source": [
    "## Acceder a valores en un diccionario\n",
    "\n",
    "Para obtener el valor asociado con una clave en un diccionario, proporciona el nombre del diccionario y luego coloca la clave dentro de un conjunto de corchetes, como se muestra aquí:\n"
   ]
  },
  {
   "cell_type": "code",
   "execution_count": 3,
   "metadata": {},
   "outputs": [
    {
     "name": "stdout",
     "output_type": "stream",
     "text": [
      "green\n"
     ]
    }
   ],
   "source": [
    "aline_0 = {'color': 'green'}\n",
    "print(alien_0['color'])"
   ]
  },
  {
   "cell_type": "markdown",
   "metadata": {},
   "source": [
    "Esto devuelve el valor asociado con la clave 'color' del diccionario alien_0:\n",
    "\n",
    "```python\n",
    "green\n",
    "```\n",
    "\n",
    "Puedes tener un número ilimitado de pares clave-valor en un diccionario. Por ejemplo, aquí está el diccionario original alien_0 con dos pares clave-valor:"
   ]
  },
  {
   "cell_type": "code",
   "execution_count": 4,
   "metadata": {},
   "outputs": [],
   "source": [
    "alien_0 = {'color': 'green', 'points': 5}"
   ]
  },
  {
   "cell_type": "markdown",
   "metadata": {},
   "source": [
    "\n",
    "Ahora puedes acceder tanto al color como al valor de puntos de alien_0. Si un jugador derriba a este alienígena, puedes verificar cuántos puntos deberían ganar usando código como este:"
   ]
  },
  {
   "cell_type": "code",
   "execution_count": 6,
   "metadata": {},
   "outputs": [
    {
     "name": "stdout",
     "output_type": "stream",
     "text": [
      "¡Acabas de ganar 5 puntos!!!\n"
     ]
    }
   ],
   "source": [
    "alien_0 = {'color': 'green', 'points': 5}\n",
    "new_points = alien_0['points']\n",
    "print(f\"¡Acabas de ganar {new_points} puntos!!!\")"
   ]
  },
  {
   "cell_type": "markdown",
   "metadata": {},
   "source": [
    "Una vez que se ha definido el diccionario, extraemos el valor asociado con la clave 'points' del diccionario. Este valor se asigna a la variable new_points. La última línea imprime una declaración sobre cuántos puntos acaba de ganar el jugador:\n",
    "\n",
    "```python\n",
    "¡Acabas de ganar 5 puntos!\n",
    "```\n",
    "\n",
    "Si ejecutas este código cada vez que se derriba a un alienígena, se recuperará el valor de puntos del alienígena."
   ]
  },
  {
   "cell_type": "markdown",
   "metadata": {},
   "source": [
    "## Agregar nuevos pares clave-valor \n",
    "\n",
    "Los diccionarios son estructuras dinámicas y puedes agregar nuevos pares clave-valor a un diccionario en cualquier momento. Para añadir un nuevo par clave-valor, proporcionarías el nombre del diccionario seguido de la nueva clave entre corchetes, junto con el nuevo valor.\n",
    "\n",
    "Vamos a agregar dos nuevas piezas de información al diccionario alien_0: las coordenadas x e y del alienígena, las cuales nos ayudarán a mostrar el alienígena en una posición específica en la pantalla. Colocaremos al alienígena en el borde izquierdo de la pantalla, 25 píxeles hacia abajo desde la parte superior."
   ]
  },
  {
   "cell_type": "code",
   "execution_count": 7,
   "metadata": {},
   "outputs": [
    {
     "name": "stdout",
     "output_type": "stream",
     "text": [
      "{'color': 'green', 'points': 5}\n",
      "{'color': 'green', 'points': 5, 'x_position': 0, 'u_position': 25}\n"
     ]
    }
   ],
   "source": [
    "alien_0 = {'color': 'green', 'points': 5}\n",
    "print(alien_0)\n",
    "\n",
    "alien_0['x_position'] = 0\n",
    "alien_0['u_position'] = 25\n",
    "\n",
    "print(alien_0)"
   ]
  },
  {
   "cell_type": "markdown",
   "metadata": {},
   "source": [
    "\n",
    "Comenzamos definiendo el mismo diccionario con el que hemos estado trabajando. Luego imprimimos este diccionario, mostrando una instantánea de su información. A continuación, agregamos un nuevo par clave-valor al diccionario: la clave 'x_position' y el valor 0. Hacemos lo mismo para la clave 'y_position'. Cuando imprimimos el diccionario modificado, vemos los dos pares clave-valor adicionales:\n",
    "\n",
    "```python\n",
    "{'color': 'green', 'points': 5}\n",
    "{'color': 'green', 'points': 5, 'x_position': 0, 'y_position': 25}\n",
    "```\n",
    "\n",
    "La versión final del diccionario contiene cuatro pares clave-valor. Los dos originales especifican el color y el valor de puntos, y los otros dos especifican la posición del alienígena.\n",
    "\n",
    "Los diccionarios conservan el orden en el que fueron definidos. Cuando imprimes un diccionario o iteras a través de sus elementos, verás los elementos en el mismo orden en que fueron agregados al diccionario."
   ]
  },
  {
   "cell_type": "markdown",
   "metadata": {},
   "source": [
    "## Comenzando con un diccionario vacío\n",
    "\n",
    "A veces es conveniente, o incluso necesario, comenzar con un diccionario vacío y luego agregar cada nuevo elemento a él. Para empezar a llenar un diccionario vacío, se define un diccionario con un conjunto vacío de llaves y luego se agrega cada par clave-valor en su propia línea. Por ejemplo, así es como se construye el diccionario alien_0 usando este enfoque:\n"
   ]
  },
  {
   "cell_type": "code",
   "execution_count": 8,
   "metadata": {},
   "outputs": [
    {
     "name": "stdout",
     "output_type": "stream",
     "text": [
      "{'color': 'green', 'points': 5}\n"
     ]
    }
   ],
   "source": [
    "alien_0 = {}    # Diccionario vacio\n",
    "\n",
    "alien_0['color'] = 'green'\n",
    "alien_0['points'] = 5\n",
    "print(alien_0)"
   ]
  },
  {
   "cell_type": "markdown",
   "metadata": {},
   "source": [
    "Primero definimos un diccionario alien_0 vacío y luego agregamos valores de color y puntos a él. El resultado es el diccionario que hemos estado usando en ejemplos anteriores:\n",
    "\n",
    "```python\n",
    "{'color': 'green', 'points': 5}\n",
    "```\n",
    "\n",
    "Por lo general, se utilizan diccionarios vacíos cuando se almacenan datos proporcionados por el usuario en un diccionario o al escribir código que genera automáticamente una gran cantidad de pares clave-valor.\n"
   ]
  },
  {
   "cell_type": "markdown",
   "metadata": {},
   "source": [
    "## Modificar valores en un diccionario\n",
    "\n",
    "Para modificar un valor en un diccionario, se proporciona el nombre del diccionario con la clave entre corchetes y luego el nuevo valor que se desea asociar con esa clave. Por ejemplo, considera un alienígena que cambia de verde a amarillo a medida que avanza un juego:"
   ]
  },
  {
   "cell_type": "code",
   "execution_count": 10,
   "metadata": {},
   "outputs": [
    {
     "name": "stdout",
     "output_type": "stream",
     "text": [
      "El alienigena es green.\n",
      "El alienìgena ahora es yellow.\n"
     ]
    }
   ],
   "source": [
    "alien_0 = {'color': 'green'}\n",
    "print(f\"El alienigena es {alien_0['color']}.\")\n",
    "alien_0['color'] = 'yellow'\n",
    "print(f\"El alienìgena ahora es {alien_0['color']}.\")"
   ]
  },
  {
   "cell_type": "markdown",
   "metadata": {},
   "source": [
    "Primero definimos un diccionario para alien_0 que contiene solo el color del alienígena; luego cambiamos el valor asociado con la clave 'color' a 'yellow'. La salida muestra que el alienígena ha cambiado de verde a amarillo:\n",
    "\n",
    "```python\n",
    "El alienígena es verde.\n",
    "El alienígena ahora es amarillo.\n",
    "```\n",
    "\n",
    "Para un ejemplo más interesante, rastreemos la posición de un alienígena que puede moverse a diferentes velocidades. Almacenaremos un valor que represente la velocidad actual del alienígena y luego lo usaremos para determinar cuánto debe moverse hacia la derecha el alienígena:"
   ]
  },
  {
   "cell_type": "code",
   "execution_count": 12,
   "metadata": {},
   "outputs": [
    {
     "name": "stdout",
     "output_type": "stream",
     "text": [
      "Position original: 0\n",
      "Nueva posiciòn: 2\n"
     ]
    }
   ],
   "source": [
    "alien_0 = {'x_position': 0, 'y_position': 25, 'speed': 'medium'}\n",
    "print(f\"Position original: {alien_0['x_position']}\")\n",
    "\n",
    "if alien_0['speed'] == 'slow':\n",
    "    x_increment = 1\n",
    "elif alien_0['speed'] == 'medium':\n",
    "    x_increment = 2\n",
    "else: \n",
    "    x_increment = 3\n",
    "\n",
    "alien_0['x_position'] = alien_0['x_position'] + x_increment\n",
    "print(f\"Nueva posiciòn: {alien_0['x_position']}\")"
   ]
  },
  {
   "cell_type": "markdown",
   "metadata": {},
   "source": [
    "Comenzamos definiendo un alienígena con una posición x inicial y una posición y, y una velocidad de 'medium'. Hemos omitido los valores de color y puntos por simplicidad, pero este ejemplo funcionaría de la misma manera si incluyeras esos pares clave-valor también. También imprimimos el valor original de x_position para ver cuánto se mueve el alienígena hacia la derecha.\n",
    "\n",
    "Un bloque if-elif-else determina cuánto debe moverse el alienígena hacia la derecha y asigna este valor a la variable x_increment. Si la velocidad del alienígena es 'slow', se mueve una unidad hacia la derecha; si la velocidad es 'medium', se mueve dos unidades hacia la derecha; y si es 'fast', se mueve tres unidades hacia la derecha. Una vez que se ha calculado el incremento, se agrega al valor de x_position, y el resultado se almacena en x_position del diccionario.\n",
    "\n",
    "Debido a que este es un alienígena de velocidad media, su posición se desplaza dos unidades hacia la derecha:\n",
    "\n",
    "```pythom\n",
    "Posición original x: 0\n",
    "Nueva posición x: 2\n",
    "```\n",
    "\n",
    "Esta técnica es bastante útil: al cambiar un valor en el diccionario del alienígena, puedes cambiar el comportamiento general del alienígena. Por ejemplo, para convertir este alienígena de velocidad media en un alienígena rápido, agregarías esta línea:\n",
    "\n",
    "```python\n",
    "alien_0['speed'] = 'fast'\n",
    "```\n",
    "\n",
    "El bloque if-elif-else asignaría un valor más grande a x_increment la próxima vez que se ejecute el código."
   ]
  },
  {
   "cell_type": "markdown",
   "metadata": {},
   "source": [
    "## Eliminar pares clave-valor\n",
    "\n",
    "El uso de la sentencia `del` en Python te permite eliminar completamente un par clave-valor de un diccionario. Para ello, simplemente necesitas el nombre del diccionario y la clave que deseas eliminar.\n",
    "\n",
    "Por ejemplo, eliminemos la clave 'points' del diccionario alien_0, junto con su valor asociado:"
   ]
  },
  {
   "cell_type": "code",
   "execution_count": 14,
   "metadata": {},
   "outputs": [
    {
     "name": "stdout",
     "output_type": "stream",
     "text": [
      "{'color': 'green', 'points': 5}\n",
      "{'color': 'green'}\n"
     ]
    }
   ],
   "source": [
    "alien_0 = {'color': 'green', 'points': 5}\n",
    "print(alien_0)\n",
    "\n",
    "del alien_0['points']\n",
    "print(alien_0)"
   ]
  },
  {
   "cell_type": "markdown",
   "metadata": {},
   "source": [
    "La sentencia `del` indica a Python que elimine la clave 'points' del diccionario alien_0 y que también elimine el valor asociado con esa clave. La salida muestra que la clave 'points' y su valor de 5 son eliminados del diccionario, pero el resto del diccionario permanece intacto:\n",
    "\n",
    "```python\n",
    "{'color': 'green', 'points': 5}\n",
    "{'color': 'green'}\n",
    "```\n",
    "\n",
    "Esto demuestra cómo eliminar una entrada específica de un diccionario utilizando la sentencia `del`."
   ]
  },
  {
   "cell_type": "markdown",
   "metadata": {},
   "source": [
    "**NOTA**\n",
    "\n",
    "Ten en cuenta que al utilizar la sentencia `del` para eliminar un par clave-valor de un diccionario, esta acción es permanente y no se puede deshacer. Una vez eliminado, el par clave-valor ya no estará disponible en el diccionario a menos que se vuelva a agregar manualmente. Es importante tener precaución al eliminar elementos de un diccionario, ya que la información eliminada no se puede recuperar automáticamente."
   ]
  },
  {
   "cell_type": "markdown",
   "metadata": {},
   "source": [
    "## Un diccionario de objetos similares\n",
    "\n",
    "El ejemplo anterior implicaba almacenar diferentes tipos de información sobre un objeto, un alienígena en un juego. También puedes usar un diccionario para almacenar un tipo de información sobre muchos objetos. Por ejemplo, digamos que deseas realizar una encuesta a varias personas y preguntarles cuál es su lenguaje de programación favorito. Un diccionario es útil para almacenar los resultados de una encuesta simple, como esta:"
   ]
  },
  {
   "cell_type": "code",
   "execution_count": 15,
   "metadata": {},
   "outputs": [],
   "source": [
    "favorite_languages = {\n",
    "    'jen': 'python',\n",
    "    'sarah': 'c',\n",
    "    'edward': 'rust',\n",
    "    'phil': 'python',\n",
    "}"
   ]
  },
  {
   "cell_type": "markdown",
   "metadata": {},
   "source": [
    "Como se puede observar, hemos dividido un diccionario más grande en varias líneas. Cada clave es el nombre de una persona que respondió a la encuesta, y cada valor es su elección de lenguaje. Cuando sabes que necesitarás más de una línea para definir un diccionario, presiona ENTER después de la llave de apertura. Luego, indenta la siguiente línea un nivel (cuatro espacios) y escribe el primer par clave-valor, seguido de una coma. A partir de este punto, al presionar ENTER, tu editor de texto debería indentar automáticamente todos los pares clave-valor siguientes para que coincidan con el primer par.\n",
    "\n",
    "Una vez que hayas terminado de definir el diccionario, agrega una llave de cierre en una nueva línea después del último par clave-valor, e indéntala un nivel para que se alinee con las claves en el diccionario. Es una buena práctica incluir una coma después del último par clave-valor también, así estarás listo para agregar un nuevo par clave-valor en la siguiente línea."
   ]
  },
  {
   "cell_type": "code",
   "execution_count": 16,
   "metadata": {},
   "outputs": [
    {
     "name": "stdout",
     "output_type": "stream",
     "text": [
      "{'jen': 'python', 'sarah': 'c', 'edward': 'rust', 'phil': 'python'}\n"
     ]
    }
   ],
   "source": [
    "print(favorite_languages)"
   ]
  },
  {
   "cell_type": "markdown",
   "metadata": {},
   "source": [
    "**NOTA**\n",
    "\n",
    "La mayoría de los editores tienen alguna funcionalidad que ayuda a formatear listas y diccionarios extendidos de manera similar a este ejemplo. También existen otras formas aceptables de formatear diccionarios largos, por lo que es posible que veas un formato ligeramente diferente en tu editor o en otras fuentes."
   ]
  },
  {
   "cell_type": "markdown",
   "metadata": {},
   "source": [
    "Para utilizar este diccionario, dado el nombre de una persona que participó en la encuesta, puedes buscar fácilmente su lenguaje favorito:"
   ]
  },
  {
   "cell_type": "code",
   "execution_count": 2,
   "metadata": {},
   "outputs": [
    {
     "name": "stdout",
     "output_type": "stream",
     "text": [
      "Sarah's favorite language is C.\n"
     ]
    }
   ],
   "source": [
    "favorite_languages = {\n",
    "    'jen': 'python',\n",
    "    'sarah': 'c',\n",
    "    'edward': 'rust',\n",
    "    'phil': 'python',\n",
    "}\n",
    "\n",
    "language = favorite_languages['sarah'].title()\n",
    "print(f\"Sarah's favorite language is {language}.\")"
   ]
  },
  {
   "cell_type": "markdown",
   "metadata": {},
   "source": [
    "Para ver qué idioma eligió Sarah, solicitamos el valor en:"
   ]
  },
  {
   "cell_type": "code",
   "execution_count": 3,
   "metadata": {},
   "outputs": [
    {
     "data": {
      "text/plain": [
       "'c'"
      ]
     },
     "execution_count": 3,
     "metadata": {},
     "output_type": "execute_result"
    }
   ],
   "source": [
    "favorite_languages['sarah']"
   ]
  },
  {
   "cell_type": "markdown",
   "metadata": {},
   "source": [
    "Utilizamos esta sintaxis para obtener el lenguaje favorito de Sarah del diccionario y asignarlo a la variable language. Crear una nueva variable aquí hace que la llamada a print() sea mucho más limpia. La salida muestra el lenguaje favorito de Sarah:\n",
    "\n",
    "```python\n",
    "Sarah's favorite language is C.\n",
    "```\n",
    "\n",
    "Podrías utilizar esta misma sintaxis con cualquier persona representada en el diccionario para obtener su lenguaje favorito."
   ]
  },
  {
   "cell_type": "markdown",
   "metadata": {},
   "source": [
    "## Usando **get()** (conseguir) para acceder a valores\n",
    "\n",
    "El uso de claves dentro de corchetes para recuperar un valor de un diccionario podría resultar en un problema potencial: si la clave especificada no existe, podría causar un error.\n",
    "\n",
    "Veamos qué ocurre al intentar recuperar el valor de puntos de un alien que no tiene un valor de puntos establecido:"
   ]
  },
  {
   "cell_type": "code",
   "execution_count": 4,
   "metadata": {},
   "outputs": [
    {
     "ename": "KeyError",
     "evalue": "'puntos'",
     "output_type": "error",
     "traceback": [
      "\u001b[0;31m---------------------------------------------------------------------------\u001b[0m",
      "\u001b[0;31mKeyError\u001b[0m                                  Traceback (most recent call last)",
      "Cell \u001b[0;32mIn[4], line 2\u001b[0m\n\u001b[1;32m      1\u001b[0m alien_0 \u001b[38;5;241m=\u001b[39m {\u001b[38;5;124m'\u001b[39m\u001b[38;5;124mcolor\u001b[39m\u001b[38;5;124m'\u001b[39m: \u001b[38;5;124m'\u001b[39m\u001b[38;5;124mverde\u001b[39m\u001b[38;5;124m'\u001b[39m, \u001b[38;5;124m'\u001b[39m\u001b[38;5;124mvelocidad\u001b[39m\u001b[38;5;124m'\u001b[39m: \u001b[38;5;124m'\u001b[39m\u001b[38;5;124mlento\u001b[39m\u001b[38;5;124m'\u001b[39m}\n\u001b[0;32m----> 2\u001b[0m \u001b[38;5;28mprint\u001b[39m(\u001b[43malien_0\u001b[49m\u001b[43m[\u001b[49m\u001b[38;5;124;43m'\u001b[39;49m\u001b[38;5;124;43mpuntos\u001b[39;49m\u001b[38;5;124;43m'\u001b[39;49m\u001b[43m]\u001b[49m)\n",
      "\u001b[0;31mKeyError\u001b[0m: 'puntos'"
     ]
    }
   ],
   "source": [
    "alien_0 = {'color': 'verde', 'velocidad': 'lento'}\n",
    "print(alien_0['puntos'])"
   ]
  },
  {
   "cell_type": "markdown",
   "metadata": {},
   "source": [
    "Esto conduce a un rastro de errores que muestra un KeyError:\n",
    "\n",
    "```python\n",
    "Traceback (most recent call last):\n",
    " File \"alien_sin_puntos.py\", línea 2, in <module>\n",
    " print(alien_0['puntos'])\n",
    " ~~~~~~~^^^^^^^^^^\n",
    "KeyError: 'puntos'\n",
    "```\n",
    "\n",
    "Manejar errores como este se discute más a fondo en el Capítulo 10. Específicamente para los diccionarios, el método `get()` está disponible para establecer un valor predeterminado que se devolverá si la clave solicitada no existe. El método `get()` requiere una clave como primer argumento. Como segundo argumento opcional, puedes pasar el valor que se devolverá si la clave no existe:"
   ]
  },
  {
   "cell_type": "code",
   "execution_count": 5,
   "metadata": {},
   "outputs": [
    {
     "name": "stdout",
     "output_type": "stream",
     "text": [
      "No se asignò valor de puntos.\n"
     ]
    }
   ],
   "source": [
    "alien_0 = {'color': 'verde', 'velocidad': 'lento'}\n",
    "valor_puntos = alien_0.get('puntos', 'No se asignò valor de puntos.')\n",
    "print(valor_puntos)"
   ]
  },
  {
   "cell_type": "markdown",
   "metadata": {},
   "source": [
    "Si la clave 'puntos' existe en el diccionario, obtendrás el valor correspondiente. Si no existe, recibirás el valor predeterminado. En este caso, como 'puntos' no existe, se muestra un mensaje claro en lugar de un error:\n",
    "\n",
    "```python\n",
    "No se asignó valor de puntos.\n",
    "```\n",
    "\n",
    "Cuando exista la posibilidad de que la clave que estás buscando no exista, se recomienda considerar el uso del método `get()` en lugar de la notación de corchetes."
   ]
  },
  {
   "cell_type": "markdown",
   "metadata": {},
   "source": [
    "**NOTA**\n",
    "\n",
    "Si omites el segundo argumento en la llamada a `get()` y la clave no existe, Python devolverá el valor `None`. El valor especial `None` significa \"no existe ningún valor\". Esto no es un error: es un valor especial diseñado para indicar la ausencia de un valor. Verás más usos de `None` en el Capítulo 8."
   ]
  },
  {
   "cell_type": "markdown",
   "metadata": {},
   "source": [
    "## **HAZLO TU MISMO**\n",
    "**6-1. Persona:**\n",
    "\n",
    "Usa un diccionario para almacenar información sobre una persona que conoces. Guarda su primer nombre, apellido, edad y la ciudad en la que vive. Deberías tener claves como primer_nombre, apellido, edad y ciudad. Imprime cada pieza de información almacenada en tu diccionario.\n"
   ]
  },
  {
   "cell_type": "code",
   "execution_count": 7,
   "metadata": {},
   "outputs": [
    {
     "name": "stdout",
     "output_type": "stream",
     "text": [
      "Francisca\n",
      "Perèz\n",
      "29\n",
      "Tokio\n"
     ]
    }
   ],
   "source": [
    "usuario = {'nombre': 'Francisca', 'apellido': 'Perèz', 'edad': 29, 'ciudad': 'Tokio'}\n",
    "\n",
    "print(usuario['nombre'])\n",
    "print(usuario['apellido'])\n",
    "print(usuario['edad'])\n",
    "print(usuario['ciudad'])"
   ]
  },
  {
   "cell_type": "markdown",
   "metadata": {},
   "source": [
    "**6-2. Números Favoritos:**\n",
    "\n",
    "* Usa un diccionario para almacenar los números favoritos de personas. \n",
    "* Piensa en cinco nombres y úsalos como claves en tu diccionario. \n",
    "* Piensa en un número favorito para cada persona y almacena cada uno como un valor en tu diccionario. \n",
    "* Imprime el nombre de cada persona y su número favorito. \n",
    "* Para mayor diversión, haz una encuesta a algunos amigos y obtén algunos datos reales para tu programa."
   ]
  },
  {
   "cell_type": "code",
   "execution_count": 20,
   "metadata": {},
   "outputs": [
    {
     "name": "stdout",
     "output_type": "stream",
     "text": [
      "{'marisol': 7, 'william': 13, 'bernardo': 5, 'francisca': 3, 'natasha': 5}\n",
      "Para la persona Marisol su nùmero favorito es: 7\n",
      "Para la persona William su nùmero favorito es: 13\n",
      "Para la persona Bernardo su nùmero favorito es: 5\n",
      "Para la persona Francisca su nùmero favorito es: 3\n",
      "Para la persona Natasha su nùmero favorito es: 5\n"
     ]
    }
   ],
   "source": [
    "personas = {'marisol': 7, 'william': 13, 'bernardo': 5, 'francisca': 3, 'natasha': 5}    # Creamos un diccionario con las claves y los valores\n",
    "\n",
    "print(personas)    # Imprimiomos el diccionario\n",
    "\n",
    "for persona in personas:    # Para cada persona en personas \"Iteramos sobre las claves del diccionario\"\n",
    "    print(f\"Para la persona {persona.title()} su nùmero favorito es: {personas[persona]}\")    # Accedemos al nùmero asociado a cada persona personas[persona]"
   ]
  },
  {
   "cell_type": "markdown",
   "metadata": {},
   "source": [
    "**6-3. Glosario:**\n",
    "\n",
    "* Un diccionario de Python puede ser usado para modelar un diccionario real. Sin embargo, para evitar confusiones, llamémoslo glosario.\n",
    "* Piensa en cinco palabras de programación que hayas aprendido en los capítulos anteriores. \n",
    "* Usa estas palabras como claves en tu glosario y almacena sus significados como valores.\n",
    "* Imprime cada palabra y su significado como salida formateada. \n",
    "* Puedes imprimir la palabra seguida de dos puntos y luego su significado, o imprimir la palabra en una línea y luego imprimir su significado con sangría en una segunda línea. \n",
    "* Usa el carácter de nueva línea (\\n) para insertar una línea en blanco entre cada par palabra-significado en tu salida."
   ]
  },
  {
   "cell_type": "code",
   "execution_count": 26,
   "metadata": {},
   "outputs": [
    {
     "name": "stdout",
     "output_type": "stream",
     "text": [
      "La palabra Value tiene el significado: Valor\n",
      "\n",
      "La palabra Key tiene el significado: Clave\n",
      "\n",
      "La palabra Python tiene el significado: Lenguague De Programaciòn\n",
      "\n",
      "La palabra Get tiene el significado: Obtener\n",
      "\n"
     ]
    }
   ],
   "source": [
    "glosario = {'value': 'valor', 'key': 'clave', 'python': 'lenguague de programaciòn', 'get': 'obtener'}\n",
    "\n",
    "for word in glosario:\n",
    "    print(f'La palabra {word.title()} tiene el significado: {glosario[word].title()}\\n')"
   ]
  },
  {
   "cell_type": "markdown",
   "metadata": {},
   "source": [
    "## Recorriendo un diccionario\n",
    "\n",
    "Un solo diccionario de Python puede contener solo algunos pares de clave-valor o millones de pares. Debido a que un diccionario puede contener grandes cantidades de datos, Python te permite recorrer un diccionario. Los diccionarios pueden usarse para almacenar información de diversas maneras, por lo tanto, existen varias formas de recorrerlos. Puedes recorrer todos los pares clave-valor de un diccionario, a través de sus claves o a través de sus valores."
   ]
  },
  {
   "cell_type": "markdown",
   "metadata": {},
   "source": [
    "## Recorriendo todos los pares clave-valor\n",
    "\n",
    "Antes de explorar los diferentes enfoques para hacer bucles, consideremos un nuevo diccionario diseñado para almacenar información sobre un usuario en un sitio web. El siguiente diccionario almacenaría el nombre de usuario, nombre y apellido de una persona:"
   ]
  },
  {
   "cell_type": "code",
   "execution_count": 27,
   "metadata": {},
   "outputs": [],
   "source": [
    "user_0 = {\n",
    "    'username': 'efermi',\n",
    "    'first': 'enrico',\n",
    "    'last': 'fermi',\n",
    "}"
   ]
  },
  {
   "cell_type": "markdown",
   "metadata": {},
   "source": [
    "Puedes acceder a cualquier pieza de información sobre user_0 basándote en lo que ya has aprendido en este capítulo. Pero, ¿qué pasaría si quisieras ver todo lo almacenado en el diccionario de este usuario? Para hacerlo, podrías recorrer el diccionario usando un bucle for:"
   ]
  },
  {
   "cell_type": "code",
   "execution_count": 29,
   "metadata": {},
   "outputs": [
    {
     "name": "stdout",
     "output_type": "stream",
     "text": [
      "\n",
      "Clave: username\n",
      "Valor: efermi\n",
      "\n",
      "Clave: first\n",
      "Valor: enrico\n",
      "\n",
      "Clave: last\n",
      "Valor: fermi\n"
     ]
    }
   ],
   "source": [
    "for key, value in user_0.items():\n",
    "    print(f\"\\nClave: {key}\")\n",
    "    print(f\"Valor: {value}\")"
   ]
  },
  {
   "cell_type": "markdown",
   "metadata": {},
   "source": [
    "Para escribir un bucle for para un diccionario, creas nombres para las dos variables que contendrán la clave y el valor en cada par clave-valor. Puedes elegir cualquier nombre para estas dos variables. Este código funcionaría igual de bien si hubieras usado abreviaturas para los nombres de las variables, así:\n",
    "\n",
    "```python\n",
    "for k, v in user_0.items()\n",
    "```\n",
    "\n",
    "La segunda parte de la instrucción for incluye el nombre del diccionario seguido del método **`items()`, que devuelve una secuencia de pares clave-valor**. Luego, el bucle for asigna cada uno de estos pares a las dos variables proporcionadas. En el ejemplo anterior, usamos las variables para imprimir cada clave, seguida del valor asociado. El \"\\n\" en la primera llamada a print() asegura que se inserte una línea en blanco antes de cada par clave-valor en la salida:\n",
    "\n",
    "```python\n",
    "Clave: username\n",
    "Valor: efermi\n",
    "Clave: first\n",
    "Valor: enrico\n",
    "Clave: last\n",
    "Valor: fermi\n",
    "```\n",
    "\n",
    "Recorrer todos los pares clave-valor funciona particularmente bien para diccionarios como el ejemplo de favorite_languages.py en la página 96, que almacena el mismo tipo de información para muchas claves diferentes. Si recorres el diccionario favorite_languages, obtienes el nombre de cada persona en el diccionario y su lenguaje de programación favorito. Dado que las claves siempre hacen referencia al nombre de una persona y el valor siempre es un lenguaje, usaremos las variables name y language en el bucle en lugar de key y value. Esto facilitará seguir lo que está sucediendo dentro del bucle:"
   ]
  },
  {
   "cell_type": "code",
   "execution_count": 30,
   "metadata": {},
   "outputs": [
    {
     "name": "stdout",
     "output_type": "stream",
     "text": [
      "EL languaje favorito de Jen es Python.\n",
      "EL languaje favorito de Sarah es C.\n",
      "EL languaje favorito de Edward es Rust.\n",
      "EL languaje favorito de Phil es Python.\n"
     ]
    }
   ],
   "source": [
    "favorite_languages = {\n",
    "    'jen': 'python',\n",
    "    'sarah': 'c',\n",
    "    'edward': 'rust',\n",
    "    'phil': 'python',\n",
    "}\n",
    "\n",
    "for name, language in favorite_languages.items():\n",
    "    print(f\"EL languaje favorito de {name.title()} es {language.title()}.\")"
   ]
  },
  {
   "cell_type": "markdown",
   "metadata": {},
   "source": [
    "Este código le dice a Python que recorra cada par clave-valor en el diccionario. A medida que recorre cada par, la clave se asigna a la variable name y el valor se asigna a la variable language. Estos nombres descriptivos hacen que sea mucho más fácil ver lo que hace la llamada a print().\n",
    "\n",
    "Ahora, en solo unas pocas líneas de código, podemos mostrar toda la información de la encuesta:\n",
    "\n",
    "```python\n",
    "El lenguaje favorito de Jen es Python.\n",
    "El lenguaje favorito de Sarah es C.\n",
    "El lenguaje favorito de Edward es Rust.\n",
    "El lenguaje favorito de Phil es Python.\n",
    "```\n",
    "\n",
    "Este tipo de bucle funcionaría igual de bien si nuestro diccionario almacenara los resultados de una encuesta de mil o incluso un millón de personas."
   ]
  },
  {
   "cell_type": "markdown",
   "metadata": {},
   "source": [
    "## Recorriendo todas las claves en un diccionario\n",
    "\n",
    "El método `keys()` es útil cuando no necesitas trabajar con todos los valores en un diccionario. Recorramos el diccionario favorite_languages e imprimamos los nombres de todos los que participaron en la encuesta:"
   ]
  },
  {
   "cell_type": "code",
   "execution_count": 31,
   "metadata": {},
   "outputs": [
    {
     "name": "stdout",
     "output_type": "stream",
     "text": [
      "Jen\n",
      "Sarah\n",
      "Edward\n",
      "Phil\n"
     ]
    }
   ],
   "source": [
    "favorite_languages = {\n",
    "    'jen': 'python',\n",
    "    'sarah': 'c',\n",
    "    'edward': 'rust',\n",
    "    'phil': 'python',\n",
    "}\n",
    "\n",
    "for name in favorite_languages.keys():\n",
    "    print(name.title())"
   ]
  },
  {
   "cell_type": "markdown",
   "metadata": {},
   "source": [
    "Este bucle for le indica a Python que extraiga todas las claves del diccionario favorite_languages y las asigne una por una a la variable name. La salida muestra los nombres de todos los que participaron en la encuesta:\n",
    "\n",
    "```python\n",
    "Jen\n",
    "Sarah\n",
    "Edward\n",
    "Phil\n",
    "```\n",
    "\n",
    "Recorrer las claves es en realidad el comportamiento predeterminado al recorrer un diccionario, por lo que este código tendría exactamente la misma salida si escribieras:\n",
    "\n",
    "```python\n",
    "for name in favorite_languages:\n",
    "```\n",
    "\n",
    "en lugar de:\n",
    "\n",
    "```python\n",
    "for name in favorite_languages.keys():\n",
    "```\n",
    "\n",
    "Puedes optar por usar el método `keys()` explícitamente si hace que tu código sea más fácil de leer, o puedes omitirlo si lo deseas.\n",
    "\n",
    "Puedes acceder al valor asociado con cualquier clave que te interese dentro del bucle, utilizando la clave actual. Imprimamos un mensaje a un par de amigos sobre los idiomas que eligieron. Recorreremos los nombres en el diccionario como hicimos anteriormente, pero cuando el nombre coincida con uno de nuestros amigos, mostraremos un mensaje sobre su idioma favorito:"
   ]
  },
  {
   "cell_type": "code",
   "execution_count": 32,
   "metadata": {},
   "outputs": [
    {
     "name": "stdout",
     "output_type": "stream",
     "text": [
      "¡Hola Jen!\n",
      "¡Hola Sarah!\n",
      "\t¡Sarah, veo que te encanta C!\n",
      "¡Hola Edward!\n",
      "¡Hola Phil!\n",
      "\t¡Phil, veo que te encanta Python!\n"
     ]
    }
   ],
   "source": [
    "favorite_languages = {\n",
    "    'jen': 'python',\n",
    "    'sarah': 'c',\n",
    "    'edward': 'rust',\n",
    "    'phil': 'python',\n",
    "}\n",
    "\n",
    "friends = ['phil', 'sarah']    # Creamos una lista de amigo para enviarle el mensaje\n",
    "for name in favorite_languages.keys():    # Imprimimos el nombre de cada persona\n",
    "    print(f\"¡Hola {name.title()}!\")\n",
    "    if name in friends:    # Verificamos si el nombre esta en la lista de amigos\n",
    "        language =  favorite_languages[name].title()    # Si esta, determinamos el idioma favorito segun el nombre (clave)\n",
    "        print(f\"\\t¡{name.title()}, veo que te encanta {language}!\")\n"
   ]
  },
  {
   "cell_type": "markdown",
   "metadata": {},
   "source": [
    "Primero, creamos una lista de amigos a los que queremos enviar un mensaje. Dentro del bucle, imprimimos el nombre de cada persona. Luego, verificamos si el nombre con el que estamos trabajando está en la lista friends. Si lo está, determinamos el idioma favorito de la persona utilizando el nombre del diccionario y el valor actual de name como clave. Luego, imprimimos un saludo especial, incluyendo una referencia a su idioma de elección.\n",
    "\n",
    "Se imprime el nombre de cada persona, pero nuestros amigos reciben un mensaje especial:\n",
    "\n",
    "```python\n",
    "¡Hola Jen!\n",
    "¡Hola Sarah!\n",
    "\t¡Sarah, veo que te encanta C!\n",
    "¡Hola Edward!\n",
    "¡Hola Phil!\n",
    "\t¡Phil, veo que te encanta Python!\n",
    "```\n",
    "\n",
    "También puedes usar el método `keys()` para saber si una persona en particular participó en la encuesta. Esta vez, averigüemos si Erin participó en la encuesta:\n"
   ]
  },
  {
   "cell_type": "code",
   "execution_count": 33,
   "metadata": {},
   "outputs": [
    {
     "name": "stdout",
     "output_type": "stream",
     "text": [
      "¡Erin, por favor, participa en nuestra encuesta!\n"
     ]
    }
   ],
   "source": [
    "favorite_languages = {\n",
    "    'jen': 'python',\n",
    "    'sarah': 'c',\n",
    "    'edward': 'rust',\n",
    "    'phil': 'python',\n",
    "}\n",
    "\n",
    "if 'erin' not in favorite_languages.keys():\n",
    "    print(\"¡Erin, por favor, participa en nuestra encuesta!\")"
   ]
  },
  {
   "cell_type": "markdown",
   "metadata": {},
   "source": [
    "El método `keys()` no es solo para hacer bucles: en realidad devuelve una secuencia de todas las claves, y la declaración `if` simplemente verifica si 'erin' está en esta secuencia. Como no lo está, se imprime un mensaje invitándola a participar en la encuesta:\n",
    "\n",
    "```python\n",
    "¡Erin, por favor, participa en nuestra encuesta!\n",
    "```"
   ]
  },
  {
   "cell_type": "markdown",
   "metadata": {},
   "source": [
    "## Recorriendo todos los valores en un diccionario\n",
    "\n",
    "Si estás principalmente interesado en los valores que contiene un diccionario, puedes usar el método `values()` para devolver una secuencia de valores sin ninguna clave. Por ejemplo, digamos que simplemente queremos una lista de todos los lenguajes elegidos en nuestra encuesta de lenguajes de programación, sin el nombre de la persona que eligió cada lenguaje:"
   ]
  },
  {
   "cell_type": "code",
   "execution_count": 34,
   "metadata": {},
   "outputs": [
    {
     "name": "stdout",
     "output_type": "stream",
     "text": [
      "Se han mencionado los siguientes lenguajes:\n",
      "Python\n",
      "C\n",
      "Rust\n",
      "Python\n"
     ]
    }
   ],
   "source": [
    "lenguajes_favoritos = {\n",
    "    'jen': 'python',\n",
    "    'sarah': 'c',\n",
    "    'edward': 'rust',\n",
    "    'phil': 'python',\n",
    "}\n",
    "\n",
    "print(\"Se han mencionado los siguientes lenguajes:\")\n",
    "for lenguaje in lenguajes_favoritos.values():\n",
    "    print(lenguaje.title())\n"
   ]
  },
  {
   "cell_type": "markdown",
   "metadata": {},
   "source": [
    "La declaración for aquí extrae cada valor del diccionario y lo asigna a la variable lenguaje. Cuando estos valores se imprimen, obtenemos una lista de todos los lenguajes elegidos:\n",
    "\n",
    "```python\n",
    "Se han mencionado los siguientes lenguajes:\n",
    "Python\n",
    "C\n",
    "Rust\n",
    "Python\n",
    "```\n",
    "\n",
    "Este enfoque extrae todos los valores del diccionario sin verificar repeticiones. Esto puede funcionar bien con un pequeño número de valores, pero en una encuesta con un gran número de encuestados, resultaría en una lista muy repetitiva. Para ver cada lenguaje elegido sin repetición, podemos usar un conjunto. Un conjunto es una colección en la que cada elemento debe ser único:"
   ]
  },
  {
   "cell_type": "code",
   "execution_count": 35,
   "metadata": {},
   "outputs": [
    {
     "name": "stdout",
     "output_type": "stream",
     "text": [
      "Se han mencionado los sigueintes lenguajes:\n",
      "Python\n",
      "C\n",
      "Rust\n"
     ]
    }
   ],
   "source": [
    "print('Se han mencionado los sigueintes lenguajes:')\n",
    "for lenguaje in set(lenguajes_favoritos.values()):\n",
    "    print(lenguaje.title())"
   ]
  },
  {
   "cell_type": "markdown",
   "metadata": {},
   "source": [
    "Cuando envuelves `set()`' alrededor de una colección de valores que contiene elementos duplicados, Python identifica los elementos únicos en la colección y construye un conjunto a partir de esos elementos. Aquí usamos `set()` para extraer los lenguajes únicos en lenguajes_favoritos.values().\n",
    "\n",
    "El resultado es una lista no repetitiva de lenguajes que han sido mencionados por las personas que tomaron la encuesta:\n",
    "\n",
    "```python\n",
    "Se han mencionado los siguientes lenguajes:\n",
    "Python\n",
    "C\n",
    "Rust\n",
    "```\n",
    "\n",
    "A medida que sigas aprendiendo sobre Python, a menudo encontrarás una característica integrada del lenguaje que te ayudará a hacer exactamente lo que deseas con tus datos.\n"
   ]
  }
 ],
 "metadata": {
  "kernelspec": {
   "display_name": "env",
   "language": "python",
   "name": "python3"
  },
  "language_info": {
   "codemirror_mode": {
    "name": "ipython",
    "version": 3
   },
   "file_extension": ".py",
   "mimetype": "text/x-python",
   "name": "python",
   "nbconvert_exporter": "python",
   "pygments_lexer": "ipython3",
   "version": "3.12.3"
  }
 },
 "nbformat": 4,
 "nbformat_minor": 2
}
