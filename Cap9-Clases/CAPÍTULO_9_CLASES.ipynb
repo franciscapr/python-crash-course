{
  "cells": [
    {
      "cell_type": "markdown",
      "id": "b441aa49-adcd-4124-a001-67abc9f29296",
      "metadata": {
        "id": "b441aa49-adcd-4124-a001-67abc9f29296"
      },
      "source": [
        "# **CAPÍTULO 9: CLASES**\n",
        "* Crear y usar una clase\n",
        "* Crear la clase Dog\n",
        "* El método __init__()\n",
        "* Crear una instancia de una clase\n",
        "* Ejercicio 9-1: Restaurante\n",
        "* Ejercicio 9-2: Tres restaurantes\n",
        "* Ejercicio 9-3: Usuarios\n",
        "* Trabajar con clases e instancias\n",
        "* La clase Car\n",
        "* Establecer un valor predeterminado para un atributo\n",
        "* Modificar valores de atributos\n",
        "* Ejercicio 9-4: Número servido\n",
        "* Ejercicio 9-5: Intentos de inicio de sesión\n",
        "* Herencia\n",
        "* El método __init__() para una clase hija\n",
        "* Definir atributos y métodos para la clase hija\n",
        "* Anular métodos de la clase padre\n",
        "* Instancias como atributos\n",
        "* Modelar objetos del mundo real\n",
        "* Ejercicio 9-6: Heladería\n",
        "* Ejercicio 9-7: Administrador\n",
        "* Ejercicio 9-8: Privilegios\n",
        "* Ejercicio 9-9: Actualización de la batería\n",
        "* Importar clases\n",
        "* Importar una única clase\n",
        "* Almacenar múltiples clases en un módulo\n",
        "* Importar múltiples clases de un módulo\n",
        "* Importar un módulo completo\n",
        "* Importar todas las clases de un módulo\n",
        "* Importar un módulo en otro módulo\n",
        "* Usar alias\n",
        "* Encontrar tu propio flujo de trabajo\n",
        "* Ejercicio 9-10: Restaurante importado\n",
        "* Ejercicio 9-11: Administrador importado\n",
        "* Ejercicio 9-12: Múltiples módulos\n",
        "* La biblioteca estándar de Python\n",
        "* Ejercicio 9-13: Dados\n",
        "* Ejercicio 9-14: Lotería\n",
        "* Ejercicio 9-15: Análisis de lotería\n",
        "* Ejercicio 9-16: Módulo de la Semana de Python\n",
        "* Estilo de clases\n",
        "* Resumen"
      ]
    },
    {
      "cell_type": "markdown",
      "id": "d6467091-417a-4a65-9cb5-8df2dc5cf9c6",
      "metadata": {
        "id": "d6467091-417a-4a65-9cb5-8df2dc5cf9c6"
      },
      "source": [
        "# CLASES\n",
        "La programación orientada a objetos (POO) es uno de los enfoques más efectivos para escribir software. En la programación orientada a objetos, se escriben clases que representan cosas y situaciones del mundo real, y se crean objetos basados en estas clases. Cuando escribes una clase, defines el comportamiento general que puede tener toda una categoría de objetos."
      ]
    },
    {
      "cell_type": "markdown",
      "id": "18b7f128-b13c-4a70-8e46-a748522d9aa4",
      "metadata": {
        "id": "18b7f128-b13c-4a70-8e46-a748522d9aa4"
      },
      "source": [
        "Cuando creas objetos individuales a partir de la clase, cada objeto se equipa automáticamente con el comportamiento general; luego puedes asignar a cada objeto los rasgos únicos que desees. Te sorprenderá lo bien que las situaciones del mundo real pueden modelarse con la programación orientada a objetos.\n",
        "\n",
        "Crear un objeto a partir de una clase se llama instanciación, y trabajas con instancias de una clase. En este capítulo, escribirás clases y crearás instancias de esas clases. Especificarás el tipo de información que puede almacenarse en las instancias y definirás acciones que pueden realizarse con estas instancias. También escribirás clases que amplían la funcionalidad de clases existentes, de modo que clases similares puedan compartir funcionalidad común, y puedas hacer más con menos código. Almacenarás tus clases en módulos e importarás clases escritas por otros programadores en tus propios archivos de programa.\n",
        "\n",
        "Aprender sobre la programación orientada a objetos te ayudará a ver el mundo como lo hace un programador. Te permitirá comprender tu código, no solo lo que sucede línea por línea, sino también los conceptos más grandes detrás de él. Conocer la lógica detrás de las clases te entrenará para pensar de manera lógica, de modo que puedas escribir programas que aborden eficazmente casi cualquier problema que encuentres.\n",
        "\n",
        "Las clases también facilitan la vida tanto para ti como para otros programadores con los que trabajarás al enfrentar desafíos cada vez más complejos. Cuando tú y otros programadores escriben código basado en el mismo tipo de lógica, podrán entender el trabajo de los demás. Tus programas tendrán sentido para las personas con las que trabajas, permitiendo que todos logren más."
      ]
    },
    {
      "cell_type": "markdown",
      "id": "f509e71e-6155-41cb-ac1a-509b239bc469",
      "metadata": {
        "id": "f509e71e-6155-41cb-ac1a-509b239bc469"
      },
      "source": [
        "### Creación y Uso de una Clase\n",
        "Puedes modelar casi cualquier cosa utilizando clases. Comencemos escribiendo una clase simple, \"Perro\" (Dog), que representa a un perro, no a un perro en particular, sino a cualquier perro. ¿Qué sabemos sobre la mayoría de los perros domésticos? Bueno, todos tienen un nombre y una edad. También sabemos que la mayoría de los perros se sientan y dan vueltas. Esos dos elementos de información (nombre y edad) y esos dos comportamientos (sentarse y dar vueltas) irán en nuestra clase Dog porque son comunes a la mayoría de los perros. Esta clase le dirá a Python cómo crear un objeto que represente a un perro. Después de escribir nuestra clase, la usaremos para crear instancias individuales, cada una de las cuales representará a un perro específico."
      ]
    },
    {
      "cell_type": "markdown",
      "id": "55bc36f0-b38e-4a9b-9f28-90d46cb88b49",
      "metadata": {
        "id": "55bc36f0-b38e-4a9b-9f28-90d46cb88b49"
      },
      "source": [
        "### Creación de la Clase Dog\n",
        "Cada instancia creada a partir de la clase Dog almacenará un nombre y una edad, y le daremos a cada perro la capacidad de sentarse (sit()) y dar vueltas (roll_over()):"
      ]
    },
    {
      "cell_type": "code",
      "execution_count": null,
      "id": "6864582f-9f12-4947-b6b0-4ab4f3fcea3c",
      "metadata": {
        "id": "6864582f-9f12-4947-b6b0-4ab4f3fcea3c"
      },
      "outputs": [],
      "source": [
        "#"
      ]
    },
    {
      "cell_type": "code",
      "execution_count": null,
      "id": "1255eb92-17bf-43e7-9d51-8cb5f8f158df",
      "metadata": {
        "id": "1255eb92-17bf-43e7-9d51-8cb5f8f158df"
      },
      "outputs": [],
      "source": [
        "#"
      ]
    },
    {
      "cell_type": "markdown",
      "id": "ef8631cb-4f89-450e-9856-ef7e98632559",
      "metadata": {
        "id": "ef8631cb-4f89-450e-9856-ef7e98632559"
      },
      "source": [
        "Hay mucho que observar aquí, pero no te preocupes. Verás esta estructura a lo largo de este capítulo y tendrás mucho tiempo para acostumbrarte. Primero, definimos una clase llamada Dog ❶. Por convención, los nombres en mayúscula se utilizan para referirse a clases en Python. No hay paréntesis en la definición de la clase porque estamos creando esta clase desde cero. Luego escribimos un docstring que describe lo que hace esta clase."
      ]
    },
    {
      "cell_type": "markdown",
      "id": "2694b3c3-750f-44a1-bfda-b064a36551ff",
      "metadata": {
        "id": "2694b3c3-750f-44a1-bfda-b064a36551ff"
      },
      "source": [
        "El Método __init__()\n",
        "Una función que forma parte de una clase se llama método. Todo lo que has aprendido sobre funciones también se aplica a los métodos; la única diferencia práctica por ahora es la forma en que llamaremos a los métodos. El método __init__() ❷ es un método especial que Python ejecuta automáticamente cada vez que creamos una nueva instancia basada en la clase Dog. Este método tiene dos guiones bajos al principio y dos al final, una convención que ayuda a evitar que los nombres predeterminados de los métodos de Python entren en conflicto con tus nombres de método. Asegúrate de usar dos guiones bajos a cada lado de __init__. Si usas solo uno a cada lado, el método no se llamará automáticamente cuando uses tu clase, lo que puede resultar en errores difíciles de identificar.\n",
        "\n",
        "Definimos el método __init__() para tener tres parámetros: self, name y age. El parámetro self es necesario en la definición del método y debe ir primero, antes que los otros parámetros. Debe incluirse en la definición porque cuando Python llame a este método más tarde (para crear una instancia de Dog), la llamada al método pasará automáticamente el argumento self. Cada llamada al método asociada con una instancia pasa automáticamente self, que es una referencia a la instancia misma; le da a la instancia individual acceso a los atributos y métodos en la clase. Cuando creamos una instancia de Dog, Python llamará al método __init__() de la clase Dog. Pasaremos a Dog() un nombre y una edad como argumentos; self se pasa automáticamente, así que no necesitamos pasarlo. Siempre que queramos hacer una instancia de la clase Dog, proporcionaremos valores solo para los dos últimos parámetros, name y age.\n",
        "\n",
        "Las dos variables definidas en el cuerpo del método __init__() tienen el prefijo self ❸. Cualquier variable con el prefijo self está disponible para cada método en la clase, y también podremos acceder a estas variables a través de cualquier instancia creada a partir de la clase. La línea self.name = name toma el valor asociado con el parámetro name y lo asigna a la variable name, que luego se adjunta a la instancia que se está creando. El mismo proceso ocurre con self.age = age. Variables que son accesibles a través de instancias de esta manera se llaman atributos.\n",
        "\n",
        "La clase Dog tiene otros dos métodos definidos: sit() y roll_over() ❹. Dado que estos métodos no necesitan información adicional para ejecutarse, simplemente los definimos para tener un parámetro, self. Las instancias que crearemos más adelante tendrán acceso a estos métodos. En otras palabras, podrán sentarse y dar vueltas. Por ahora, sit() y roll_over() no hacen mucho. Simplemente imprimen un mensaje diciendo que el perro está sentado o dando vueltas. Pero el concepto se puede extender a situaciones realistas: si esta clase formara parte de un juego de computadora, estos métodos contendrían código para hacer que un perro animado se siente y dé vueltas. Si esta clase estuviera escrita para controlar un robot, estos métodos dirigirían movimientos que hagan que un perro robótico se siente y dé vueltas."
      ]
    },
    {
      "cell_type": "markdown",
      "id": "cd2ca297-406f-4112-964c-612b73711e89",
      "metadata": {
        "id": "cd2ca297-406f-4112-964c-612b73711e89"
      },
      "source": [
        "### Crear una Instancia a partir de una Clase\n",
        "Piensa en una clase como un conjunto de instrucciones sobre cómo hacer una instancia. La clase Dog es un conjunto de instrucciones que le dice a Python cómo crear instancias individuales que representan perros específicos.\n",
        "Ahora hagamos una instancia que represente a un perro en particular:"
      ]
    },
    {
      "cell_type": "code",
      "execution_count": null,
      "id": "61e4ff63-f4f6-4769-b5e3-e1e8af73995b",
      "metadata": {
        "id": "61e4ff63-f4f6-4769-b5e3-e1e8af73995b"
      },
      "outputs": [],
      "source": [
        "#"
      ]
    },
    {
      "cell_type": "markdown",
      "id": "4b156eb8-81be-4d1b-9075-0ba78bdb11f7",
      "metadata": {
        "id": "4b156eb8-81be-4d1b-9075-0ba78bdb11f7"
      },
      "source": [
        "La clase Dog que estamos utilizando aquí es la que acabamos de escribir en el ejemplo anterior. Aquí le decimos a Python que cree un perro cuyo nombre es 'Willie' y cuya edad es 6 ❶. Cuando Python lee esta línea, llama al método __init__() en Dog con los argumentos 'Willie' y 6. El método __init__() crea una instancia que representa a este perro en particular y establece los atributos de nombre y edad con los valores que proporcionamos. Luego, Python devuelve una instancia que representa a este perro. Asignamos esa instancia a la variable my_dog. La convención de nomenclatura es útil aquí; generalmente podemos asumir que un nombre en mayúsculas como Dog se refiere a una clase, y un nombre en minúsculas como my_dog se refiere a una instancia única creada a partir de una clase."
      ]
    },
    {
      "cell_type": "markdown",
      "id": "33c62ad6-e096-4fc0-98c6-4884baddab1e",
      "metadata": {
        "id": "33c62ad6-e096-4fc0-98c6-4884baddab1e"
      },
      "source": [
        "### Acceder a atributos\n",
        "Acceder a los atributos de una instancia se realiza utilizando la notación de punto. Accedemos al valor del atributo \"name\" de \"my_dog\" ❷ escribiendo:"
      ]
    },
    {
      "cell_type": "code",
      "execution_count": null,
      "id": "9134d324-bd43-4d7c-ba4d-60bc27c27a60",
      "metadata": {
        "id": "9134d324-bd43-4d7c-ba4d-60bc27c27a60"
      },
      "outputs": [],
      "source": [
        "#"
      ]
    },
    {
      "cell_type": "markdown",
      "id": "d9c16f1e-bf9c-4cb0-9221-2d88cab75a69",
      "metadata": {
        "id": "d9c16f1e-bf9c-4cb0-9221-2d88cab75a69"
      },
      "source": [
        "La notación de punto se utiliza con frecuencia en Python. Esta sintaxis demuestra cómo Python encuentra el valor de un atributo. Aquí, Python examina la instancia my_dog y luego encuentra el atributo \"name\" asociado con my_dog. Este es el mismo atributo al que se hace referencia como self.name en la clase Dog. Utilizamos el mismo enfoque para trabajar con el atributo \"age\" ❸."
      ]
    },
    {
      "cell_type": "code",
      "execution_count": null,
      "id": "80ada79d-fcba-4431-8046-f36d685e5a74",
      "metadata": {
        "id": "80ada79d-fcba-4431-8046-f36d685e5a74"
      },
      "outputs": [],
      "source": [
        "#"
      ]
    },
    {
      "cell_type": "markdown",
      "id": "c83ffbfb-a7b8-4cce-8d90-8770c9701346",
      "metadata": {
        "id": "c83ffbfb-a7b8-4cce-8d90-8770c9701346"
      },
      "source": [
        "### Llamando a Métodos\n",
        "Después de crear una instancia a partir de la clase Dog, podemos utilizar la notación de punto para llamar a cualquier método definido en Dog. Hagamos que nuestro perro se siente y dé vueltas:"
      ]
    },
    {
      "cell_type": "code",
      "execution_count": null,
      "id": "ecfc6582-07da-4d81-b5b2-0a5bf874f728",
      "metadata": {
        "id": "ecfc6582-07da-4d81-b5b2-0a5bf874f728"
      },
      "outputs": [],
      "source": [
        "#"
      ]
    },
    {
      "cell_type": "markdown",
      "id": "7ceef6d8-17b3-4550-8bfb-6397f8b104c9",
      "metadata": {
        "id": "7ceef6d8-17b3-4550-8bfb-6397f8b104c9"
      },
      "source": [
        "Para llamar a un método, proporciona el nombre de la instancia (en este caso, my_dog) y el nombre del método que deseas llamar, separados por un punto. Cuando Python lee my_dog.sit(), busca el método sit() en la clase Dog y ejecuta ese código. Python interpreta la línea my_dog.roll_over() de la misma manera. Ahora Willie hace lo que le decimos:"
      ]
    },
    {
      "cell_type": "code",
      "execution_count": null,
      "id": "618af38d-be80-4642-827a-302c1f2d0f82",
      "metadata": {
        "id": "618af38d-be80-4642-827a-302c1f2d0f82"
      },
      "outputs": [],
      "source": [
        "#"
      ]
    },
    {
      "cell_type": "markdown",
      "id": "beb3c2e6-06de-468e-8d84-51688b587e9f",
      "metadata": {
        "id": "beb3c2e6-06de-468e-8d84-51688b587e9f"
      },
      "source": [
        "Esta sintaxis es bastante útil. Cuando los atributos y métodos tienen nombres descriptivos apropiados como \"name\", \"age\", \"sit()\" y \"roll_over()\", podemos inferir fácilmente qué hace un bloque de código, incluso si nunca lo hemos visto antes."
      ]
    },
    {
      "cell_type": "markdown",
      "id": "76cac01a-fdd3-4056-acce-c9340d09711f",
      "metadata": {
        "id": "76cac01a-fdd3-4056-acce-c9340d09711f"
      },
      "source": [
        "### Crear Múltiples Instancias\n",
        "Puedes crear tantas instancias de una clase como necesites. Creemos un segundo perro llamado \"your_dog\":"
      ]
    },
    {
      "cell_type": "code",
      "execution_count": null,
      "id": "8bfe2bdc-b30a-45a5-8b46-6e025af05479",
      "metadata": {
        "id": "8bfe2bdc-b30a-45a5-8b46-6e025af05479"
      },
      "outputs": [],
      "source": [
        "#"
      ]
    },
    {
      "cell_type": "markdown",
      "id": "1e699e1a-32e5-4e61-aa0d-bdb268c25566",
      "metadata": {
        "id": "1e699e1a-32e5-4e61-aa0d-bdb268c25566"
      },
      "source": [
        "En este ejemplo, creamos un perro llamado Willie y un perro llamado Lucy. Cada perro es una instancia separada con su propio conjunto de atributos, capaz de realizar el mismo conjunto de acciones:"
      ]
    },
    {
      "cell_type": "code",
      "execution_count": null,
      "id": "9cfcb47b-6492-4663-88ee-45f8be30dd2d",
      "metadata": {
        "id": "9cfcb47b-6492-4663-88ee-45f8be30dd2d"
      },
      "outputs": [],
      "source": [
        "#"
      ]
    },
    {
      "cell_type": "markdown",
      "id": "cbb71acd-ad20-44c2-966f-c8620fb6c981",
      "metadata": {
        "id": "cbb71acd-ad20-44c2-966f-c8620fb6c981"
      },
      "source": [
        "Incluso si usáramos el mismo nombre y edad para el segundo perro, Python seguiría creando una instancia separada de la clase Dog. Puedes crear tantas instancias de una clase como necesites, siempre y cuando le des a cada instancia un nombre de variable único o ocupe un lugar único en una lista o diccionario."
      ]
    },
    {
      "cell_type": "markdown",
      "id": "59ee72ac-3d8f-4371-8ee8-66e2c1b463fd",
      "metadata": {
        "id": "59ee72ac-3d8f-4371-8ee8-66e2c1b463fd"
      },
      "source": [
        "### HAZLO TU MISMO\n",
        "\n",
        "**9-1. Restaurante:**\n",
        "Crea una clase llamada Restaurant. El método __init__() para Restaurant debe almacenar dos atributos: un restaurant_name (nombre del restaurante) y un cuisine_type (tipo de cocina). Crea un método llamado describe_restaurant() que imprima esta información y otro método llamado open_restaurant() que imprima un mensaje indicando que el restaurante está abierto.\n",
        "Crea una instancia llamada \"restaurant\" a partir de tu clase. Imprime ambos atributos individualmente y luego llama a ambos métodos.para cada usuario."
      ]
    },
    {
      "cell_type": "code",
      "execution_count": null,
      "id": "8d77c8bd-92d9-4c27-a4a6-11199cdd22ca",
      "metadata": {
        "id": "8d77c8bd-92d9-4c27-a4a6-11199cdd22ca"
      },
      "outputs": [],
      "source": []
    },
    {
      "cell_type": "markdown",
      "id": "2ad554b5-62b0-4a61-9b67-4a31bf7d384f",
      "metadata": {
        "id": "2ad554b5-62b0-4a61-9b67-4a31bf7d384f"
      },
      "source": [
        "**9-2. Tres Restaurantes:**\n",
        "Comienza con tu clase del Ejercicio 9-1. Crea tres instancias diferentes de la clase y llama a describe_restaurant() para cada instancia.\n"
      ]
    },
    {
      "cell_type": "code",
      "execution_count": null,
      "id": "cd733560-400f-4d74-bd08-08bafe0512c7",
      "metadata": {
        "id": "cd733560-400f-4d74-bd08-08bafe0512c7"
      },
      "outputs": [],
      "source": []
    },
    {
      "cell_type": "markdown",
      "id": "bf770431-00f3-4394-b8a3-ce5684df3edb",
      "metadata": {
        "id": "bf770431-00f3-4394-b8a3-ce5684df3edb"
      },
      "source": [
        "\n",
        "**9-3. Usuarios:**\n",
        "Crea una clase llamada User. Crea dos atributos llamados first_name (primer nombre) y last_name (apellido), y luego crea varios otros atributos que se almacenan típicamente en un perfil de usuario. Crea un método llamado describe_user() que imprima un resumen de la información del usuario. Crea otro método llamado greet_user() que imprima un saludo personalizado al usuario.\n",
        "Crea varias instancias que representen diferentes usuarios y llama a ambos métodos para cada una."
      ]
    },
    {
      "cell_type": "code",
      "execution_count": null,
      "id": "b4d2fc6e-4e41-47c3-8739-ba4e2fb3c732",
      "metadata": {
        "id": "b4d2fc6e-4e41-47c3-8739-ba4e2fb3c732"
      },
      "outputs": [],
      "source": []
    },
    {
      "cell_type": "markdown",
      "id": "ec972708-452b-42f9-a097-11ea3392834c",
      "metadata": {
        "id": "ec972708-452b-42f9-a097-11ea3392834c"
      },
      "source": [
        "### Trabajar con Clases e Instancias\n",
        "Puedes utilizar clases para representar muchas situaciones del mundo real. Una vez que escribas una clase, pasarás la mayor parte de tu tiempo trabajando con instancias creadas a partir de esa clase. Una de las primeras tareas que querrás hacer es modificar los atributos asociados con una instancia en particular. Puedes modificar los atributos de una instancia directamente o escribir métodos que actualicen los atributos de maneras específicas."
      ]
    },
    {
      "cell_type": "markdown",
      "id": "6028b497-6312-4588-844a-489b3312797e",
      "metadata": {
        "id": "6028b497-6312-4588-844a-489b3312797e"
      },
      "source": [
        "### La Clase Car\n",
        "Escribamos una nueva clase que represente un automóvil. Nuestra clase almacenará información sobre el tipo de automóvil con el que estamos trabajando y tendrá un método que resumirá esta información:"
      ]
    },
    {
      "cell_type": "code",
      "execution_count": null,
      "id": "c73f1738-0207-4516-93ba-8fd8dd6a5993",
      "metadata": {
        "id": "c73f1738-0207-4516-93ba-8fd8dd6a5993"
      },
      "outputs": [],
      "source": [
        "#"
      ]
    },
    {
      "cell_type": "markdown",
      "id": "3bdf353e-d0ea-419e-b21a-e8648ae43305",
      "metadata": {
        "id": "3bdf353e-d0ea-419e-b21a-e8648ae43305"
      },
      "source": [
        "En la clase Car, definimos el método __init__() con el parámetro self primero ❶, al igual que hicimos con la clase Dog. También le damos otros tres parámetros: make (marca), model (modelo) y year (año). El método __init__() toma estos parámetros y los asigna a los atributos que estarán asociados con las instancias creadas a partir de esta clase. Cuando creamos una nueva instancia de Car, necesitaremos especificar una marca, un modelo y un año para nuestra instancia.\n",
        "\n",
        "Definimos un método llamado get_descriptive_name() ❷ que coloca el año, la marca y el modelo de un automóvil en una cadena que describe ordenadamente el automóvil. Esto nos evitará tener que imprimir el valor de cada atributo individualmente. Para trabajar con los valores de los atributos en este método, usamos self.make, self.model y self.year. Fuera de la clase, creamos una instancia a partir de la clase Car y la asignamos a la variable my_new_car ❸. Luego llamamos a get_descriptive_name() para mostrar qué tipo de automóvil tenemos:"
      ]
    },
    {
      "cell_type": "code",
      "execution_count": null,
      "id": "0b4a6d7e-52d7-4e40-b9bc-248c9af002e9",
      "metadata": {
        "id": "0b4a6d7e-52d7-4e40-b9bc-248c9af002e9"
      },
      "outputs": [],
      "source": [
        "#"
      ]
    },
    {
      "cell_type": "markdown",
      "id": "05574b06-4d38-4540-b4c2-a18b640bb509",
      "metadata": {
        "id": "05574b06-4d38-4540-b4c2-a18b640bb509"
      },
      "source": [
        "Para hacer la clase más interesante, agreguemos un atributo que cambie con el tiempo. Añadiremos un atributo que almacene el kilometraje general del automóvil."
      ]
    },
    {
      "cell_type": "markdown",
      "id": "c45beedf-c18e-46df-8654-2152b32397b9",
      "metadata": {
        "id": "c45beedf-c18e-46df-8654-2152b32397b9"
      },
      "source": [
        "### Establecer un Valor Predeterminado para un Atributo\n",
        "Cuando se crea una instancia, los atributos pueden definirse sin pasarlos como parámetros. Estos atributos pueden definirse en el método __init__(), donde se les asigna un valor predeterminado.\n",
        "Añadamos un atributo llamado odometer_reading (lectura del odómetro) que siempre comienza con un valor de 0. También agregaremos un método read_odometer() que nos ayuda a leer el odómetro de cada automóvil:"
      ]
    },
    {
      "cell_type": "code",
      "execution_count": null,
      "id": "47b9e803-43ba-4dad-90ee-a5910f7fb690",
      "metadata": {
        "id": "47b9e803-43ba-4dad-90ee-a5910f7fb690"
      },
      "outputs": [],
      "source": [
        "#"
      ]
    },
    {
      "cell_type": "markdown",
      "id": "b8a2a462-70f9-4a7a-bb6f-c45f717bc0d4",
      "metadata": {
        "id": "b8a2a462-70f9-4a7a-bb6f-c45f717bc0d4"
      },
      "source": [
        "Esta vez, cuando Python llama al método __init__() para crear una nueva instancia, almacena los valores de make, model y year como atributos, como lo hizo en el ejemplo anterior. Luego, Python crea un nuevo atributo llamado odometer_reading y establece su valor inicial en 0 ❶. También tenemos un nuevo método llamado read_odometer() ❷ que facilita la lectura del kilometraje de un automóvil.\n",
        "Nuestro automóvil comienza con un kilometraje de 0:"
      ]
    },
    {
      "cell_type": "code",
      "execution_count": null,
      "id": "02a6c4ba-10ca-428f-b301-865575c85462",
      "metadata": {
        "id": "02a6c4ba-10ca-428f-b301-865575c85462"
      },
      "outputs": [],
      "source": [
        "#"
      ]
    },
    {
      "cell_type": "markdown",
      "id": "736c6bac-db8b-40bb-a2f0-440873eba982",
      "metadata": {
        "id": "736c6bac-db8b-40bb-a2f0-440873eba982"
      },
      "source": [
        "No muchos automóviles se venden con exactamente 0 millas en el odómetro, por lo que necesitamos una manera de cambiar el valor de este atributo."
      ]
    },
    {
      "cell_type": "markdown",
      "id": "16d09449-0c29-4a38-add9-6814d603dcd7",
      "metadata": {
        "id": "16d09449-0c29-4a38-add9-6814d603dcd7"
      },
      "source": [
        "### Modificar los Valores de los Atributos\n",
        "Puedes cambiar el valor de un atributo de tres maneras: puedes cambiar el valor directamente a través de una instancia, establecer el valor a través de un método o incrementar el valor (agregarle una cierta cantidad) mediante un método. Veamos cada uno de estos enfoques."
      ]
    },
    {
      "cell_type": "markdown",
      "id": "92bf635d-1c00-4f88-aabd-fffce97e473f",
      "metadata": {
        "id": "92bf635d-1c00-4f88-aabd-fffce97e473f"
      },
      "source": [
        "### Modificar el Valor de un Atributo Directamente\n",
        "La forma más sencilla de modificar el valor de un atributo es acceder al atributo directamente a través de una instancia. Aquí establecemos la lectura del odómetro en 23 directamente:"
      ]
    },
    {
      "cell_type": "code",
      "execution_count": null,
      "id": "f1c9f335-8e26-4977-95f0-0d4baa16996d",
      "metadata": {
        "id": "f1c9f335-8e26-4977-95f0-0d4baa16996d"
      },
      "outputs": [],
      "source": [
        "#"
      ]
    },
    {
      "cell_type": "markdown",
      "id": "403a6636-6723-4c3d-9ad8-fc9a8379b22d",
      "metadata": {
        "id": "403a6636-6723-4c3d-9ad8-fc9a8379b22d"
      },
      "source": [
        "Utilizamos la notación de punto para acceder al atributo odometer_reading del automóvil y establecer su valor directamente. Esta línea le indica a Python que tome la instancia my_new_car, encuentre el atributo odometer_reading asociado con ella y establezca el valor de ese atributo en 23:"
      ]
    },
    {
      "cell_type": "code",
      "execution_count": null,
      "id": "68897e7e-00dd-482f-94a0-486a38e15751",
      "metadata": {
        "id": "68897e7e-00dd-482f-94a0-486a38e15751"
      },
      "outputs": [],
      "source": [
        "#"
      ]
    },
    {
      "cell_type": "markdown",
      "id": "4ccb8b84-8b1a-4470-92c8-f8d7881012ec",
      "metadata": {
        "id": "4ccb8b84-8b1a-4470-92c8-f8d7881012ec"
      },
      "source": [
        "A veces querrás acceder directamente a los atributos de esta manera, pero en otras ocasiones querrás escribir un método que actualice el valor por ti."
      ]
    },
    {
      "cell_type": "markdown",
      "id": "ee373210-0dbf-4507-8ba9-2b5935637d04",
      "metadata": {
        "id": "ee373210-0dbf-4507-8ba9-2b5935637d04"
      },
      "source": [
        "### Modificar el Valor de un Atributo a Través de un Método\n",
        "Puede ser útil tener métodos que actualicen ciertos atributos por ti. En lugar de acceder al atributo directamente, pasas el nuevo valor a un método que maneja la actualización internamente. Aquí tienes un ejemplo que muestra un método llamado update_odometer():"
      ]
    },
    {
      "cell_type": "code",
      "execution_count": null,
      "id": "d365c5c1-65e4-4450-9ba8-127e70123fa9",
      "metadata": {
        "id": "d365c5c1-65e4-4450-9ba8-127e70123fa9"
      },
      "outputs": [],
      "source": [
        "#"
      ]
    },
    {
      "cell_type": "markdown",
      "id": "b964e3f4-52dd-44e6-b989-d04d41a322f4",
      "metadata": {
        "id": "b964e3f4-52dd-44e6-b989-d04d41a322f4"
      },
      "source": [
        "La única modificación en la clase Car es la adición de update_odometer(). Este método toma un valor de kilometraje y lo asigna a self.odometer_reading. Utilizando la instancia my_new_car, llamamos a update_odometer() con 23 como argumento ❶. Esto establece la lectura del odómetro en 23 y read_odometer() imprime la lectura:"
      ]
    },
    {
      "cell_type": "code",
      "execution_count": null,
      "id": "08512ecf-fb90-4be5-acf5-d162457e15f9",
      "metadata": {
        "id": "08512ecf-fb90-4be5-acf5-d162457e15f9"
      },
      "outputs": [],
      "source": [
        "#"
      ]
    },
    {
      "cell_type": "markdown",
      "id": "b0a920be-b70e-42d7-b757-4d96c353ab50",
      "metadata": {
        "id": "b0a920be-b70e-42d7-b757-4d96c353ab50"
      },
      "source": [
        "Podemos ampliar el método update_odometer() para realizar trabajo adicional cada vez que se modifica la lectura del odómetro. Agreguemos un poco de lógica para asegurarnos de que nadie intente revertir la lectura del odómetro:"
      ]
    },
    {
      "cell_type": "code",
      "execution_count": null,
      "id": "c06520e2-8762-4764-b6fa-65a5607110e6",
      "metadata": {
        "id": "c06520e2-8762-4764-b6fa-65a5607110e6"
      },
      "outputs": [],
      "source": [
        "#"
      ]
    },
    {
      "cell_type": "markdown",
      "id": "42f61b51-cd8f-483c-844d-b6b1c231d3b2",
      "metadata": {
        "id": "42f61b51-cd8f-483c-844d-b6b1c231d3b2"
      },
      "source": [
        "Ahora, update_odometer() verifica que la nueva lectura tenga sentido antes de modificar el atributo. Si el valor proporcionado para el kilometraje es mayor o igual al kilometraje existente, self.odometer_reading, puedes actualizar la lectura del odómetro al nuevo kilometraje ❶. Si el nuevo kilometraje es menor que el kilometraje existente, recibirás una advertencia de que no puedes revertir el odómetro ❷."
      ]
    },
    {
      "cell_type": "code",
      "execution_count": null,
      "id": "decbdaf0-56f6-4fc5-9b10-65207544343a",
      "metadata": {
        "id": "decbdaf0-56f6-4fc5-9b10-65207544343a"
      },
      "outputs": [],
      "source": [
        "#"
      ]
    },
    {
      "cell_type": "markdown",
      "id": "44471b4d-3586-4610-8c88-812dd88c3e37",
      "metadata": {
        "id": "44471b4d-3586-4610-8c88-812dd88c3e37"
      },
      "source": [
        "### Incrementar el Valor de un Atributo a Través de un Método\n",
        "A veces querrás incrementar el valor de un atributo en una cierta cantidad, en lugar de establecer un valor completamente nuevo. Digamos que compramos un automóvil usado y le ponemos 100 millas entre el momento en que lo compramos y el momento en que lo registramos. Aquí hay un método que nos permite pasar esta cantidad incremental y agregar ese valor a la lectura del odómetro:"
      ]
    },
    {
      "cell_type": "code",
      "execution_count": null,
      "id": "f11a5ab5-afc8-45f6-8992-7bfd261e4db6",
      "metadata": {
        "id": "f11a5ab5-afc8-45f6-8992-7bfd261e4db6"
      },
      "outputs": [],
      "source": [
        "#"
      ]
    },
    {
      "cell_type": "markdown",
      "id": "a58ba4c8-72fe-43fb-aef0-da9ed0aa5d00",
      "metadata": {
        "id": "a58ba4c8-72fe-43fb-aef0-da9ed0aa5d00"
      },
      "source": [
        "El nuevo método increment_odometer() toma un número de millas y añade este valor a self.odometer_reading. Primero, creamos un automóvil usado, my_used_car ❶. Establecemos su odómetro en 23,500 llamando a update_odometer() y pasándole 23_500 ❷. Finalmente, llamamos a increment_odometer() y le pasamos 100 para agregar las 100 millas que conducimos entre comprar el automóvil y registrarlo:"
      ]
    },
    {
      "cell_type": "code",
      "execution_count": null,
      "id": "1162cbe2-6aed-4ee2-a639-646bbc8e3bb0",
      "metadata": {
        "id": "1162cbe2-6aed-4ee2-a639-646bbc8e3bb0"
      },
      "outputs": [],
      "source": [
        "#"
      ]
    },
    {
      "cell_type": "markdown",
      "id": "50e4b29c-55a7-4c47-9762-aca8f0cf622e",
      "metadata": {
        "id": "50e4b29c-55a7-4c47-9762-aca8f0cf622e"
      },
      "source": [
        "Puedes modificar este método para rechazar incrementos negativos, de modo que nadie pueda usar esta función para revertir un odómetro también."
      ]
    },
    {
      "cell_type": "markdown",
      "id": "2d90c39d-3038-41f1-ad76-ee3d8bff3f4d",
      "metadata": {
        "id": "2d90c39d-3038-41f1-ad76-ee3d8bff3f4d"
      },
      "source": [
        "**NOTA:**\n",
        "\n",
        "Puedes utilizar métodos como este para controlar cómo los usuarios de tu programa actualizan valores como la lectura del odómetro, pero cualquier persona con acceso al programa puede establecer la lectura del odómetro en cualquier valor accediendo directamente al atributo. La seguridad efectiva requiere una atención extrema a los detalles además de las verificaciones básicas mostradas aquí."
      ]
    },
    {
      "cell_type": "markdown",
      "id": "4dbe26b9-057e-42b3-aa68-6d07f444305e",
      "metadata": {
        "id": "4dbe26b9-057e-42b3-aa68-6d07f444305e"
      },
      "source": [
        "### HAZLO TU MISMO\n",
        "\n",
        "**9-4. Número de Personas Atendidas:**\n",
        "Comienza con tu programa del Ejercicio 9-1 (página 162). Agrega un atributo llamado \"number_served\" con un valor predeterminado de 0. Crea una instancia llamada \"restaurant\" a partir de esta clase. Imprime el número de clientes que el restaurante ha atendido, y luego cambia este valor e imprímelo nuevamente.\n",
        "Agrega un método llamado \"set_number_served()\" que te permita establecer el número de clientes que han sido atendidos. Llama a este método con un nuevo número e imprime el valor nuevamente. Agrega un método llamado \"increment_number_served()\" que te permita incrementar el número de clientes que han sido atendidos. Llama a este método con cualquier número que represente cuántos clientes fueron atendidos, por ejemplo, en un día de negocioo a 0."
      ]
    },
    {
      "cell_type": "code",
      "execution_count": null,
      "id": "fe2fb530-4dd6-46e1-92d0-1ad20184a6f4",
      "metadata": {
        "id": "fe2fb530-4dd6-46e1-92d0-1ad20184a6f4"
      },
      "outputs": [],
      "source": []
    },
    {
      "cell_type": "code",
      "execution_count": null,
      "id": "31529ee4-5f95-4fc1-ab78-85e50afa6e68",
      "metadata": {
        "id": "31529ee4-5f95-4fc1-ab78-85e50afa6e68"
      },
      "outputs": [],
      "source": []
    },
    {
      "cell_type": "markdown",
      "id": "48243a5c-bfec-4e83-9466-6109173dea49",
      "metadata": {
        "id": "48243a5c-bfec-4e83-9466-6109173dea49"
      },
      "source": [
        "\n",
        "**9-5. Intentos de Inicio de Sesión:**\n",
        "Añade un atributo llamado \"login_attempts\" a tu clase User del Ejercicio 9-3 (página 162). Escribe un método llamado \"increment_login_attempts()\" que incremente el valor de \"login_attempts\" en 1. Escribe otro método llamado \"reset_login_attempts()\" que restablezca el valor de \"login_attempts\" a 0.\n",
        "Crea una instancia de la clase User y llama a \"increment_login_attempts()\" varias veces. Imprime el valor de \"login_attempts\" para asegurarte de que se haya incrementado correctamente y luego llama a \"reset_login_attempts()\". Imprime \"login_attempts\" nuevamente para asegurarte de que se haya restablecido a 0."
      ]
    },
    {
      "cell_type": "code",
      "execution_count": null,
      "id": "1f1ed7a4-1aea-4a2e-8776-fc8239d4ec0d",
      "metadata": {
        "id": "1f1ed7a4-1aea-4a2e-8776-fc8239d4ec0d"
      },
      "outputs": [],
      "source": []
    },
    {
      "cell_type": "code",
      "execution_count": null,
      "id": "a919fd14-2570-41c5-aaf6-4fbb75205230",
      "metadata": {
        "id": "a919fd14-2570-41c5-aaf6-4fbb75205230"
      },
      "outputs": [],
      "source": []
    },
    {
      "cell_type": "markdown",
      "id": "67afb468-c22b-4d6e-8319-964dd2017567",
      "metadata": {
        "id": "67afb468-c22b-4d6e-8319-964dd2017567"
      },
      "source": [
        "# **Herencia**\n",
        "No siempre tienes que empezar desde cero al escribir una clase. Si la clase que estás escribiendo es una versión especializada de otra clase que escribiste, puedes utilizar la herencia. Cuando una clase hereda de otra, adopta los atributos y métodos de la primera clase. La clase original se llama clase padre, y la nueva clase es la clase hija. La clase hija puede heredar cualquier atributo o método de su clase padre, pero también puede definir nuevos atributos y métodos por su cuenta."
      ]
    },
    {
      "cell_type": "markdown",
      "id": "c2a354fa-6874-486c-9cb6-45133d57f315",
      "metadata": {
        "id": "c2a354fa-6874-486c-9cb6-45133d57f315"
      },
      "source": [
        "### El Método __init__() para una Clase Hija\n",
        "Cuando estás escribiendo una nueva clase basada en una clase existente, a menudo querrás llamar al método __init__() de la clase padre. Esto inicializará cualquier atributo que haya sido definido en el método __init__() del padre y los pondrá a disposición en la clase hija.\n",
        "Como ejemplo, vamos a modelar un automóvil eléctrico. Un automóvil eléctrico es simplemente un tipo específico de automóvil, por lo que podemos basar nuestra nueva clase ElectricCar en la clase Car que escribimos anteriormente. Luego, solo tendremos que escribir código para los atributos y comportamientos específicos de los automóviles eléctricos.\n",
        "Comencemos haciendo una versión simple de la clase ElectricCar, que hace todo lo que hace la clase Car:"
      ]
    },
    {
      "cell_type": "code",
      "execution_count": null,
      "id": "ebe0f4b9-05f4-4689-9a22-892c49de99e0",
      "metadata": {
        "id": "ebe0f4b9-05f4-4689-9a22-892c49de99e0"
      },
      "outputs": [],
      "source": [
        "#"
      ]
    },
    {
      "cell_type": "code",
      "execution_count": null,
      "id": "6fb9f541-a772-40bf-b333-e76e3e439b5e",
      "metadata": {
        "id": "6fb9f541-a772-40bf-b333-e76e3e439b5e"
      },
      "outputs": [],
      "source": [
        "#"
      ]
    },
    {
      "cell_type": "code",
      "execution_count": null,
      "id": "0842df2d-dbec-405e-b4a2-6c37a11c2749",
      "metadata": {
        "id": "0842df2d-dbec-405e-b4a2-6c37a11c2749"
      },
      "outputs": [],
      "source": [
        "#"
      ]
    },
    {
      "cell_type": "markdown",
      "id": "1d602fc7-529b-4d91-b7b2-415686aefcd8",
      "metadata": {
        "id": "1d602fc7-529b-4d91-b7b2-415686aefcd8"
      },
      "source": [
        "Comenzamos con Car ❶. Cuando creas una clase hija, la clase padre debe formar parte del archivo actual y debe aparecer antes de la clase hija en el archivo. Luego definimos la clase hija, ElectricCar ❷. El nombre de la clase padre debe incluirse entre paréntesis en la definición de una clase hija. El método __init__() toma la información necesaria para crear una instancia de Car ❸.\n",
        "\n",
        "La función super() ❹ es una función especial que te permite llamar a un método de la clase padre. Esta línea le dice a Python que llame al método __init__() de Car, lo que le da a una instancia de ElectricCar todos los atributos definidos en ese método. El nombre \"super\" proviene de la convención de llamar a la clase padre una superclase y a la clase hija una subclase.\n",
        "\n",
        "Probamos si la herencia está funcionando correctamente intentando crear un automóvil eléctrico con el mismo tipo de información que proporcionaríamos al hacer un automóvil regular. Creamos una instancia de la clase ElectricCar y la asignamos a my_leaf ❺. Esta línea llama al método __init__() definido en ElectricCar, que a su vez le dice a Python que llame al método __init__() definido en la clase padre Car. Proporcionamos los argumentos 'nissan', 'leaf' y 2024.\n",
        "\n",
        "Aparte de __init__(), aún no hay atributos o métodos que sean específicos de un automóvil eléctrico. En este punto, nos aseguramos de que el automóvil eléctrico tenga los comportamientos apropiados de Car:"
      ]
    },
    {
      "cell_type": "code",
      "execution_count": null,
      "id": "9524df35-acfb-4cd0-8a52-50daba3914b5",
      "metadata": {
        "id": "9524df35-acfb-4cd0-8a52-50daba3914b5"
      },
      "outputs": [],
      "source": [
        "#"
      ]
    },
    {
      "cell_type": "markdown",
      "id": "b23ab4b7-d01c-4a47-9823-0a0ffa51b1e7",
      "metadata": {
        "id": "b23ab4b7-d01c-4a47-9823-0a0ffa51b1e7"
      },
      "source": [
        "La instancia de ElectricCar funciona igual que una instancia de Car, así que ahora podemos comenzar a definir atributos y métodos específicos para los automóviles eléctricos."
      ]
    },
    {
      "cell_type": "markdown",
      "id": "cb93e05b-4a67-459d-bb23-67e1ef545454",
      "metadata": {
        "id": "cb93e05b-4a67-459d-bb23-67e1ef545454"
      },
      "source": [
        "### Definir Atributos y Métodos para la Clase Hija\n",
        "Una vez que tienes una clase hija que hereda de una clase padre, puedes agregar cualquier atributo y método nuevo necesario para diferenciar la clase hija de la clase padre. Vamos a agregar un atributo específico para los automóviles eléctricos (por ejemplo, una batería) y un método para informar sobre este atributo. Almacenaremos el tamaño de la batería y escribiremos un método que imprime una descripción de la batería:"
      ]
    },
    {
      "cell_type": "code",
      "execution_count": null,
      "id": "3620e719-5873-49cf-a36b-613d220b9756",
      "metadata": {
        "id": "3620e719-5873-49cf-a36b-613d220b9756"
      },
      "outputs": [],
      "source": [
        "#"
      ]
    },
    {
      "cell_type": "code",
      "execution_count": null,
      "id": "dd660a5d-cb79-436b-817a-daee2a014d37",
      "metadata": {
        "id": "dd660a5d-cb79-436b-817a-daee2a014d37"
      },
      "outputs": [],
      "source": [
        "#"
      ]
    },
    {
      "cell_type": "code",
      "execution_count": null,
      "id": "163e1cd5-d2de-41dc-bf58-3e353ecb39a7",
      "metadata": {
        "id": "163e1cd5-d2de-41dc-bf58-3e353ecb39a7"
      },
      "outputs": [],
      "source": [
        "#"
      ]
    },
    {
      "cell_type": "markdown",
      "id": "ce8b7aa0-6998-488c-ac15-203f6d10ca25",
      "metadata": {
        "id": "ce8b7aa0-6998-488c-ac15-203f6d10ca25"
      },
      "source": [
        "Añadimos un nuevo atributo self.battery_size y establecemos su valor inicial en 40 ❶. Este atributo estará asociado con todas las instancias creadas a partir de la clase ElectricCar, pero no estará asociado con ninguna instancia de Car. También agregamos un método llamado describe_battery() que imprime información sobre la batería ❷. Cuando llamamos a este método, obtenemos una descripción claramente específica para un automóvil eléctrico:"
      ]
    },
    {
      "cell_type": "code",
      "execution_count": null,
      "id": "04f01cc8-4759-4c7f-b3d9-a407584f4e78",
      "metadata": {
        "id": "04f01cc8-4759-4c7f-b3d9-a407584f4e78"
      },
      "outputs": [],
      "source": [
        "#"
      ]
    },
    {
      "cell_type": "code",
      "execution_count": null,
      "id": "6fbf622e-2db3-446e-967f-4cbd89e61ddd",
      "metadata": {
        "id": "6fbf622e-2db3-446e-967f-4cbd89e61ddd"
      },
      "outputs": [],
      "source": [
        "#"
      ]
    },
    {
      "cell_type": "markdown",
      "id": "fe8dc7bd-07b5-4cef-a0b2-1395cda1f262",
      "metadata": {
        "id": "fe8dc7bd-07b5-4cef-a0b2-1395cda1f262"
      },
      "source": [
        "No hay límite para cuánto puedes especializar la clase ElectricCar. Puedes agregar tantos atributos y métodos como necesites para modelar un automóvil eléctrico con el grado de precisión que necesites. Un atributo o método que podría pertenecer a cualquier automóvil, en lugar de ser específico para un automóvil eléctrico, debería agregarse a la clase Car en lugar de la clase ElectricCar. Entonces, cualquiera que use la clase Car tendrá esa funcionalidad disponible también, y la clase ElectricCar solo contendrá código para la información y el comportamiento específicos de los vehículos eléctricos."
      ]
    },
    {
      "cell_type": "markdown",
      "id": "66911c4d-9aa9-4703-b372-b3b5918272e5",
      "metadata": {
        "id": "66911c4d-9aa9-4703-b372-b3b5918272e5"
      },
      "source": [
        "### Anular Métodos de la Clase Padre\n",
        "Puedes anular cualquier método de la clase padre que no se ajuste a lo que estás tratando de modelar con la clase hija. Para hacer esto, defines un método en la clase hija con el mismo nombre que el método que deseas anular en la clase padre. Python ignorará el método de la clase padre y solo prestará atención al método que defines en la clase hija.\n",
        "Supongamos que la clase Car tenía un método llamado fill_gas_tank(). Este método no tiene sentido para un vehículo completamente eléctrico, por lo que es posible que desees anular este método. Aquí tienes una manera de hacerlo:"
      ]
    },
    {
      "cell_type": "code",
      "execution_count": null,
      "id": "38b1e77f-1a4c-4d1c-a206-1d5e9185581c",
      "metadata": {
        "id": "38b1e77f-1a4c-4d1c-a206-1d5e9185581c"
      },
      "outputs": [],
      "source": [
        "#"
      ]
    },
    {
      "cell_type": "code",
      "execution_count": null,
      "id": "f63abb19-ade5-4cd8-aff5-3d2cf44becf2",
      "metadata": {
        "id": "f63abb19-ade5-4cd8-aff5-3d2cf44becf2"
      },
      "outputs": [],
      "source": [
        "#"
      ]
    },
    {
      "cell_type": "code",
      "execution_count": null,
      "id": "a650a8dc-f7b9-4aed-b984-1472308586d9",
      "metadata": {
        "id": "a650a8dc-f7b9-4aed-b984-1472308586d9"
      },
      "outputs": [],
      "source": [
        "#"
      ]
    },
    {
      "cell_type": "markdown",
      "id": "b9e0f14e-0b6b-4233-8af7-f5363d013a93",
      "metadata": {
        "id": "b9e0f14e-0b6b-4233-8af7-f5363d013a93"
      },
      "source": [
        "Ahora, si alguien intenta llamar a fill_gas_tank() con un automóvil eléctrico, Python ignorará el método fill_gas_tank() en Car y ejecutará este código en su lugar. Cuando usas la herencia, puedes hacer que tus clases hijas retengan lo que necesitas y anular cualquier cosa que no necesites de la clase padre."
      ]
    },
    {
      "cell_type": "markdown",
      "id": "0bfc9226-be35-4fd7-bc3c-0469bdcfde24",
      "metadata": {
        "id": "0bfc9226-be35-4fd7-bc3c-0469bdcfde24"
      },
      "source": [
        "### Instancias como Atributos\n",
        "Cuando modelas algo del mundo real en código, es posible que te des cuenta de que estás agregando más y más detalles a una clase. Puedes encontrarte con una lista creciente de atributos y métodos y que tus archivos se están volviendo extensos. En estas situaciones, podrías reconocer que parte de una clase puede escribirse como una clase separada. Puedes dividir tu clase grande en clases más pequeñas que trabajen juntas; este enfoque se llama composición.\n",
        "\n",
        "Por ejemplo, si continuamos agregando detalles a la clase ElectricCar, podríamos notar que estamos agregando muchos atributos y métodos específicos para la batería del automóvil. Cuando vemos que esto está sucediendo, podemos detenernos y mover esos atributos y métodos a una clase separada llamada Battery. Luego, podemos usar una instancia de Battery como un atributo en la clase ElectricCar:"
      ]
    },
    {
      "cell_type": "code",
      "execution_count": null,
      "id": "a9c7bbf3-cd34-4d4c-bec8-28f16e564b26",
      "metadata": {
        "id": "a9c7bbf3-cd34-4d4c-bec8-28f16e564b26"
      },
      "outputs": [],
      "source": [
        "#"
      ]
    },
    {
      "cell_type": "code",
      "execution_count": null,
      "id": "58063418-352e-4e23-a035-51ee6cb86cb4",
      "metadata": {
        "id": "58063418-352e-4e23-a035-51ee6cb86cb4"
      },
      "outputs": [],
      "source": [
        "#"
      ]
    },
    {
      "cell_type": "code",
      "execution_count": null,
      "id": "25d8f1ec-7d78-4942-b639-efaea5d5c531",
      "metadata": {
        "id": "25d8f1ec-7d78-4942-b639-efaea5d5c531"
      },
      "outputs": [],
      "source": [
        "#"
      ]
    },
    {
      "cell_type": "markdown",
      "id": "330d676e-e6a9-4f62-a196-53c70eb1b657",
      "metadata": {
        "id": "330d676e-e6a9-4f62-a196-53c70eb1b657"
      },
      "source": [
        "Definimos una nueva clase llamada Battery que no hereda de ninguna otra clase. El método __init__() ❶ tiene un parámetro, battery_size, además de self. Este es un parámetro opcional que establece el tamaño de la batería en 40 si no se proporciona ningún valor. El método describe_battery() también se ha trasladado a esta clase ❷.\n",
        "\n",
        "En la clase ElectricCar, ahora agregamos un atributo llamado self.battery ❸. Esta línea le dice a Python que cree una nueva instancia de Battery (con un tamaño predeterminado de 40, porque no estamos especificando un valor) y asigna esa instancia al atributo self.battery. Esto sucederá cada vez que se llame al método __init__; cualquier instancia de ElectricCar ahora tendrá automáticamente una instancia de Battery creada.\n",
        "\n",
        "Creamos un automóvil eléctrico y lo asignamos a la variable my_leaf. Cuando queremos describir la batería, necesitamos trabajar a través del atributo de la batería del automóvil:"
      ]
    },
    {
      "cell_type": "code",
      "execution_count": null,
      "id": "fdcac434-6ea4-49ec-9b74-cdd45381df83",
      "metadata": {
        "id": "fdcac434-6ea4-49ec-9b74-cdd45381df83"
      },
      "outputs": [],
      "source": [
        "#"
      ]
    },
    {
      "cell_type": "markdown",
      "id": "66eaff9d-e87d-471e-8dac-295579cfaae9",
      "metadata": {
        "id": "66eaff9d-e87d-471e-8dac-295579cfaae9"
      },
      "source": [
        "Esta línea le indica a Python que examine la instancia my_leaf, encuentre su atributo de la batería y llame al método describe_battery() que está asociado con la instancia de Battery asignada al atributo.\n",
        "\n",
        "La salida es idéntica a lo que vimos anteriormente:"
      ]
    },
    {
      "cell_type": "code",
      "execution_count": null,
      "id": "ad37c040-97d9-40a9-b076-382f91ec3630",
      "metadata": {
        "id": "ad37c040-97d9-40a9-b076-382f91ec3630"
      },
      "outputs": [],
      "source": [
        "#"
      ]
    },
    {
      "cell_type": "code",
      "execution_count": null,
      "id": "6b69e2cf-a532-441a-bc44-256e50a27e0b",
      "metadata": {
        "id": "6b69e2cf-a532-441a-bc44-256e50a27e0b"
      },
      "outputs": [],
      "source": [
        "#"
      ]
    },
    {
      "cell_type": "markdown",
      "id": "c1261c0d-c018-4be0-8e37-2ee4821e2acc",
      "metadata": {
        "id": "c1261c0d-c018-4be0-8e37-2ee4821e2acc"
      },
      "source": [
        "Puede parecer mucho trabajo adicional, pero ahora podemos describir la batería con tanto detalle como queramos sin abarrotar la clase ElectricCar. Agreguemos otro método a Battery que informe sobre la autonomía del automóvil según el tamaño de la batería:"
      ]
    },
    {
      "cell_type": "code",
      "execution_count": null,
      "id": "b36c37ba-42ae-4286-bb4c-14e20bfc0291",
      "metadata": {
        "id": "b36c37ba-42ae-4286-bb4c-14e20bfc0291"
      },
      "outputs": [],
      "source": [
        "#"
      ]
    },
    {
      "cell_type": "code",
      "execution_count": null,
      "id": "d0aa5aa1-9d1b-4338-84c7-d7f3ed19dd93",
      "metadata": {
        "id": "d0aa5aa1-9d1b-4338-84c7-d7f3ed19dd93"
      },
      "outputs": [],
      "source": [
        "#"
      ]
    },
    {
      "cell_type": "code",
      "execution_count": null,
      "id": "8ad71e4c-fbf4-4069-9f00-b61c3fb1128d",
      "metadata": {
        "id": "8ad71e4c-fbf4-4069-9f00-b61c3fb1128d"
      },
      "outputs": [],
      "source": [
        "#"
      ]
    },
    {
      "cell_type": "markdown",
      "id": "f5fe0cf2-af6b-4b50-9d50-c414b1deb368",
      "metadata": {
        "id": "f5fe0cf2-af6b-4b50-9d50-c414b1deb368"
      },
      "source": [
        "El nuevo método get_range() realiza un análisis simple. Si la capacidad de la batería es de 40 kWh, get_range() establece la autonomía en 150 millas, y si la capacidad es de 65 kWh, establece la autonomía en 225 millas. Luego informa sobre este valor. Cuando queremos usar este método, nuevamente tenemos que llamarlo a través del atributo de la batería del automóvil ❶.\n",
        "\n",
        "La salida nos dice la autonomía del automóvil según el tamaño de su batería:"
      ]
    },
    {
      "cell_type": "code",
      "execution_count": null,
      "id": "6a45049d-e7d5-4376-9eea-b58a559fc5b0",
      "metadata": {
        "id": "6a45049d-e7d5-4376-9eea-b58a559fc5b0"
      },
      "outputs": [],
      "source": [
        "#"
      ]
    },
    {
      "cell_type": "code",
      "execution_count": null,
      "id": "7a9095b5-07ce-46c4-b2a8-2b7d30c65ed0",
      "metadata": {
        "id": "7a9095b5-07ce-46c4-b2a8-2b7d30c65ed0"
      },
      "outputs": [],
      "source": [
        "#"
      ]
    },
    {
      "cell_type": "code",
      "execution_count": null,
      "id": "6127f8bc-6aeb-407e-a424-58fd17de3aa2",
      "metadata": {
        "id": "6127f8bc-6aeb-407e-a424-58fd17de3aa2"
      },
      "outputs": [],
      "source": [
        "#"
      ]
    },
    {
      "cell_type": "markdown",
      "id": "98b1bd07-f280-4a50-a961-e400f601c493",
      "metadata": {
        "id": "98b1bd07-f280-4a50-a961-e400f601c493"
      },
      "source": [
        "### Modelar Objetos del Mundo Real\n",
        "A medida que comiences a modelar cosas más complicadas como autos eléctricos, te enfrentarás a preguntas interesantes. ¿La autonomía de un automóvil eléctrico es una propiedad de la batería o del automóvil? Si solo estamos describiendo un automóvil, probablemente esté bien mantener la asociación del método get_range() con la clase Battery. Pero si estamos describiendo toda la línea de autos de un fabricante, probablemente queramos mover get_range() a la clase ElectricCar. El método get_range() seguiría verificando el tamaño de la batería antes de determinar la autonomía, pero informaría una autonomía específica para el tipo de automóvil con el que está asociado. Alternativamente, podríamos mantener la asociación del método get_range() con la batería pero pasarle un parámetro como car_model. El método get_range() informaría entonces una autonomía basada en el tamaño de la batería y el modelo de automóvil.\n",
        "\n",
        "Esto te lleva a un punto interesante en tu desarrollo como programador. Cuando te enfrentas a preguntas como estas, estás pensando a un nivel lógico más alto en lugar de centrarte en la sintaxis. Estás pensando no en Python, sino en cómo representar el mundo real en código. Cuando alcanzas este punto, te das cuenta de que a menudo no hay enfoques correctos o incorrectos para modelar situaciones del mundo real. Algunos enfoques son más eficientes que otros, pero se necesita práctica para encontrar las representaciones más eficientes. ¡Si tu código funciona como quieres, estás haciendo un buen trabajo! No te desanimes si descubres que estás desmantelando tus clases y reescribiéndolas varias veces utilizando enfoques diferentes. En la búsqueda de escribir código preciso y eficiente, todos pasan por este proceso."
      ]
    },
    {
      "cell_type": "markdown",
      "id": "3d6b4801-a098-4f1b-9fa1-017d02f48c5e",
      "metadata": {
        "id": "3d6b4801-a098-4f1b-9fa1-017d02f48c5e"
      },
      "source": [
        "### HAZLO TU MISMO\n",
        "\n",
        "**9-6. Puesto de Helados:** Un puesto de helados es un tipo específico de restaurante. Escribe una clase llamada IceCreamStand que herede de la clase Restaurant que escribiste en el Ejercicio 9-1 (página 162) o en el Ejercicio 9-4 (página 166). Cualquiera de las versiones de la clase funcionará; simplemente elige la que prefieras. Agrega un atributo llamado flavors que almacene una lista de sabores de helado. Escribe un método que muestre estos sabores. Crea una instancia de IceCreamStand y llama a este método.\n",
        "\n",
        "**9-7. Administrador:** Un administrador es un tipo especial de usuario. Escribe una clase llamada Admin que herede de la clase User que escribiste en el Ejercicio 9-3 (página 162) o en el Ejercicio 9-5 (página 167). Agrega un atributo, privileges, que almacene una lista de cadenas como \"puede agregar publicación\", \"puede eliminar publicación\", \"puede prohibir usuario\", y así sucesivamente. Escribe un método llamado show_privileges() que liste el conjunto de privilegios del administrador. Crea una instancia de Admin y llama a tu método.\n",
        "\n",
        "**9-8. Privilegios:** Escribe una clase separada llamada Privileges. La clase debería tener un atributo, privileges, que almacene una lista de cadenas como se describe en el Ejercicio 9-7. Mueve el método show_privileges() a esta clase. Haz una instancia de Privileges como un atributo en la clase Admin. Crea una nueva instancia de Admin y usa tu método para mostrar sus privilegios.\n",
        "\n",
        "**9-9. Actualización de Batería:** Utiliza la versión final de electric_car.py de esta sección. Agrega un método a la clase Battery llamado upgrade_battery(). Este método debería verificar el tamaño de la batería y establecer la capacidad en 65 si aún no lo está. Crea un automóvil eléctrico con un tamaño de batería predeterminado, llama a get_range() una vez y luego llama a get_range() una segunda vez después de actualizar la batería. Deberías ver un aumento en el alcance del automóvil."
      ]
    },
    {
      "cell_type": "markdown",
      "id": "154f2707-1622-4141-9e1f-c7f7d4c2f957",
      "metadata": {
        "id": "154f2707-1622-4141-9e1f-c7f7d4c2f957"
      },
      "source": [
        "### Importación de Clases\n",
        "A medida que agregas más funcionalidad a tus clases, tus archivos pueden volverse largos, incluso cuando utilizas la herencia y la composición adecuadamente. En línea con la filosofía general de Python, querrás mantener tus archivos lo más despejados posible. Para ayudarte, Python te permite almacenar clases en módulos y luego importar las clases que necesitas en tu programa principal."
      ]
    },
    {
      "cell_type": "markdown",
      "id": "f30d62cc-ab53-4880-b754-03020d5967bc",
      "metadata": {
        "id": "f30d62cc-ab53-4880-b754-03020d5967bc"
      },
      "source": [
        "### Importación de una Clase Individual\n",
        "Creemos un módulo que contenga solo la clase Car. Esto plantea un problema sutil de nomenclatura: ya tenemos un archivo llamado car.py en este capítulo, pero este módulo debería llamarse car.py porque contiene código que representa un automóvil. Resolveremos este problema de nomenclatura almacenando la clase Car en un módulo llamado car.py, reemplazando el archivo car.py que estábamos utilizando anteriormente. A partir de ahora, cualquier programa que utilice este módulo necesitará un nombre de archivo más específico, como my_car.py. Aquí tienes car.py con el código solo de la clase Car:"
      ]
    },
    {
      "cell_type": "code",
      "execution_count": null,
      "id": "3f3042b5-2ff1-47a4-be43-688994c9285a",
      "metadata": {
        "id": "3f3042b5-2ff1-47a4-be43-688994c9285a"
      },
      "outputs": [],
      "source": [
        "#"
      ]
    },
    {
      "cell_type": "code",
      "execution_count": null,
      "id": "06026a10-a36d-40a0-9767-65ae0aba7edd",
      "metadata": {
        "id": "06026a10-a36d-40a0-9767-65ae0aba7edd"
      },
      "outputs": [],
      "source": [
        "#"
      ]
    },
    {
      "cell_type": "code",
      "execution_count": null,
      "id": "44fb28f3-78ff-4b13-8277-40c28847de30",
      "metadata": {
        "id": "44fb28f3-78ff-4b13-8277-40c28847de30"
      },
      "outputs": [],
      "source": [
        "#"
      ]
    },
    {
      "cell_type": "markdown",
      "id": "f5e6c72b-7acd-4e4e-bef4-4b2d5c4044c9",
      "metadata": {
        "id": "f5e6c72b-7acd-4e4e-bef4-4b2d5c4044c9"
      },
      "source": [
        "Incluimos una cadena de documentación a nivel de módulo que describe brevemente el contenido de este módulo ❶. Deberías escribir una cadena de documentación para cada módulo que crees. Ahora creamos un archivo separado llamado my_car.py. Este archivo importará la clase Car y luego creará una instancia de esa clase:"
      ]
    },
    {
      "cell_type": "code",
      "execution_count": null,
      "id": "633f06cb-f909-47bb-a4c3-4a8def553e02",
      "metadata": {
        "id": "633f06cb-f909-47bb-a4c3-4a8def553e02"
      },
      "outputs": [],
      "source": [
        "#"
      ]
    },
    {
      "cell_type": "code",
      "execution_count": null,
      "id": "23c2ec8d-988d-481f-83e8-aa255788de07",
      "metadata": {
        "id": "23c2ec8d-988d-481f-83e8-aa255788de07"
      },
      "outputs": [],
      "source": [
        "#"
      ]
    },
    {
      "cell_type": "markdown",
      "id": "b1471f5c-eafb-4e02-9b7d-163d66e4f02c",
      "metadata": {
        "id": "b1471f5c-eafb-4e02-9b7d-163d66e4f02c"
      },
      "source": [
        "La declaración de importación ❶ le indica a Python que abra el módulo car e importe la clase Car. Ahora podemos utilizar la clase Car como si estuviera definida en este archivo. La salida es la misma que vimos anteriormente:"
      ]
    },
    {
      "cell_type": "code",
      "execution_count": null,
      "id": "540c7543-2dc1-4f28-ab25-7ac3e4a06bf6",
      "metadata": {
        "id": "540c7543-2dc1-4f28-ab25-7ac3e4a06bf6"
      },
      "outputs": [],
      "source": [
        "#"
      ]
    },
    {
      "cell_type": "code",
      "execution_count": null,
      "id": "86b70636-7c09-49f4-ae96-c1d8a4303fe8",
      "metadata": {
        "id": "86b70636-7c09-49f4-ae96-c1d8a4303fe8"
      },
      "outputs": [],
      "source": [
        "#"
      ]
    },
    {
      "cell_type": "markdown",
      "id": "69bff053-c070-492b-9cfe-134f56d76908",
      "metadata": {
        "id": "69bff053-c070-492b-9cfe-134f56d76908"
      },
      "source": [
        "Importar clases es una forma efectiva de programar. Imagina cuán extenso sería este archivo de programa si se incluyera toda la clase Car. Al mover la clase a un módulo y luego importar el módulo, obtienes la misma funcionalidad, pero mantienes limpio y fácil de leer tu archivo principal de programa. También almacenas la mayor parte de la lógica en archivos separados; una vez que tus clases funcionan como deseas, puedes dejar esos archivos como están y centrarte en la lógica de más alto nivel de tu programa principal."
      ]
    },
    {
      "cell_type": "markdown",
      "id": "ce09c0c2-9d55-4261-8ad6-b01e6b4b571c",
      "metadata": {
        "id": "ce09c0c2-9d55-4261-8ad6-b01e6b4b571c"
      },
      "source": [
        "### Almacenar Múltiples Clases en un Módulo\n",
        "Puedes almacenar tantas clases como necesites en un solo módulo, aunque cada clase en un módulo debería estar relacionada de alguna manera. Las clases Battery y ElectricCar ambas ayudan a representar automóviles, así que agreguemos ambas al módulo car.py."
      ]
    },
    {
      "cell_type": "code",
      "execution_count": null,
      "id": "01d8b75c-b4f9-4307-86f9-2462c1c81081",
      "metadata": {
        "id": "01d8b75c-b4f9-4307-86f9-2462c1c81081"
      },
      "outputs": [],
      "source": [
        "#"
      ]
    },
    {
      "cell_type": "code",
      "execution_count": null,
      "id": "2e9f2142-6260-483e-9bda-4cbf8218ecd8",
      "metadata": {
        "id": "2e9f2142-6260-483e-9bda-4cbf8218ecd8"
      },
      "outputs": [],
      "source": [
        "#"
      ]
    },
    {
      "cell_type": "code",
      "execution_count": null,
      "id": "45aee7ec-366c-48f4-ad68-1f67ab8bcb56",
      "metadata": {
        "id": "45aee7ec-366c-48f4-ad68-1f67ab8bcb56"
      },
      "outputs": [],
      "source": [
        "#"
      ]
    },
    {
      "cell_type": "markdown",
      "id": "d73d1f48-d429-4e8a-8b14-09070cdfc799",
      "metadata": {
        "id": "d73d1f48-d429-4e8a-8b14-09070cdfc799"
      },
      "source": [
        "Ahora podemos crear un nuevo archivo llamado my_electric_car.py, importar la clase ElectricCar y crear un automóvil eléctrico:"
      ]
    },
    {
      "cell_type": "code",
      "execution_count": null,
      "id": "2d1e6ef5-9ed4-4b7b-8b4c-687e6a9ccae1",
      "metadata": {
        "id": "2d1e6ef5-9ed4-4b7b-8b4c-687e6a9ccae1"
      },
      "outputs": [],
      "source": [
        "#"
      ]
    },
    {
      "cell_type": "code",
      "execution_count": null,
      "id": "d4958702-eaaf-4819-8d03-c956f75cfc2c",
      "metadata": {
        "id": "d4958702-eaaf-4819-8d03-c956f75cfc2c"
      },
      "outputs": [],
      "source": [
        "#"
      ]
    },
    {
      "cell_type": "code",
      "execution_count": null,
      "id": "8c950471-5aa6-486d-b0c5-bcde44e05e81",
      "metadata": {
        "id": "8c950471-5aa6-486d-b0c5-bcde44e05e81"
      },
      "outputs": [],
      "source": [
        "#"
      ]
    },
    {
      "cell_type": "markdown",
      "id": "452815e7-445e-45f7-9430-703f4fec9033",
      "metadata": {
        "id": "452815e7-445e-45f7-9430-703f4fec9033"
      },
      "source": [
        "Esto tiene la misma salida que vimos anteriormente, aunque la mayor parte de la lógica está oculta en un módulo:"
      ]
    },
    {
      "cell_type": "code",
      "execution_count": null,
      "id": "7f269edc-c474-49d6-8bf4-d68eb3d98d31",
      "metadata": {
        "id": "7f269edc-c474-49d6-8bf4-d68eb3d98d31"
      },
      "outputs": [],
      "source": [
        "#"
      ]
    },
    {
      "cell_type": "code",
      "execution_count": null,
      "id": "cd0726ed-9c32-49eb-9179-a1432b0b9c49",
      "metadata": {
        "id": "cd0726ed-9c32-49eb-9179-a1432b0b9c49"
      },
      "outputs": [],
      "source": [
        "#"
      ]
    },
    {
      "cell_type": "markdown",
      "id": "dcd68ed4-e5ad-4e90-be83-47222efecb52",
      "metadata": {
        "id": "dcd68ed4-e5ad-4e90-be83-47222efecb52"
      },
      "source": [
        "### Importar Múltiples Clases de un Módulo\n",
        "Puedes importar tantas clases como necesites en un archivo de programa. Si queremos crear un automóvil común y un automóvil eléctrico en el mismo archivo, necesitamos importar ambas clases, Car y ElectricCar:"
      ]
    },
    {
      "cell_type": "code",
      "execution_count": null,
      "id": "d4e6e455-d157-494c-8bf8-a47f7dd95640",
      "metadata": {
        "id": "d4e6e455-d157-494c-8bf8-a47f7dd95640"
      },
      "outputs": [],
      "source": [
        "#"
      ]
    },
    {
      "cell_type": "code",
      "execution_count": null,
      "id": "ec723fe3-21b3-4038-840e-b580227759c4",
      "metadata": {
        "id": "ec723fe3-21b3-4038-840e-b580227759c4"
      },
      "outputs": [],
      "source": [
        "#"
      ]
    },
    {
      "cell_type": "code",
      "execution_count": null,
      "id": "f53afa07-5c61-4765-a9bc-dbf850ce2efb",
      "metadata": {
        "id": "f53afa07-5c61-4765-a9bc-dbf850ce2efb"
      },
      "outputs": [],
      "source": [
        "#"
      ]
    },
    {
      "cell_type": "markdown",
      "id": "ac19d3a3-a36c-458d-8ada-d4b75542ecbf",
      "metadata": {
        "id": "ac19d3a3-a36c-458d-8ada-d4b75542ecbf"
      },
      "source": [
        "Importas múltiples clases de un módulo separando cada clase con una coma ❶. Una vez que has importado las clases necesarias, puedes crear tantas instancias de cada clase como necesites.\n",
        "\n",
        "En este ejemplo, creamos un Ford Mustang con motor a gasolina ❷ y luego un Nissan Leaf eléctrico ❸:"
      ]
    },
    {
      "cell_type": "code",
      "execution_count": null,
      "id": "fce8f710-d07f-4357-8f1b-0a9624ce6719",
      "metadata": {
        "id": "fce8f710-d07f-4357-8f1b-0a9624ce6719"
      },
      "outputs": [],
      "source": [
        "#"
      ]
    },
    {
      "cell_type": "code",
      "execution_count": null,
      "id": "ba9411d9-e46a-4467-849c-2c0bb1ac0ae5",
      "metadata": {
        "id": "ba9411d9-e46a-4467-849c-2c0bb1ac0ae5"
      },
      "outputs": [],
      "source": [
        "#"
      ]
    },
    {
      "cell_type": "markdown",
      "id": "dc48e5ba-25fb-4ea4-a33c-a45c6b2bb177",
      "metadata": {
        "id": "dc48e5ba-25fb-4ea4-a33c-a45c6b2bb177"
      },
      "source": [
        "### Importar un Módulo Completo\n",
        "También puedes importar un módulo completo y luego acceder a las clases que necesitas utilizando la notación de punto. Este enfoque es sencillo y produce un código fácil de leer. Debido a que cada llamada que crea una instancia de una clase incluye el nombre del módulo, no tendrás conflictos de nombres con ningún nombre utilizado en el archivo actual.\n",
        "\n",
        "Así es como se ve importar todo el módulo car y luego crear un automóvil común y un automóvil eléctrico:"
      ]
    },
    {
      "cell_type": "code",
      "execution_count": null,
      "id": "55e2719f-21bb-4633-9133-535e10dae4ec",
      "metadata": {
        "id": "55e2719f-21bb-4633-9133-535e10dae4ec"
      },
      "outputs": [],
      "source": [
        "#"
      ]
    },
    {
      "cell_type": "code",
      "execution_count": null,
      "id": "2c149cfc-4496-4f62-bcee-9529577b7af6",
      "metadata": {
        "id": "2c149cfc-4496-4f62-bcee-9529577b7af6"
      },
      "outputs": [],
      "source": [
        "#"
      ]
    },
    {
      "cell_type": "code",
      "execution_count": null,
      "id": "8002bdd1-99b9-469e-a1f5-4681cc803f44",
      "metadata": {
        "id": "8002bdd1-99b9-469e-a1f5-4681cc803f44"
      },
      "outputs": [],
      "source": [
        "#"
      ]
    },
    {
      "cell_type": "markdown",
      "id": "d7b092fc-eb8b-4356-b674-f1e7f54b19d9",
      "metadata": {
        "id": "d7b092fc-eb8b-4356-b674-f1e7f54b19d9"
      },
      "source": [
        "Primero importamos el módulo completo de automóviles ❶. Luego accedemos a las clases que necesitamos mediante la sintaxis module_name.ClassName. Creamos nuevamente un Ford Mustang ❷ y un Nissan Leaf ❸."
      ]
    },
    {
      "cell_type": "markdown",
      "id": "39323143-e7ef-483a-b42e-a6bb22ee0497",
      "metadata": {
        "id": "39323143-e7ef-483a-b42e-a6bb22ee0497"
      },
      "source": [
        "### Importar todas las clases de un módulo\n",
        "Puedes importar todas las clases de un módulo utilizando la siguiente sintaxis:"
      ]
    },
    {
      "cell_type": "code",
      "execution_count": null,
      "id": "5e24a6d1-4db5-42a2-8b64-e086bca17567",
      "metadata": {
        "id": "5e24a6d1-4db5-42a2-8b64-e086bca17567"
      },
      "outputs": [],
      "source": [
        "#"
      ]
    },
    {
      "cell_type": "markdown",
      "id": "d1423963-95ba-444e-86aa-148856c222f9",
      "metadata": {
        "id": "d1423963-95ba-444e-86aa-148856c222f9"
      },
      "source": [
        "Este método no se recomienda por dos razones. En primer lugar, es útil poder leer las declaraciones de importación en la parte superior de un archivo y tener una idea clara de qué clases utiliza un programa. Con este enfoque, no está claro qué clases estás utilizando del módulo. Este enfoque también puede llevar a confusiones con los nombres en el archivo. Si importas accidentalmente una clase con el mismo nombre que algo más en tu archivo de programa, puedes crear errores difíciles de diagnosticar. Muestro esto aquí porque, aunque no es un enfoque recomendado, es probable que lo veas en el código de otras personas en algún momento.\n",
        "\n",
        "Si necesitas importar muchas clases de un módulo, es mejor importar el módulo completo y utilizar la sintaxis module_name.ClassName. No verás todas las clases utilizadas en la parte superior del archivo, pero verás claramente dónde se utiliza el módulo en el programa. También evitarás los posibles conflictos de nombres que pueden surgir al importar todas las clases de un módulo."
      ]
    },
    {
      "cell_type": "markdown",
      "id": "a8afc9c4-5ad3-4f81-bd5a-f9a19bc67f79",
      "metadata": {
        "id": "a8afc9c4-5ad3-4f81-bd5a-f9a19bc67f79"
      },
      "source": [
        "### Importar un módulo en otro módulo\n",
        "\n",
        "A veces querrás distribuir tus clases en varios módulos para evitar que un archivo crezca demasiado y para evitar almacenar clases no relacionadas en el mismo módulo. Cuando almacenas tus clases en varios módulos, es posible que encuentres que una clase en un módulo depende de una clase en otro módulo. Cuando esto sucede, puedes importar la clase necesaria en el primer módulo.\n",
        "\n",
        "Por ejemplo, almacenemos la clase Car en un módulo y las clases ElectricCar y Battery en un módulo separado. Crearemos un nuevo módulo llamado electric_car.py, reemplazando el archivo electric_car.py que creamos anteriormente, y copiaremos solo las clases Battery y ElectricCar en este archivo:"
      ]
    },
    {
      "cell_type": "code",
      "execution_count": null,
      "id": "7aa41d11-c73a-4bd4-858d-33e7a97224d2",
      "metadata": {
        "id": "7aa41d11-c73a-4bd4-858d-33e7a97224d2"
      },
      "outputs": [],
      "source": [
        "#"
      ]
    },
    {
      "cell_type": "code",
      "execution_count": null,
      "id": "b4d40dca-f946-450e-bf6b-f07c86d55eb4",
      "metadata": {
        "id": "b4d40dca-f946-450e-bf6b-f07c86d55eb4"
      },
      "outputs": [],
      "source": [
        "#"
      ]
    },
    {
      "cell_type": "code",
      "execution_count": null,
      "id": "956e2128-8969-49d9-a2ee-1c84ea60aa1e",
      "metadata": {
        "id": "956e2128-8969-49d9-a2ee-1c84ea60aa1e"
      },
      "outputs": [],
      "source": [
        "#"
      ]
    },
    {
      "cell_type": "markdown",
      "id": "dae81e68-83a0-4107-8392-b193f6a6bb74",
      "metadata": {
        "id": "dae81e68-83a0-4107-8392-b193f6a6bb74"
      },
      "source": [
        "La clase ElectricCar necesita acceder a su clase principal Car, así que importamos Car directamente en el módulo. Si olvidamos esta línea, Python generará un error cuando intentemos importar el módulo electric_car. También necesitamos actualizar el módulo Car para que contenga solo la clase Car:"
      ]
    },
    {
      "cell_type": "code",
      "execution_count": null,
      "id": "a557df52-fbc0-48c6-87fb-c568012ce5a5",
      "metadata": {
        "id": "a557df52-fbc0-48c6-87fb-c568012ce5a5"
      },
      "outputs": [],
      "source": [
        "#"
      ]
    },
    {
      "cell_type": "markdown",
      "id": "1a228788-1191-4f96-a44d-d251f702d1e4",
      "metadata": {
        "id": "1a228788-1191-4f96-a44d-d251f702d1e4"
      },
      "source": [
        "Ahora podemos importar desde cada módulo por separado y crear cualquier tipo de automóvil que necesitemos:"
      ]
    },
    {
      "cell_type": "code",
      "execution_count": null,
      "id": "03d72b88-81b2-4217-8c51-dcf6cd883e11",
      "metadata": {
        "id": "03d72b88-81b2-4217-8c51-dcf6cd883e11"
      },
      "outputs": [],
      "source": [
        "#"
      ]
    },
    {
      "cell_type": "code",
      "execution_count": null,
      "id": "a4aad7e8-e0cf-4d6e-86e1-26f745d682d9",
      "metadata": {
        "id": "a4aad7e8-e0cf-4d6e-86e1-26f745d682d9"
      },
      "outputs": [],
      "source": [
        "#"
      ]
    },
    {
      "cell_type": "code",
      "execution_count": null,
      "id": "6cb39a29-aa51-441a-bcef-07d36b623624",
      "metadata": {
        "id": "6cb39a29-aa51-441a-bcef-07d36b623624"
      },
      "outputs": [],
      "source": [
        "#"
      ]
    },
    {
      "cell_type": "markdown",
      "id": "26b4f33c-48e3-4fee-b0da-a4a4ee4aa788",
      "metadata": {
        "id": "26b4f33c-48e3-4fee-b0da-a4a4ee4aa788"
      },
      "source": [
        "Importamos Car desde su módulo y ElectricCar desde su módulo. Luego creamos un automóvil convencional y un automóvil eléctrico. Ambos automóviles se crean correctamente:"
      ]
    },
    {
      "cell_type": "code",
      "execution_count": null,
      "id": "9524aa9b-072c-43dc-a59a-514494cc1b90",
      "metadata": {
        "id": "9524aa9b-072c-43dc-a59a-514494cc1b90"
      },
      "outputs": [],
      "source": [
        "#"
      ]
    },
    {
      "cell_type": "code",
      "execution_count": null,
      "id": "a7b91fb4-9e9f-4c55-8b16-8a77e54ad819",
      "metadata": {
        "id": "a7b91fb4-9e9f-4c55-8b16-8a77e54ad819"
      },
      "outputs": [],
      "source": [
        "#"
      ]
    },
    {
      "cell_type": "code",
      "execution_count": null,
      "id": "00338b27-8671-4cb5-8b6c-ef897166ed1e",
      "metadata": {
        "id": "00338b27-8671-4cb5-8b6c-ef897166ed1e"
      },
      "outputs": [],
      "source": [
        "#"
      ]
    },
    {
      "cell_type": "markdown",
      "id": "53a5bf63-be4e-4ccd-a90f-b530e471a85c",
      "metadata": {
        "id": "53a5bf63-be4e-4ccd-a90f-b530e471a85c"
      },
      "source": [
        "### Usando Alias\n",
        "\n",
        "Como viste en el Capítulo 8, los alias pueden ser bastante útiles al usar módulos para organizar el código de tus proyectos. También puedes utilizar alias al importar clases.\n",
        "\n",
        "Como ejemplo, considera un programa en el que deseas crear varios automóviles eléctricos. Podría resultar tedioso escribir (y leer) ElectricCar una y otra vez. Puedes asignar un alias a ElectricCar en la declaración de importación:"
      ]
    },
    {
      "cell_type": "code",
      "execution_count": null,
      "id": "c56cb1b4-6a26-4ae7-b817-77a4665a9af3",
      "metadata": {
        "id": "c56cb1b4-6a26-4ae7-b817-77a4665a9af3"
      },
      "outputs": [],
      "source": [
        "#"
      ]
    },
    {
      "cell_type": "markdown",
      "id": "8d411b20-472a-4528-bf2f-cca07c0980dd",
      "metadata": {
        "id": "8d411b20-472a-4528-bf2f-cca07c0980dd"
      },
      "source": [
        "Ahora puedes utilizar este alias cada vez que desees crear un automóvil eléctrico:"
      ]
    },
    {
      "cell_type": "code",
      "execution_count": null,
      "id": "56de9bb9-5490-4432-a3f8-6e3349bf84b8",
      "metadata": {
        "id": "56de9bb9-5490-4432-a3f8-6e3349bf84b8"
      },
      "outputs": [],
      "source": [
        "#"
      ]
    },
    {
      "cell_type": "markdown",
      "id": "3858202e-7f0c-4fff-a20b-e3aef3f909a5",
      "metadata": {
        "id": "3858202e-7f0c-4fff-a20b-e3aef3f909a5"
      },
      "source": [
        "También puedes asignar un alias a un módulo. Aquí tienes cómo importar el módulo completo electric_car usando un alias:"
      ]
    },
    {
      "cell_type": "code",
      "execution_count": null,
      "id": "50e8348e-a2d9-4702-b772-2b23223c391d",
      "metadata": {
        "id": "50e8348e-a2d9-4702-b772-2b23223c391d"
      },
      "outputs": [],
      "source": [
        "#"
      ]
    },
    {
      "cell_type": "markdown",
      "id": "fdb13a56-5759-410a-9f40-596dccf56adb",
      "metadata": {
        "id": "fdb13a56-5759-410a-9f40-596dccf56adb"
      },
      "source": [
        "Ahora puedes utilizar este alias de módulo con el nombre completo de la clase:"
      ]
    },
    {
      "cell_type": "code",
      "execution_count": null,
      "id": "90bd6e28-ed8a-476b-abd2-7f7d88104064",
      "metadata": {
        "id": "90bd6e28-ed8a-476b-abd2-7f7d88104064"
      },
      "outputs": [],
      "source": [
        "#"
      ]
    },
    {
      "cell_type": "markdown",
      "id": "0e8455ae-d89f-4410-9dde-6594b692eae6",
      "metadata": {
        "id": "0e8455ae-d89f-4410-9dde-6594b692eae6"
      },
      "source": [
        "### Encontrando tu propio flujo de trabajo\n",
        "\n",
        "Como puedes ver, Python te brinda muchas opciones sobre cómo estructurar el código en un proyecto grande. Es importante conocer todas estas posibilidades para que puedas determinar las mejores formas de organizar tus proyectos, así como entender los proyectos de otras personas.\n",
        "\n",
        "Cuando estás comenzando, mantén la estructura de tu código simple. Intenta hacer todo en un solo archivo y mueve tus clases a módulos separados una vez que todo esté funcionando. Si te gusta cómo interactúan los módulos y los archivos, intenta almacenar tus clases en módulos cuando comiences un proyecto. Encuentra un enfoque que te permita escribir código que funcione y sigue desde allí."
      ]
    },
    {
      "cell_type": "markdown",
      "id": "5cf7f680-4cea-4adb-9f4e-9d94c4b9d0d7",
      "metadata": {
        "id": "5cf7f680-4cea-4adb-9f4e-9d94c4b9d0d7"
      },
      "source": [
        "### HAZLO TU MISMO\n",
        "\n",
        "**Ejercicio 9-10: Restaurante Importado**\n",
        "Usando tu última clase de Restaurante, guárdala en un módulo. Crea un archivo separado que importe el Restaurante. Crea una instancia de Restaurante y llama a uno de los métodos del Restaurante para demostrar que la declaración de importación está funcionando correctamente.\n",
        "\n",
        "**Ejercicio 9-11: Admin Importado**\n",
        "Comienza con tu trabajo del Ejercicio 9-8 (página 173). Almacena las clases Usuario, Privilegios y Admin en un módulo. Crea un archivo separado, crea una instancia de Admin y llama a `show_privileges()` para demostrar que todo está funcionando correctamente.\n",
        "\n",
        "**Ejercicio 9-12: Múltiples Módulos**\n",
        "Almacena la clase Usuario en un módulo y guarda las clases Privilegios y Admin en un módulo separado. En un archivo independiente, crea una instancia de Admin y llama a `show_privileges()` para demostrar que todo sigue funcionando correctamente.\n"
      ]
    },
    {
      "cell_type": "markdown",
      "id": "2237bb29-0177-4337-a614-889c8b2f8fed",
      "metadata": {
        "id": "2237bb29-0177-4337-a614-889c8b2f8fed"
      },
      "source": [
        "### La Biblioteca Estándar de Python\n",
        "La biblioteca estándar de Python es un conjunto de módulos incluidos con cada instalación de Python. Ahora que tienes una comprensión básica de cómo funcionan las funciones y las clases, puedes comenzar a usar módulos como estos que han sido escritos por otros programadores. Puedes utilizar cualquier función o clase en la biblioteca estándar mediante una simple declaración de importación al inicio de tu archivo. Echemos un vistazo a un módulo, random, que puede ser útil en modelar muchas situaciones del mundo real.\n",
        "\n",
        "Una función interesante del módulo random es randint(). Esta función toma dos argumentos enteros y devuelve un número entero seleccionado al azar entre esos números (incluyéndolos).\n",
        "Aquí tienes cómo generar un número aleatorio entre 1 y 6:"
      ]
    },
    {
      "cell_type": "code",
      "execution_count": null,
      "id": "b18bfc29-1264-4fcc-b75c-dbc5e07635e3",
      "metadata": {
        "id": "b18bfc29-1264-4fcc-b75c-dbc5e07635e3"
      },
      "outputs": [],
      "source": [
        "#"
      ]
    },
    {
      "cell_type": "code",
      "execution_count": null,
      "id": "c2500993-04ba-4aa1-8568-61f16159381b",
      "metadata": {
        "id": "c2500993-04ba-4aa1-8568-61f16159381b"
      },
      "outputs": [],
      "source": [
        "#"
      ]
    },
    {
      "cell_type": "markdown",
      "id": "3649af08-4d91-4094-abba-b68cdf676997",
      "metadata": {
        "id": "3649af08-4d91-4094-abba-b68cdf676997"
      },
      "source": [
        "Otra función útil es choice(). Esta función toma una lista o tupla y devuelve un elemento seleccionado al azar:"
      ]
    },
    {
      "cell_type": "code",
      "execution_count": null,
      "id": "9bcfba4c-a54c-48e3-a3ec-9463e719aecc",
      "metadata": {
        "id": "9bcfba4c-a54c-48e3-a3ec-9463e719aecc"
      },
      "outputs": [],
      "source": [
        "#"
      ]
    },
    {
      "cell_type": "code",
      "execution_count": null,
      "id": "88b247df-3065-4ded-8c2d-4573beb72431",
      "metadata": {
        "id": "88b247df-3065-4ded-8c2d-4573beb72431"
      },
      "outputs": [],
      "source": [
        "#"
      ]
    },
    {
      "cell_type": "markdown",
      "id": "8f91664e-f506-47e9-98cf-0651de1abe6e",
      "metadata": {
        "id": "8f91664e-f506-47e9-98cf-0651de1abe6e"
      },
      "source": [
        "El módulo random no debe usarse al construir aplicaciones relacionadas con la seguridad, pero funciona bien para muchos proyectos divertidos e interesantes."
      ]
    },
    {
      "cell_type": "markdown",
      "id": "ab29357a-8ecf-4502-846f-e0d530faab49",
      "metadata": {
        "id": "ab29357a-8ecf-4502-846f-e0d530faab49"
      },
      "source": [
        "**NOTA:**\n",
        "\n",
        "También puedes descargar módulos de fuentes externas. Verás varios ejemplos de esto en la Parte II, donde necesitaremos módulos externos para completar cada proyecto."
      ]
    },
    {
      "cell_type": "markdown",
      "id": "66842ee2-0837-4fc7-962e-f30d5471897f",
      "metadata": {
        "id": "66842ee2-0837-4fc7-962e-f30d5471897f"
      },
      "source": [
        "### HAZLO TU MISMO\n",
        "\n",
        "**Ejercicio 9-13: Dado**\n",
        "Crea una clase llamada `Die` con un atributo llamado `sides`, que tiene un valor predeterminado de 6. Escribe un método llamado `roll_die()` que imprima un número aleatorio entre 1 y el número de lados que tiene el dado. Crea un dado de 6 caras y tira 10 veces.\n",
        "\n",
        "Luego, crea un dado de 10 caras y un dado de 20 caras. Tira cada dado 10 veces.\n",
        "\n",
        "**Ejercicio 9-14: Lotería**\n",
        "Crea una lista o tupla que contenga una serie de 10 números y 5 letras. Selecciona aleatoriamente 4 números o letras de la lista e imprime un mensaje que diga que cualquier boleto que coincida con estos 4 números o letras gana un premio.\n",
        "\n",
        "**Ejercicio 9-15: Análisis de Lotería**\n",
        "Puedes usar un bucle para ver cuán difícil podría ser ganar el tipo de lotería que acabas de modelar. Crea una lista o tupla llamada `my_ticket`. Escribe un bucle que siga extrayendo números hasta que tu boleto gane. Imprime un mensaje que informe cuántas veces tuvo que ejecutarse el bucle para darte un boleto ganador.\n",
        "\n",
        "**Ejercicio 9-16: Python Module of the Week**\n",
        "Una excelente fuente para explorar la biblioteca estándar de Python es un sitio llamado \"Python Module of the Week\". Ve a https://pymotw.com y mira la tabla de contenidos. Encuentra un módulo que te parezca interesante y léelo, quizás comenzando por el módulo random."
      ]
    },
    {
      "cell_type": "markdown",
      "id": "dfa81352-6813-4438-8373-37bd393a0e69",
      "metadata": {
        "id": "dfa81352-6813-4438-8373-37bd393a0e69"
      },
      "source": [
        "### Dar estilo a las clases\n",
        "Algunos problemas de estilo relacionados con las clases son dignos de aclarar, especialmente a medida que tus programas se vuelven más complicados.\n",
        "\n",
        "Los nombres de las clases deben escribirse en CamelCase. Para hacer esto, capitaliza la primera letra de cada palabra en el nombre y no uses guiones bajos. Los nombres de instancias y módulos deben escribirse en minúsculas, con guiones bajos entre palabras.\n",
        "\n",
        "Cada clase debe tener una cadena de documentación (docstring) inmediatamente después de la definición de la clase. La docstring debe ser una breve descripción de lo que hace la clase, y debes seguir las mismas convenciones de formato que usaste para escribir docstrings en funciones. Cada módulo también debe tener una cadena de documentación describiendo para qué se pueden usar las clases en el módulo.\n",
        "\n",
        "Puedes usar líneas en blanco para organizar el código, pero no las uses en exceso. Dentro de una clase, puedes usar una línea en blanco entre métodos, y dentro de un módulo, puedes usar dos líneas en blanco para separar clases.\n",
        "\n",
        "Si necesitas importar un módulo de la biblioteca estándar y un módulo que escribiste, coloca la declaración de importación para el módulo de la biblioteca estándar primero. Luego agrega una línea en blanco y la declaración de importación para el módulo que escribiste. En programas con múltiples declaraciones de importación, esta convención facilita ver de dónde provienen los diferentes módulos utilizados en el programa."
      ]
    },
    {
      "cell_type": "markdown",
      "id": "b804ff16-cc89-474d-a49c-ccb18a896794",
      "metadata": {
        "id": "b804ff16-cc89-474d-a49c-ccb18a896794"
      },
      "source": [
        "# Resumen\n",
        "En este capítulo, aprendiste a escribir tus propias clases. Aprendiste cómo almacenar información en una clase utilizando atributos y cómo escribir métodos que proporcionan a tus clases el comportamiento que necesitan. Aprendiste a escribir métodos __init__() que crean instancias de tus clases con los atributos exactos que deseas. Viste cómo modificar los atributos de una instancia directamente y a través de métodos. Aprendiste que la herencia puede simplificar la creación de clases relacionadas entre sí, y aprendiste a usar instancias de una clase como atributos en otra clase para mantener cada clase simple.\n",
        "\n",
        "Viste cómo almacenar clases en módulos e importar las clases que necesitas en los archivos donde se usarán puede mantener organizados tus proyectos. Comenzaste a aprender sobre la biblioteca estándar de Python y viste un ejemplo basado en el módulo random. Finalmente, aprendiste a dar estilo a tus clases siguiendo las convenciones de Python.\n",
        "\n",
        "En el Capítulo 10, aprenderás a trabajar con archivos para que puedas guardar el trabajo que has hecho en un programa y el trabajo que has permitido a los usuarios realizar. También aprenderás sobre excepciones, una clase especial de Python diseñada para ayudarte a responder a errores cuando surgen."
      ]
    }
  ],
  "metadata": {
    "kernelspec": {
      "display_name": "Python 3 (ipykernel)",
      "language": "python",
      "name": "python3"
    },
    "language_info": {
      "codemirror_mode": {
        "name": "ipython",
        "version": 3
      },
      "file_extension": ".py",
      "mimetype": "text/x-python",
      "name": "python",
      "nbconvert_exporter": "python",
      "pygments_lexer": "ipython3",
      "version": "3.11.8"
    },
    "colab": {
      "provenance": []
    }
  },
  "nbformat": 4,
  "nbformat_minor": 5
}