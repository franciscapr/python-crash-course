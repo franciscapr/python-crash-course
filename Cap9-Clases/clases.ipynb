{
 "cells": [
  {
   "cell_type": "markdown",
   "metadata": {},
   "source": [
    "# **CAPÍTULO 9: CLASES**\n",
    "* Crear y usar una clase\n",
    "* Crear la clase Dog\n",
    "* El método __init__()\n",
    "* Crear una instancia de una clase\n",
    "* Ejercicio 9-1: Restaurante\n",
    "* Ejercicio 9-2: Tres restaurantes\n",
    "* Ejercicio 9-3: Usuarios\n",
    "* Trabajar con clases e instancias\n",
    "* La clase Car\n",
    "* Establecer un valor predeterminado para un atributo\n",
    "* Modificar valores de atributos\n",
    "* Ejercicio 9-4: Número servido\n",
    "* Ejercicio 9-5: Intentos de inicio de sesión\n",
    "* Herencia\n",
    "* El método __init__() para una clase hija\n",
    "* Definir atributos y métodos para la clase hija\n",
    "* Anular métodos de la clase padre\n",
    "* Instancias como atributos\n",
    "* Modelar objetos del mundo real\n",
    "* Ejercicio 9-6: Heladería\n",
    "* Ejercicio 9-7: Administrador\n",
    "* Ejercicio 9-8: Privilegios\n",
    "* Ejercicio 9-9: Actualización de la batería\n",
    "* Importar clases\n",
    "* Importar una única clase\n",
    "* Almacenar múltiples clases en un módulo\n",
    "* Importar múltiples clases de un módulo\n",
    "* Importar un módulo completo\n",
    "* Importar todas las clases de un módulo\n",
    "* Importar un módulo en otro módulo\n",
    "* Usar alias\n",
    "* Encontrar tu propio flujo de trabajo\n",
    "* Ejercicio 9-10: Restaurante importado\n",
    "* Ejercicio 9-11: Administrador importado\n",
    "* Ejercicio 9-12: Múltiples módulos\n",
    "* La biblioteca estándar de Python\n",
    "* Ejercicio 9-13: Dados\n",
    "* Ejercicio 9-14: Lotería\n",
    "* Ejercicio 9-15: Análisis de lotería\n",
    "* Ejercicio 9-16: Módulo de la Semana de Python\n",
    "* Estilo de clases\n",
    "* Resumen"
   ]
  },
  {
   "cell_type": "markdown",
   "metadata": {},
   "source": [
    "# CLASES\n",
    "\n",
    "La programación orientada a objetos (POO) es uno de los enfoques más efectivos para escribir software. En la programación orientada a objetos, se escriben clases que representan cosas y situaciones del mundo real, y se crean objetos basados en estas clases. Cuando escribes una clase, defines el comportamiento general que puede tener toda una categoría de objetos."
   ]
  },
  {
   "cell_type": "markdown",
   "metadata": {},
   "source": [
    "Cuando creas objetos individuales a partir de la clase, cada objeto se equipa automáticamente con el comportamiento general; luego puedes asignar a cada objeto los rasgos únicos que desees. Te sorprenderá lo bien que las situaciones del mundo real pueden modelarse con la programación orientada a objetos.\n",
    "\n",
    "Crear un objeto a partir de una clase se llama instanciación, y trabajas con instancias de una clase. En este capítulo, escribirás clases y crearás instancias de esas clases. Especificarás el tipo de información que puede almacenarse en las instancias y definirás acciones que pueden realizarse con estas instancias. También escribirás clases que amplían la funcionalidad de clases existentes, de modo que clases similares puedan compartir funcionalidad común, y puedas hacer más con menos código. Almacenarás tus clases en módulos e importarás clases escritas por otros programadores en tus propios archivos de programa.\n",
    "\n",
    "Aprender sobre la programación orientada a objetos te ayudará a ver el mundo como lo hace un programador. Te permitirá comprender tu código, no solo lo que sucede línea por línea, sino también los conceptos más grandes detrás de él. Conocer la lógica detrás de las clases te entrenará para pensar de manera lógica, de modo que puedas escribir programas que aborden eficazmente casi cualquier problema que encuentres.\n",
    "\n",
    "Las clases también facilitan la vida tanto para ti como para otros programadores con los que trabajarás al enfrentar desafíos cada vez más complejos. Cuando tú y otros programadores escriben código basado en el mismo tipo de lógica, podrán entender el trabajo de los demás. Tus programas tendrán sentido para las personas con las que trabajas, permitiendo que todos logren más."
   ]
  },
  {
   "cell_type": "markdown",
   "metadata": {},
   "source": [
    "# Creación y Uso de una Clase\n",
    "Puedes modelar casi cualquier cosa utilizando clases. Comencemos escribiendo una clase simple, \"Perro\" (Dog), que representa a un perro, no a un perro en particular, sino a cualquier perro. ¿Qué sabemos sobre la mayoría de los perros domésticos? Bueno, todos tienen un nombre y una edad. También sabemos que la mayoría de los perros se sientan y dan vueltas. Esos dos elementos de información (nombre y edad) y esos dos comportamientos (sentarse y dar vueltas) irán en nuestra clase Dog porque son comunes a la mayoría de los perros. Esta clase le dirá a Python cómo crear un objeto que represente a un perro. Después de escribir nuestra clase, la usaremos para crear instancias individuales, cada una de las cuales representará a un perro específico."
   ]
  },
  {
   "cell_type": "markdown",
   "metadata": {},
   "source": [
    "# Creación de la Clase Dog\n",
    "Cada instancia creada a partir de la clase Dog almacenará un nombre y una edad, y le daremos a cada perro la capacidad de sentarse (sit()) y dar vueltas (roll_over()):"
   ]
  },
  {
   "cell_type": "code",
   "execution_count": 1,
   "metadata": {},
   "outputs": [],
   "source": [
    "class Dog:\n",
    "    \"\"\"A simple attempt to model a dog.\"\"\"\n",
    "\n",
    "    def __init__(self, name, ege):\n",
    "        \"\"\"Initialize name and age attributes.\"\"\"\n",
    "        self.name = name\n",
    "        self.age = age\n",
    "\n",
    "    def sit(self):\n",
    "        \"\"\"Similate a dog sitting in response to a command.\"\"\"\n",
    "        print(f\"{self.name} is now sitting.\")\n",
    "\n",
    "    def roll_over(self):\n",
    "        \"\"\"Similate rolling over in response to a command.\"\"\"\n",
    "        print(f\"{self.name} rolled over!\")"
   ]
  },
  {
   "cell_type": "markdown",
   "metadata": {},
   "source": [
    "Hay mucho que observar aquí, pero no te preocupes. Verás esta estructura a lo largo de este capítulo y tendrás mucho tiempo para acostumbrarte. Primero, definimos una clase llamada Dog. Por convención, los nombres en mayúscula se utilizan para referirse a clases en Python. No hay paréntesis en la definición de la clase porque estamos creando esta clase desde cero. Luego escribimos un docstring que describe lo que hace esta clase."
   ]
  },
  {
   "cell_type": "markdown",
   "metadata": {},
   "source": [
    "## El Método __init__()\n",
    "\n",
    "Es una función que forma parte de una clase se llama método. Todo lo que has aprendido sobre funciones también se aplica a los métodos; la única diferencia práctica por ahora es la forma en que llamaremos a los métodos. El método **__init__()** es un método especial que Python ejecuta automáticamente cada vez que creamos una nueva instancia basada en la clase Dog. Este método tiene dos guiones bajos al principio y dos al final, una convención que ayuda a evitar que los nombres predeterminados de los métodos de Python entren en conflicto con tus nombres de método. Asegúrate de usar dos guiones bajos a cada lado de **__init__**. Si usas solo uno a cada lado, el método no se llamará automáticamente cuando uses tu clase, lo que puede resultar en errores difíciles de identificar.\n",
    "\n",
    "Definimos el método **__init__()** para tener tres parámetros: self, name y age. El parámetro self es necesario en la definición del método y debe ir primero, antes que los otros parámetros. Debe incluirse en la definición porque cuando Python llame a este método más tarde (para crear una instancia de Dog), la llamada al método pasará automáticamente el argumento self. Cada llamada al método asociada con una instancia pasa automáticamente self, que es una referencia a la instancia misma; le da a la instancia individual acceso a los atributos y métodos en la clase. Cuando creamos una instancia de Dog, Python llamará al método __init__() de la clase Dog. Pasaremos a Dog() un nombre y una edad como argumentos; self se pasa automáticamente, así que no necesitamos pasarlo. Siempre que queramos hacer una instancia de la clase Dog, proporcionaremos valores solo para los dos últimos parámetros, name y age.\n",
    "\n",
    "Las dos variables definidas en el cuerpo del método __init__() tienen el prefijo self ❸. Cualquier variable con el prefijo self está disponible para cada método en la clase, y también podremos acceder a estas variables a través de cualquier instancia creada a partir de la clase. La línea self.name = name toma el valor asociado con el parámetro name y lo asigna a la variable name, que luego se adjunta a la instancia que se está creando. El mismo proceso ocurre con self.age = age. Variables que son accesibles a través de instancias de esta manera se llaman atributos.\n",
    "\n",
    "La clase Dog tiene otros dos métodos definidos: sit() y roll_over() ❹. Dado que estos métodos no necesitan información adicional para ejecutarse, simplemente los definimos para tener un parámetro, self. Las instancias que crearemos más adelante tendrán acceso a estos métodos. En otras palabras, podrán sentarse y dar vueltas. Por ahora, sit() y roll_over() no hacen mucho. Simplemente imprimen un mensaje diciendo que el perro está sentado o dando vueltas. Pero el concepto se puede extender a situaciones realistas: si esta clase formara parte de un juego de computadora, estos métodos contendrían código para hacer que un perro animado se siente y dé vueltas. Si esta clase estuviera escrita para controlar un robot, estos métodos dirigirían movimientos que hagan que un perro robótico se siente y dé vueltas.\n"
   ]
  }
 ],
 "metadata": {
  "kernelspec": {
   "display_name": "env",
   "language": "python",
   "name": "python3"
  },
  "language_info": {
   "codemirror_mode": {
    "name": "ipython",
    "version": 3
   },
   "file_extension": ".py",
   "mimetype": "text/x-python",
   "name": "python",
   "nbconvert_exporter": "python",
   "pygments_lexer": "ipython3",
   "version": "3.12.3"
  }
 },
 "nbformat": 4,
 "nbformat_minor": 2
}
