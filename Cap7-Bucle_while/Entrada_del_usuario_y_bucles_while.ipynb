{
 "cells": [
  {
   "cell_type": "markdown",
   "metadata": {},
   "source": [
    "# **CAPÍTULO 7: ENTRADA DEL USUARIO Y BUCLES WHILE**\n",
    "* Cómo funciona la función input()\n",
    "* Escribir mensajes claros de solicitud\n",
    "* Usar int() para aceptar entrada numérica\n",
    "* El operador módulo\n",
    "* Ejercicio 7-1: Alquiler de coches\n",
    "* Ejercicio 7-2: Asientos de restaurante\n",
    "* Ejercicio 7-3: Múltiplos de diez\n",
    "* Introducción a los bucles while\n",
    "* El bucle while en acción\n",
    "* Permitir que el usuario elija cuándo salir\n",
    "* Uso de una bandera (flag)\n",
    "* Uso de break para salir de un bucle\n",
    "* Uso de continue en un bucle\n",
    "* Evitar bucles infinitos\n",
    "* Ejercicio 7-4: Ingredientes de pizza\n",
    "* Ejercicio 7-5: Entradas de cine\n",
    "* Ejercicio 7-6: Tres salidas\n",
    "* Ejercicio 7-7: Infinito\n",
    "* Uso de un bucle while con listas y diccionarios\n",
    "* Mover elementos de una lista a otra\n",
    "* Eliminar todas las instancias de valores específicos de una lista\n",
    "* Llenar un diccionario con la entrada del usuario\n",
    "* Ejercicio 7-8: Deli\n",
    "* Ejercicio 7-9: Sin pastrami\n",
    "* Ejercicio 7-10: Vacaciones soñadas\n",
    "* Resumen"
   ]
  },
  {
   "cell_type": "markdown",
   "metadata": {},
   "source": [
    "La mayoría de los programas están escritos para resolver problemas de los usuarios finales. Para hacerlo, generalmente necesitas obtener cierta información del usuario. Por ejemplo, digamos que alguien quiere saber si tiene la edad suficiente para votar. Si escribes un programa para responder a esta pregunta, necesitas conocer la edad del usuario antes de poder proporcionar una respuesta. El programa tendrá que pedir al usuario que ingrese, o introduzca, su edad; una vez que el programa tenga esta entrada, puede compararla con la edad mínima para votar para determinar si el usuario es lo suficientemente mayor y luego informar el resultado.\n",
    "\n",
    "* En este capítulo aprenderás cómo aceptar la entrada del usuario para que tu programa pueda trabajar con ella. \n",
    "* Cuando tu programa necesite un nombre, podrás pedir al usuario que ingrese un nombre. \n",
    "* Cuando tu programa necesite una lista de nombres, podrás solicitar al usuario una serie de nombres. \n",
    "* Para hacer esto, utilizarás la función `input()`. \n",
    "* También aprenderás cómo mantener los programas en ejecución mientras los usuarios lo deseen, para que puedan ingresar la cantidad de información que necesiten; luego, tu programa podrá trabajar con esa información. \n",
    "* Usarás el bucle `while` de Python para mantener los programas en ejecución mientras ciertas condiciones sigan siendo verdaderas.\n",
    "\n",
    "Con la capacidad de trabajar con la entrada del usuario y la capacidad de controlar la duración de ejecución de tus programas, podrás escribir programas completamente interactivos."
   ]
  },
  {
   "cell_type": "markdown",
   "metadata": {},
   "source": [
    "## El funcionamiento de la función **input()**\n",
    "\n",
    "La función `input()` pausa tu programa y espera a que el usuario ingrese algún texto. Una vez que Python recibe la entrada del usuario, asigna esa entrada a una variable para que te resulte conveniente trabajar con ella.\n",
    "\n",
    "Por ejemplo, el siguiente programa pide al usuario que ingrese algún texto y luego muestra ese mensaje de vuelta al usuario:"
   ]
  },
  {
   "cell_type": "code",
   "execution_count": 2,
   "metadata": {},
   "outputs": [
    {
     "name": "stdout",
     "output_type": "stream",
     "text": [
      "Probando el input()\n"
     ]
    }
   ],
   "source": [
    "# parrot.py\n",
    "mensaje = input('Dime algo y lo repetirè:')\n",
    "print(mensaje)"
   ]
  },
  {
   "cell_type": "markdown",
   "metadata": {},
   "source": [
    "La función **`input()`** toma un argumento: el mensaje o indicación que queremos mostrar al usuario para que sepa qué tipo de información debe ingresar. En este ejemplo, cuando Python ejecuta la primera línea, el usuario ve el mensaje \"Dime algo y lo repetiré:\". El programa espera mientras el usuario ingresa su respuesta y continúa después de que el usuario presiona ENTER. La respuesta se asigna a la variable mensaje, luego print(mensaje) muestra la entrada de vuelta al usuario:\n",
    "\n",
    "```python\n",
    "Dime algo y lo repetiré: ¡Hola a todos!\n",
    "Probando el input()\n",
    "```"
   ]
  },
  {
   "cell_type": "markdown",
   "metadata": {},
   "source": [
    "**NOTA**\n",
    "\n",
    "Algunos editores de texto no ejecutarán programas que soliciten entrada del usuario. Puedes utilizar estos editores para escribir programas que soliciten entrada,\n",
    "pero deberás ejecutar estos programas desde una terminal. Consulta **\"Running Python Programs from a Terminal\"** en la página 11.\n"
   ]
  },
  {
   "cell_type": "markdown",
   "metadata": {},
   "source": [
    "## Escribir indicaciones claras\n",
    "\n",
    "Cada vez que uses la función `input()`, debes incluir una indicación clara y fácil de seguir que le diga al usuario exactamente qué tipo de información estás buscando. Cualquier declaración que le indique al usuario qué ingresar debería funcionar. Por ejemplo:"
   ]
  },
  {
   "cell_type": "code",
   "execution_count": 3,
   "metadata": {},
   "outputs": [
    {
     "name": "stdout",
     "output_type": "stream",
     "text": [
      "\n",
      "¡Hola, Francisca!\n"
     ]
    }
   ],
   "source": [
    "# greenter.py\n",
    "\n",
    "nombre = input(\"Por favor, ingresa tu nombre: \")\n",
    "print(f\"\\n¡Hola, {nombre}!\")"
   ]
  },
  {
   "cell_type": "markdown",
   "metadata": {},
   "source": [
    "Agrega un espacio al final de tus indicaciones (después de los dos puntos en el ejemplo anterior) para separar la indicación de la respuesta del usuario y para dejar claro al usuario dónde ingresar su texto. Por ejemplo:\n",
    "\n",
    "```python\n",
    "Por favor, ingresa tu nombre: Eric\n",
    "¡Hola, Eric!\n",
    "```\n",
    "\n",
    "A veces querrás escribir una indicación que sea más larga que una sola línea. Por ejemplo, es posible que desees explicar al usuario por qué estás pidiendo cierta entrada. Puedes asignar tu indicación a una variable y pasar esa variable a la función `input()`. Esto te permite construir tu indicación en varias líneas y luego escribir una declaración `input()` clara."
   ]
  },
  {
   "cell_type": "code",
   "execution_count": 6,
   "metadata": {},
   "outputs": [
    {
     "name": "stdout",
     "output_type": "stream",
     "text": [
      "\n",
      "¡Hola, Francisca!\n"
     ]
    }
   ],
   "source": [
    "# greeter.py\n",
    "\n",
    "indicacion = \"SI compartes tu nombre, podemos personalizar los mensajes que ves.\"\n",
    "indicacion += \"\\n¿Cuàl es tu primer nombre? \"\n",
    "nombre = input(indicacion)\n",
    "print(f\"\\n¡Hola, {nombre.title()}!\")"
   ]
  },
  {
   "cell_type": "markdown",
   "metadata": {},
   "source": [
    "Este ejemplo muestra una forma de construir una cadena de varias líneas. La primera línea asigna la primera parte del mensaje a la variable indicacion. En la segunda línea, el operador `+=` toma la cadena que se asignó a indicacion y agrega la nueva cadena al final.\n",
    "\n",
    "La indicación ahora abarca dos líneas, nuevamente con un espacio después del signo de interrogación para mayor claridad:\n",
    "\n",
    "```python\n",
    "Si compartes tu nombre, podemos personalizar los mensajes que ves.\n",
    "¿Cuál es tu primer nombre? Eric\n",
    "¡Hola, Eric!\n",
    "```"
   ]
  },
  {
   "cell_type": "markdown",
   "metadata": {},
   "source": [
    "## Usando **int()** para aceptar entrada numérica\n",
    "\n",
    "Cuando utilizas la función `input()`, Python interpreta todo lo que el usuario ingresa como una cadena. Considera la siguiente sesión del intérprete, que pregunta por la edad del usuario:"
   ]
  },
  {
   "cell_type": "code",
   "execution_count": 8,
   "metadata": {},
   "outputs": [
    {
     "name": "stdout",
     "output_type": "stream",
     "text": [
      "21\n"
     ]
    }
   ],
   "source": [
    "edad = input(\"¿Cuàntos años tienes? \")\n",
    "print(edad)"
   ]
  },
  {
   "cell_type": "markdown",
   "metadata": {},
   "source": [
    "El usuario ingresa el número 21, pero cuando solicitamos a Python el valor de edad, devuelve '21', la representación en cadena del valor numérico ingresado. Sabemos que Python interpretó la entrada como una cadena porque el número está ahora entre comillas. Si lo único que quieres hacer es imprimir la entrada, esto funciona bien. Pero si intentas utilizar la entrada como un número, obtendrás un error:"
   ]
  },
  {
   "cell_type": "code",
   "execution_count": 9,
   "metadata": {},
   "outputs": [
    {
     "name": "stdout",
     "output_type": "stream",
     "text": [
      "21\n"
     ]
    },
    {
     "ename": "TypeError",
     "evalue": "'>=' not supported between instances of 'str' and 'int'",
     "output_type": "error",
     "traceback": [
      "\u001b[0;31m---------------------------------------------------------------------------\u001b[0m",
      "\u001b[0;31mTypeError\u001b[0m                                 Traceback (most recent call last)",
      "Cell \u001b[0;32mIn[9], line 4\u001b[0m\n\u001b[1;32m      1\u001b[0m edad \u001b[38;5;241m=\u001b[39m \u001b[38;5;28minput\u001b[39m(\u001b[38;5;124m\"\u001b[39m\u001b[38;5;124m¿Cuàntos años tienes? \u001b[39m\u001b[38;5;124m\"\u001b[39m)\n\u001b[1;32m      2\u001b[0m \u001b[38;5;28mprint\u001b[39m(edad)\n\u001b[0;32m----> 4\u001b[0m \u001b[43medad\u001b[49m\u001b[43m \u001b[49m\u001b[38;5;241;43m>\u001b[39;49m\u001b[38;5;241;43m=\u001b[39;49m\u001b[43m \u001b[49m\u001b[38;5;241;43m18\u001b[39;49m\n",
      "\u001b[0;31mTypeError\u001b[0m: '>=' not supported between instances of 'str' and 'int'"
     ]
    }
   ],
   "source": [
    "edad = input(\"¿Cuàntos años tienes? \")\n",
    "print(edad)\n",
    "\n",
    "edad >= 18"
   ]
  },
  {
   "cell_type": "markdown",
   "metadata": {},
   "source": [
    "```python\n",
    ">>> edad = input(\"¿Cuántos años tienes? \")\n",
    "¿Cuántos años tienes? 21\n",
    ">>> edad >= 18\n",
    "Traceback (most recent call last):\n",
    " File \"<stdin>\", line 1, in <module>\n",
    "TypeError: '>=' not supported between instances of 'str' and 'int'\n",
    "```\n",
    "\n",
    "Cuando intentas usar la entrada para hacer una comparación numérica, Python produce un error porque no puede comparar una cadena con un número entero: la cadena '21' asignada a edad no puede ser comparada con el valor numérico 18. Podemos resolver este problema utilizando la función **`int()`**, que convierte la cadena de entrada en un valor numérico. Esto permite que la comparación se ejecute exitosamente:"
   ]
  },
  {
   "cell_type": "code",
   "execution_count": 10,
   "metadata": {},
   "outputs": [
    {
     "name": "stdout",
     "output_type": "stream",
     "text": [
      "21\n"
     ]
    },
    {
     "data": {
      "text/plain": [
       "True"
      ]
     },
     "execution_count": 10,
     "metadata": {},
     "output_type": "execute_result"
    }
   ],
   "source": [
    "edad = input(\"¿Cuàntos años tienes? \")\n",
    "print(edad)\n",
    "\n",
    "edad = int(edad)    # Transformamos string a int\n",
    "edad >= 18"
   ]
  },
  {
   "cell_type": "markdown",
   "metadata": {},
   "source": [
    "En este ejemplo, cuando ingresamos 21 en el prompt, Python interpreta el número como una cadena, pero el valor luego se convierte a una representación numérica por `int()`. Ahora Python puede realizar la prueba condicional: compara edad (que ahora representa el valor numérico 21) y 18 para ver si edad es mayor o igual a 18. Esta prueba se evalúa como Verdadero (True).\n",
    "\n",
    "¿Cómo usas la función **`int()`** en un programa real? Considera un programa que determina si las personas son lo suficientemente altas para subir a una montaña rusa:\n"
   ]
  },
  {
   "cell_type": "code",
   "execution_count": 11,
   "metadata": {},
   "outputs": [
    {
     "name": "stdout",
     "output_type": "stream",
     "text": [
      "\n",
      "¡Eres lo suficientemente alto para subir!\n"
     ]
    }
   ],
   "source": [
    "# rollercoaster.py\n",
    "\n",
    "altura = input(\"¿Què tan alto eres, en pulgadas? \")\n",
    "altura = int(altura)\n",
    "\n",
    "if altura >= 48:    \n",
    "    print(\"\\n¡Eres lo suficientemente alto para subir!\")\n",
    "else:\n",
    "    print(\"\\nPodràs subir cuando seas un poco màs grande.\")"
   ]
  },
  {
   "cell_type": "markdown",
   "metadata": {},
   "source": [
    "El programa puede comparar altura con 48 porque **`altura = int(altura)`** convierte el valor de entrada a una representación numérica antes de que se realice la comparación. Si el número ingresado es mayor o igual a 48, le decimos al usuario que es lo suficientemente alto:\n",
    "\n",
    "```python\n",
    "¿Qué tan alto eres, en pulgadas? 71\n",
    "¡Eres lo suficientemente alto para subir!\n",
    "```\n",
    "\n",
    "Cuando utilices entrada numérica para realizar cálculos y comparaciones, asegúrate de convertir primero el valor de entrada a una representación numérica."
   ]
  },
  {
   "cell_type": "markdown",
   "metadata": {},
   "source": [
    "## El Operador Módulo\n",
    "\n",
    "Una herramienta útil para trabajar con información numérica es el operador módulo **`%`**, que divide un número por otro número y devuelve el residuo:"
   ]
  },
  {
   "cell_type": "code",
   "execution_count": 12,
   "metadata": {},
   "outputs": [
    {
     "data": {
      "text/plain": [
       "1"
      ]
     },
     "execution_count": 12,
     "metadata": {},
     "output_type": "execute_result"
    }
   ],
   "source": [
    "4 % 3"
   ]
  },
  {
   "cell_type": "code",
   "execution_count": 13,
   "metadata": {},
   "outputs": [
    {
     "data": {
      "text/plain": [
       "2"
      ]
     },
     "execution_count": 13,
     "metadata": {},
     "output_type": "execute_result"
    }
   ],
   "source": [
    "5 % 3"
   ]
  },
  {
   "cell_type": "code",
   "execution_count": 14,
   "metadata": {},
   "outputs": [
    {
     "data": {
      "text/plain": [
       "0"
      ]
     },
     "execution_count": 14,
     "metadata": {},
     "output_type": "execute_result"
    }
   ],
   "source": [
    "6 % 3"
   ]
  },
  {
   "cell_type": "code",
   "execution_count": 15,
   "metadata": {},
   "outputs": [
    {
     "data": {
      "text/plain": [
       "1"
      ]
     },
     "execution_count": 15,
     "metadata": {},
     "output_type": "execute_result"
    }
   ],
   "source": [
    "7 % 3"
   ]
  },
  {
   "cell_type": "markdown",
   "metadata": {},
   "source": [
    "El operador módulo no te dice cuántas veces un número encaja en otro; solo te dice cuál es el residuo.\n",
    "\n",
    "Cuando un número es divisible por otro número, el residuo es 0, por lo que el operador módulo siempre devuelve 0. Puedes utilizar este hecho para determinar si un número es par o impar:\n"
   ]
  },
  {
   "cell_type": "code",
   "execution_count": 17,
   "metadata": {},
   "outputs": [
    {
     "name": "stdout",
     "output_type": "stream",
     "text": [
      "\n",
      "El nùmero 4 es par.\n"
     ]
    }
   ],
   "source": [
    "# even_or_odd.py\n",
    "\n",
    "numero = input(\"Ingresa un nùmero y te dirè si es par o impar: \")\n",
    "numero = int(numero)\n",
    "\n",
    "if numero % 2 == 0:\n",
    "    print(f\"\\nEl nùmero {numero} es par.\")\n",
    "else:\n",
    "    print(f\"\\nEL nùmero {numero} es impar.\")"
   ]
  },
  {
   "cell_type": "markdown",
   "metadata": {},
   "source": [
    "Los números pares siempre son divisibles por dos, así que si el residuo de un número dividido por dos es cero (aquí, si **`numero % 2 == 0`**), el número es par. De lo contrario, es impar.\n",
    "\n",
    "```python\n",
    "Ingresa un número y te diré si es par o impar: 42\n",
    "El número 42 es par.\n",
    "```"
   ]
  },
  {
   "cell_type": "markdown",
   "metadata": {},
   "source": [
    "## **HAZLO TU MISMO**\n",
    "**7-1. Rental Car:**\n",
    "\n",
    "Escribe un programa que pregunte al usuario qué tipo de auto de alquiler le gustaría. Imprime un mensaje sobre ese auto, como por ejemplo: \"Voy a ver si puedo encontrar un Suba basadas en la información proporcionada."
   ]
  },
  {
   "cell_type": "code",
   "execution_count": 19,
   "metadata": {},
   "outputs": [
    {
     "name": "stdout",
     "output_type": "stream",
     "text": [
      "Voy a ver si puedo encontrar un Subaru.\n"
     ]
    }
   ],
   "source": [
    "auto = input('¿Que tipo de auto de alquiler te gustaria? ')\n",
    "\n",
    "print(f\"Voy a ver si puedo encontrar un {auto.title()}.\")"
   ]
  },
  {
   "cell_type": "markdown",
   "metadata": {},
   "source": [
    "**7-2. Restaurant Seating:**\n",
    "\n",
    "Escribe un programa que pregunte al usuario cuántas personas hay en su grupo para cenar. Si la respuesta es más de ocho, imprime un mensaje diciendo que tendrán que esperar por una mesa. De lo contrario, reporta que su mesa está lista."
   ]
  },
  {
   "cell_type": "code",
   "execution_count": 22,
   "metadata": {},
   "outputs": [
    {
     "name": "stdout",
     "output_type": "stream",
     "text": [
      "Su mesa esta lista\n"
     ]
    }
   ],
   "source": [
    "personas = int(input('¿Cuantas personas hay en el grupo para cenar? '))\n",
    "\n",
    "if personas > 8:\n",
    "    print(\"Tendran que esperar por una mesa.\")\n",
    "else:\n",
    "    print(\"Su mesa esta lista\")"
   ]
  },
  {
   "cell_type": "markdown",
   "metadata": {},
   "source": [
    "**7-3. Multiples of Ten:**\n",
    "\n",
    "Pide al usuario un número y luego informa si el número es múltiplo de 10 o no.\n",
    "\n",
    "Estos programas utilizan la entrada del usuario para realizar diferentes acciones basadas en la información proporcionada."
   ]
  },
  {
   "cell_type": "code",
   "execution_count": 26,
   "metadata": {},
   "outputs": [
    {
     "name": "stdout",
     "output_type": "stream",
     "text": [
      "Su nùmero 20 es multiplo de 10\n"
     ]
    }
   ],
   "source": [
    "numero = int(input('Ingrese un nùmero: '))\n",
    "\n",
    "if numero % 10 == 0:\n",
    "    print(f\"Su nùmero {numero} es multiplo de 10\")\n",
    "else:\n",
    "    print(f\"Su nùmero {numero} no es multiple de 10\")"
   ]
  },
  {
   "cell_type": "markdown",
   "metadata": {},
   "source": [
    "## Introducción a los bucles while\n",
    "\n",
    "El bucle for recorre una colección de elementos y ejecuta un bloque de código una vez por cada elemento en esa colección. En contraste, el bucle while se ejecuta mientras, o hasta que, cierta condición sea verdadera."
   ]
  },
  {
   "cell_type": "markdown",
   "metadata": {},
   "source": [
    "## El bucle **while** en acción\n",
    "\n",
    "El bucle `while` se puede utilizar para contar hasta una serie de números. Por ejemplo, el siguiente bucle `while` cuenta del 1 al 5:"
   ]
  },
  {
   "cell_type": "code",
   "execution_count": 28,
   "metadata": {},
   "outputs": [
    {
     "name": "stdout",
     "output_type": "stream",
     "text": [
      "1\n",
      "2\n",
      "3\n",
      "4\n",
      "5\n"
     ]
    }
   ],
   "source": [
    "# counting.py\n",
    "\n",
    "numero_actual = 1\n",
    "while numero_actual <= 5:\n",
    "    print(numero_actual)\n",
    "    numero_actual += 1"
   ]
  },
  {
   "cell_type": "markdown",
   "metadata": {},
   "source": [
    "\n",
    "En la primera línea, comenzamos a contar desde 1 asignándole a numero_actual el valor 1. El bucle `while` está configurado para seguir ejecutándose mientras el valor de numero_actual sea menor o igual a 5. El código dentro del bucle imprime el valor de numero_actual y luego suma 1 a ese valor con numero_actual += 1 (El operador **`+=`** es una forma abreviada de **`numero_actual = numero_actual + 1`**). Python repite el bucle mientras la condición **`numero_actual <= 5`** sea verdadera. Como 1 es menor que 5, Python imprime 1 y luego suma 1, haciendo que el número actual sea 2. Como 2 es menor que 5, Python imprime 2 y suma 1 nuevamente, haciendo que el número actual sea 3, y así sucesivamente. Una vez que el valor de `numero_actual` es mayor que 5, el bucle deja de ejecutarse y el programa termina:\n",
    "\n",
    "```python\n",
    "1\n",
    "2\n",
    "3\n",
    "4\n",
    "5\n",
    "```\n",
    "\n",
    "Los programas que utilizas a diario probablemente contienen bucles `while`. Por ejemplo, un juego necesita un bucle `while` para seguir ejecutándose mientras desees seguir jugando, y para detenerse tan pronto como le pidas que se detenga. Los programas no serían divertidos de usar si se detuvieran antes de que se lo indiquemos o si siguieran ejecutándose incluso después de que quisiéramos salir, por lo que los bucles `while` son bastante útiles."
   ]
  },
  {
   "cell_type": "markdown",
   "metadata": {},
   "source": [
    "## Permitiendo al usuario elegir cuándo salir\n",
    "\n",
    "Podemos hacer que el programa parrot.py se ejecute todo el tiempo que el usuario quiera al colocar la mayor parte del programa dentro de un bucle `while`. Definiremos un valor de salida (**`quit value`**) y luego mantendremos el programa en ejecución mientras el usuario no haya ingresado ese valor de salida:\n"
   ]
  },
  {
   "cell_type": "code",
   "execution_count": 30,
   "metadata": {},
   "outputs": [
    {
     "name": "stdout",
     "output_type": "stream",
     "text": [
      "askdjdka\n",
      "ldaskda\n"
     ]
    }
   ],
   "source": [
    "# parrot.py\n",
    "\n",
    "mensaje = \"\"\n",
    "prompt = \"\\nDIme algo y lo repetirè para ti:\"\n",
    "prompt += \"}nINgresa 'quit' para finalizar el programa.\"\n",
    "\n",
    "while mensaje != 'quit':\n",
    "    mensaje = input(prompt)\n",
    "\n",
    "    if mensaje != 'quit':\n",
    "        print(mensaje)"
   ]
  },
  {
   "cell_type": "markdown",
   "metadata": {},
   "source": [
    "\n",
    "Primero definimos un mensaje que le indica al usuario sus dos opciones: ingresar un mensaje o ingresar el valor de salida (`quit value`) (en este caso, 'quit'). Luego configuramos una variable mensaje para llevar un seguimiento de cualquier valor que el usuario ingrese. Definimos mensaje como una cadena vacía, `\"\"`, para que Python tenga algo que verificar la primera vez que llega a la línea del bucle `while`. La primera vez que el programa se ejecuta y Python llega al enunciado `while`, necesita comparar el valor de mensaje con 'quit', pero aún no se ha ingresado ninguna entrada del usuario. Si Python no tiene nada para comparar, no podrá continuar ejecutando el programa. Para resolver este problema, nos aseguramos de darle a mensaje un valor inicial. Aunque sea solo una cadena vacía, tendrá sentido para Python y le permitirá realizar la comparación que hace que el bucle `while` funcione. Este bucle `while` se ejecuta mientras el valor de mensaje no sea 'quit'.\n",
    "\n",
    "La primera vez que se ejecuta el bucle, mensaje es solo una cadena vacía, por lo que Python entra en el bucle. En **`mensaje = input(prompt)`**, Python muestra el mensaje y espera a que el usuario ingrese su entrada. Lo que sea que ingresen se asigna a mensaje y se imprime; luego, Python reevalúa la condición en la instrucción `while`. Mientras el usuario no haya ingresado la palabra 'quit', se muestra el mensaje nuevamente y Python espera más entrada. Cuando el usuario finalmente ingresa 'quit', Python deja de ejecutar el bucle `while` y el programa termina.\n",
    "\n",
    "Este programa funciona bien, excepto que imprime la palabra 'quit' como si fuera un mensaje real. Una simple prueba `if` resuelve esto:"
   ]
  },
  {
   "cell_type": "markdown",
   "metadata": {},
   "source": [
    "```python\n",
    "mensaje = \"\"\n",
    "prompt = \"\\nDime algo y lo repetiré para ti:\"\n",
    "prompt += \"\\nIngresa 'quit' para finalizar el programa. \"\n",
    "\n",
    "while mensaje != 'quit':\n",
    "    mensaje = input(prompt)\n",
    "    \n",
    "    if mensaje != 'quit':\n",
    "        print(mensaje)\n",
    "```\n",
    "\n",
    "Ahora el programa realiza una rápida verificación antes de mostrar el mensaje y solo imprime el mensaje si no coincide con el valor de salida (`quit value`)."
   ]
  },
  {
   "cell_type": "markdown",
   "metadata": {},
   "source": [
    "## Uso de una Bandera\n",
    "\n",
    "En el ejemplo anterior, hicimos que el programa realizara ciertas tareas mientras una condición determinada fuera verdadera. Pero, ¿qué pasa con programas más complicados en los que muchos eventos diferentes podrían hacer que el programa deje de ejecutarse?\n",
    "\n",
    "Por ejemplo, en un juego, varios eventos diferentes pueden finalizar el juego. Cuando el jugador se queda sin naves, se acaba su tiempo o las ciudades que debía proteger son destruidas, el juego debería terminar. Debe finalizar si ocurre cualquiera de estos eventos. Si muchos eventos posibles podrían ocurrir para detener el programa, intentar probar todas estas condiciones en una sola declaración while se vuelve complicado y difícil.\n",
    "\n",
    "Para un programa que solo debe ejecutarse mientras muchas condiciones sean verdaderas, puedes definir una variable que determine si todo el programa está activo o no. Esta variable, llamada una bandera (flag), actúa como una señal para el programa. Podemos escribir nuestros programas para que se ejecuten mientras la bandera esté configurada en `True` y se detengan cuando cualquiera de varios eventos establezca el valor de la bandera en `False`. Como resultado, nuestra declaración `while` general solo necesita verificar una condición: si la bandera está actualmente en `True`. Luego, todas nuestras otras pruebas (para ver si ha ocurrido un evento que debería establecer la bandera en `False`) pueden organizarse de manera ordenada en el resto del programa.\n",
    "\n",
    "Agreguemos una bandera a `parrot.py` desde la sección anterior. Esta bandera, a la que llamaremos `activo` (aunque puedes llamarla como quieras), supervisará si el programa debe continuar ejecutándose:"
   ]
  },
  {
   "cell_type": "code",
   "execution_count": 32,
   "metadata": {},
   "outputs": [
    {
     "name": "stdout",
     "output_type": "stream",
     "text": [
      "hola\n"
     ]
    }
   ],
   "source": [
    "prompt = \"\\nDime algo y lo repetirè para ti:\"\n",
    "prompt += \"\\nIngresa 'quit' para finalizar el programa. \"\n",
    "activo = True\n",
    "\n",
    "while activo:\n",
    "    mensaje = input(prompt)\n",
    "    if mensaje == 'quit':\n",
    "        activo = False\n",
    "    else:\n",
    "        print(mensaje)"
   ]
  },
  {
   "cell_type": "markdown",
   "metadata": {},
   "source": [
    "Establecemos la variable activo en `True` para que el programa comience en un estado activo. Al hacerlo, la declaración `while` se vuelve más simple porque no se realiza ninguna comparación en la propia declaración `while`; la lógica se encarga en otras partes del programa. Mientras la variable `activo` permanezca en `True`, el bucle continuará ejecutándose.\n",
    "\n",
    "En la declaración `if` dentro del bucle `while`, verificamos el valor de `mensaje` una vez que el usuario ingresa su entrada. Si el usuario ingresa 'quit', establecemos `activo` en `False` y el bucle `while` se detiene. Si el usuario ingresa algo diferente a 'quit', imprimimos su entrada como un mensaje.\n",
    "\n",
    "Este programa tiene la misma salida que el ejemplo anterior donde colocamos la prueba condicional directamente en la declaración `while`. Pero ahora que tenemos una bandera para indicar si el programa en general está en un estado activo, sería fácil agregar más pruebas (como declaraciones `elif`) para eventos que deberían hacer que `activo` se vuelva `False`. Esto es útil en programas complicados como juegos, en los que puede haber muchos eventos que deberían hacer que el programa deje de ejecutarse. Cuando cualquiera de estos eventos hace que la bandera `activo` se convierta en `False`, el bucle principal del juego saldrá, se mostrará un mensaje de \"Juego Terminado\" y se le dará al jugador la opción de jugar de nuevo.\n"
   ]
  },
  {
   "cell_type": "markdown",
   "metadata": {},
   "source": [
    "## Uso de **`break`** para salir de un bucle\n",
    "\n",
    "Para salir inmediatamente de un bucle `while` sin ejecutar ningún código restante en el bucle, independientemente de los resultados de cualquier prueba condicional, utiliza la instrucción `break`. La instrucción `break` dirige el flujo de tu programa; puedes usarla para controlar qué líneas de código se ejecutan y cuáles no, para que el programa solo ejecute el código que deseas y en el momento que lo desees.\n",
    "\n",
    "Por ejemplo, considera un programa que pregunta al usuario sobre lugares que han visitado. Podemos detener el bucle `while` en este programa llamando a `break` tan pronto como el usuario ingrese el valor 'quit':"
   ]
  },
  {
   "cell_type": "code",
   "execution_count": 34,
   "metadata": {},
   "outputs": [
    {
     "name": "stdout",
     "output_type": "stream",
     "text": [
      "Me encantarìa ir a Viña Del Mar!\n",
      "Me encantarìa ir a Viña Del Mar!\n",
      "Me encantarìa ir a Santiago De Chile!\n",
      "Me encantarìa ir a Miami!\n",
      "Me encantarìa ir a Tokyo!\n"
     ]
    }
   ],
   "source": [
    "prompt = \"\\nPor favor ingresa el nombre de una ciudad que has visitado: \"\n",
    "prompt = \"\\n(Introduce 'quit' cuando hayas terminado.) \"\n",
    "\n",
    "while True:\n",
    "    city = input(prompt)\n",
    "    if city == 'quit':\n",
    "        break\n",
    "    else:\n",
    "        print(f\"Me encantarìa ir a {city.title()}!\")"
   ]
  },
  {
   "cell_type": "markdown",
   "metadata": {},
   "source": [
    "\n",
    "Un bucle que comienza con `while True` ejecutará indefinidamente a menos que alcance una instrucción `break`. El bucle en este programa continúa pidiendo al usuario que ingrese los nombres de las ciudades que han visitado hasta que ingresen 'quit'. Cuando ingresan 'quit', se ejecuta la instrucción `break`, lo que hace que Python salga del bucle.\n",
    "\n",
    "Este programa seguirá pidiendo ciudades hasta que el usuario ingrese 'quit', momento en el que el bucle se detendrá y el programa finalizará."
   ]
  },
  {
   "cell_type": "markdown",
   "metadata": {},
   "source": [
    "**NOTA:**\n",
    "\n",
    "Puedes utilizar la declaración `break` en cualquiera de los bucles de Python. Por ejemplo, podrías usar `break` para salir de un bucle `for` que esté recorriendo una lista o un diccionario."
   ]
  },
  {
   "cell_type": "markdown",
   "metadata": {},
   "source": [
    "## Usando **`continue`** en un bucle\n",
    "\n",
    "El uso de la declaración `continue` en Python te permite regresar al inicio de un bucle, basándote en el resultado de una prueba condicional, sin ejecutar el resto del código dentro del bucle en ese momento. Por ejemplo, considera un bucle que cuenta del 1 al 10, pero imprime solo los números impares en ese rango:"
   ]
  },
  {
   "cell_type": "code",
   "execution_count": 37,
   "metadata": {},
   "outputs": [
    {
     "name": "stdout",
     "output_type": "stream",
     "text": [
      "1\n",
      "3\n",
      "5\n",
      "7\n",
      "9\n"
     ]
    }
   ],
   "source": [
    "current_number = 0  # Inicializamos current_number en 0\n",
    "\n",
    "while current_number < 10:  # Mientras current_number sea menor que 10\n",
    "    current_number += 1  # Incrementamos current_number en 1 por cada iteración\n",
    "    if current_number % 2 == 0:  # Si current_number es divisible entre 2 (es par)\n",
    "        continue  # Saltamos al inicio del bucle, sin ejecutar lo que sigue\n",
    "    print(current_number)  # Imprimimos current_number si no es par"
   ]
  },
  {
   "cell_type": "markdown",
   "metadata": {},
   "source": [
    "Primero, establecemos `current_number` en 0. Como es menor que 10, Python ingresa al bucle `while`. Una vez dentro del bucle, incrementamos el contador en 1, por lo que `current_number` es 1. Luego, la declaración `if` verifica el módulo de `current_number` y 2. Si el módulo es 0 (lo que significa que `current_number` es divisible por 2), la declaración `continue` le indica a Python que ignore el resto del bucle y regrese al inicio. Si el número actual no es divisible por 2, se ejecuta el resto del bucle y Python imprime el número actual.\n",
    "\n",
    "Este código imprimirá los números impares del 1 al 9, ya que el `continue` evitará la impresión de los números pares."
   ]
  },
  {
   "cell_type": "markdown",
   "metadata": {},
   "source": [
    "## Evitar bucles infinitos\n",
    "\n",
    "Los bucles `while` deben tener una forma de detener su ejecución para evitar que continúen ejecutándose indefinidamente. Si se omite accidentalmente una línea que actualice la variable de control, como en el siguiente ejemplo:\n",
    "\n",
    "```python\n",
    "x = 1    # x tiene valor de 1\n",
    "while x <= 5:    # mientras x sea menor o igual que 5\n",
    "    print(x)    # imprimimos x\n",
    "    # Falta la línea que incrementa x, como x += 1\n",
    "```\n",
    "\n",
    "El bucle se ejecutará indefinidamente ya que el valor de `x` no cambiará. El test condicional `x <= 5` siempre será verdadero y el bucle `while` seguirá imprimiendo una serie de 1s sin detenerse.\n",
    "\n",
    "Para evitar bucles infinitos, asegúrate de que tu bucle `while` tenga una lógica clara y que la condición de salida se alcance en algún momento. En el caso de contar con un contador, como en el ejemplo anterior, es importante asegurarse de que el contador se actualice dentro del bucle para que eventualmente la condición de salida (en este caso, `x <= 5`) sea falsa.\n",
    "\n",
    "Si te encuentras atrapado en un bucle infinito mientras ejecutas un programa, puedes detenerlo manualmente presionando `CTRL-C` en la terminal o cerrando la ventana de la terminal que muestra la salida del programa. Además, para evitar bucles infinitos, siempre verifica que la lógica de tu bucle sea correcta y que se cumplan las condiciones de salida esperadas."
   ]
  },
  {
   "cell_type": "markdown",
   "metadata": {},
   "source": [
    "**NOTA:**\n",
    "\n",
    "VS Code, al igual que muchos editores, muestra la salida en una ventana de terminal integrada. Para cancelar un bucle infinito, asegúrate de hacer clic en el área de salida del editor antes de presionar CTRL-C."
   ]
  },
  {
   "cell_type": "markdown",
   "metadata": {},
   "source": [
    "## **HAZLO TU MISMO**\n",
    "\n",
    "**7-4. Ingredientes de pizza:**\n",
    "\n",
    "Escribe un bucle que solicite al usuario ingresar una serie de ingredientes de pizza hasta que ingresen el valor 'quit'. A medida que ingresen cada ingrediente, imprime un mensaje diciendo que agregarás ese ingrediente a su pizza."
   ]
  },
  {
   "cell_type": "code",
   "execution_count": 41,
   "metadata": {},
   "outputs": [
    {
     "name": "stdout",
     "output_type": "stream",
     "text": [
      "peperonni agregando a la pizza.\n",
      "queso agregando a la pizza.\n",
      "extra queso agregando a la pizza.\n",
      "salame agregando a la pizza.\n",
      "tomate agregando a la pizza.\n",
      "champiñones agregando a la pizza.\n",
      "\n",
      "Los ingredientes de su pizza son: \n",
      " - Peperonni\n",
      " - Queso\n",
      " - Extra Queso\n",
      " - Salame\n",
      " - Tomate\n",
      " - Champiñones\n"
     ]
    }
   ],
   "source": [
    "prompt = \"\\nIngrese los ingredientes que quiere para su pizza: \"\n",
    "prompt += \"\\n(Presione 'quit' una vez que termine) \"\n",
    "\n",
    "# Lista para almacenar los ingredientes\n",
    "ingredientes_lista = []\n",
    "\n",
    "while True:\n",
    "    ingredientes = input(prompt)    # Ingresamos lo ingredientes\n",
    "\n",
    "    if ingredientes.lower() == 'quit':    # Verificamos si el usuario quiere salir\n",
    "        break\n",
    "    else:\n",
    "        # Agregamos el ingrediente a la lista\n",
    "        ingredientes_lista.append(ingredientes)\n",
    "        print(f\"{ingredientes} agregando a la pizza.\")\n",
    "\n",
    "# Imprimimos los ingredientes solo una vez al final\n",
    "print(\"\\nLos ingredientes de su pizza son: \")\n",
    "for ingredientes in ingredientes_lista:\n",
    "    print(f\" - {ingredientes.title()}\")"
   ]
  },
  {
   "cell_type": "markdown",
   "metadata": {},
   "source": [
    "**7-5. Boletos de cine:**\n",
    "\n",
    "Un cine cobra diferentes precios de boletos según la edad de una persona. Si una persona tiene menos de 3 años, el boleto es gratuito; si tienen entre 3 y 12 años, el boleto cuesta $10; y si tienen más de 12 años, el boleto cuesta $15. Escribe un bucle en el que pidas la edad de los usuarios y luego les digas el costo de su boleto de cine."
   ]
  },
  {
   "cell_type": "code",
   "execution_count": 46,
   "metadata": {},
   "outputs": [
    {
     "name": "stdout",
     "output_type": "stream",
     "text": [
      "Usted tiene 4 años, sus boletos cuestan $10 pesos.\n"
     ]
    }
   ],
   "source": [
    "edad = int(input(\"¿Què edad tiene usted?: \"))    # Ingresamos la edad\n",
    "\n",
    "if edad <= 3:\n",
    "    print(f\"Usted tiene {edad} años, entonces tiene boletos gratuitos.\")\n",
    "elif edad >= 3 and edad <= 12:\n",
    "    print(f\"Usted tiene {edad} años, sus boletos cuestan $10 pesos.\")\n",
    "elif edad >= 12:\n",
    "    print(f\"Usted tiene {edad} años, y sus boletos cuestan $15 pesos. \")"
   ]
  },
  {
   "cell_type": "markdown",
   "metadata": {},
   "source": [
    "**7-6. Tres salidas:**\n",
    "\n",
    "Escribe diferentes versiones del ejercicio 7-4 o 7-5 que hagan lo siguiente al menos una vez:\n",
    "- Usa una prueba condicional en la instrucción while para detener el bucle.\n",
    "- Usa una variable activa para controlar cuánto tiempo se ejecuta el bucle.\n",
    "- Usa una declaración break para salir del bucle cuando el usuario ingrese el valor 'quit'."
   ]
  },
  {
   "cell_type": "code",
   "execution_count": 52,
   "metadata": {},
   "outputs": [
    {
     "name": "stdout",
     "output_type": "stream",
     "text": [
      "21\n",
      "22\n",
      "23\n",
      "24\n",
      "25\n",
      "26\n",
      "27\n",
      "28\n",
      "29\n"
     ]
    }
   ],
   "source": [
    "valor = int(input(\"Ingrese un nùmero del 1 al 30. 'No puede ser 30'\"))\n",
    "\n",
    "# Mientras valor sea menor a 50\n",
    "while valor < 30:\n",
    "    valor += 1    # Ejecutamos valor + 1 por cada iteraciòn\n",
    "    if valor == 30:    # Si valor es iguala 50 paramos la iteracion\n",
    "        break\n",
    "    print(valor)    # Imprimimos el valor"
   ]
  },
  {
   "cell_type": "markdown",
   "metadata": {},
   "source": [
    " **7-7. Infinito:**\n",
    "\n",
    "Escribe un bucle que nunca termine y ejecútalo. (Para finalizar el bucle, presiona CTRL-C o cierra la ventana que muestra la salida)."
   ]
  },
  {
   "cell_type": "code",
   "execution_count": 54,
   "metadata": {},
   "outputs": [],
   "source": [
    "# x = 5\n",
    "\n",
    "# while x <= 5:\n",
    "#    print(\" x en un bucle infinito \")"
   ]
  },
  {
   "cell_type": "markdown",
   "metadata": {},
   "source": [
    "## Usando un bucle while con listas y Diccionarios\n",
    "\n",
    "Hasta ahora, hemos trabajado solo con un solo elemento de información del usuario a la vez. Recibíamos la entrada del usuario y luego imprimíamos la entrada o una respuesta a la misma. La próxima vez a través del bucle while, recibiríamos otro valor de entrada y responderíamos a eso. Pero para hacer un seguimiento de muchos usuarios y elementos de información, necesitaremos usar listas y diccionarios con nuestros bucles while.\n",
    "Un bucle for es eficaz para iterar a través de una lista, pero no debes modificar una lista dentro de un bucle for porque Python tendrá problemas para hacer un seguimiento de los elementos en la lista. Para modificar una lista mientras trabajas en ella, utiliza un bucle while. Utilizar bucles while con listas y diccionarios te permite recopilar, almacenar y organizar muchas entradas para examinarlas y reportarlas más tarde."
   ]
  },
  {
   "cell_type": "markdown",
   "metadata": {},
   "source": [
    "## Mover elementos de una lista a otra\n",
    "\n",
    "Considera una lista de usuarios recién registrados pero no verificados de un sitio web. Después de verificar a estos usuarios, ¿cómo podemos moverlos a una lista separada de usuarios confirmados? Una forma sería usar un bucle while para extraer usuarios de la lista de usuarios no confirmados a medida que los verificamos y luego agregarlos a una lista separada de usuarios confirmados. Así es como podría lucir ese código:\n"
   ]
  },
  {
   "cell_type": "code",
   "execution_count": 56,
   "metadata": {},
   "outputs": [
    {
     "name": "stdout",
     "output_type": "stream",
     "text": [
      "Verificando usuario: Candance\n",
      "Verificando usuario: Brian\n",
      "Verificando usuario: Alice\n",
      "\n",
      "Los siguientes usuarios han sido confirmados: \n",
      "Candance\n",
      "Brian\n",
      "Alice\n"
     ]
    }
   ],
   "source": [
    "# Comenzamos con usuarios que necesitan ser verificados\n",
    "# y una lista vacìa para contener usuarios confirmados.\n",
    "\n",
    "unconfirmed_users = ['alice', 'brian', 'candance']\n",
    "confirmed_users = []\n",
    "\n",
    "# Verificar cada usuario hasta que no haya màs usuarios no confirmados.\n",
    "# Mover cada usuario verificado a la lista de usuarios confirmados.\n",
    "while unconfirmed_users:\n",
    "    current_user = unconfirmed_users.pop()\n",
    "    print(f\"Verificando usuario: {current_user.title()}\")\n",
    "    confirmed_users.append(current_user)\n",
    "\n",
    "# Mostrar todos los usuarios confirmados.\n",
    "print(\"\\nLos siguientes usuarios han sido confirmados: \")\n",
    "for confirmed_user in confirmed_users:\n",
    "    print(confirmed_user.title())"
   ]
  },
  {
   "cell_type": "markdown",
   "metadata": {},
   "source": [
    "Comenzamos con una lista de usuarios no confirmados (Alice, Brian y Candace) y una lista vacía para mantener a los usuarios confirmados. El bucle while se ejecuta mientras la lista unconfirmed_users no esté vacía. Dentro de este bucle, el método **`pop()`** elimina usuarios no verificados uno por uno desde el final de unconfirmed_users. Como Candace está al final de la lista unconfirmed_users, su nombre será el primero en ser eliminado, asignado a current_user y agregado a la lista confirmed_users. Luego es el turno de Brian y luego de Alice.\n",
    "Simulamos la confirmación de cada usuario imprimiendo un mensaje de verificación y luego agregándolos a la lista de usuarios confirmados. A medida que la lista de usuarios no confirmados se reduce, la lista de usuarios confirmados crece. Cuando la lista de usuarios no confirmados está vacía, el bucle se detiene y se imprime la lista de usuarios confirmados."
   ]
  },
  {
   "cell_type": "markdown",
   "metadata": {},
   "source": [
    "## Eliminar todas las instancias de valores específicos de una lista\n",
    "\n",
    "En el Capítulo 3, usamos **`remove()`** para eliminar un valor específico de una lista. La función `remove()` funcionó porque el valor que nos interesaba aparecía solo una vez en la lista. Pero, ¿qué sucede si deseas eliminar todas las instancias de un valor de una lista?\n",
    "Supongamos que tienes una lista de mascotas con el valor 'gato' repetido varias veces. Para eliminar todas las instancias de ese valor, puedes ejecutar un bucle while hasta que 'gato' ya no esté en la lista, como se muestra aquí:\n"
   ]
  },
  {
   "cell_type": "code",
   "execution_count": 58,
   "metadata": {},
   "outputs": [
    {
     "name": "stdout",
     "output_type": "stream",
     "text": [
      "['perro', 'gato', 'perro', 'pez dorado', 'gato', 'conejo', 'gato']\n",
      "['perro', 'perro', 'pez dorado', 'conejo']\n"
     ]
    }
   ],
   "source": [
    "mascotas = ['perro', 'gato', 'perro', 'pez dorado', 'gato', 'conejo', 'gato']\n",
    "print(mascotas)\n",
    "\n",
    "while 'gato' in mascotas:\n",
    "    mascotas.remove('gato')\n",
    "\n",
    "print(mascotas)"
   ]
  },
  {
   "cell_type": "markdown",
   "metadata": {},
   "source": [
    "Comenzamos con una lista que contiene múltiples instancias de 'gato'. Después de imprimir la lista, Python ingresa al bucle while porque encuentra el valor 'gato' en la lista al menos una vez. Una vez dentro del bucle, Python elimina la primera instancia de 'gato', regresa a la línea del while y luego vuelve a ingresar al bucle cuando encuentra que 'gato' todavía está en la lista. Se eliminan cada instancia de 'gato' hasta que el valor ya no esté en la lista, momento en el que Python sale del bucle y vuelve a imprimir la lista."
   ]
  },
  {
   "cell_type": "markdown",
   "metadata": {},
   "source": [
    "## Llenar un diccionario con la entrada del usuario\n",
    "\n",
    "Puedes solicitar tanta entrada como necesites en cada paso a través de un bucle while. Hagamos un programa de encuestas en el que en cada pasada por el bucle se solicite el nombre del participante y su respuesta. Almacenaremos los datos que recopilemos en un diccionario, ya que queremos relacionar cada respuesta con un usuario en particular:"
   ]
  },
  {
   "cell_type": "code",
   "execution_count": 61,
   "metadata": {},
   "outputs": [
    {
     "name": "stdout",
     "output_type": "stream",
     "text": [
      "\n",
      "--- Resultados de la Encuenta ---\n",
      "no le gustarìa escalar no algùn dìa.\n"
     ]
    }
   ],
   "source": [
    "respuestas = {}\n",
    "\n",
    "# Establecer un bandera para indicar que la encuesta està activa.\n",
    "encuenta_activa = True\n",
    "\n",
    "while encuenta_activa:\n",
    "    # SOlicitar el nombre de la persona y su respuesta.\n",
    "    nombre = input(\"\\n¿Cuàl es tu nombre? \")\n",
    "    respuesta = input(\"¿A què montaña te gustarìa escalar algùn dìa? \")\n",
    "\n",
    "    # Almacenar la respuesta en el diccionario.\n",
    "    respuestas[nombre] = respuesta\n",
    "    # Verificar si algièn màs va a participar en la encuesta.\n",
    "    repetir = input(\"¿Te gustarìa permitir que otra persona responda? (sì/no) \")\n",
    "    if repetir == 'no':\n",
    "        encuenta_activa = False\n",
    "\n",
    "# La encuesta ha finalizado. Mostrar los resultados.\n",
    "print(\"\\n--- Resultados de la Encuenta ---\")\n",
    "for nombre, respuesta in respuestas.items():\n",
    "    print(f\"{nombre} le gustarìa escalar {respuesta} algùn dìa.\")"
   ]
  },
  {
   "cell_type": "markdown",
   "metadata": {},
   "source": [
    "El programa primero define un diccionario vacío (respuestas) y establece una bandera (encuesta_activa) para indicar que la encuesta está activa. Mientras encuesta_activa sea True, Python ejecutará el código en el bucle while. Dentro del bucle, se le pide al usuario que ingrese su nombre y una montaña que le gustaría escalar. Esa información se almacena en el diccionario respuestas y se le pregunta al usuario si desea seguir ejecutando la encuesta. Si ingresan sí, el programa vuelve a ingresar al bucle while. Si ingresan no, la bandera encuesta_activa se establece en False, el bucle while deja de ejecutarse y el bloque final muestra los resultados de la encuesta.\n",
    "\n",
    "Si ejecutas este programa e ingresas respuestas de ejemplo, deberías ver una salida similar a esta:\n",
    "\n",
    "```python\n",
    "¿Cuál es tu nombre? Eric\n",
    "¿A qué montaña te gustaría escalar algún día? Denali\n",
    "¿Te gustaría permitir que otra persona responda? (sí/ no) sí\n",
    "¿Cuál es tu nombre? Lynn\n",
    "¿A qué montaña te gustaría escalar algún día? Devil's Thumb\n",
    "¿Te gustaría permitir que otra persona responda? (sí/ no) no\n",
    "--- Resultados de la Encuesta ---\n",
    "Eric le gustaría escalar Denali algún día.\n",
    "Lynn le gustaría escalar Devil's Thumb algún día.\n",
    "```"
   ]
  },
  {
   "cell_type": "markdown",
   "metadata": {},
   "source": [
    "## **HAZLO TU MISMO**\n",
    "**7-8. Deli:**\n",
    "\n",
    "Crea una lista llamada sandwich_orders y llénala con los nombres de varios sándwiches. Luego, haz una lista vacía llamada finished_sandwiches. Recorre la lista de pedidos de sándwiches e imprime un mensaje para cada pedido, como \"Hice tu sándwich de atún\". A medida que se hace cada sándwich, muévelo a la lista de sándwiches terminados. Después de que se hayan hecho todos los sándwiches, imprime un mensaje enumerando cada sándwich que se hizo."
   ]
  },
  {
   "cell_type": "code",
   "execution_count": null,
   "metadata": {},
   "outputs": [],
   "source": []
  },
  {
   "cell_type": "markdown",
   "metadata": {},
   "source": [
    "**7-9. No Pastrami:**\n",
    "\n",
    "Utilizando la lista sandwich_orders del Ejercicio 7-8, asegúrate de que el sándwich 'pastrami' aparezca en la lista al menos tres veces. Agrega código al principio de tu programa para imprimir un mensaje diciendo que la deli se ha quedado sin pastrami, y luego usa un bucle while para eliminar todas las ocurrencias de 'pastrami' de sandwich_orders. Asegúrate de que ningún sándwich de pastrami termine en finished_sandwiches."
   ]
  },
  {
   "cell_type": "code",
   "execution_count": null,
   "metadata": {},
   "outputs": [],
   "source": []
  },
  {
   "cell_type": "markdown",
   "metadata": {},
   "source": [
    "**7-10. Dream Vacation:**\n",
    "\n",
    "Escribe un programa que realice encuestas a los usuarios sobre sus vacaciones soñadas. Escribe un mensaje similar a \"Si pudieras visitar un lugar en el mundo, ¿a dónde irías?\". Incluye un bloque de código que imprima los resultados de la encuesta."
   ]
  },
  {
   "cell_type": "code",
   "execution_count": null,
   "metadata": {},
   "outputs": [],
   "source": []
  },
  {
   "cell_type": "markdown",
   "metadata": {},
   "source": [
    "# **Resumen**\n",
    "\n",
    "En este capítulo, aprendiste cómo utilizar `input()` para permitir que los usuarios proporcionen su propia información en tus programas. Aprendiste a trabajar tanto con entradas de texto como numéricas, y cómo usar bucles `while` para hacer que tus programas se ejecuten mientras tus usuarios lo deseen. Se presentaron varias formas de controlar el flujo de un bucle `while`, estableciendo una bandera activa, utilizando la declaración `break` y la declaración `continue`. Aprendiste cómo utilizar un bucle `while` para mover elementos de una lista a otra y cómo eliminar todas las instancias de un valor de una lista. También aprendiste cómo los bucles `while` pueden ser utilizados con diccionarios.\n",
    "\n",
    "En el Capítulo 8 aprenderás sobre funciones. Las funciones te permiten dividir tus programas en partes pequeñas, cada una de las cuales realiza una tarea específica. Puedes llamar a una función tantas veces como desees, y puedes almacenar tus funciones en archivos separados. Al usar funciones, podrás escribir un código más eficiente, más fácil de solucionar y mantener, y que se pueda reutilizar en muchos programas diferentes."
   ]
  }
 ],
 "metadata": {
  "kernelspec": {
   "display_name": "env",
   "language": "python",
   "name": "python3"
  },
  "language_info": {
   "codemirror_mode": {
    "name": "ipython",
    "version": 3
   },
   "file_extension": ".py",
   "mimetype": "text/x-python",
   "name": "python",
   "nbconvert_exporter": "python",
   "pygments_lexer": "ipython3",
   "version": "3.12.3"
  }
 },
 "nbformat": 4,
 "nbformat_minor": 2
}
