{
 "cells": [
  {
   "cell_type": "markdown",
   "metadata": {},
   "source": [
    "# **CAPÍTULO 7: ENTRADA DEL USUARIO Y BUCLES WHILE**\n",
    "* Cómo funciona la función input()\n",
    "* Escribir mensajes claros de solicitud\n",
    "* Usar int() para aceptar entrada numérica\n",
    "* El operador módulo\n",
    "* Ejercicio 7-1: Alquiler de coches\n",
    "* Ejercicio 7-2: Asientos de restaurante\n",
    "* Ejercicio 7-3: Múltiplos de diez\n",
    "* Introducción a los bucles while\n",
    "* El bucle while en acción\n",
    "* Permitir que el usuario elija cuándo salir\n",
    "* Uso de una bandera (flag)\n",
    "* Uso de break para salir de un bucle\n",
    "* Uso de continue en un bucle\n",
    "* Evitar bucles infinitos\n",
    "* Ejercicio 7-4: Ingredientes de pizza\n",
    "* Ejercicio 7-5: Entradas de cine\n",
    "* Ejercicio 7-6: Tres salidas\n",
    "* Ejercicio 7-7: Infinito\n",
    "* Uso de un bucle while con listas y diccionarios\n",
    "* Mover elementos de una lista a otra\n",
    "* Eliminar todas las instancias de valores específicos de una lista\n",
    "* Llenar un diccionario con la entrada del usuario\n",
    "* Ejercicio 7-8: Deli\n",
    "* Ejercicio 7-9: Sin pastrami\n",
    "* Ejercicio 7-10: Vacaciones soñadas\n",
    "* Resumen"
   ]
  },
  {
   "cell_type": "markdown",
   "metadata": {},
   "source": [
    "La mayoría de los programas están escritos para resolver problemas de los usuarios finales. Para hacerlo, generalmente necesitas obtener cierta información del usuario. Por ejemplo, digamos que alguien quiere saber si tiene la edad suficiente para votar. Si escribes un programa para responder a esta pregunta, necesitas conocer la edad del usuario antes de poder proporcionar una respuesta. El programa tendrá que pedir al usuario que ingrese, o introduzca, su edad; una vez que el programa tenga esta entrada, puede compararla con la edad mínima para votar para determinar si el usuario es lo suficientemente mayor y luego informar el resultado.\n",
    "\n",
    "* En este capítulo aprenderás cómo aceptar la entrada del usuario para que tu programa pueda trabajar con ella. \n",
    "* Cuando tu programa necesite un nombre, podrás pedir al usuario que ingrese un nombre. \n",
    "* Cuando tu programa necesite una lista de nombres, podrás solicitar al usuario una serie de nombres. \n",
    "* Para hacer esto, utilizarás la función `input()`. \n",
    "* También aprenderás cómo mantener los programas en ejecución mientras los usuarios lo deseen, para que puedan ingresar la cantidad de información que necesiten; luego, tu programa podrá trabajar con esa información. \n",
    "* Usarás el bucle `while` de Python para mantener los programas en ejecución mientras ciertas condiciones sigan siendo verdaderas.\n",
    "\n",
    "Con la capacidad de trabajar con la entrada del usuario y la capacidad de controlar la duración de ejecución de tus programas, podrás escribir programas completamente interactivos."
   ]
  },
  {
   "cell_type": "markdown",
   "metadata": {},
   "source": [
    "## El funcionamiento de la función **input()**\n",
    "\n",
    "La función `input()` pausa tu programa y espera a que el usuario ingrese algún texto. Una vez que Python recibe la entrada del usuario, asigna esa entrada a una variable para que te resulte conveniente trabajar con ella.\n",
    "\n",
    "Por ejemplo, el siguiente programa pide al usuario que ingrese algún texto y luego muestra ese mensaje de vuelta al usuario:"
   ]
  },
  {
   "cell_type": "code",
   "execution_count": 2,
   "metadata": {},
   "outputs": [
    {
     "name": "stdout",
     "output_type": "stream",
     "text": [
      "Probando el input()\n"
     ]
    }
   ],
   "source": [
    "# parrot.py\n",
    "mensaje = input('Dime algo y lo repetirè:')\n",
    "print(mensaje)"
   ]
  },
  {
   "cell_type": "markdown",
   "metadata": {},
   "source": [
    "La función **`input()`** toma un argumento: el mensaje o indicación que queremos mostrar al usuario para que sepa qué tipo de información debe ingresar. En este ejemplo, cuando Python ejecuta la primera línea, el usuario ve el mensaje \"Dime algo y lo repetiré:\". El programa espera mientras el usuario ingresa su respuesta y continúa después de que el usuario presiona ENTER. La respuesta se asigna a la variable mensaje, luego print(mensaje) muestra la entrada de vuelta al usuario:\n",
    "\n",
    "```python\n",
    "Dime algo y lo repetiré: ¡Hola a todos!\n",
    "Probando el input()\n",
    "```"
   ]
  },
  {
   "cell_type": "markdown",
   "metadata": {},
   "source": [
    "**NOTA**\n",
    "\n",
    "Algunos editores de texto no ejecutarán programas que soliciten entrada del usuario. Puedes utilizar estos editores para escribir programas que soliciten entrada,\n",
    "pero deberás ejecutar estos programas desde una terminal. Consulta **\"Running Python Programs from a Terminal\"** en la página 11.\n"
   ]
  },
  {
   "cell_type": "markdown",
   "metadata": {},
   "source": [
    "## Escribir indicaciones claras\n",
    "\n",
    "Cada vez que uses la función `input()`, debes incluir una indicación clara y fácil de seguir que le diga al usuario exactamente qué tipo de información estás buscando. Cualquier declaración que le indique al usuario qué ingresar debería funcionar. Por ejemplo:"
   ]
  },
  {
   "cell_type": "code",
   "execution_count": 3,
   "metadata": {},
   "outputs": [
    {
     "name": "stdout",
     "output_type": "stream",
     "text": [
      "\n",
      "¡Hola, Francisca!\n"
     ]
    }
   ],
   "source": [
    "# greenter.py\n",
    "\n",
    "nombre = input(\"Por favor, ingresa tu nombre: \")\n",
    "print(f\"\\n¡Hola, {nombre}!\")"
   ]
  },
  {
   "cell_type": "markdown",
   "metadata": {},
   "source": [
    "Agrega un espacio al final de tus indicaciones (después de los dos puntos en el ejemplo anterior) para separar la indicación de la respuesta del usuario y para dejar claro al usuario dónde ingresar su texto. Por ejemplo:\n",
    "\n",
    "```python\n",
    "Por favor, ingresa tu nombre: Eric\n",
    "¡Hola, Eric!\n",
    "```\n",
    "\n",
    "A veces querrás escribir una indicación que sea más larga que una sola línea. Por ejemplo, es posible que desees explicar al usuario por qué estás pidiendo cierta entrada. Puedes asignar tu indicación a una variable y pasar esa variable a la función `input()`. Esto te permite construir tu indicación en varias líneas y luego escribir una declaración `input()` clara."
   ]
  },
  {
   "cell_type": "code",
   "execution_count": 6,
   "metadata": {},
   "outputs": [
    {
     "name": "stdout",
     "output_type": "stream",
     "text": [
      "\n",
      "¡Hola, Francisca!\n"
     ]
    }
   ],
   "source": [
    "# greeter.py\n",
    "\n",
    "indicacion = \"SI compartes tu nombre, podemos personalizar los mensajes que ves.\"\n",
    "indicacion += \"\\n¿Cuàl es tu primer nombre? \"\n",
    "nombre = input(indicacion)\n",
    "print(f\"\\n¡Hola, {nombre.title()}!\")"
   ]
  },
  {
   "cell_type": "markdown",
   "metadata": {},
   "source": [
    "Este ejemplo muestra una forma de construir una cadena de varias líneas. La primera línea asigna la primera parte del mensaje a la variable indicacion. En la segunda línea, el operador `+=` toma la cadena que se asignó a indicacion y agrega la nueva cadena al final.\n",
    "\n",
    "La indicación ahora abarca dos líneas, nuevamente con un espacio después del signo de interrogación para mayor claridad:\n",
    "\n",
    "```python\n",
    "Si compartes tu nombre, podemos personalizar los mensajes que ves.\n",
    "¿Cuál es tu primer nombre? Eric\n",
    "¡Hola, Eric!\n",
    "```"
   ]
  },
  {
   "cell_type": "markdown",
   "metadata": {},
   "source": [
    "## Usando **int()** para aceptar entrada numérica\n",
    "\n",
    "Cuando utilizas la función `input()`, Python interpreta todo lo que el usuario ingresa como una cadena. Considera la siguiente sesión del intérprete, que pregunta por la edad del usuario:"
   ]
  },
  {
   "cell_type": "code",
   "execution_count": 8,
   "metadata": {},
   "outputs": [
    {
     "name": "stdout",
     "output_type": "stream",
     "text": [
      "21\n"
     ]
    }
   ],
   "source": [
    "edad = input(\"¿Cuàntos años tienes? \")\n",
    "print(edad)"
   ]
  },
  {
   "cell_type": "markdown",
   "metadata": {},
   "source": [
    "El usuario ingresa el número 21, pero cuando solicitamos a Python el valor de edad, devuelve '21', la representación en cadena del valor numérico ingresado. Sabemos que Python interpretó la entrada como una cadena porque el número está ahora entre comillas. Si lo único que quieres hacer es imprimir la entrada, esto funciona bien. Pero si intentas utilizar la entrada como un número, obtendrás un error:"
   ]
  },
  {
   "cell_type": "code",
   "execution_count": 9,
   "metadata": {},
   "outputs": [
    {
     "name": "stdout",
     "output_type": "stream",
     "text": [
      "21\n"
     ]
    },
    {
     "ename": "TypeError",
     "evalue": "'>=' not supported between instances of 'str' and 'int'",
     "output_type": "error",
     "traceback": [
      "\u001b[0;31m---------------------------------------------------------------------------\u001b[0m",
      "\u001b[0;31mTypeError\u001b[0m                                 Traceback (most recent call last)",
      "Cell \u001b[0;32mIn[9], line 4\u001b[0m\n\u001b[1;32m      1\u001b[0m edad \u001b[38;5;241m=\u001b[39m \u001b[38;5;28minput\u001b[39m(\u001b[38;5;124m\"\u001b[39m\u001b[38;5;124m¿Cuàntos años tienes? \u001b[39m\u001b[38;5;124m\"\u001b[39m)\n\u001b[1;32m      2\u001b[0m \u001b[38;5;28mprint\u001b[39m(edad)\n\u001b[0;32m----> 4\u001b[0m \u001b[43medad\u001b[49m\u001b[43m \u001b[49m\u001b[38;5;241;43m>\u001b[39;49m\u001b[38;5;241;43m=\u001b[39;49m\u001b[43m \u001b[49m\u001b[38;5;241;43m18\u001b[39;49m\n",
      "\u001b[0;31mTypeError\u001b[0m: '>=' not supported between instances of 'str' and 'int'"
     ]
    }
   ],
   "source": [
    "edad = input(\"¿Cuàntos años tienes? \")\n",
    "print(edad)\n",
    "\n",
    "edad >= 18"
   ]
  },
  {
   "cell_type": "markdown",
   "metadata": {},
   "source": [
    "```python\n",
    ">>> edad = input(\"¿Cuántos años tienes? \")\n",
    "¿Cuántos años tienes? 21\n",
    ">>> edad >= 18\n",
    "Traceback (most recent call last):\n",
    " File \"<stdin>\", line 1, in <module>\n",
    "TypeError: '>=' not supported between instances of 'str' and 'int'\n",
    "```\n",
    "\n",
    "Cuando intentas usar la entrada para hacer una comparación numérica, Python produce un error porque no puede comparar una cadena con un número entero: la cadena '21' asignada a edad no puede ser comparada con el valor numérico 18. Podemos resolver este problema utilizando la función **`int()`**, que convierte la cadena de entrada en un valor numérico. Esto permite que la comparación se ejecute exitosamente:"
   ]
  },
  {
   "cell_type": "code",
   "execution_count": 10,
   "metadata": {},
   "outputs": [
    {
     "name": "stdout",
     "output_type": "stream",
     "text": [
      "21\n"
     ]
    },
    {
     "data": {
      "text/plain": [
       "True"
      ]
     },
     "execution_count": 10,
     "metadata": {},
     "output_type": "execute_result"
    }
   ],
   "source": [
    "edad = input(\"¿Cuàntos años tienes? \")\n",
    "print(edad)\n",
    "\n",
    "edad = int(edad)    # Transformamos string a int\n",
    "edad >= 18"
   ]
  },
  {
   "cell_type": "markdown",
   "metadata": {},
   "source": [
    "En este ejemplo, cuando ingresamos 21 en el prompt, Python interpreta el número como una cadena, pero el valor luego se convierte a una representación numérica por `int()`. Ahora Python puede realizar la prueba condicional: compara edad (que ahora representa el valor numérico 21) y 18 para ver si edad es mayor o igual a 18. Esta prueba se evalúa como Verdadero (True).\n",
    "\n",
    "¿Cómo usas la función **`int()`** en un programa real? Considera un programa que determina si las personas son lo suficientemente altas para subir a una montaña rusa:\n"
   ]
  },
  {
   "cell_type": "code",
   "execution_count": 11,
   "metadata": {},
   "outputs": [
    {
     "name": "stdout",
     "output_type": "stream",
     "text": [
      "\n",
      "¡Eres lo suficientemente alto para subir!\n"
     ]
    }
   ],
   "source": [
    "# rollercoaster.py\n",
    "\n",
    "altura = input(\"¿Què tan alto eres, en pulgadas? \")\n",
    "altura = int(altura)\n",
    "\n",
    "if altura >= 48:    \n",
    "    print(\"\\n¡Eres lo suficientemente alto para subir!\")\n",
    "else:\n",
    "    print(\"\\nPodràs subir cuando seas un poco màs grande.\")"
   ]
  },
  {
   "cell_type": "markdown",
   "metadata": {},
   "source": [
    "El programa puede comparar altura con 48 porque **`altura = int(altura)`** convierte el valor de entrada a una representación numérica antes de que se realice la comparación. Si el número ingresado es mayor o igual a 48, le decimos al usuario que es lo suficientemente alto:\n",
    "\n",
    "```python\n",
    "¿Qué tan alto eres, en pulgadas? 71\n",
    "¡Eres lo suficientemente alto para subir!\n",
    "```\n",
    "\n",
    "Cuando utilices entrada numérica para realizar cálculos y comparaciones, asegúrate de convertir primero el valor de entrada a una representación numérica."
   ]
  }
 ],
 "metadata": {
  "kernelspec": {
   "display_name": "env",
   "language": "python",
   "name": "python3"
  },
  "language_info": {
   "codemirror_mode": {
    "name": "ipython",
    "version": 3
   },
   "file_extension": ".py",
   "mimetype": "text/x-python",
   "name": "python",
   "nbconvert_exporter": "python",
   "pygments_lexer": "ipython3",
   "version": "3.12.3"
  }
 },
 "nbformat": 4,
 "nbformat_minor": 2
}
