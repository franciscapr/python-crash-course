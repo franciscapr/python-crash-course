{
  "cells": [
    {
      "cell_type": "markdown",
      "id": "bb522577-ee1f-424b-b57e-82bdfe9104b6",
      "metadata": {
        "id": "bb522577-ee1f-424b-b57e-82bdfe9104b6"
      },
      "source": [
        "# **CAPÍTULO 2: VARIABLES Y TIPOS DE DATOS SIMPLES**\n",
        "* ¿Qué sucede realmente cuando ejecutas hello_world.py?\n",
        "* Variables\n",
        "* Nombrar y usar variables\n",
        "* Evitar errores de nombre al usar variables\n",
        "* Las variables son etiquetas\n",
        "* Ejercicio 2-1: Mensaje simple\n",
        "* Ejercicio 2-2: Mensajes simples\n",
        "* Cadenas de texto (Strings)\n",
        "* Cambiar mayúsculas y minúsculas en una cadena con métodos\n",
        "* Uso de variables en cadenas\n",
        "* Agregar espacios en blanco a cadenas con tabulaciones o saltos de línea\n",
        "* Eliminar espacios en blanco\n",
        "* Eliminar prefijos\n",
        "* Evitar errores de sintaxis con cadenas\n",
        "* Ejercicio 2-3: Mensaje personal\n",
        "* Ejercicio 2-4: Nombres en mayúsculas y minúsculas\n",
        "* Ejercicio 2-5: Cita famosa\n",
        "* Ejercicio 2-6: Cita famosa 2\n",
        "* Ejercicio 2-7: Eliminar nombres\n",
        "* Ejercicio 2-8: Extensiones de archivo\n",
        "* Números\n",
        "* Números enteros\n",
        "* Números decimales (flotantes)\n",
        "* Números enteros y flotantes\n",
        "* Guiones bajos en números\n",
        "* Asignación múltiple\n",
        "* Constantes\n",
        "* Ejercicio 2-9: Número ocho\n",
        "* Ejercicio 2-10: Número favorito\n",
        "* Comentarios\n",
        "* ¿Cómo se escriben comentarios?\n",
        "* ¿Qué tipos de comentarios debes escribir?\n",
        "* Ejercicio 2-11: Agregar comentarios\n",
        "* El Zen de Python\n",
        "* Ejercicio 2-12: El Zen de Python\n",
        "* Resumen"
      ]
    },
    {
      "cell_type": "markdown",
      "id": "49360d39",
      "metadata": {
        "id": "49360d39"
      },
      "source": [
        "# Variables y tipos de datos simples"
      ]
    },
    {
      "cell_type": "markdown",
      "id": "332e1095-d3cd-4bea-8d25-feabdf27b3dd",
      "metadata": {
        "id": "332e1095-d3cd-4bea-8d25-feabdf27b3dd"
      },
      "source": [
        "En este capítulo conoceremos los diferentes tipos de datos con los que podemos trabajar en nuestros programas Python. Aprenderemos también cómo almacenar datos en variables y cómo utilizar esas variables en nuestros programas."
      ]
    },
    {
      "cell_type": "markdown",
      "id": "b82e59e4",
      "metadata": {
        "id": "b82e59e4"
      },
      "source": [
        "    Lo que realmente sucede cuando ejecutamos hello_world.py\n",
        "\n",
        "    Vamos a observar con más detalle qué hace Python cuando ejecutamos hello_world.py. El hecho es que Python realiza muchas tareas, incluso cuando se ejecuta un programa simple como hello_world.py, que contiene el siguiente código: `print(\"¡Hola mundo en Python!\")`. Al ejecutar este código, deberías ver la siguiente salida: ¡Hola mundo en Python!\n",
        "\n",
        "    Cuando ejecutas hello_world.py, el archivo con la extensión .py indica que es un programa en Python. Tu editor de texto luego pasa el programa al intérprete de Python, el cual lee el programa completo y determina qué significa cada palabra. Por ejemplo, cuando encuentra la palabra print, el intérprete muestra en la pantalla lo que sea que esté dentro de los paréntesis.\n",
        "\n",
        "    A medida que escribas tus programas, el editor resaltará diferentes partes del código de manera distinta. Por ejemplo, reconocerá que print es el nombre de una función y mostrará esa palabra en azul. También reconocerá que \"¡Hola mundo en Python!\" no es código Python y mostrará esa frase en naranja. Este recurso se llama resaltado de sintaxis y resulta muy útil cuando comiences a escribir tus propios programas."
      ]
    },
    {
      "cell_type": "markdown",
      "id": "318efa9c",
      "metadata": {
        "id": "318efa9c"
      },
      "source": [
        "## Variables\n",
        "\n",
        "Vamos a experimentar usando una variable en hello_world.py. Agrega una nueva línea al inicio del archivo y modifica la segunda línea de la siguiente manera:"
      ]
    },
    {
      "cell_type": "code",
      "execution_count": 1,
      "id": "9f1dbe25",
      "metadata": {},
      "outputs": [
        {
          "name": "stdout",
          "output_type": "stream",
          "text": [
            "¡Hola mundo en Python!\n"
          ]
        }
      ],
      "source": [
        "mensaje = \"¡Hola mundo en Python!\"\n",
        "print(mensaje)"
      ]
    },
    {
      "cell_type": "markdown",
      "id": "e8132d6e",
      "metadata": {},
      "source": [
        "Ejecuta este programa para ver qué ocurre. Deberías obtener la misma salida que viste anteriormente: ¡Hola mundo en Python!\n",
        "\n",
        "Hemos agregado una variable llamada mensaje. Cada variable almacena un valor, que es la información asociada a esa variable. En este caso, el valor es el texto \"¡Hola mundo en Python!\".\n",
        "\n",
        "Agregar una variable implica un poco más de trabajo para el intérprete de Python. Cuando procesa la primera línea, asigna el texto \"¡Hola mundo en Python!\" a la variable mensaje. Luego, cuando llega a la segunda línea, el intérprete muestra en la pantalla el valor asociado a la variable mensaje.\n",
        "\n",
        "Ahora, ampliemos este programa modificando hello_world.py para mostrar un segundo mensaje. Agrega una línea en blanco en hello_world.py y luego agrega dos nuevas líneas de código:\n",
        "\n"
      ]
    },
    {
      "cell_type": "code",
      "execution_count": 2,
      "id": "1ef91d04",
      "metadata": {},
      "outputs": [
        {
          "name": "stdout",
          "output_type": "stream",
          "text": [
            "¡Hola mundo en Python!\n",
            "¡Hola mundo Python Crash Course!\n"
          ]
        }
      ],
      "source": [
        "mensaje = \"¡Hola mundo en Python!\"\n",
        "print(mensaje)\n",
        "\n",
        "mensaje = \"¡Hola mundo Python Crash Course!\"\n",
        "print(mensaje)"
      ]
    },
    {
      "cell_type": "markdown",
      "id": "6d324fbe",
      "metadata": {},
      "source": [
        "Al ejecutar hello_world.py ahora, deberías ver dos líneas en la salida:\n",
        "\n",
        "¡Hola mundo en Python!\n",
        "\n",
        "¡Hola mundo en Python Crash Course!\n",
        "\n",
        "Podemos cambiar el valor de una variable en nuestro programa en cualquier momento, y Python siempre mantendrá un seguimiento del valor actual"
      ]
    },
    {
      "cell_type": "markdown",
      "id": "dd4c8d7c",
      "metadata": {
        "id": "dd4c8d7c"
      },
      "source": [
        " ## Al nombrar y usar variables\n",
        "\n",
        "Al usar variables en Python, es necesario seguir algunas reglas y pautas. Romper algunas de estas reglas provocará errores; otras directrices simplemente ayudan a escribir un código más fácil de leer y entender. Recuerda tener en cuenta las siguientes reglas:\n",
        "\n",
        "- Los nombres de las variables pueden contener solo letras, números y guiones bajos (underscores). Pueden comenzar con una letra o un guion bajo, pero no con un número. Por ejemplo, se puede llamar a una variable message_1, pero no a 1_message.\n",
        "- Los espacios no están permitidos en los nombres de las variables, pero se pueden usar guiones bajos para separar palabras en los nombres de las variables. Por ejemplo, greeting_message funciona, pero greeting message causará errores.\n",
        "- Evita usar palabras reservadas y nombres de funciones en Python como nombres de variables. Es decir, no uses palabras que Python haya reservado para un propósito particular de programación, como la palabra print. (Consulta la sección \"Palabras reservadas y funciones integradas de Python\".)\n",
        "- Los nombres de las variables deben ser concisos pero descriptivos. Por ejemplo, name es mejor que n, student_name es mejor que s_n y name_length es mejor que length_of_persons_name.\n",
        "- Ten cuidado al usar la letra minúscula 'l' y la letra mayúscula 'O', ya que pueden confundirse con los números '1' y '0', respectivamente.\n",
        "\n",
        "Aprender a crear buenos nombres de variables, especialmente cuando tus programas se vuelvan más interesantes y complicados, puede requerir un poco de práctica. A medida que escribas más programas y comiences a leer códigos escritos por otras personas, te volverás más hábil en la creación de nombres significativos.\n",
        "\n",
        "### NOTA:\n",
        "Las variables de Python que estás utilizando actualmente deben usar letras minúsculas. No obtendrás errores si usas letras mayúsculas, pero por ahora es una buena idea evitarlas."
      ]
    },
    {
      "cell_type": "markdown",
      "id": "01b1e67d",
      "metadata": {
        "id": "01b1e67d"
      },
      "source": [
        "## Evitando errores al usar variables\n",
        "\n",
        "Todo programador comete errores, y la mayoría comete errores todos los días. Aunque los buenos programadores pueden crear errores, también saben cómo responder a estos errores de manera eficiente. Observemos un error que probablemente cometerás al principio y aprendamos cómo corregirlo.\n",
        "\n",
        "Escribiremos un código que genere un error intencionalmente. Escribe el siguiente código, incluyendo la palabra \"mesage\" con un error ortográfico, tal como se muestra en negrita:"
      ]
    },
    {
      "cell_type": "code",
      "execution_count": 1,
      "id": "f76921ef",
      "metadata": {},
      "outputs": [
        {
          "ename": "NameError",
          "evalue": "name 'mesage' is not defined",
          "output_type": "error",
          "traceback": [
            "\u001b[0;31m---------------------------------------------------------------------------\u001b[0m",
            "\u001b[0;31mNameError\u001b[0m                                 Traceback (most recent call last)",
            "Cell \u001b[0;32mIn[1], line 2\u001b[0m\n\u001b[1;32m      1\u001b[0m mensaje \u001b[38;5;241m=\u001b[39m \u001b[38;5;124m\"\u001b[39m\u001b[38;5;124m¡Hola lector de Python Crash Course!\u001b[39m\u001b[38;5;124m\"\u001b[39m\n\u001b[0;32m----> 2\u001b[0m \u001b[38;5;28mprint\u001b[39m(\u001b[43mmesage\u001b[49m)\n",
            "\u001b[0;31mNameError\u001b[0m: name 'mesage' is not defined"
          ]
        }
      ],
      "source": [
        "mensaje = \"¡Hola lector de Python Crash Course!\"\n",
        "print(mesage)"
      ]
    },
    {
      "attachments": {
        "image.png": {
          "image/png": "[encoded data removed]"
        }
      },
      "cell_type": "markdown",
      "id": "6e276452",
      "metadata": {},
      "source": [
        "Cuando hay un error en tu programa, el intérprete de Python hace lo mejor que puede para ayudarte a descubrir dónde está el problema. El intérprete proporciona un traceback (rastreo) cuando un programa no puede ejecutarse con éxito. Un traceback es un registro del punto en el que el intérprete encontró problemas al intentar ejecutar tu código.\n",
        "\n",
        "Aquí tienes un ejemplo del traceback proporcionado por Python después de que se haya escrito incorrectamente el nombre de la variable por error:\n",
        "\n",
        "![image.png](attachment:image.png)\n",
        "\n",
        "La salida en 'File' te informa que ocurrió un error en la línea 2 del archivo hello_world.py. El intérprete muestra esta línea para ayudarnos a identificar rápidamente el error, y te informa sobre el tipo de error encontrado. En este caso, se encontró un error de nombre (NameError) e indica que la variable mencionada, 'mesage', no está definida. Python no puede reconocer el nombre de la variable especificada. Un error de nombre generalmente significa que olvidamos definir el valor de una variable antes de usarla o cometimos un error tipográfico al proporcionar el nombre de la variable.\n",
        "\n",
        "Claro que, en este ejemplo, omitimos la letra 's' del nombre de la variable 'mensaje' en la segunda línea. El intérprete de Python no realiza una verificación ortográfica en tu código, pero garantiza que los nombres de las variables estén escritos de manera consistente.\n",
        "\n",
        "Por ejemplo, observa lo que sucede cuando escribimos incorrectamente 'mesage' en otro punto del código:"
      ]
    },
    {
      "cell_type": "code",
      "execution_count": 2,
      "id": "339c8088",
      "metadata": {},
      "outputs": [
        {
          "name": "stdout",
          "output_type": "stream",
          "text": [
            "¡Hola lector de Python Crash Course!\n"
          ]
        }
      ],
      "source": [
        "mesage = \"¡Hola lector de Python Crash Course!\"\n",
        "print(mesage)"
      ]
    },
    {
      "cell_type": "markdown",
      "id": "ca03a63c",
      "metadata": {},
      "source": [
        "En este caso, ¡el programa se ejecuta correctamente!\n",
        "\n",
        "        ¡Hola lector de Python Crash Course!\n",
        "\n",
        "Las computadoras son exigentes, pero no les importa la ortografía correcta o incorrecta. Como resultado, no es necesario tener en cuenta la ortografía o las reglas gramaticales del inglés (o del castellano) al intentar crear nombres de variables y escribir código.\n",
        "\n",
        "Muchos errores de programación son simplemente errores tipográficos en una línea de un programa. Si pasas mucho tiempo buscando uno de estos errores, ten en cuenta que estás en buena compañía. Muchos programadores experimentados y talentosos pasan horas cazando este tipo de pequeños errores. Intenta reírte de la situación y sigue adelante, sabiendo que esto ocurrirá con frecuencia durante tu vida como programador.\n",
        "\n",
        "### NOTA: \n",
        "\n",
        "La mejor manera de entender nuevos conceptos de programación es intentar usarlos en tus programas. Si no sabes qué hacer cuando estás trabajando en un ejercicio de este libro, trata de dedicarte a otra tarea por un tiempo. Si aún no puedes avanzar, revisa la parte relevante del capítulo. Si todavía necesitas ayuda, consulta las sugerencias en el Apéndice C."
      ]
    },
    {
      "cell_type": "markdown",
      "id": "6970b095",
      "metadata": {
        "id": "6970b095"
      },
      "source": [
        "## HAZLO TU MISMO\n",
        "\n",
        "Escribe un programa separado para resolver cada uno de estos ejercicios. Guarda cada programa con un nombre de archivo que siga las convenciones estándar de Python, utilizando letras minúsculas y guiones bajos, por ejemplo, simple_message.py y simple_messages.py.\n",
        "\n",
        "**2.1 – Mensaje simple:** Almacena un mensaje en una variable y luego muestra ese mensaje.\n",
        "\n",
        "**2.2 – Mensajes simples:** Almacena un mensaje en una variable y luego muestra ese mensaje. Después, cambia el valor de tu variable a un nuevo mensaje y muestra ese nuevo mensaje."
      ]
    },
    {
      "cell_type": "code",
      "execution_count": 3,
      "id": "57a63b2f",
      "metadata": {
        "id": "57a63b2f"
      },
      "outputs": [],
      "source": [
        "# Ejercicio 1\n",
        "\n",
        "simple_message = ('Este es solo una simple mensaje de prueba')"
      ]
    },
    {
      "cell_type": "code",
      "execution_count": 4,
      "id": "51dc4362",
      "metadata": {
        "id": "51dc4362",
        "outputId": "c7ad83e0-3ce1-4621-9276-c1d1b6b44e0e"
      },
      "outputs": [
        {
          "name": "stdout",
          "output_type": "stream",
          "text": [
            "Este es solo una simple mensaje de prueba\n"
          ]
        }
      ],
      "source": [
        "print(simple_message)"
      ]
    },
    {
      "cell_type": "code",
      "execution_count": 5,
      "id": "c4fe992d",
      "metadata": {
        "id": "c4fe992d",
        "outputId": "4bacb80a-e122-406d-ffcf-ea41d753f719"
      },
      "outputs": [
        {
          "name": "stdout",
          "output_type": "stream",
          "text": [
            "Este es uno de ambos mensajes simples\n",
            "Este es el segundo de ambos mensajes simples\n"
          ]
        }
      ],
      "source": [
        "#Ejercicio 2 Distintas variables\n",
        "\n",
        "simples_messages = ('Este es uno de ambos mensajes simples')\n",
        "print(simples_messages)\n",
        "\n",
        "simples_messages = ('Este es el segundo de ambos mensajes simples')\n",
        "print(simples_messages)"
      ]
    },
    {
      "cell_type": "code",
      "execution_count": 6,
      "id": "89645a79",
      "metadata": {
        "id": "89645a79",
        "outputId": "f8fdd32f-fd59-4194-a91d-e64c33a4894d"
      },
      "outputs": [
        {
          "name": "stdout",
          "output_type": "stream",
          "text": [
            "Este es un mensaje simple\n",
            "Este es un nuevo mensaje\n"
          ]
        }
      ],
      "source": [
        "#Otra manera de realizar el ejercicio dos, la misma variable con distinto valor\n",
        "# simple_messages.py\n",
        "mensage = \"Este es un mensaje simple\"\n",
        "print(mensage)\n",
        "\n",
        "mensage = \"Este es un nuevo mensaje\"\n",
        "print(mensage)"
      ]
    },
    {
      "cell_type": "markdown",
      "id": "b6f46137",
      "metadata": {},
      "source": [
        "## Cadenas de texto (Strings)\n",
        "\n",
        "Dado que la mayoría de los programas definen y manipulan algún tipo de dato para realizar acciones útiles, clasificar los diferentes tipos de datos resulta conveniente. El primer tipo de dato que veremos es la cadena de texto, conocida comúnmente como string. A primera vista, las strings son bastante simples, pero pueden ser utilizadas de diversas maneras.\n",
        "\n",
        "Una cadena de texto (string) simplemente es una serie de caracteres. Todo lo que esté entre comillas es considerado una cadena de texto en Python, y puedes usar comillas simples o dobles alrededor de tus strings, así: \"Esta es una cadena de texto.\" 'Esta también es una cadena de texto.'\n",
        "\n",
        "Esta flexibilidad te permite utilizar comillas y apóstrofos en tus strings: 'Le dije a mi amigo, \"¡Python es mi lenguaje favorito!\"' \"El lenguaje 'Python' lleva el nombre de Monty Python, no de la serpiente.\" \"Una de las fortalezas de Python es su comunidad diversa y solidaria.\"\n",
        "\n",
        "Vamos a explorar algunas de las maneras de utilizar strings."
      ]
    },
    {
      "cell_type": "code",
      "execution_count": 7,
      "id": "a8645be7",
      "metadata": {},
      "outputs": [
        {
          "name": "stdout",
          "output_type": "stream",
          "text": [
            "Ada Lovelace\n"
          ]
        }
      ],
      "source": [
        "# name.py\n",
        "name = \"ada lovelace\"\n",
        "print(name.title())"
      ]
    },
    {
      "cell_type": "markdown",
      "id": "c3a6a542",
      "metadata": {},
      "source": [
        "En este ejemplo, la variable 'name' se refiere a la cadena en minúsculas \"ada lovelace\". El método 'title()' aparece después de la variable en la llamada a 'print()'. **Un método es una acción que Python puede realizar en un conjunto de datos**. El punto (.) después de 'name' en 'name.title()' indica a Python que el método 'title()' debe actuar sobre la variable 'name'. Cada método va seguido de un conjunto de paréntesis, ya que los métodos a menudo necesitan información adicional para realizar su tarea. Esa información se proporciona dentro de los paréntesis. La función 'title()' no necesita información adicional, por lo que sus paréntesis están vacíos.\n",
        "\n",
        "El método **'title()'** *cambia cada palabra a mayúscula inicial*. Esto es útil porque a menudo querrás considerar un nombre como una pieza de información. Por ejemplo, es posible que desees que tu programa reconozca los valores de entrada Ada, ADA y ada como el mismo nombre y los muestre todos como Ada.\n",
        "\n",
        "Varios otros métodos útiles están disponibles para manejar el formato de mayúsculas y minúsculas. Por ejemplo, puedes cambiar una cadena para que todas las letras estén en mayúsculas o en minúsculas de esta manera:"
      ]
    },
    {
      "cell_type": "code",
      "execution_count": 8,
      "id": "6e0bf069",
      "metadata": {},
      "outputs": [
        {
          "name": "stdout",
          "output_type": "stream",
          "text": [
            "ADA LOVELACE\n",
            "ada lovelace\n"
          ]
        }
      ],
      "source": [
        "nombre = \"Ada Lovelace\"\n",
        "\n",
        "print(nombre.upper())    # Todo en Mayuscula\n",
        "print(nombre.lower())    # Todo en Minuscula"
      ]
    },
    {
      "cell_type": "markdown",
      "id": "65cc9dad",
      "metadata": {},
      "source": [
        "El método **'lower()'** *es particularmente útil para almacenar datos*. Normalmente, no confiarás en la capitalización que proporcionan tus usuarios, por lo que convertirás las cadenas a minúsculas antes de almacenarlas. Luego, cuando desees mostrar la información, utilizarás el formato de letra que tenga más sentido para cada cadena."
      ]
    },
    {
      "cell_type": "markdown",
      "id": "dd551ca6",
      "metadata": {},
      "source": [
        "## Utilizando variables en cadenas de texto\n",
        "\n",
        "En algunas situaciones, querrás utilizar el valor de una variable dentro de una cadena de texto. Por ejemplo, es posible que desees usar dos variables para representar un nombre y un apellido, respectivamente, y luego combinar esos valores para mostrar el nombre completo de alguien:"
      ]
    },
    {
      "cell_type": "code",
      "execution_count": 9,
      "id": "31b54114",
      "metadata": {},
      "outputs": [
        {
          "name": "stdout",
          "output_type": "stream",
          "text": [
            "ada lovelace\n"
          ]
        }
      ],
      "source": [
        "# full_name.py\n",
        "\n",
        "primer_nombre = \"ada\"\n",
        "apellido = \"lovelace\"\n",
        "\n",
        "nombre_completo = f\"{primer_nombre} {apellido}\"\n",
        "\n",
        "print(nombre_completo)"
      ]
    },
    {
      "cell_type": "markdown",
      "id": "6a235425",
      "metadata": {},
      "source": [
        "Para insertar el valor de una variable en una cadena de texto, coloca la letra **f** inmediatamente antes de la comilla de apertura. Pon llaves alrededor del nombre o nombres de cualquier variable que desees usar dentro de la cadena de texto. Python reemplazará cada variable con su valor cuando se muestre la cadena de texto.\n",
        "\n",
        "Estas cadenas de texto se llaman **f-strings**. La **f** es de *formato*, porque Python formatea la cadena de texto reemplazando el nombre de cualquier variable entre llaves con su valor. La salida del código anterior es:\n",
        "\n",
        "    ada lovelace\n",
        "\n",
        "Puedes hacer mucho con las f-strings. Por ejemplo, puedes usar las f-strings para componer mensajes completos utilizando la información asociada con una variable, como se muestra aquí:"
      ]
    },
    {
      "cell_type": "code",
      "execution_count": 10,
      "id": "ea57e32d",
      "metadata": {},
      "outputs": [
        {
          "name": "stdout",
          "output_type": "stream",
          "text": [
            "¡Hola, Ada Lovelace!\n"
          ]
        }
      ],
      "source": [
        "primer_nombre = \"ada\"\n",
        "apellido = \"lovelace\"\n",
        "nombre_completo = f\"{primer_nombre} {apellido}\"\n",
        "\n",
        "print(f\"¡Hola, {nombre_completo.title()}!\")"
      ]
    },
    {
      "cell_type": "markdown",
      "id": "4a8a9173",
      "metadata": {},
      "source": [
        "El nombre completo se utiliza en una oración que saluda al usuario, y el método **title()** cambia el nombre a mayúsculas iniciales. Este código devuelve un saludo simple pero bien formateado:\n",
        "\n",
        "    ¡Hola, Ada Lovelace!\n",
        "\n",
        "También puedes usar f-strings para componer un mensaje y luego asignar el mensaje completo a una variable:"
      ]
    },
    {
      "cell_type": "code",
      "execution_count": 11,
      "id": "50229bee",
      "metadata": {},
      "outputs": [
        {
          "name": "stdout",
          "output_type": "stream",
          "text": [
            "¡Hola, Ada Lovelace!\n"
          ]
        }
      ],
      "source": [
        "primer_nombre = \"ada\"\n",
        "apellido = \"lovelace\"\n",
        "nombre_completo = f\"{primer_nombre} {apellido}\"\n",
        "\n",
        "mensaje = f\"¡Hola, {nombre_completo.title()}!\"\n",
        "print(mensaje)"
      ]
    },
    {
      "cell_type": "markdown",
      "id": "c0c9204d",
      "metadata": {},
      "source": [
        "Este código también muestra el mensaje ¡Hola, Ada Lovelace!, pero al asignar el mensaje a una variable, hacemos que la llamada final a **print()** sea mucho más simple."
      ]
    }
  ],
  "metadata": {
    "colab": {
      "provenance": []
    },
    "kernelspec": {
      "display_name": "env",
      "language": "python",
      "name": "python3"
    },
    "language_info": {
      "codemirror_mode": {
        "name": "ipython",
        "version": 3
      },
      "file_extension": ".py",
      "mimetype": "text/x-python",
      "name": "python",
      "nbconvert_exporter": "python",
      "pygments_lexer": "ipython3",
      "version": "3.12.3"
    }
  },
  "nbformat": 4,
  "nbformat_minor": 5
}
