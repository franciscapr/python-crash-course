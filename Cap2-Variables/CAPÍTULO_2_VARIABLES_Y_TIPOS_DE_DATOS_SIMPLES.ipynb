{
  "cells": [
    {
      "cell_type": "markdown",
      "id": "bb522577-ee1f-424b-b57e-82bdfe9104b6",
      "metadata": {
        "id": "bb522577-ee1f-424b-b57e-82bdfe9104b6"
      },
      "source": [
        "# **CAPÍTULO 2: VARIABLES Y TIPOS DE DATOS SIMPLES**\n",
        "* ¿Qué sucede realmente cuando ejecutas hello_world.py?\n",
        "* Variables\n",
        "* Nombrar y usar variables\n",
        "* Evitar errores de nombre al usar variables\n",
        "* Las variables son etiquetas\n",
        "* Ejercicio 2-1: Mensaje simple\n",
        "* Ejercicio 2-2: Mensajes simples\n",
        "* Cadenas de texto (Strings)\n",
        "* Cambiar mayúsculas y minúsculas en una cadena con métodos\n",
        "* Uso de variables en cadenas\n",
        "* Agregar espacios en blanco a cadenas con tabulaciones o saltos de línea\n",
        "* Eliminar espacios en blanco\n",
        "* Eliminar prefijos\n",
        "* Evitar errores de sintaxis con cadenas\n",
        "* Ejercicio 2-3: Mensaje personal\n",
        "* Ejercicio 2-4: Nombres en mayúsculas y minúsculas\n",
        "* Ejercicio 2-5: Cita famosa\n",
        "* Ejercicio 2-6: Cita famosa 2\n",
        "* Ejercicio 2-7: Eliminar nombres\n",
        "* Ejercicio 2-8: Extensiones de archivo\n",
        "* Números\n",
        "* Números enteros\n",
        "* Números decimales (flotantes)\n",
        "* Números enteros y flotantes\n",
        "* Guiones bajos en números\n",
        "* Asignación múltiple\n",
        "* Constantes\n",
        "* Ejercicio 2-9: Número ocho\n",
        "* Ejercicio 2-10: Número favorito\n",
        "* Comentarios\n",
        "* ¿Cómo se escriben comentarios?\n",
        "* ¿Qué tipos de comentarios debes escribir?\n",
        "* Ejercicio 2-11: Agregar comentarios\n",
        "* El Zen de Python\n",
        "* Ejercicio 2-12: El Zen de Python\n",
        "* Resumen"
      ]
    },
    {
      "cell_type": "markdown",
      "id": "49360d39",
      "metadata": {
        "id": "49360d39"
      },
      "source": [
        "# Variables y tipos de datos simples"
      ]
    },
    {
      "cell_type": "markdown",
      "id": "332e1095-d3cd-4bea-8d25-feabdf27b3dd",
      "metadata": {
        "id": "332e1095-d3cd-4bea-8d25-feabdf27b3dd"
      },
      "source": [
        "En este capítulo conoceremos los diferentes tipos de datos con los que podemos trabajar en nuestros programas Python. Aprenderemos también cómo almacenar datos en variables y cómo utilizar esas variables en nuestros programas."
      ]
    },
    {
      "cell_type": "markdown",
      "id": "b82e59e4",
      "metadata": {
        "id": "b82e59e4"
      },
      "source": [
        "    Lo que realmente sucede cuando ejecutamos hello_world.py\n",
        "\n",
        "    Vamos a observar con más detalle qué hace Python cuando ejecutamos hello_world.py. El hecho es que Python realiza muchas tareas, incluso cuando se ejecuta un programa simple como hello_world.py, que contiene el siguiente código: `print(\"¡Hola mundo en Python!\")`. Al ejecutar este código, deberías ver la siguiente salida: ¡Hola mundo en Python!\n",
        "\n",
        "    Cuando ejecutas hello_world.py, el archivo con la extensión .py indica que es un programa en Python. Tu editor de texto luego pasa el programa al intérprete de Python, el cual lee el programa completo y determina qué significa cada palabra. Por ejemplo, cuando encuentra la palabra print, el intérprete muestra en la pantalla lo que sea que esté dentro de los paréntesis.\n",
        "\n",
        "    A medida que escribas tus programas, el editor resaltará diferentes partes del código de manera distinta. Por ejemplo, reconocerá que print es el nombre de una función y mostrará esa palabra en azul. También reconocerá que \"¡Hola mundo en Python!\" no es código Python y mostrará esa frase en naranja. Este recurso se llama resaltado de sintaxis y resulta muy útil cuando comiences a escribir tus propios programas."
      ]
    },
    {
      "cell_type": "markdown",
      "id": "318efa9c",
      "metadata": {
        "id": "318efa9c"
      },
      "source": [
        "## Variables\n",
        "\n",
        "Vamos a experimentar usando una variable en hello_world.py. Agrega una nueva línea al inicio del archivo y modifica la segunda línea de la siguiente manera:"
      ]
    },
    {
      "cell_type": "code",
      "execution_count": 1,
      "id": "9f1dbe25",
      "metadata": {},
      "outputs": [
        {
          "name": "stdout",
          "output_type": "stream",
          "text": [
            "¡Hola mundo en Python!\n"
          ]
        }
      ],
      "source": [
        "mensaje = \"¡Hola mundo en Python!\"\n",
        "print(mensaje)"
      ]
    },
    {
      "cell_type": "markdown",
      "id": "e8132d6e",
      "metadata": {},
      "source": [
        "Ejecuta este programa para ver qué ocurre. Deberías obtener la misma salida que viste anteriormente: ¡Hola mundo en Python!\n",
        "\n",
        "Hemos agregado una variable llamada mensaje. Cada variable almacena un valor, que es la información asociada a esa variable. En este caso, el valor es el texto \"¡Hola mundo en Python!\".\n",
        "\n",
        "Agregar una variable implica un poco más de trabajo para el intérprete de Python. Cuando procesa la primera línea, asigna el texto \"¡Hola mundo en Python!\" a la variable mensaje. Luego, cuando llega a la segunda línea, el intérprete muestra en la pantalla el valor asociado a la variable mensaje.\n",
        "\n",
        "Ahora, ampliemos este programa modificando hello_world.py para mostrar un segundo mensaje. Agrega una línea en blanco en hello_world.py y luego agrega dos nuevas líneas de código:\n",
        "\n"
      ]
    },
    {
      "cell_type": "code",
      "execution_count": 2,
      "id": "1ef91d04",
      "metadata": {},
      "outputs": [
        {
          "name": "stdout",
          "output_type": "stream",
          "text": [
            "¡Hola mundo en Python!\n",
            "¡Hola mundo Python Crash Course!\n"
          ]
        }
      ],
      "source": [
        "mensaje = \"¡Hola mundo en Python!\"\n",
        "print(mensaje)\n",
        "\n",
        "mensaje = \"¡Hola mundo Python Crash Course!\"\n",
        "print(mensaje)"
      ]
    },
    {
      "cell_type": "markdown",
      "id": "6d324fbe",
      "metadata": {},
      "source": [
        "Al ejecutar hello_world.py ahora, deberías ver dos líneas en la salida:\n",
        "\n",
        "¡Hola mundo en Python!\n",
        "\n",
        "¡Hola mundo en Python Crash Course!\n",
        "\n",
        "Podemos cambiar el valor de una variable en nuestro programa en cualquier momento, y Python siempre mantendrá un seguimiento del valor actual"
      ]
    },
    {
      "cell_type": "markdown",
      "id": "dd4c8d7c",
      "metadata": {
        "id": "dd4c8d7c"
      },
      "source": [
        " ## Al nombrar y usar variables\n",
        "\n",
        "Al usar variables en Python, es necesario seguir algunas reglas y pautas. Romper algunas de estas reglas provocará errores; otras directrices simplemente ayudan a escribir un código más fácil de leer y entender. Recuerda tener en cuenta las siguientes reglas:\n",
        "\n",
        "- Los nombres de las variables pueden contener solo letras, números y guiones bajos (underscores). Pueden comenzar con una letra o un guion bajo, pero no con un número. Por ejemplo, se puede llamar a una variable message_1, pero no a 1_message.\n",
        "- Los espacios no están permitidos en los nombres de las variables, pero se pueden usar guiones bajos para separar palabras en los nombres de las variables. Por ejemplo, greeting_message funciona, pero greeting message causará errores.\n",
        "- Evita usar palabras reservadas y nombres de funciones en Python como nombres de variables. Es decir, no uses palabras que Python haya reservado para un propósito particular de programación, como la palabra print. (Consulta la sección \"Palabras reservadas y funciones integradas de Python\".)\n",
        "- Los nombres de las variables deben ser concisos pero descriptivos. Por ejemplo, name es mejor que n, student_name es mejor que s_n y name_length es mejor que length_of_persons_name.\n",
        "- Ten cuidado al usar la letra minúscula 'l' y la letra mayúscula 'O', ya que pueden confundirse con los números '1' y '0', respectivamente.\n",
        "\n",
        "Aprender a crear buenos nombres de variables, especialmente cuando tus programas se vuelvan más interesantes y complicados, puede requerir un poco de práctica. A medida que escribas más programas y comiences a leer códigos escritos por otras personas, te volverás más hábil en la creación de nombres significativos.\n",
        "\n",
        "### NOTA:\n",
        "Las variables de Python que estás utilizando actualmente deben usar letras minúsculas. No obtendrás errores si usas letras mayúsculas, pero por ahora es una buena idea evitarlas."
      ]
    },
    {
      "cell_type": "markdown",
      "id": "01b1e67d",
      "metadata": {
        "id": "01b1e67d"
      },
      "source": [
        "## Evitando errores al usar variables\n",
        "\n",
        "Todo programador comete errores, y la mayoría comete errores todos los días. Aunque los buenos programadores pueden crear errores, también saben cómo responder a estos errores de manera eficiente. Observemos un error que probablemente cometerás al principio y aprendamos cómo corregirlo.\n",
        "\n",
        "Escribiremos un código que genere un error intencionalmente. Escribe el siguiente código, incluyendo la palabra \"mesage\" con un error ortográfico, tal como se muestra en negrita:"
      ]
    },
    {
      "cell_type": "code",
      "execution_count": 1,
      "id": "f76921ef",
      "metadata": {},
      "outputs": [
        {
          "ename": "NameError",
          "evalue": "name 'mesage' is not defined",
          "output_type": "error",
          "traceback": [
            "\u001b[0;31m---------------------------------------------------------------------------\u001b[0m",
            "\u001b[0;31mNameError\u001b[0m                                 Traceback (most recent call last)",
            "Cell \u001b[0;32mIn[1], line 2\u001b[0m\n\u001b[1;32m      1\u001b[0m mensaje \u001b[38;5;241m=\u001b[39m \u001b[38;5;124m\"\u001b[39m\u001b[38;5;124m¡Hola lector de Python Crash Course!\u001b[39m\u001b[38;5;124m\"\u001b[39m\n\u001b[0;32m----> 2\u001b[0m \u001b[38;5;28mprint\u001b[39m(\u001b[43mmesage\u001b[49m)\n",
            "\u001b[0;31mNameError\u001b[0m: name 'mesage' is not defined"
          ]
        }
      ],
      "source": [
        "mensaje = \"¡Hola lector de Python Crash Course!\"\n",
        "print(mesage)"
      ]
    },
    {
      "attachments": {
        "image.png": {
          "image/png": "[encoded data removed]"
        }
      },
      "cell_type": "markdown",
      "id": "6e276452",
      "metadata": {},
      "source": [
        "Cuando hay un error en tu programa, el intérprete de Python hace lo mejor que puede para ayudarte a descubrir dónde está el problema. El intérprete proporciona un traceback (rastreo) cuando un programa no puede ejecutarse con éxito. Un traceback es un registro del punto en el que el intérprete encontró problemas al intentar ejecutar tu código.\n",
        "\n",
        "Aquí tienes un ejemplo del traceback proporcionado por Python después de que se haya escrito incorrectamente el nombre de la variable por error:\n",
        "\n",
        "![image.png](attachment:image.png)\n",
        "\n",
        "La salida en 'File' te informa que ocurrió un error en la línea 2 del archivo hello_world.py. El intérprete muestra esta línea para ayudarnos a identificar rápidamente el error, y te informa sobre el tipo de error encontrado. En este caso, se encontró un error de nombre (NameError) e indica que la variable mencionada, 'mesage', no está definida. Python no puede reconocer el nombre de la variable especificada. Un error de nombre generalmente significa que olvidamos definir el valor de una variable antes de usarla o cometimos un error tipográfico al proporcionar el nombre de la variable.\n",
        "\n",
        "Claro que, en este ejemplo, omitimos la letra 's' del nombre de la variable 'mensaje' en la segunda línea. El intérprete de Python no realiza una verificación ortográfica en tu código, pero garantiza que los nombres de las variables estén escritos de manera consistente.\n",
        "\n",
        "Por ejemplo, observa lo que sucede cuando escribimos incorrectamente 'mesage' en otro punto del código:"
      ]
    },
    {
      "cell_type": "code",
      "execution_count": 2,
      "id": "339c8088",
      "metadata": {},
      "outputs": [
        {
          "name": "stdout",
          "output_type": "stream",
          "text": [
            "¡Hola lector de Python Crash Course!\n"
          ]
        }
      ],
      "source": [
        "mesage = \"¡Hola lector de Python Crash Course!\"\n",
        "print(mesage)"
      ]
    },
    {
      "cell_type": "markdown",
      "id": "ca03a63c",
      "metadata": {},
      "source": [
        "En este caso, ¡el programa se ejecuta correctamente!\n",
        "\n",
        "        ¡Hola lector de Python Crash Course!\n",
        "\n",
        "Las computadoras son exigentes, pero no les importa la ortografía correcta o incorrecta. Como resultado, no es necesario tener en cuenta la ortografía o las reglas gramaticales del inglés (o del castellano) al intentar crear nombres de variables y escribir código.\n",
        "\n",
        "Muchos errores de programación son simplemente errores tipográficos en una línea de un programa. Si pasas mucho tiempo buscando uno de estos errores, ten en cuenta que estás en buena compañía. Muchos programadores experimentados y talentosos pasan horas cazando este tipo de pequeños errores. Intenta reírte de la situación y sigue adelante, sabiendo que esto ocurrirá con frecuencia durante tu vida como programador.\n",
        "\n",
        "### NOTA: \n",
        "\n",
        "La mejor manera de entender nuevos conceptos de programación es intentar usarlos en tus programas. Si no sabes qué hacer cuando estás trabajando en un ejercicio de este libro, trata de dedicarte a otra tarea por un tiempo. Si aún no puedes avanzar, revisa la parte relevante del capítulo. Si todavía necesitas ayuda, consulta las sugerencias en el Apéndice C."
      ]
    },
    {
      "cell_type": "markdown",
      "id": "6970b095",
      "metadata": {
        "id": "6970b095"
      },
      "source": [
        "## HAZLO TU MISMO\n",
        "\n",
        "Escribe un programa separado para resolver cada uno de estos ejercicios. Guarda cada programa con un nombre de archivo que siga las convenciones estándar de Python, utilizando letras minúsculas y guiones bajos, por ejemplo, simple_message.py y simple_messages.py.\n",
        "\n",
        "**2.1 – Mensaje simple:** Almacena un mensaje en una variable y luego muestra ese mensaje.\n",
        "\n",
        "**2.2 – Mensajes simples:** Almacena un mensaje en una variable y luego muestra ese mensaje. Después, cambia el valor de tu variable a un nuevo mensaje y muestra ese nuevo mensaje."
      ]
    },
    {
      "cell_type": "code",
      "execution_count": 3,
      "id": "57a63b2f",
      "metadata": {
        "id": "57a63b2f"
      },
      "outputs": [],
      "source": [
        "# Ejercicio 1\n",
        "\n",
        "simple_message = ('Este es solo una simple mensaje de prueba')"
      ]
    },
    {
      "cell_type": "code",
      "execution_count": 4,
      "id": "51dc4362",
      "metadata": {
        "id": "51dc4362",
        "outputId": "c7ad83e0-3ce1-4621-9276-c1d1b6b44e0e"
      },
      "outputs": [
        {
          "name": "stdout",
          "output_type": "stream",
          "text": [
            "Este es solo una simple mensaje de prueba\n"
          ]
        }
      ],
      "source": [
        "print(simple_message)"
      ]
    },
    {
      "cell_type": "code",
      "execution_count": 5,
      "id": "c4fe992d",
      "metadata": {
        "id": "c4fe992d",
        "outputId": "4bacb80a-e122-406d-ffcf-ea41d753f719"
      },
      "outputs": [
        {
          "name": "stdout",
          "output_type": "stream",
          "text": [
            "Este es uno de ambos mensajes simples\n",
            "Este es el segundo de ambos mensajes simples\n"
          ]
        }
      ],
      "source": [
        "#Ejercicio 2 Distintas variables\n",
        "\n",
        "simples_messages = ('Este es uno de ambos mensajes simples')\n",
        "print(simples_messages)\n",
        "\n",
        "simples_messages = ('Este es el segundo de ambos mensajes simples')\n",
        "print(simples_messages)"
      ]
    },
    {
      "cell_type": "code",
      "execution_count": 6,
      "id": "89645a79",
      "metadata": {
        "id": "89645a79",
        "outputId": "f8fdd32f-fd59-4194-a91d-e64c33a4894d"
      },
      "outputs": [
        {
          "name": "stdout",
          "output_type": "stream",
          "text": [
            "Este es un mensaje simple\n",
            "Este es un nuevo mensaje\n"
          ]
        }
      ],
      "source": [
        "#Otra manera de realizar el ejercicio dos, la misma variable con distinto valor\n",
        "# simple_messages.py\n",
        "mensage = \"Este es un mensaje simple\"\n",
        "print(mensage)\n",
        "\n",
        "mensage = \"Este es un nuevo mensaje\"\n",
        "print(mensage)"
      ]
    },
    {
      "cell_type": "markdown",
      "id": "b6f46137",
      "metadata": {},
      "source": [
        "## Cadenas de texto (Strings)\n",
        "\n",
        "Dado que la mayoría de los programas definen y manipulan algún tipo de dato para realizar acciones útiles, clasificar los diferentes tipos de datos resulta conveniente. El primer tipo de dato que veremos es la cadena de texto, conocida comúnmente como string. A primera vista, las strings son bastante simples, pero pueden ser utilizadas de diversas maneras.\n",
        "\n",
        "Una cadena de texto (string) simplemente es una serie de caracteres. Todo lo que esté entre comillas es considerado una cadena de texto en Python, y puedes usar comillas simples o dobles alrededor de tus strings, así: \"Esta es una cadena de texto.\" 'Esta también es una cadena de texto.'\n",
        "\n",
        "Esta flexibilidad te permite utilizar comillas y apóstrofos en tus strings: 'Le dije a mi amigo, \"¡Python es mi lenguaje favorito!\"' \"El lenguaje 'Python' lleva el nombre de Monty Python, no de la serpiente.\" \"Una de las fortalezas de Python es su comunidad diversa y solidaria.\"\n",
        "\n",
        "Vamos a explorar algunas de las maneras de utilizar strings."
      ]
    },
    {
      "cell_type": "code",
      "execution_count": 7,
      "id": "a8645be7",
      "metadata": {},
      "outputs": [
        {
          "name": "stdout",
          "output_type": "stream",
          "text": [
            "Ada Lovelace\n"
          ]
        }
      ],
      "source": [
        "# name.py\n",
        "name = \"ada lovelace\"\n",
        "print(name.title())"
      ]
    },
    {
      "cell_type": "markdown",
      "id": "c3a6a542",
      "metadata": {},
      "source": [
        "En este ejemplo, la variable 'name' se refiere a la cadena en minúsculas \"ada lovelace\". El método 'title()' aparece después de la variable en la llamada a 'print()'. **Un método es una acción que Python puede realizar en un conjunto de datos**. El punto (.) después de 'name' en 'name.title()' indica a Python que el método 'title()' debe actuar sobre la variable 'name'. Cada método va seguido de un conjunto de paréntesis, ya que los métodos a menudo necesitan información adicional para realizar su tarea. Esa información se proporciona dentro de los paréntesis. La función 'title()' no necesita información adicional, por lo que sus paréntesis están vacíos.\n",
        "\n",
        "El método **'title()'** *cambia cada palabra a mayúscula inicial*. Esto es útil porque a menudo querrás considerar un nombre como una pieza de información. Por ejemplo, es posible que desees que tu programa reconozca los valores de entrada Ada, ADA y ada como el mismo nombre y los muestre todos como Ada.\n",
        "\n",
        "Varios otros métodos útiles están disponibles para manejar el formato de mayúsculas y minúsculas. Por ejemplo, puedes cambiar una cadena para que todas las letras estén en mayúsculas o en minúsculas de esta manera:"
      ]
    },
    {
      "cell_type": "code",
      "execution_count": 8,
      "id": "6e0bf069",
      "metadata": {},
      "outputs": [
        {
          "name": "stdout",
          "output_type": "stream",
          "text": [
            "ADA LOVELACE\n",
            "ada lovelace\n"
          ]
        }
      ],
      "source": [
        "nombre = \"Ada Lovelace\"\n",
        "\n",
        "print(nombre.upper())    # Todo en Mayuscula\n",
        "print(nombre.lower())    # Todo en Minuscula"
      ]
    },
    {
      "cell_type": "markdown",
      "id": "65cc9dad",
      "metadata": {},
      "source": [
        "El método **'lower()'** *es particularmente útil para almacenar datos*. Normalmente, no confiarás en la capitalización que proporcionan tus usuarios, por lo que convertirás las cadenas a minúsculas antes de almacenarlas. Luego, cuando desees mostrar la información, utilizarás el formato de letra que tenga más sentido para cada cadena."
      ]
    },
    {
      "cell_type": "markdown",
      "id": "dd551ca6",
      "metadata": {},
      "source": [
        "## Utilizando variables en cadenas de texto\n",
        "\n",
        "En algunas situaciones, querrás utilizar el valor de una variable dentro de una cadena de texto. Por ejemplo, es posible que desees usar dos variables para representar un nombre y un apellido, respectivamente, y luego combinar esos valores para mostrar el nombre completo de alguien:"
      ]
    },
    {
      "cell_type": "code",
      "execution_count": 9,
      "id": "31b54114",
      "metadata": {},
      "outputs": [
        {
          "name": "stdout",
          "output_type": "stream",
          "text": [
            "ada lovelace\n"
          ]
        }
      ],
      "source": [
        "# full_name.py\n",
        "\n",
        "primer_nombre = \"ada\"\n",
        "apellido = \"lovelace\"\n",
        "\n",
        "nombre_completo = f\"{primer_nombre} {apellido}\"\n",
        "\n",
        "print(nombre_completo)"
      ]
    },
    {
      "cell_type": "markdown",
      "id": "6a235425",
      "metadata": {},
      "source": [
        "Para insertar el valor de una variable en una cadena de texto, coloca la letra **f** inmediatamente antes de la comilla de apertura. Pon llaves alrededor del nombre o nombres de cualquier variable que desees usar dentro de la cadena de texto. Python reemplazará cada variable con su valor cuando se muestre la cadena de texto.\n",
        "\n",
        "Estas cadenas de texto se llaman **f-strings**. La **f** es de *formato*, porque Python formatea la cadena de texto reemplazando el nombre de cualquier variable entre llaves con su valor. La salida del código anterior es:\n",
        "\n",
        "    ada lovelace\n",
        "\n",
        "Puedes hacer mucho con las f-strings. Por ejemplo, puedes usar las f-strings para componer mensajes completos utilizando la información asociada con una variable, como se muestra aquí:"
      ]
    },
    {
      "cell_type": "code",
      "execution_count": 10,
      "id": "ea57e32d",
      "metadata": {},
      "outputs": [
        {
          "name": "stdout",
          "output_type": "stream",
          "text": [
            "¡Hola, Ada Lovelace!\n"
          ]
        }
      ],
      "source": [
        "primer_nombre = \"ada\"\n",
        "apellido = \"lovelace\"\n",
        "nombre_completo = f\"{primer_nombre} {apellido}\"\n",
        "\n",
        "print(f\"¡Hola, {nombre_completo.title()}!\")"
      ]
    },
    {
      "cell_type": "markdown",
      "id": "4a8a9173",
      "metadata": {},
      "source": [
        "El nombre completo se utiliza en una oración que saluda al usuario, y el método **title()** cambia el nombre a mayúsculas iniciales. Este código devuelve un saludo simple pero bien formateado:\n",
        "\n",
        "    ¡Hola, Ada Lovelace!\n",
        "\n",
        "También puedes usar f-strings para componer un mensaje y luego asignar el mensaje completo a una variable:"
      ]
    },
    {
      "cell_type": "code",
      "execution_count": 11,
      "id": "50229bee",
      "metadata": {},
      "outputs": [
        {
          "name": "stdout",
          "output_type": "stream",
          "text": [
            "¡Hola, Ada Lovelace!\n"
          ]
        }
      ],
      "source": [
        "primer_nombre = \"ada\"\n",
        "apellido = \"lovelace\"\n",
        "nombre_completo = f\"{primer_nombre} {apellido}\"\n",
        "\n",
        "mensaje = f\"¡Hola, {nombre_completo.title()}!\"\n",
        "print(mensaje)"
      ]
    },
    {
      "cell_type": "markdown",
      "id": "c0c9204d",
      "metadata": {},
      "source": [
        "Este código también muestra el mensaje ¡Hola, Ada Lovelace!, pero al asignar el mensaje a una variable, hacemos que la llamada final a **print()** sea mucho más simple."
      ]
    },
    {
      "cell_type": "markdown",
      "id": "ccdee442",
      "metadata": {},
      "source": [
        "## Agregar espacios en blanco a las cadenas con tabulaciones o saltos de línea\n",
        "\n",
        "En programación, el término \"espacio en blanco\" se refiere a cualquier carácter no imprimible, como espacios, tabulaciones y símbolos de fin de línea. Puedes usar espacios en blanco para organizar la salida de tu programa y que sea más fácil de leer para los usuarios.\n",
        "\n",
        "Para agregar una tabulación a tu texto, utiliza la combinación de caracteres \\t:"
      ]
    },
    {
      "cell_type": "code",
      "execution_count": 14,
      "id": "4ebda941",
      "metadata": {},
      "outputs": [
        {
          "name": "stdout",
          "output_type": "stream",
          "text": [
            "Python\n"
          ]
        }
      ],
      "source": [
        "print(\"Python\")"
      ]
    },
    {
      "cell_type": "code",
      "execution_count": 15,
      "id": "501ea878",
      "metadata": {},
      "outputs": [
        {
          "name": "stdout",
          "output_type": "stream",
          "text": [
            "\tPython\n"
          ]
        }
      ],
      "source": [
        "print(\"\\tPython\")"
      ]
    },
    {
      "cell_type": "markdown",
      "id": "4b19b79b",
      "metadata": {},
      "source": [
        "Para agregar un salto de línea en una cadena de texto, utiliza la combinación de caracteres \\n:"
      ]
    },
    {
      "cell_type": "code",
      "execution_count": 16,
      "id": "6dc0d2b3",
      "metadata": {},
      "outputs": [
        {
          "name": "stdout",
          "output_type": "stream",
          "text": [
            "Lenguajes:\n",
            "Python\n",
            "C\n",
            "JavaScript\n"
          ]
        }
      ],
      "source": [
        "print(\"Lenguajes:\\nPython\\nC\\nJavaScript\")"
      ]
    },
    {
      "cell_type": "markdown",
      "id": "c317e155",
      "metadata": {},
      "source": [
        "También puedes combinar tabulaciones y saltos de línea en una sola cadena de texto. La cadena \"\\n\\t\" le indica a Python que pase a una nueva línea y comience la siguiente línea con una tabulación. El siguiente ejemplo muestra cómo puedes usar una cadena de texto de una línea para generar cuatro líneas de salida:"
      ]
    },
    {
      "cell_type": "code",
      "execution_count": 17,
      "id": "0a07ae96",
      "metadata": {},
      "outputs": [
        {
          "name": "stdout",
          "output_type": "stream",
          "text": [
            "Lenguajes:\n",
            "\tPython\n",
            "\tC\n",
            "\tJavaScript\n"
          ]
        }
      ],
      "source": [
        "print(\"Lenguajes:\\n\\tPython\\n\\tC\\n\\tJavaScript\")"
      ]
    },
    {
      "cell_type": "markdown",
      "id": "37159556",
      "metadata": {},
      "source": [
        "Los saltos de línea y las tabulaciones serán muy útiles en los próximos dos capítulos, cuando comiences a producir muchas líneas de salida a partir de solo unas pocas líneas de código."
      ]
    },
    {
      "cell_type": "markdown",
      "id": "d55e6416",
      "metadata": {},
      "source": [
        "## Eliminar espacios en blanco\n",
        "\n",
        "El exceso de espacios en blanco puede ser confuso en tus programas. Para los programadores, 'python' y 'python ' parecen prácticamente iguales. Pero para un programa, son dos cadenas de texto diferentes. Python detecta el espacio adicional en 'python ' y lo considera significativo a menos que se le indique lo contrario.\n",
        "\n",
        "Es importante considerar los espacios en blanco, ya que a menudo querrás comparar dos cadenas de texto para determinar si son iguales. Por ejemplo, un caso importante podría implicar verificar los nombres de usuario de las personas cuando inician sesión en un sitio web. El exceso de espacios en blanco también puede ser confuso en situaciones mucho más simples. Afortunadamente, Python facilita la eliminación del exceso de espacios en blanco de los datos que ingresan las personas.\n",
        "\n",
        "Python puede buscar espacios en blanco adicionales en los lados derecho e izquierdo de una cadena de texto. Para asegurarte de que no haya espacios en blanco al final de una cadena de texto, usa el método **rstrip()**:"
      ]
    },
    {
      "cell_type": "code",
      "execution_count": 18,
      "id": "babd1958",
      "metadata": {},
      "outputs": [
        {
          "data": {
            "text/plain": [
              "'python '"
            ]
          },
          "execution_count": 18,
          "metadata": {},
          "output_type": "execute_result"
        }
      ],
      "source": [
        "lenguaje_favorito = 'python '\n",
        "lenguaje_favorito"
      ]
    },
    {
      "cell_type": "code",
      "execution_count": 19,
      "id": "c5ac1526",
      "metadata": {},
      "outputs": [
        {
          "data": {
            "text/plain": [
              "['python']"
            ]
          },
          "execution_count": 19,
          "metadata": {},
          "output_type": "execute_result"
        }
      ],
      "source": [
        "lenguaje_favorito.rsplit()"
      ]
    },
    {
      "cell_type": "code",
      "execution_count": 20,
      "id": "afaa9d28",
      "metadata": {},
      "outputs": [
        {
          "data": {
            "text/plain": [
              "'python '"
            ]
          },
          "execution_count": 20,
          "metadata": {},
          "output_type": "execute_result"
        }
      ],
      "source": [
        "lenguaje_favorito"
      ]
    },
    {
      "cell_type": "markdown",
      "id": "f21f7356",
      "metadata": {},
      "source": [
        "\n",
        "El valor asociado con lenguaje_favorito contiene espacios en blanco adicionales al final de la cadena. Cuando pides este valor a Python en una sesión de terminal, puedes ver el espacio al final del valor. Cuando el método **rstrip()** actúa sobre la variable lenguaje_favorito, este espacio adicional es eliminado. Sin embargo, solo se elimina temporalmente. Si solicitas nuevamente el valor de lenguaje_favorito, la cadena se verá igual que cuando se ingresó, incluido el espacio adicional.\n",
        "\n",
        "Para eliminar el espacio en blanco de la cadena de forma permanente, debes asociar el valor eliminado con el nombre de la variable:"
      ]
    },
    {
      "cell_type": "code",
      "execution_count": 21,
      "id": "7e460f24",
      "metadata": {},
      "outputs": [
        {
          "data": {
            "text/plain": [
              "'python'"
            ]
          },
          "execution_count": 21,
          "metadata": {},
          "output_type": "execute_result"
        }
      ],
      "source": [
        "lenguaje_favorito = 'python '    # Con espacio\n",
        "\n",
        "lenguaje_favorito = lenguaje_favorito.rstrip()\n",
        "lenguaje_favorito"
      ]
    },
    {
      "cell_type": "markdown",
      "id": "fdb8f87d",
      "metadata": {},
      "source": [
        "Para eliminar el espacio en blanco de la cadena, quitas el espacio en blanco del lado derecho de la cadena y luego asocias este nuevo valor con la variable original. Cambiar el valor de una variable se realiza a menudo en programación. Así es como se actualiza el valor de una variable mientras se ejecuta un programa o en respuesta a la entrada del usuario.\n",
        "\n",
        "También puedes eliminar espacios en blanco del lado izquierdo de una cadena utilizando el método **lstrip()**, o de ambos lados a la vez utilizando **strip()**:"
      ]
    },
    {
      "cell_type": "code",
      "execution_count": 23,
      "id": "f77b5ee2",
      "metadata": {},
      "outputs": [
        {
          "data": {
            "text/plain": [
              "' python'"
            ]
          },
          "execution_count": 23,
          "metadata": {},
          "output_type": "execute_result"
        }
      ],
      "source": [
        "lenguaje_favorito = ' python '\n",
        "lenguaje_favorito.rstrip()    # Eliminamos el espacio derecho"
      ]
    },
    {
      "cell_type": "code",
      "execution_count": 24,
      "id": "5054658b",
      "metadata": {},
      "outputs": [
        {
          "data": {
            "text/plain": [
              "'python '"
            ]
          },
          "execution_count": 24,
          "metadata": {},
          "output_type": "execute_result"
        }
      ],
      "source": [
        "lenguaje_favorito.lstrip()    # Eliminamos el espacio izquierdo"
      ]
    },
    {
      "cell_type": "code",
      "execution_count": 25,
      "id": "ceb4a3d1",
      "metadata": {},
      "outputs": [
        {
          "data": {
            "text/plain": [
              "'python'"
            ]
          },
          "execution_count": 25,
          "metadata": {},
          "output_type": "execute_result"
        }
      ],
      "source": [
        "lenguaje_favorito.strip()    # Eliminamos ambos espacios"
      ]
    },
    {
      "cell_type": "markdown",
      "id": "8cfec926",
      "metadata": {},
      "source": [
        "En este ejemplo, comenzamos con un valor que tiene espacios en blanco al principio y al final. Luego, eliminamos el espacio adicional del lado derecho, del lado izquierdo y de ambos lados. Experimentar con estas funciones de eliminación puede ayudarte a familiarizarte con la manipulación de cadenas de texto. En el mundo real, estas funciones de eliminación se utilizan más a menudo para limpiar la entrada del usuario antes de que se almacene en un programa."
      ]
    },
    {
      "cell_type": "markdown",
      "id": "3f287dfc",
      "metadata": {},
      "source": [
        "## Eliminación de Prefijos\n",
        "\n",
        "Al trabajar con cadenas de texto, otra tarea común es eliminar un prefijo.\n",
        "Consideremos una URL con el prefijo común **https://**. Queremos eliminar este prefijo para enfocarnos solo en la parte de la URL que los usuarios necesitan ingresar en la barra de direcciones. Así es como se hace:"
      ]
    },
    {
      "cell_type": "code",
      "execution_count": 29,
      "id": "49133a15",
      "metadata": {},
      "outputs": [
        {
          "data": {
            "text/plain": [
              "'nostarch.com'"
            ]
          },
          "execution_count": 29,
          "metadata": {},
          "output_type": "execute_result"
        }
      ],
      "source": [
        "nostarch_url = 'https://nostarch.com'\n",
        "nostarch_url.removeprefix('https://')"
      ]
    },
    {
      "cell_type": "markdown",
      "id": "51d4773c",
      "metadata": {},
      "source": [
        "Ingresa el nombre de la variable seguido de un punto y luego el método `removeprefix()`. Dentro de los paréntesis, introduce el prefijo que deseas eliminar de la cadena original.\n",
        "\n",
        "Al igual que los métodos para eliminar espacios en blanco, `removeprefix()` deja la cadena original sin cambios. Si deseas conservar el nuevo valor sin el prefijo eliminado, reasígneselo a la variable original o asígnalo a una nueva variable:"
      ]
    },
    {
      "cell_type": "code",
      "execution_count": 31,
      "id": "95d896f6",
      "metadata": {},
      "outputs": [
        {
          "data": {
            "text/plain": [
              "'nostarch.com'"
            ]
          },
          "execution_count": 31,
          "metadata": {},
          "output_type": "execute_result"
        }
      ],
      "source": [
        "simple_url = nostarch_url.removeprefix('https://')\n",
        "simple_url"
      ]
    },
    {
      "cell_type": "markdown",
      "id": "797f9ddf",
      "metadata": {},
      "source": [
        "Cuando ves una URL en la barra de direcciones y la parte https:// no se muestra, es probable que el navegador esté utilizando un método similar a `removeprefix()` en segundo plano."
      ]
    },
    {
      "cell_type": "markdown",
      "id": "c5546886",
      "metadata": {},
      "source": [
        "## Evitando Errores de Sintaxis con Cadenas de Texto\n",
        "\n",
        "Un tipo de error que podrías encontrar con cierta regularidad es un error de sintaxis. Un error de sintaxis ocurre cuando Python no reconoce una sección de tu programa como código Python válido. Por ejemplo, si utilizas un apóstrofe dentro de comillas simples, producirás un error. Esto sucede porque Python interpreta todo entre la primera comilla simple y el apóstrofe como una cadena de texto. Luego intenta interpretar el resto del texto como código Python, lo que provoca errores.\n",
        "\n",
        "Aquí te mostramos cómo utilizar comillas simples y dobles correctamente. Guarda este programa como `apostrophe.py` y luego ejecútalo:"
      ]
    },
    {
      "cell_type": "code",
      "execution_count": 33,
      "id": "0c5ba09b",
      "metadata": {},
      "outputs": [
        {
          "name": "stdout",
          "output_type": "stream",
          "text": [
            "One of Python's strengths is its diverse community.\n"
          ]
        }
      ],
      "source": [
        "message = \"One of Python's strengths is its diverse community.\"\n",
        "print(message)"
      ]
    },
    {
      "cell_type": "markdown",
      "id": "ef03bc89",
      "metadata": {},
      "source": [
        "El apóstrofe aparece dentro de un conjunto de comillas dobles, por lo que el intérprete de Python no tiene problemas para leer la cadena correctamente:\n",
        "\n",
        "\"Una de las fortalezas de Python es su comunidad diversa\". Sin embargo, si utilizas comillas simples, Python no puede identificar dónde debería terminar la cadena de texto:"
      ]
    },
    {
      "cell_type": "code",
      "execution_count": 35,
      "id": "96c57e5d",
      "metadata": {},
      "outputs": [
        {
          "ename": "SyntaxError",
          "evalue": "unterminated string literal (detected at line 1) (1265700866.py, line 1)",
          "output_type": "error",
          "traceback": [
            "\u001b[0;36m  Cell \u001b[0;32mIn[35], line 1\u001b[0;36m\u001b[0m\n\u001b[0;31m    message = 'One of Python's strengths is its diverse community.'\u001b[0m\n\u001b[0m                                                                  ^\u001b[0m\n\u001b[0;31mSyntaxError\u001b[0m\u001b[0;31m:\u001b[0m unterminated string literal (detected at line 1)\n"
          ]
        }
      ],
      "source": [
        "message = 'One of Python's strengths is its diverse community.'\n",
        "print(message)"
      ]
    },
    {
      "cell_type": "markdown",
      "id": "22e05b76",
      "metadata": {},
      "source": [
        "Verás la siguiente salida:\n",
        "\n",
        "        File \"apostrophe.py\", line 1\n",
        "        message = 'One of Python's strengths is its diverse community.'\n",
        "                                                                            ^\n",
        "        SyntaxError: cadena literal no terminada (detectado en la línea 1)\n",
        "\n",
        "En la salida, puedes ver que el error ocurre justo después de la comilla simple final. Este error de sintaxis indica que el intérprete no reconoce algo en el código como código Python válido, y cree que el problema podría ser una cadena de texto que no está entrecomillada correctamente. Los errores pueden provenir de una variedad de fuentes, y señalaré algunas comunes a medida que surjan. Es posible que veas errores de sintaxis a menudo mientras aprendes a escribir código Python correcto. Los errores de sintaxis también son el tipo menos específico de error, por lo que pueden ser difíciles y frustrantes de identificar y corregir. Si te quedas atascado en un error particularmente obstinado, consulta las sugerencias en el Apéndice C."
      ]
    },
    {
      "cell_type": "markdown",
      "id": "c7d79a5d",
      "metadata": {},
      "source": [
        "**NOTA:**\n",
        "\n",
        "La función de resaltado de sintaxis de tu editor debería ayudarte a detectar rápidamente algunos errores de sintaxis mientras escribes tus programas. Si ves código Python resaltado como si fuera inglés, o inglés resaltado como si fuera código Python, probablemente tengas una comilla mal emparejada en algún lugar de tu archivo."
      ]
    },
    {
      "cell_type": "markdown",
      "id": "797f592e",
      "metadata": {},
      "source": [
        "## **PRUÉBALO TÚ MISMO**\n",
        "\n",
        "Guarda cada uno de los siguientes ejercicios como archivos separados, con un nombre como `name_cases.py`. Si te quedas atascado, tómate un descanso o consulta las sugerencias en el Apéndice C."
      ]
    },
    {
      "cell_type": "markdown",
      "id": "542cae9e",
      "metadata": {},
      "source": [
        "**2-3. Mensaje Personal:** Usa una variable para representar el nombre de una persona e imprime un mensaje para esa persona. Tu mensaje debe ser simple, como por ejemplo: \"Hola Eric, ¿te gustaría aprender algo de Python hoy?\""
      ]
    },
    {
      "cell_type": "code",
      "execution_count": 39,
      "id": "abe8de96",
      "metadata": {},
      "outputs": [
        {
          "name": "stdout",
          "output_type": "stream",
          "text": [
            "Hola Francisca Gutierrez, te gustarìa aprender algo de Python hoy?\n"
          ]
        }
      ],
      "source": [
        "name = \"francisca\"\n",
        "last_name = \"gutierrez\"\n",
        "message = f\"Hola {name.title()} {last_name.title()}, te gustarìa aprender algo de Python hoy?\"\n",
        "\n",
        "print(message)"
      ]
    },
    {
      "cell_type": "markdown",
      "id": "3398fa4c",
      "metadata": {},
      "source": [
        "**2-4. Casos de Nombre:** Utiliza una variable para representar el nombre de una persona y luego imprime ese nombre en minúsculas, mayúsculas y en formato de título."
      ]
    },
    {
      "cell_type": "code",
      "execution_count": 46,
      "id": "e5e44a80",
      "metadata": {},
      "outputs": [
        {
          "name": "stdout",
          "output_type": "stream",
          "text": [
            "FRANCISCA\n",
            "francisca\n",
            "Francisca\n"
          ]
        }
      ],
      "source": [
        "name = \"francisca\"\n",
        "print(name.upper())\n",
        "print(name.lower())\n",
        "print(name.title())"
      ]
    },
    {
      "cell_type": "markdown",
      "id": "e1e69573",
      "metadata": {},
      "source": [
        "**2-5. Cita Famosa:** Encuentra una cita de una persona famosa que admires. Imprime la cita y el nombre del autor. Tu salida debería verse algo así, incluyendo las comillas:\n",
        "\"Albert Einstein dijo una vez: 'Una persona que nunca cometió un error nunca intentó algo nuevo'.\""
      ]
    },
    {
      "cell_type": "code",
      "execution_count": 47,
      "id": "592074de",
      "metadata": {},
      "outputs": [
        {
          "name": "stdout",
          "output_type": "stream",
          "text": [
            "Nikola Tesla dijo una vez: 'Si quieres encontrar los secretos del universo, piensa en términos de energía, frecuencia y vibración'.\n"
          ]
        }
      ],
      "source": [
        "autor = \"Nikola Tesla\"\n",
        "cita = \"Si quieres encontrar los secretos del universo, piensa en términos de energía, frecuencia y vibración\"\n",
        "\n",
        "mensaje = f\"{autor} dijo una vez: '{cita}'.\"\n",
        "\n",
        "print(mensaje)"
      ]
    },
    {
      "cell_type": "markdown",
      "id": "2e4f3a51",
      "metadata": {},
      "source": [
        "**2-6. Cita Famosa 2:**\n",
        "Repite el Ejercicio 2-5, pero esta vez, representa el nombre de la persona famosa utilizando una variable llamada `famous_person`. Luego compón tu mensaje y représentalo con una nueva variable llamada `message`. Imprime tu mensaje."
      ]
    },
    {
      "cell_type": "code",
      "execution_count": 48,
      "id": "5a95a526",
      "metadata": {},
      "outputs": [
        {
          "name": "stdout",
          "output_type": "stream",
          "text": [
            "Nikola Tesla dijo una vez: 'Si quieres encontrar los secretos del universo, piensa en términos de energía, frecuencia y vibración'.\n"
          ]
        }
      ],
      "source": [
        "famous_person = \"Nikola Tesla\"\n",
        "cita = \"Si quieres encontrar los secretos del universo, piensa en términos de energía, frecuencia y vibración\"\n",
        "\n",
        "message = f\"{famous_person} dijo una vez: '{cita}'.\"\n",
        "print(message)"
      ]
    },
    {
      "cell_type": "markdown",
      "id": "0c1c4a32",
      "metadata": {},
      "source": [
        "**2-7. Eliminación de Espacios en Nombres:**\n",
        "Utiliza una variable para representar el nombre de una persona e incluye algunos caracteres de espacio en blanco al principio y al final del nombre. Asegúrate de usar cada combinación de caracteres, \"\\t\" y \"\\n\", al menos una vez. Imprime el nombre una vez, de manera que el espacio en blanco alrededor del nombre se muestre. Luego imprime el nombre usando cada una de las tres funciones de eliminación de espacios: `lstrip()`, `rstrip()`, y `strip()`."
      ]
    },
    {
      "cell_type": "code",
      "execution_count": 49,
      "id": "9e98494a",
      "metadata": {},
      "outputs": [],
      "source": [
        "name = \" francisca \""
      ]
    },
    {
      "cell_type": "code",
      "execution_count": 50,
      "id": "75ee0fc9",
      "metadata": {},
      "outputs": [
        {
          "name": "stdout",
          "output_type": "stream",
          "text": [
            "francisca \n",
            " francisca\n",
            "francisca\n"
          ]
        }
      ],
      "source": [
        "print(name.lstrip())    # Eliminamos el espacio de la izquierda\n",
        "print(name.rstrip())    # Eliminamos el espacio de la derecha\n",
        "print(name.strip())     # Eliminamos el espacio de ambos lados"
      ]
    },
    {
      "cell_type": "code",
      "execution_count": 52,
      "id": "8826e664",
      "metadata": {},
      "outputs": [
        {
          "name": "stdout",
          "output_type": "stream",
          "text": [
            "Nikola\n",
            "Tesla\n"
          ]
        }
      ],
      "source": [
        "full_name = \"Nikola\\nTesla\"\n",
        "print(full_name)"
      ]
    },
    {
      "cell_type": "code",
      "execution_count": 53,
      "id": "779fbc21",
      "metadata": {},
      "outputs": [
        {
          "name": "stdout",
          "output_type": "stream",
          "text": [
            "Nikola\tTesla\n"
          ]
        }
      ],
      "source": [
        "full_name = \"Nikola\\tTesla\"\n",
        "print(full_name)"
      ]
    },
    {
      "cell_type": "markdown",
      "id": "ab07ba9a",
      "metadata": {},
      "source": [
        "**2-8. Extensiones de Archivos:**\n",
        "Python tiene un método `removesuffix()` que funciona exactamente igual que `removeprefix()`. Asigna el valor 'python_notes.txt' a una variable llamada `filename`. Luego usa el método `removesuffix()` para mostrar el nombre del archivo sin la extensión del archivo, como hacen algunos exploradores de archivos."
      ]
    },
    {
      "cell_type": "code",
      "execution_count": 55,
      "id": "a19a9e0c",
      "metadata": {},
      "outputs": [
        {
          "data": {
            "text/plain": [
              "'python_notes'"
            ]
          },
          "execution_count": 55,
          "metadata": {},
          "output_type": "execute_result"
        }
      ],
      "source": [
        "filename = 'python_notes.txt'\n",
        "\n",
        "filename.removesuffix('.txt')\n"
      ]
    },
    {
      "cell_type": "markdown",
      "id": "5dc70d9a",
      "metadata": {},
      "source": [
        "## NUMEROS\n",
        "\n",
        "Los números se utilizan con bastante frecuencia en la programación para llevar la puntuación en juegos, representar datos en visualizaciones, almacenar información en aplicaciones web, entre otros usos. Python maneja los números de varias formas diferentes, dependiendo de cómo se estén utilizando. Primero veamos cómo Python gestiona los números enteros, ya que son los más simples de trabajar."
      ]
    },
    {
      "cell_type": "markdown",
      "id": "731b9928",
      "metadata": {},
      "source": [
        "Los números enteros se pueden operar en Python mediante distintos operadores aritméticos:\n",
        "\n",
        "- **Suma** (+): Se utiliza el operador `+` para sumar enteros.\n",
        "- **Resta** (-): Se utiliza el operador `-` para restar enteros.\n",
        "- **Multiplicación** (*): Se utiliza el operador `*` para multiplicar enteros.\n",
        "- **División** (/): Se utiliza el operador `/` para dividir enteros. En Python 3, la división de dos enteros produce un número decimal (float) si el resultado no es exacto.\n",
        "- **Exponentes** (**): Se utiliza el operador `**` para calcular exponenciación.\n",
        "\n",
        "A continuación, se muestran ejemplos de operaciones con enteros en Python:"
      ]
    },
    {
      "cell_type": "code",
      "execution_count": 56,
      "id": "217ee145",
      "metadata": {},
      "outputs": [
        {
          "data": {
            "text/plain": [
              "5"
            ]
          },
          "execution_count": 56,
          "metadata": {},
          "output_type": "execute_result"
        }
      ],
      "source": [
        "2 + 3   # Suma"
      ]
    },
    {
      "cell_type": "code",
      "execution_count": 57,
      "id": "f621610e",
      "metadata": {},
      "outputs": [
        {
          "data": {
            "text/plain": [
              "1"
            ]
          },
          "execution_count": 57,
          "metadata": {},
          "output_type": "execute_result"
        }
      ],
      "source": [
        "3 - 2    # Resta"
      ]
    },
    {
      "cell_type": "code",
      "execution_count": 58,
      "id": "6c575b03",
      "metadata": {},
      "outputs": [
        {
          "data": {
            "text/plain": [
              "6"
            ]
          },
          "execution_count": 58,
          "metadata": {},
          "output_type": "execute_result"
        }
      ],
      "source": [
        "2 * 3    # Multiplicaciòn"
      ]
    },
    {
      "cell_type": "code",
      "execution_count": 59,
      "id": "67f6ccf3",
      "metadata": {},
      "outputs": [
        {
          "data": {
            "text/plain": [
              "1.5"
            ]
          },
          "execution_count": 59,
          "metadata": {},
          "output_type": "execute_result"
        }
      ],
      "source": [
        "3 / 2    # Divisiòn"
      ]
    },
    {
      "cell_type": "markdown",
      "id": "1c84af3f",
      "metadata": {},
      "source": [
        "En Python, se utilizan dos símbolos de multiplicación `**` para representar exponenciación:"
      ]
    },
    {
      "cell_type": "code",
      "execution_count": 62,
      "id": "017f1461",
      "metadata": {},
      "outputs": [
        {
          "data": {
            "text/plain": [
              "9"
            ]
          },
          "execution_count": 62,
          "metadata": {},
          "output_type": "execute_result"
        }
      ],
      "source": [
        "3 ** 2    # Al cuadrado"
      ]
    },
    {
      "cell_type": "code",
      "execution_count": 61,
      "id": "6d5259ed",
      "metadata": {},
      "outputs": [
        {
          "data": {
            "text/plain": [
              "27"
            ]
          },
          "execution_count": 61,
          "metadata": {},
          "output_type": "execute_result"
        }
      ],
      "source": [
        "3 ** 3    # Al cubo"
      ]
    },
    {
      "cell_type": "code",
      "execution_count": 63,
      "id": "b7b700ae",
      "metadata": {},
      "outputs": [
        {
          "data": {
            "text/plain": [
              "1000000"
            ]
          },
          "execution_count": 63,
          "metadata": {},
          "output_type": "execute_result"
        }
      ],
      "source": [
        "10 ** 6    # 10 elevado a la potencia de 6"
      ]
    },
    {
      "cell_type": "markdown",
      "id": "4d10fb86",
      "metadata": {},
      "source": [
        "Python también respeta el orden de las operaciones matemáticas estándar (paréntesis, exponenciación, multiplicación y división de izquierda a derecha, suma y resta de izquierda a derecha). Se pueden usar paréntesis para modificar el orden de las operaciones y así evaluar una expresión en el orden que se especifique:"
      ]
    },
    {
      "cell_type": "code",
      "execution_count": 64,
      "id": "b7c0725c",
      "metadata": {},
      "outputs": [
        {
          "data": {
            "text/plain": [
              "14"
            ]
          },
          "execution_count": 64,
          "metadata": {},
          "output_type": "execute_result"
        }
      ],
      "source": [
        "2 + 3 * 4    # Multiplizaciòn se evalùa primero, luego la suma"
      ]
    },
    {
      "cell_type": "code",
      "execution_count": 65,
      "id": "59ac0b46",
      "metadata": {},
      "outputs": [
        {
          "data": {
            "text/plain": [
              "20"
            ]
          },
          "execution_count": 65,
          "metadata": {},
          "output_type": "execute_result"
        }
      ],
      "source": [
        "(2 + 3) * 4    # Los parèntesis cambian el orden de evaluaciòn "
      ]
    },
    {
      "cell_type": "markdown",
      "id": "72eeb745",
      "metadata": {},
      "source": [
        "El espacio en blanco en estos ejemplos no afecta la forma en que Python evalúa las expresiones; simplemente ayuda a leer y entender el código más fácilmente al separar las operaciones con claridad."
      ]
    },
    {
      "cell_type": "markdown",
      "id": "7ec1c583",
      "metadata": {},
      "source": [
        "## FLOTANTES\n",
        "\n",
        "Los números que tienen un punto decimal en Python se conocen como `floats` o números de punto flotante. Este término se utiliza en la mayoría de los lenguajes de programación y hace referencia al hecho de que un punto decimal puede aparecer en cualquier posición dentro de un número. Cada lenguaje de programación debe estar diseñado cuidadosamente para gestionar correctamente los números decimales, asegurándose de que los números se comporten apropiadamente sin importar dónde aparezca el punto decimal.\n",
        "\n",
        "En su mayoría, puedes utilizar números de punto flotante sin preocuparte por su comportamiento. Simplemente ingresa los números que deseas usar, y Python probablemente hará lo que esperas:"
      ]
    },
    {
      "cell_type": "code",
      "execution_count": 66,
      "id": "cf5ae2c4",
      "metadata": {},
      "outputs": [
        {
          "data": {
            "text/plain": [
              "0.2"
            ]
          },
          "execution_count": 66,
          "metadata": {},
          "output_type": "execute_result"
        }
      ],
      "source": [
        "0.1 + 0.1"
      ]
    },
    {
      "cell_type": "code",
      "execution_count": 67,
      "id": "b7330e14",
      "metadata": {},
      "outputs": [
        {
          "data": {
            "text/plain": [
              "0.04000000000000001"
            ]
          },
          "execution_count": 67,
          "metadata": {},
          "output_type": "execute_result"
        }
      ],
      "source": [
        "0.2 * 0.2"
      ]
    },
    {
      "cell_type": "code",
      "execution_count": 68,
      "id": "8401da6f",
      "metadata": {},
      "outputs": [
        {
          "data": {
            "text/plain": [
              "0.2"
            ]
          },
          "execution_count": 68,
          "metadata": {},
          "output_type": "execute_result"
        }
      ],
      "source": [
        "2 * 0.1"
      ]
    },
    {
      "cell_type": "markdown",
      "id": "677d6d58",
      "metadata": {},
      "source": [
        "Sin embargo, debes tener en cuenta que a veces puedes obtener un número arbitrario de decimales en tu respuesta:"
      ]
    },
    {
      "cell_type": "code",
      "execution_count": 69,
      "id": "34cd7c8c",
      "metadata": {},
      "outputs": [
        {
          "data": {
            "text/plain": [
              "0.30000000000000004"
            ]
          },
          "execution_count": 69,
          "metadata": {},
          "output_type": "execute_result"
        }
      ],
      "source": [
        "0.2 + 0.1"
      ]
    },
    {
      "cell_type": "code",
      "execution_count": 70,
      "id": "d3d50538",
      "metadata": {},
      "outputs": [
        {
          "data": {
            "text/plain": [
              "0.30000000000000004"
            ]
          },
          "execution_count": 70,
          "metadata": {},
          "output_type": "execute_result"
        }
      ],
      "source": [
        "3 * 0.1"
      ]
    },
    {
      "cell_type": "markdown",
      "id": "4691ab53",
      "metadata": {},
      "source": [
        "\n",
        "Esto ocurre en todos los lenguajes de programación y no es motivo de gran preocupación. Python intenta encontrar una manera de representar el resultado con la mayor precisión posible, lo cual a veces es difícil debido a cómo los computadores tienen que representar los números internamente. Por ahora, simplemente ignora los lugares decimales adicionales; aprenderás formas de manejar estos lugares adicionales cuando sea necesario en los proyectos de la Parte II."
      ]
    },
    {
      "cell_type": "markdown",
      "id": "78bbd92a",
      "metadata": {},
      "source": [
        "## ENTEROS Y FLOTANTES\n",
        "\n",
        "Cuando divides cualquier par de números, incluso si son enteros y el resultado es un número entero, siempre obtendrás un número de tipo float:"
      ]
    },
    {
      "cell_type": "code",
      "execution_count": 71,
      "id": "e30f2247",
      "metadata": {},
      "outputs": [
        {
          "data": {
            "text/plain": [
              "2.0"
            ]
          },
          "execution_count": 71,
          "metadata": {},
          "output_type": "execute_result"
        }
      ],
      "source": [
        "4 / 2"
      ]
    },
    {
      "cell_type": "markdown",
      "id": "494636ac",
      "metadata": {},
      "source": [
        "Si mezclas un número entero con un número de tipo float en cualquier otra operación, el resultado será un número de tipo float también:"
      ]
    },
    {
      "cell_type": "code",
      "execution_count": 72,
      "id": "e95aec99",
      "metadata": {},
      "outputs": [
        {
          "data": {
            "text/plain": [
              "3.0"
            ]
          },
          "execution_count": 72,
          "metadata": {},
          "output_type": "execute_result"
        }
      ],
      "source": [
        "1 + 2.0"
      ]
    },
    {
      "cell_type": "code",
      "execution_count": 73,
      "id": "90262895",
      "metadata": {},
      "outputs": [
        {
          "data": {
            "text/plain": [
              "6.0"
            ]
          },
          "execution_count": 73,
          "metadata": {},
          "output_type": "execute_result"
        }
      ],
      "source": [
        "2 * 3.0"
      ]
    },
    {
      "cell_type": "code",
      "execution_count": 74,
      "id": "f1fe526b",
      "metadata": {},
      "outputs": [
        {
          "data": {
            "text/plain": [
              "9.0"
            ]
          },
          "execution_count": 74,
          "metadata": {},
          "output_type": "execute_result"
        }
      ],
      "source": [
        "3.0 ** 2"
      ]
    },
    {
      "cell_type": "markdown",
      "id": "12c591d5",
      "metadata": {},
      "source": [
        "Python por defecto utiliza un número de tipo float en cualquier operación que involucre un número de tipo float, incluso si la salida es un número entero."
      ]
    },
    {
      "cell_type": "markdown",
      "id": "f299caa1",
      "metadata": {},
      "source": [
        "## Guiones bajos en números\n",
        "\n",
        "Cuando estás escribiendo números largos, puedes agrupar los dígitos usando guiones bajos (underscores) para hacer que los números grandes sean más legibles:"
      ]
    },
    {
      "cell_type": "code",
      "execution_count": 75,
      "id": "33e281c6",
      "metadata": {},
      "outputs": [],
      "source": [
        "universe_age = 14_000_000_000"
      ]
    },
    {
      "cell_type": "markdown",
      "id": "4f0ca8e4",
      "metadata": {},
      "source": [
        "Al imprimir un número que fue definido usando guiones bajos, Python imprimirá solo los dígitos:"
      ]
    },
    {
      "cell_type": "code",
      "execution_count": 76,
      "id": "3867a2b5",
      "metadata": {},
      "outputs": [
        {
          "name": "stdout",
          "output_type": "stream",
          "text": [
            "14000000000\n"
          ]
        }
      ],
      "source": [
        "print(universe_age)"
      ]
    },
    {
      "cell_type": "markdown",
      "id": "737e2aff",
      "metadata": {},
      "source": [
        "Python ignora los guiones bajos al almacenar estos tipos de valores. Incluso si no agrupas los dígitos en grupos de tres, el valor seguirá sin cambios. Para Python, 1000 es igual a 1_000, lo cual es igual a 10_00. Esta característica funciona tanto para enteros como para números de tipo float."
      ]
    },
    {
      "cell_type": "markdown",
      "id": "f1fb4df6",
      "metadata": {},
      "source": [
        "## Asignación múltiple\n",
        "\n",
        "Puedes asignar valores a más de una variable usando una sola línea de código en Python. Esta técnica puede ayudar a reducir la longitud de tus programas y hacerlos más fáciles de leer. Se utiliza más comúnmente al inicializar un conjunto de números.\n",
        "\n",
        "Por ejemplo, así es como puedes inicializar las variables x, y, y z a cero:"
      ]
    },
    {
      "cell_type": "code",
      "execution_count": 77,
      "id": "7d17b4ba",
      "metadata": {},
      "outputs": [],
      "source": [
        "x, y, z = 0, 0, 0"
      ]
    },
    {
      "cell_type": "markdown",
      "id": "d4948fcd",
      "metadata": {},
      "source": [
        "\n",
        "Necesitas separar los nombres de las variables con comas y hacer lo mismo con los valores. Python asignará cada valor a su respectiva variable. Siempre y cuando el número de valores coincida con el número de variables, Python los asignará correctamente."
      ]
    },
    {
      "cell_type": "code",
      "execution_count": 78,
      "id": "fa1cd040",
      "metadata": {},
      "outputs": [
        {
          "data": {
            "text/plain": [
              "0"
            ]
          },
          "execution_count": 78,
          "metadata": {},
          "output_type": "execute_result"
        }
      ],
      "source": [
        "x"
      ]
    },
    {
      "cell_type": "code",
      "execution_count": 79,
      "id": "c3b48941",
      "metadata": {},
      "outputs": [
        {
          "data": {
            "text/plain": [
              "0"
            ]
          },
          "execution_count": 79,
          "metadata": {},
          "output_type": "execute_result"
        }
      ],
      "source": [
        "y"
      ]
    },
    {
      "cell_type": "code",
      "execution_count": 80,
      "id": "72cbda8b",
      "metadata": {},
      "outputs": [
        {
          "data": {
            "text/plain": [
              "0"
            ]
          },
          "execution_count": 80,
          "metadata": {},
          "output_type": "execute_result"
        }
      ],
      "source": [
        "z"
      ]
    },
    {
      "cell_type": "markdown",
      "id": "fc29e230",
      "metadata": {},
      "source": [
        "## Constantes\n",
        "\n",
        "En Python, una constante es una variable cuyo valor permanece inalterado a lo largo de toda la ejecución del programa. A diferencia de algunos lenguajes de programación que tienen tipos de datos específicos para constantes, Python no cuenta con tipos de datos de constantes incorporados. Sin embargo, los programadores de Python suelen utilizar convenciones para indicar que una variable debe ser tratada como una constante y nunca modificarse.\n",
        "\n",
        "La convención común es utilizar letras mayúsculas para el nombre de la variable y así indicar que debe ser tratada como una constante que no cambiará a lo largo del programa. Por ejemplo:"
      ]
    },
    {
      "cell_type": "code",
      "execution_count": 81,
      "id": "f01a9404",
      "metadata": {},
      "outputs": [],
      "source": [
        "MAX_CONNEXTIONS = 5000"
      ]
    },
    {
      "cell_type": "markdown",
      "id": "c0d1cab5",
      "metadata": {},
      "source": [
        "\n",
        "Cuando deseas tratar una variable como una constante en tu código Python, escribe el nombre de la variable completamente en mayúsculas. Esta convención ayuda a los programadores a identificar fácilmente que la variable se considera una constante y su valor no debería cambiar durante la ejecución del programa."
      ]
    },
    {
      "cell_type": "markdown",
      "id": "f01fad2c",
      "metadata": {},
      "source": [
        "## INTÉNTALO TÚ MISMO\n",
        "\n",
        "**Ejercicio 2-9: Número Ocho**\n",
        "Escribe operaciones de suma, resta, multiplicación y división que den como resultado el número 8. Asegúrate de incluir tus operaciones dentro de llamadas a la función print() para ver los resultados. Deberías crear cuatro líneas que se vean así:"
      ]
    },
    {
      "cell_type": "code",
      "execution_count": 82,
      "id": "1069a9dd",
      "metadata": {},
      "outputs": [
        {
          "name": "stdout",
          "output_type": "stream",
          "text": [
            "8\n"
          ]
        }
      ],
      "source": [
        "print(5+3)"
      ]
    },
    {
      "cell_type": "markdown",
      "id": "e5c493c5",
      "metadata": {},
      "source": [
        "Tu salida debería ser cuatro líneas, con el número 8 apareciendo una vez en cada línea."
      ]
    },
    {
      "cell_type": "code",
      "execution_count": 85,
      "id": "e24bc3e8",
      "metadata": {},
      "outputs": [
        {
          "name": "stdout",
          "output_type": "stream",
          "text": [
            "8\n",
            "8\n",
            "8\n",
            "8\n"
          ]
        }
      ],
      "source": [
        "print(4 + 4)\n",
        "print(16 - 8)\n",
        "print(4 * 2)\n",
        "print(16 // 2)"
      ]
    },
    {
      "cell_type": "markdown",
      "id": "9925222a",
      "metadata": {},
      "source": [
        "**Ejercicio 2-10: Número Favorito**\n",
        "Utiliza una variable para representar tu número favorito. Luego, usando esa variable, crea un mensaje que revele cuál es tu número favorito. Imprime ese mensaje."
      ]
    },
    {
      "cell_type": "code",
      "execution_count": 86,
      "id": "e53efc1f",
      "metadata": {},
      "outputs": [
        {
          "name": "stdout",
          "output_type": "stream",
          "text": [
            "Mi nùmero favorito es el 3!!!\n"
          ]
        }
      ],
      "source": [
        "numero_favorito = 3\n",
        "mensaje = f\"Mi nùmero favorito es el {numero_favorito}!!!\"\n",
        "\n",
        "print(mensaje)"
      ]
    },
    {
      "cell_type": "markdown",
      "id": "3dbd8384",
      "metadata": {},
      "source": [
        "## Comentarios\n",
        "\n",
        "Los comentarios son una característica extremadamente útil en la mayoría de los lenguajes de programación. Todo lo que has escrito en tus programas hasta ahora es código Python. A medida que tus programas se vuelvan más largos y complicados, deberías agregar notas dentro de tus programas que describan tu enfoque general para el problema que estás resolviendo. Un comentario te permite escribir notas en tu idioma hablado, dentro de tus programas.\n",
        "\n",
        "**¿Cómo se Escriben los Comentarios?**\n",
        "\n",
        "En Python, el signo de numeral `#` indica un comentario. Todo lo que sigue a un signo de numeral en tu código es ignorado por el intérprete de Python. Por ejemplo:"
      ]
    },
    {
      "cell_type": "code",
      "execution_count": 87,
      "id": "3916cad9",
      "metadata": {},
      "outputs": [
        {
          "name": "stdout",
          "output_type": "stream",
          "text": [
            "¡Hola gente de Python!\n"
          ]
        }
      ],
      "source": [
        "# comment.py\n",
        "\n",
        "#Saluda a todos.\n",
        "print(\"¡Hola gente de Python!\")"
      ]
    },
    {
      "cell_type": "markdown",
      "id": "cb12aa1f",
      "metadata": {},
      "source": [
        "Python ignora la primera línea y ejecuta la segunda línea."
      ]
    },
    {
      "cell_type": "markdown",
      "id": "38a54e94",
      "metadata": {},
      "source": [
        "## ¿Qué tipos de comentarios deberías escribir?\n",
        "\n",
        "La razón principal para escribir comentarios es explicar qué se supone que debe hacer tu código y cómo estás logrando que funcione. Cuando estás en medio de trabajar en un proyecto, entiendes cómo encajan todas las piezas. Pero cuando regresas a un proyecto después de algún tiempo, es probable que hayas olvidado algunos detalles. Siempre puedes estudiar tu código por un tiempo y descubrir cómo se suponía que debían funcionar los segmentos, pero escribir buenos comentarios puede ahorrarte tiempo al resumir claramente tu enfoque general.\n",
        "\n",
        "Si quieres convertirte en un programador profesional o colaborar con otros programadores, deberías escribir comentarios significativos. Hoy en día, la mayoría del software se escribe colaborativamente, ya sea por un grupo de empleados en una empresa o por un grupo de personas que trabajan juntas en un proyecto de código abierto. Los programadores hábiles esperan ver comentarios en el código, así que es mejor comenzar a agregar comentarios descriptivos a tus programas ahora. Escribir comentarios claros y concisos en tu código es uno de los hábitos más beneficiosos que puedes adquirir como nuevo programador.\n",
        "\n",
        "Cuando estés decidiendo si escribir un comentario, pregúntate si tuviste que considerar varios enfoques antes de encontrar una forma razonable de hacer algo funcionar; si es así, escribe un comentario sobre tu solución. Es mucho más fácil eliminar comentarios adicionales más tarde que volver atrás y escribir comentarios para un programa escasamente comentado. A partir de ahora, utilizaré comentarios en ejemplos a lo largo de este libro para ayudar a explicar secciones de código."
      ]
    },
    {
      "cell_type": "markdown",
      "id": "499d9597",
      "metadata": {},
      "source": [
        "## INTÉNTALO TÚ MISMO\n",
        "\n",
        "**2-11. Agregar Comentarios:** Elige dos de los programas que has escrito y agrega al menos un comentario a cada uno. Si no tienes algo específico para escribir porque tus programas son demasiado simples en este momento, simplemente agrega tu nombre y la fecha actual en la parte superior de cada archivo del programa. Luego, escribe una oración describiendo qué hace el programa.**"
      ]
    },
    {
      "cell_type": "code",
      "execution_count": 88,
      "id": "90b52cdd",
      "metadata": {},
      "outputs": [],
      "source": [
        "a = 1    # Asiganaciòn del valor de 1 a la variable a\n",
        "b = 5    # Asiganaciòn del valor 5 a la variable b"
      ]
    },
    {
      "cell_type": "code",
      "execution_count": 89,
      "id": "39fd98cc",
      "metadata": {},
      "outputs": [
        {
          "name": "stdout",
          "output_type": "stream",
          "text": [
            "6\n"
          ]
        }
      ],
      "source": [
        "print(a + b)    # Este es un comentario para mostrar la impresiòn de a + b"
      ]
    },
    {
      "cell_type": "markdown",
      "id": "2040b14e",
      "metadata": {},
      "source": [
        "## El Zen de Python\n",
        "\n",
        "Los programadores experimentados en Python te alentarán a evitar la complejidad y apuntar a la simplicidad siempre que sea posible. La filosofía de la comunidad de Python está contenida en \"El Zen de Python\" de Tim Peters. Puedes acceder a este breve conjunto de principios para escribir buen código en Python ingresando `import this` en tu intérprete. No voy a reproducir todo \"El Zen de Python\" aquí, pero compartiré algunas líneas para ayudarte a entender por qué deberían ser importantes para ti como principiante en programación Python."
      ]
    },
    {
      "cell_type": "code",
      "execution_count": 90,
      "id": "1a7711ad",
      "metadata": {},
      "outputs": [
        {
          "name": "stdout",
          "output_type": "stream",
          "text": [
            "The Zen of Python, by Tim Peters\n",
            "\n",
            "Beautiful is better than ugly.\n",
            "Explicit is better than implicit.\n",
            "Simple is better than complex.\n",
            "Complex is better than complicated.\n",
            "Flat is better than nested.\n",
            "Sparse is better than dense.\n",
            "Readability counts.\n",
            "Special cases aren't special enough to break the rules.\n",
            "Although practicality beats purity.\n",
            "Errors should never pass silently.\n",
            "Unless explicitly silenced.\n",
            "In the face of ambiguity, refuse the temptation to guess.\n",
            "There should be one-- and preferably only one --obvious way to do it.\n",
            "Although that way may not be obvious at first unless you're Dutch.\n",
            "Now is better than never.\n",
            "Although never is often better than *right* now.\n",
            "If the implementation is hard to explain, it's a bad idea.\n",
            "If the implementation is easy to explain, it may be a good idea.\n",
            "Namespaces are one honking great idea -- let's do more of those!\n"
          ]
        }
      ],
      "source": [
        "import this"
      ]
    },
    {
      "cell_type": "markdown",
      "id": "0db32673",
      "metadata": {},
      "source": [
        "## El Zen de Python, por Tim Peters\n",
        "\n",
        "**Hermoso es mejor que feo.**\n",
        "Los programadores de Python abrazan la idea de que el código puede ser hermoso y elegante. En la programación, las personas resuelven problemas. Los programadores siempre han respetado soluciones bien diseñadas, eficientes e incluso hermosas a los problemas. A medida que aprendas más sobre Python y lo uses para escribir más código, alguien podría mirar por encima de tu hombro un día y decir: \"¡Guau, ese es un código hermoso!\"\n",
        "\n",
        "**Simple es mejor que complejo.**\n",
        "Si tienes la opción entre una solución simple y una compleja, y ambas funcionan, usa la solución simple. Tu código será más fácil de mantener, y será más sencillo para ti y para otros construir sobre ese código más adelante.\n",
        "\n",
        "**Complejo es mejor que complicado.**\n",
        "La vida real es desordenada y a veces una solución simple a un problema es inalcanzable. En ese caso, usa la solución más simple que funcione.\n",
        "\n",
        "**La legibilidad cuenta.**\n",
        "Incluso cuando tu código es complejo, intenta hacerlo legible. Cuando estés trabajando en un proyecto que involucre programación compleja, concéntrate en escribir comentarios informativos para ese código.\n",
        "\n",
        "**Debe haber una-- y preferiblemente solo una-- manera obvia de hacerlo.**\n",
        "Si a dos programadores de Python se les pide resolver el mismo problema, deberían llegar a soluciones bastante compatibles. Esto no quiere decir que no haya lugar para la creatividad en la programación. ¡Al contrario, hay mucho espacio para la creatividad! Sin embargo, gran parte de la programación consiste en usar enfoques pequeños y comunes para situaciones simples dentro de un proyecto más creativo. Los detalles de tus programas deben tener sentido para otros programadores de Python.\n",
        "\n",
        "**Ahora es mejor que nunca.**\n",
        "Podrías pasar el resto de tu vida aprendiendo todas las complejidades de Python y de la programación en general, pero entonces nunca completarías ningún proyecto. No intentes escribir un código perfecto; escribe código que funcione y luego decide si mejorar tu código para ese proyecto o pasar a algo nuevo.\n",
        "\n",
        "A medida que continúes con el próximo capítulo y te adentres en temas más involucrados, trata de mantener esta filosofía de simplicidad y claridad en mente. Los programadores experimentados respetarán más tu código y estarán felices de darte retroalimentación y colaborar contigo en proyectos interesantes."
      ]
    },
    {
      "cell_type": "markdown",
      "id": "57650009",
      "metadata": {},
      "source": [
        "## Resumen\n",
        "\n",
        "<div style=\"text-align: justify;\">\n",
        "En este capítulo aprendiste a trabajar con variables. Aprendiste a usar nombres de variables descriptivos y a resolver errores de nombres y errores de sintaxis cuando surgen. Aprendiste qué son las cadenas de texto y cómo mostrarlas en minúsculas, mayúsculas y en formato de título. Comenzaste a utilizar espacios en blanco para organizar la salida de manera ordenada y aprendiste cómo eliminar elementos innecesarios de una cadena de texto. Comenzaste a trabajar con números enteros y decimales, y aprendiste algunas de las formas en las que puedes trabajar con datos numéricos. También aprendiste a escribir comentarios explicativos para hacer que tu código sea más fácil de leer para ti y para otros. Finalmente, leíste acerca de la filosofía de mantener tu código lo más simple posible, siempre que sea posible.\n",
        "\n",
        "En el Capítulo 3, aprenderás cómo almacenar colecciones de información en estructuras de datos llamadas listas. También aprenderás cómo trabajar a través de una lista, manipulando cualquier información dentro de esa lista.</div>"
      ]
    }
  ],
  "metadata": {
    "colab": {
      "provenance": []
    },
    "kernelspec": {
      "display_name": "env",
      "language": "python",
      "name": "python3"
    },
    "language_info": {
      "codemirror_mode": {
        "name": "ipython",
        "version": 3
      },
      "file_extension": ".py",
      "mimetype": "text/x-python",
      "name": "python",
      "nbconvert_exporter": "python",
      "pygments_lexer": "ipython3",
      "version": "3.12.3"
    }
  },
  "nbformat": 4,
  "nbformat_minor": 5
}
