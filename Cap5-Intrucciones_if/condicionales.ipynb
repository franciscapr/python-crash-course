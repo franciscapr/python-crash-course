{
 "cells": [
  {
   "cell_type": "markdown",
   "metadata": {},
   "source": [
    "# **CAPÍTULO 5: INSTRUCCIONES IF (CONDICIONALES)**\n",
    "* Un ejemplo sencillo\n",
    "* Pruebas condicionales\n",
    "* Comprobación de igualdad\n",
    "* Ignorar mayúsculas al comprobar igualdad\n",
    "* Comprobación de desigualdad\n",
    "* Comparaciones numéricas\n",
    "* Comprobar múltiples condiciones\n",
    "* Comprobar si un valor está en una lista\n",
    "* Comprobar si un valor no está en una lista\n",
    "* Expresiones booleanas\n",
    "* Ejercicio 5-1: Pruebas condicionales\n",
    "* Ejercicio 5-2: Más pruebas condicionales\n",
    "* Instrucciones if\n",
    "* Instrucciones if simples\n",
    "* Instrucciones if-else\n",
    "* La cadena if-elif-else\n",
    "* Uso de múltiples bloques elif\n",
    "* Omitir el bloque else\n",
    "* Pruebas de múltiples condiciones\n",
    "* Ejercicio 5-3: Colores de alienígenas #1\n",
    "* Ejercicio 5-4: Colores de alienígenas #2\n",
    "* Ejercicio 5-5: Colores de alienígenas #3\n",
    "* Ejercicio 5-6: Etapas de la vida\n",
    "* Ejercicio 5-7: Fruta favorita\n",
    "* Uso de instrucciones if con listas\n",
    "* Comprobar elementos especiales\n",
    "* Comprobar que una lista no esté vacía\n",
    "* Uso de múltiples listas\n",
    "* Ejercicio 5-8: Hola, administrador\n",
    "* Ejercicio 5-9: Ningún usuario\n",
    "* Ejercicio 5-10: Comprobación de nombres de usuario\n",
    "* Ejercicio 5-11: Números ordinales\n",
    "* Estilo de tus instrucciones if\n",
    "* Ejercicio 5-12: Estilo de instrucciones if\n",
    "* Ejercicio 5-13: Tus ideas\n",
    "* Resumen"
   ]
  },
  {
   "cell_type": "markdown",
   "metadata": {},
   "source": [
    "# **DECLARACIONES IF**\n",
    "\n",
    "\n",
    "La programación a menudo implica examinar un conjunto de condiciones y decidir qué acción tomar en función de esas condiciones. La declaración 'if' de Python te permite examinar el estado actual de un programa y responder de manera apropiada a ese estado.\n",
    "\n",
    "En este capítulo, aprenderás a escribir pruebas condicionales, las cuales te permiten verificar cualquier condición de interés. Aprenderás a escribir declaraciones \"if\" simples y cómo crear una serie más compleja de declaraciones \"if\" para identificar cuándo se cumplen exactamente las condiciones que deseas. Luego aplicarás este concepto a listas, de modo que podrás escribir un bucle \"for\" que maneje la mayoría de los elementos en una lista de una manera, pero maneje ciertos elementos con valores específicos de manera diferente.\n"
   ]
  },
  {
   "cell_type": "markdown",
   "metadata": {},
   "source": [
    "#### **Un Ejemplo Sencillo**\n",
    "\n",
    "El siguiente ejemplo muestra cómo las pruebas condicionales te permiten responder correctamente a situaciones especiales. Imagina que tienes una lista de autos y quieres imprimir el nombre de cada uno. Los nombres de los autos son nombres propios, por lo que la mayoría de los nombres de los autos deberían imprimirse en mayúsculas y minúsculas iniciales. Sin embargo, el valor 'bmw' debería imprimirse completamente en mayúsculas. El siguiente código recorre una lista de nombres de autos y busca el valor 'bmw'. Cada vez que el valor es 'bmw', se imprime en mayúsculas en lugar de en mayúsculas y minúsculas iniciales:"
   ]
  },
  {
   "cell_type": "code",
   "execution_count": 2,
   "metadata": {},
   "outputs": [
    {
     "name": "stdout",
     "output_type": "stream",
     "text": [
      "Audi\n",
      "BMW\n",
      "Subaru\n",
      "Toyota\n"
     ]
    }
   ],
   "source": [
    "cars = ['audi', 'bmw', 'subaru', 'toyota']    # Creamos una lista con 4 elementos\n",
    "for car in cars:    # Para cada auto en autos\n",
    "    if car == 'bmw':    # Si auto es igual a 'bmw'\n",
    "        print(car.upper())  # Imprimimor el auto 'bmw' en mayuscula\n",
    "    else:   # Si no\n",
    "        print(car.title())  # Imprimimos los autos con la inicial en mayuscula"
   ]
  },
  {
   "cell_type": "markdown",
   "metadata": {},
   "source": [
    "\n",
    "El bucle en este ejemplo primero verifica si el valor actual de 'car' es 'bmw'. Si lo es, el valor se imprime en mayúsculas. Si el valor de 'car' es cualquier cosa que no sea 'bmw', se imprime en mayúsculas y minúsculas iniciales:\n",
    "\n",
    "```python\n",
    "Audi\n",
    "BMW\n",
    "Subaru\n",
    "Toyota\n",
    "```\n",
    "\n",
    "Este ejemplo combina varios de los conceptos que aprenderás en este capítulo. Comencemos por analizar los tipos de pruebas que puedes utilizar para examinar las condiciones en tu programa."
   ]
  },
  {
   "cell_type": "markdown",
   "metadata": {},
   "source": [
    "## Pruebas Condicionales\n",
    "\n",
    "En el centro de cada declaración 'if' hay una expresión que puede evaluarse como Verdadero o Falso, y se llama prueba condicional. Python utiliza los valores Verdadero (True) y Falso (False) para decidir si el código en una declaración 'if' debe ejecutarse. Si una prueba condicional se evalúa como Verdadero, Python ejecuta el código que sigue a la declaración 'if'. Si la prueba se evalúa como Falso, Python ignora el código que sigue a la declaración 'if'."
   ]
  }
 ],
 "metadata": {
  "kernelspec": {
   "display_name": "env",
   "language": "python",
   "name": "python3"
  },
  "language_info": {
   "codemirror_mode": {
    "name": "ipython",
    "version": 3
   },
   "file_extension": ".py",
   "mimetype": "text/x-python",
   "name": "python",
   "nbconvert_exporter": "python",
   "pygments_lexer": "ipython3",
   "version": "3.12.3"
  }
 },
 "nbformat": 4,
 "nbformat_minor": 2
}
