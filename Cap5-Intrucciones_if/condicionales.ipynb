{
 "cells": [
  {
   "cell_type": "markdown",
   "metadata": {},
   "source": [
    "# **CAPÍTULO 5: INSTRUCCIONES IF (CONDICIONALES)**\n",
    "* Un ejemplo sencillo\n",
    "* Pruebas condicionales\n",
    "* Comprobación de igualdad\n",
    "* Ignorar mayúsculas al comprobar igualdad\n",
    "* Comprobación de desigualdad\n",
    "* Comparaciones numéricas\n",
    "* Comprobar múltiples condiciones\n",
    "* Comprobar si un valor está en una lista\n",
    "* Comprobar si un valor no está en una lista\n",
    "* Expresiones booleanas\n",
    "* Ejercicio 5-1: Pruebas condicionales\n",
    "* Ejercicio 5-2: Más pruebas condicionales\n",
    "* Instrucciones if\n",
    "* Instrucciones if simples\n",
    "* Instrucciones if-else\n",
    "* La cadena if-elif-else\n",
    "* Uso de múltiples bloques elif\n",
    "* Omitir el bloque else\n",
    "* Pruebas de múltiples condiciones\n",
    "* Ejercicio 5-3: Colores de alienígenas #1\n",
    "* Ejercicio 5-4: Colores de alienígenas #2\n",
    "* Ejercicio 5-5: Colores de alienígenas #3\n",
    "* Ejercicio 5-6: Etapas de la vida\n",
    "* Ejercicio 5-7: Fruta favorita\n",
    "* Uso de instrucciones if con listas\n",
    "* Comprobar elementos especiales\n",
    "* Comprobar que una lista no esté vacía\n",
    "* Uso de múltiples listas\n",
    "* Ejercicio 5-8: Hola, administrador\n",
    "* Ejercicio 5-9: Ningún usuario\n",
    "* Ejercicio 5-10: Comprobación de nombres de usuario\n",
    "* Ejercicio 5-11: Números ordinales\n",
    "* Estilo de tus instrucciones if\n",
    "* Ejercicio 5-12: Estilo de instrucciones if\n",
    "* Ejercicio 5-13: Tus ideas\n",
    "* Resumen"
   ]
  },
  {
   "cell_type": "markdown",
   "metadata": {},
   "source": [
    "# **DECLARACIONES IF**\n",
    "\n",
    "\n",
    "La programación a menudo implica examinar un conjunto de condiciones y decidir qué acción tomar en función de esas condiciones. La declaración 'if' de Python te permite examinar el estado actual de un programa y responder de manera apropiada a ese estado.\n",
    "\n",
    "En este capítulo, aprenderás a escribir pruebas condicionales, las cuales te permiten verificar cualquier condición de interés. Aprenderás a escribir declaraciones \"if\" simples y cómo crear una serie más compleja de declaraciones \"if\" para identificar cuándo se cumplen exactamente las condiciones que deseas. Luego aplicarás este concepto a listas, de modo que podrás escribir un bucle \"for\" que maneje la mayoría de los elementos en una lista de una manera, pero maneje ciertos elementos con valores específicos de manera diferente.\n"
   ]
  },
  {
   "cell_type": "markdown",
   "metadata": {},
   "source": [
    "#### **Un Ejemplo Sencillo**\n",
    "\n",
    "El siguiente ejemplo muestra cómo las pruebas condicionales te permiten responder correctamente a situaciones especiales. Imagina que tienes una lista de autos y quieres imprimir el nombre de cada uno. Los nombres de los autos son nombres propios, por lo que la mayoría de los nombres de los autos deberían imprimirse en mayúsculas y minúsculas iniciales. Sin embargo, el valor 'bmw' debería imprimirse completamente en mayúsculas. El siguiente código recorre una lista de nombres de autos y busca el valor 'bmw'. Cada vez que el valor es 'bmw', se imprime en mayúsculas en lugar de en mayúsculas y minúsculas iniciales:"
   ]
  },
  {
   "cell_type": "code",
   "execution_count": 2,
   "metadata": {},
   "outputs": [
    {
     "name": "stdout",
     "output_type": "stream",
     "text": [
      "Audi\n",
      "BMW\n",
      "Subaru\n",
      "Toyota\n"
     ]
    }
   ],
   "source": [
    "cars = ['audi', 'bmw', 'subaru', 'toyota']    # Creamos una lista con 4 elementos\n",
    "for car in cars:    # Para cada auto en autos\n",
    "    if car == 'bmw':    # Si auto es igual a 'bmw'\n",
    "        print(car.upper())  # Imprimimor el auto 'bmw' en mayuscula\n",
    "    else:   # Si no\n",
    "        print(car.title())  # Imprimimos los autos con la inicial en mayuscula"
   ]
  },
  {
   "cell_type": "markdown",
   "metadata": {},
   "source": [
    "\n",
    "El bucle en este ejemplo primero verifica si el valor actual de 'car' es 'bmw'. Si lo es, el valor se imprime en mayúsculas. Si el valor de 'car' es cualquier cosa que no sea 'bmw', se imprime en mayúsculas y minúsculas iniciales:\n",
    "\n",
    "```python\n",
    "Audi\n",
    "BMW\n",
    "Subaru\n",
    "Toyota\n",
    "```\n",
    "\n",
    "Este ejemplo combina varios de los conceptos que aprenderás en este capítulo. Comencemos por analizar los tipos de pruebas que puedes utilizar para examinar las condiciones en tu programa."
   ]
  },
  {
   "cell_type": "markdown",
   "metadata": {},
   "source": [
    "## Pruebas Condicionales\n",
    "\n",
    "En el centro de cada declaración 'if' hay una expresión que puede evaluarse como Verdadero o Falso, y se llama prueba condicional. Python utiliza los valores Verdadero (True) y Falso (False) para decidir si el código en una declaración 'if' debe ejecutarse. Si una prueba condicional se evalúa como Verdadero, Python ejecuta el código que sigue a la declaración 'if'. Si la prueba se evalúa como Falso, Python ignora el código que sigue a la declaración 'if'."
   ]
  },
  {
   "cell_type": "markdown",
   "metadata": {},
   "source": [
    "## Comprobando la Igualdad\n",
    "\n",
    "La mayoría de las pruebas condicionales comparan el valor actual de una variable con un valor específico de interés. La prueba condicional más simple verifica si el valor de una variable es igual al valor de interés:"
   ]
  },
  {
   "cell_type": "code",
   "execution_count": 3,
   "metadata": {},
   "outputs": [
    {
     "data": {
      "text/plain": [
       "True"
      ]
     },
     "execution_count": 3,
     "metadata": {},
     "output_type": "execute_result"
    }
   ],
   "source": [
    "car = 'bmw'\n",
    "car == 'bmw'"
   ]
  },
  {
   "cell_type": "markdown",
   "metadata": {},
   "source": [
    "\n",
    "La primera línea establece el valor de 'car' como 'bmw' utilizando un solo signo igual, como has visto muchas veces antes. La siguiente línea verifica si el valor de 'car' es 'bmw' utilizando un doble signo igual (==). Este operador de igualdad devuelve True si los valores a ambos lados del operador coinciden y False si no coinciden. En este ejemplo, los valores coinciden, por lo que Python devuelve True.\n",
    "\n",
    "Cuando el valor de 'car' es cualquier cosa que no sea 'bmw', esta prueba devuelve False:"
   ]
  },
  {
   "cell_type": "code",
   "execution_count": 4,
   "metadata": {},
   "outputs": [
    {
     "data": {
      "text/plain": [
       "False"
      ]
     },
     "execution_count": 4,
     "metadata": {},
     "output_type": "execute_result"
    }
   ],
   "source": [
    "car = 'audi'\n",
    "car == 'bmw'"
   ]
  },
  {
   "cell_type": "markdown",
   "metadata": {},
   "source": [
    "Un solo signo igual es realmente una declaración; podrías interpretar la primera línea de código aquí como \"Establece el valor de 'car' igual a 'audi'\". Por otro lado, un doble signo igual hace una pregunta: \"¿Es el valor de 'car' igual a 'bmw'?\" La mayoría de los lenguajes de programación utilizan los signos iguales de esta manera."
   ]
  },
  {
   "cell_type": "markdown",
   "metadata": {},
   "source": [
    "## Ignorar el Caso al Verificar la Igualdad\n",
    "\n",
    "La verificación de la igualdad es sensible a mayúsculas y minúsculas en Python. Por ejemplo, dos valores con diferente capitalización no se consideran iguales:"
   ]
  },
  {
   "cell_type": "code",
   "execution_count": 5,
   "metadata": {},
   "outputs": [
    {
     "data": {
      "text/plain": [
       "False"
      ]
     },
     "execution_count": 5,
     "metadata": {},
     "output_type": "execute_result"
    }
   ],
   "source": [
    "car = 'Audi'\n",
    "car == 'audi'"
   ]
  },
  {
   "cell_type": "markdown",
   "metadata": {},
   "source": [
    "\n",
    "Si la distinción entre mayúsculas y minúsculas es importante, este comportamiento es ventajoso. Pero si la distinción entre mayúsculas y minúsculas no importa y en su lugar solo quieres verificar el valor de una variable, puedes convertir el valor de la variable a minúsculas antes de hacer la comparación:"
   ]
  },
  {
   "cell_type": "code",
   "execution_count": 6,
   "metadata": {},
   "outputs": [
    {
     "data": {
      "text/plain": [
       "True"
      ]
     },
     "execution_count": 6,
     "metadata": {},
     "output_type": "execute_result"
    }
   ],
   "source": [
    "car = 'Audi'\n",
    "car.lower() == 'audi'"
   ]
  },
  {
   "cell_type": "markdown",
   "metadata": {},
   "source": [
    "Esta prueba devolverá True sin importar cómo esté formateado el valor 'Audi' porque la prueba ahora es insensible a las mayúsculas y minúsculas. El método lower() no cambia el valor que se almacenó originalmente en 'car', por lo que puedes hacer este tipo de comparación sin afectar a la variable original:"
   ]
  },
  {
   "cell_type": "code",
   "execution_count": 7,
   "metadata": {},
   "outputs": [
    {
     "data": {
      "text/plain": [
       "'Audi'"
      ]
     },
     "execution_count": 7,
     "metadata": {},
     "output_type": "execute_result"
    }
   ],
   "source": [
    "car = 'Audi'\n",
    "car.lower() == 'audi'\n",
    "car"
   ]
  },
  {
   "cell_type": "markdown",
   "metadata": {},
   "source": [
    "\n",
    "Primero asignamos la cadena en mayúsculas 'Audi' a la variable 'car'. Luego, convertimos el valor de 'car' a minúsculas y comparamos el valor en minúsculas con la cadena 'audi'. Las dos cadenas coinciden, por lo que Python devuelve True. Podemos ver que el valor almacenado en 'car' no ha sido afectado por el método lower().\n",
    "\n",
    "Los sitios web aplican ciertas reglas para los datos que los usuarios ingresan de manera similar a esto. Por ejemplo, un sitio podría usar una prueba condicional como esta para asegurarse de que cada usuario tenga un nombre de usuario verdaderamente único, no solo una variación en la capitalización del nombre de usuario de otra persona. Cuando alguien envía un nuevo nombre de usuario, ese nuevo nombre de usuario se convierte a minúsculas y se compara con las versiones en minúsculas de todos los nombres de usuario existentes. Durante esta verificación, un nombre de usuario como 'John' será rechazado si alguna variación de 'john' ya está en uso."
   ]
  },
  {
   "cell_type": "markdown",
   "metadata": {},
   "source": [
    "## Comprobación de Desigualdad\n",
    "\n",
    "Cuando quieres determinar si dos valores no son iguales, puedes utilizar el operador de desigualdad (!=). Utilicemos otra declaración 'if' para examinar cómo usar el operador de desigualdad. Almacenaremos un ingrediente de pizza solicitado en una variable y luego mostraremos un mensaje si la persona no pidió anchoas:"
   ]
  },
  {
   "cell_type": "code",
   "execution_count": 8,
   "metadata": {},
   "outputs": [
    {
     "name": "stdout",
     "output_type": "stream",
     "text": [
      "¡Sin anchoas por favor!\n"
     ]
    }
   ],
   "source": [
    "requested_topping = 'mushrooms'\n",
    "if requested_topping != 'anchovies':\n",
    "    print(\"¡Sin anchoas por favor!\")"
   ]
  },
  {
   "cell_type": "markdown",
   "metadata": {},
   "source": [
    "\n",
    "Este código compara el valor de 'requested_topping' con el valor 'anchovies'. Si estos dos valores no coinciden, Python devuelve True y ejecuta el código que sigue a la declaración 'if'. Si los dos valores coinciden, Python devuelve False y no ejecuta el código que sigue a la declaración 'if'. Como el valor de 'requested_topping' no es 'anchovies', se ejecuta la función print():\n",
    "\n",
    "```python\n",
    "¡Sin anchoas por favor!\n",
    "```\n",
    "\n",
    "La mayoría de las expresiones condicionales que escribas probarán la igualdad, pero a veces encontrarás más eficiente probar la desigualdad."
   ]
  },
  {
   "cell_type": "markdown",
   "metadata": {},
   "source": [
    "## Comparaciones Numéricas\n",
    "\n",
    "Realizar pruebas con valores numéricos es bastante directo. Por ejemplo, el siguiente código verifica si una persona tiene 18 años:"
   ]
  },
  {
   "cell_type": "code",
   "execution_count": 9,
   "metadata": {},
   "outputs": [
    {
     "data": {
      "text/plain": [
       "True"
      ]
     },
     "execution_count": 9,
     "metadata": {},
     "output_type": "execute_result"
    }
   ],
   "source": [
    "age = 18\n",
    "age == 18"
   ]
  },
  {
   "cell_type": "markdown",
   "metadata": {},
   "source": [
    "También puedes comprobar si dos números no son iguales. Por ejemplo, el siguiente código imprime un mensaje si la respuesta dada no es correcta:"
   ]
  },
  {
   "cell_type": "code",
   "execution_count": 12,
   "metadata": {},
   "outputs": [
    {
     "name": "stdout",
     "output_type": "stream",
     "text": [
      "Esa no es la respuesta correcta. ¡Por favor, intèntalo de nuevo!\n"
     ]
    }
   ],
   "source": [
    "answer = 17\n",
    "if answer != 42:\n",
    "    print(\"Esa no es la respuesta correcta. ¡Por favor, intèntalo de nuevo!\")"
   ]
  },
  {
   "cell_type": "markdown",
   "metadata": {},
   "source": [
    "La prueba condicional pasa, porque el valor de 'answer' (17) no es igual a 42. Como la prueba pasa, se ejecuta el bloque de código con indentación:\n",
    "\n",
    "```python\n",
    "Esa no es la respuesta correcta. ¡Por favor, inténtalo de nuevo!\n",
    "```\n",
    "\n",
    "También puedes incluir varias comparaciones matemáticas en tus declaraciones condicionales, como menor que, menor o igual que, mayor que y mayor o igual que:"
   ]
  },
  {
   "cell_type": "code",
   "execution_count": 13,
   "metadata": {},
   "outputs": [
    {
     "data": {
      "text/plain": [
       "True"
      ]
     },
     "execution_count": 13,
     "metadata": {},
     "output_type": "execute_result"
    }
   ],
   "source": [
    "age = 19\n",
    "age < 21"
   ]
  },
  {
   "cell_type": "code",
   "execution_count": 14,
   "metadata": {},
   "outputs": [
    {
     "data": {
      "text/plain": [
       "True"
      ]
     },
     "execution_count": 14,
     "metadata": {},
     "output_type": "execute_result"
    }
   ],
   "source": [
    "age <= 21"
   ]
  },
  {
   "cell_type": "code",
   "execution_count": 15,
   "metadata": {},
   "outputs": [
    {
     "data": {
      "text/plain": [
       "False"
      ]
     },
     "execution_count": 15,
     "metadata": {},
     "output_type": "execute_result"
    }
   ],
   "source": [
    "age > 21"
   ]
  },
  {
   "cell_type": "code",
   "execution_count": 16,
   "metadata": {},
   "outputs": [
    {
     "data": {
      "text/plain": [
       "False"
      ]
     },
     "execution_count": 16,
     "metadata": {},
     "output_type": "execute_result"
    }
   ],
   "source": [
    "age >= 21"
   ]
  },
  {
   "cell_type": "markdown",
   "metadata": {},
   "source": [
    "Cada comparación matemática puede utilizarse como parte de una declaración 'if', lo que te puede ayudar a detectar las condiciones exactas de interés."
   ]
  },
  {
   "cell_type": "markdown",
   "metadata": {},
   "source": [
    "## Verificación de Múltiples Condiciones\n",
    "\n",
    "Puede que desees verificar múltiples condiciones al mismo tiempo. Por ejemplo, a veces podrías necesitar que dos condiciones sean Verdaderas para tomar una acción. Otras veces, podrías estar satisfecho con que solo una condición sea Verdadera. Las palabras clave **'and'** y **'or'** pueden ayudarte en estas situaciones."
   ]
  },
  {
   "cell_type": "markdown",
   "metadata": {},
   "source": [
    "## Usar `and` para Verificar Múltiples Condiciones\n",
    "\n",
    "Para comprobar si dos condiciones son Verdaderas simultáneamente, utiliza la palabra clave `and` para combinar las dos pruebas condicionales; si cada prueba pasa, la expresión global se evalúa como Verdadera. Si alguna de las pruebas falla o si ambas pruebas fallan, la expresión se evalúa como Falsa.\n",
    "\n",
    "Por ejemplo, puedes verificar si dos personas tienen más de 21 años utilizando la siguiente prueba:"
   ]
  },
  {
   "cell_type": "code",
   "execution_count": 17,
   "metadata": {},
   "outputs": [
    {
     "data": {
      "text/plain": [
       "False"
      ]
     },
     "execution_count": 17,
     "metadata": {},
     "output_type": "execute_result"
    }
   ],
   "source": [
    "age_0 = 22\n",
    "age_1 = 18\n",
    "\n",
    "age_0 >= 21 and age_1 >= 21"
   ]
  },
  {
   "cell_type": "code",
   "execution_count": 18,
   "metadata": {},
   "outputs": [
    {
     "data": {
      "text/plain": [
       "True"
      ]
     },
     "execution_count": 18,
     "metadata": {},
     "output_type": "execute_result"
    }
   ],
   "source": [
    "age_1 = 22\n",
    "age_0 >= 21 and age_1 >= 21"
   ]
  },
  {
   "cell_type": "markdown",
   "metadata": {},
   "source": [
    "Primero, definimos dos edades, age_0 y age_1. Luego verificamos si ambas edades son mayores o iguales a 21. La prueba en la izquierda pasa, pero la prueba en la derecha falla, por lo que la expresión condicional global se evalúa como Falsa. Luego cambiamos age_1 a 22. El valor de age_1 es ahora mayor que 21, por lo que ambas pruebas individuales pasan, lo que hace que la expresión condicional global se evalúe como Verdadera.\n",
    "\n",
    "Para mejorar la legibilidad, puedes usar paréntesis alrededor de las pruebas individuales, pero no son obligatorios. Si usas paréntesis, tu prueba se vería así:\n"
   ]
  },
  {
   "cell_type": "code",
   "execution_count": 19,
   "metadata": {},
   "outputs": [
    {
     "data": {
      "text/plain": [
       "True"
      ]
     },
     "execution_count": 19,
     "metadata": {},
     "output_type": "execute_result"
    }
   ],
   "source": [
    "(age_0 >= 21) and (age_1 >= 21)"
   ]
  },
  {
   "cell_type": "markdown",
   "metadata": {},
   "source": [
    "## Usar `or` para Verificar Múltiples Condiciones\n",
    "\n",
    "La palabra clave `or` te permite verificar múltiples condiciones también, pero pasa cuando cualquiera de las pruebas individuales o ambas pasan. Una expresión con `or` falla solo cuando ambas pruebas individuales fallan.\n",
    "\n",
    "Consideremos nuevamente dos edades, pero esta vez buscaremos que solo una persona sea mayor de 21 años:"
   ]
  },
  {
   "cell_type": "code",
   "execution_count": 20,
   "metadata": {},
   "outputs": [
    {
     "data": {
      "text/plain": [
       "True"
      ]
     },
     "execution_count": 20,
     "metadata": {},
     "output_type": "execute_result"
    }
   ],
   "source": [
    "age_0 = 22\n",
    "age_1 = 18\n",
    "\n",
    "age_0 >= 21 or age_1 >= 21"
   ]
  },
  {
   "cell_type": "code",
   "execution_count": 21,
   "metadata": {},
   "outputs": [
    {
     "data": {
      "text/plain": [
       "False"
      ]
     },
     "execution_count": 21,
     "metadata": {},
     "output_type": "execute_result"
    }
   ],
   "source": [
    "age_0 = 18\n",
    "age_0 >= 21 or age_1 >= 21"
   ]
  },
  {
   "cell_type": "markdown",
   "metadata": {},
   "source": [
    "Comenzamos de nuevo con dos variables de edad. Debido a que la prueba para age_0 pasa, la expresión global se evalúa como Verdadera. Luego reducimos age_0 a 18. En la prueba final, ambas pruebas ahora fallan y la expresión global se evalúa como Falsa."
   ]
  },
  {
   "cell_type": "markdown",
   "metadata": {},
   "source": [
    "## Comprobar si un Valor Está en una Lista\n",
    "\n",
    "A veces es importante verificar si una lista contiene cierto valor antes de tomar una acción. Por ejemplo, es posible que desees comprobar si un nuevo nombre de usuario ya existe en una lista de nombres de usuario actuales antes de completar el registro de alguien en un sitio web. En un proyecto de mapeo, es posible que desees verificar si una ubicación enviada ya existe en una lista de ubicaciones conocidas.\n",
    "\n",
    "Para saber si un valor en particular ya está en una lista, utiliza la palabra clave `in`. Consideremos un código que podrías escribir para una pizzería. Crearemos una lista de ingredientes que un cliente ha solicitado para una pizza y luego verificaremos si ciertos ingredientes están en la lista."
   ]
  },
  {
   "cell_type": "code",
   "execution_count": 22,
   "metadata": {},
   "outputs": [
    {
     "data": {
      "text/plain": [
       "True"
      ]
     },
     "execution_count": 22,
     "metadata": {},
     "output_type": "execute_result"
    }
   ],
   "source": [
    "requested_topping = ['mushrooms', 'onions', 'pineapple']\n",
    "\n",
    "'mushrooms' in requested_topping"
   ]
  },
  {
   "cell_type": "code",
   "execution_count": 23,
   "metadata": {},
   "outputs": [
    {
     "data": {
      "text/plain": [
       "False"
      ]
     },
     "execution_count": 23,
     "metadata": {},
     "output_type": "execute_result"
    }
   ],
   "source": [
    "'peperoni' in requested_topping"
   ]
  },
  {
   "cell_type": "markdown",
   "metadata": {},
   "source": [
    "\n",
    "La palabra clave `in` le indica a Python que verifique la existencia de 'mushrooms' y 'pepperoni' en la lista `requested_toppings`. Esta técnica es bastante poderosa porque puedes crear una lista de valores esenciales y luego verificar fácilmente si el valor que estás probando coincide con uno de los valores en la lista."
   ]
  },
  {
   "cell_type": "markdown",
   "metadata": {},
   "source": [
    "## Comprobar si un Valor No Está en una Lista\n",
    "\n",
    "En otras ocasiones, es importante saber si un valor no aparece en una lista. Puedes utilizar la palabra clave `not in` en esta situación. Por ejemplo, considera una lista de usuarios que están prohibidos de comentar en un foro. Puedes verificar si un usuario ha sido prohibido antes de permitir que esa persona envíe un comentario:"
   ]
  },
  {
   "cell_type": "code",
   "execution_count": 24,
   "metadata": {},
   "outputs": [
    {
     "name": "stdout",
     "output_type": "stream",
     "text": [
      "Marie, puedes publicar una respuesta si lo deseas.\n"
     ]
    }
   ],
   "source": [
    "banned_users = ['andrew', 'carolina', 'david']\n",
    "user = 'marie'\n",
    "if user not in banned_users:\n",
    "    print(f\"{user.title()}, puedes publicar una respuesta si lo deseas.\")"
   ]
  },
  {
   "cell_type": "markdown",
   "metadata": {},
   "source": [
    "La declaración `if` aquí se lee de manera clara. Si el valor de `user` no está en la lista `banned_users`, Python devuelve Verdadero y ejecuta la línea con indentación. El usuario 'marie' no está en la lista `banned_users`, por lo que ella ve un mensaje invitándola a publicar una respuesta:\n",
    "\n",
    "```python\n",
    "Marie, puedes publicar una respuesta si lo deseas.\n",
    "```"
   ]
  },
  {
   "cell_type": "markdown",
   "metadata": {},
   "source": [
    "## Expresiones Booleanas\n",
    "\n",
    "A medida que aprendes más sobre programación, en algún momento escucharás el término \"expresión booleana\". Una expresión booleana es simplemente otro nombre para una prueba condicional. Un valor booleano es ya sea Verdadero (True) o Falso (False), al igual que el valor de una expresión condicional después de que ha sido evaluada.\n",
    "\n",
    "Los valores booleanos se utilizan frecuentemente para llevar un registro de ciertas condiciones, como por ejemplo si un juego está en ejecución o si un usuario puede editar cierto contenido en un sitio web:"
   ]
  },
  {
   "cell_type": "code",
   "execution_count": 25,
   "metadata": {},
   "outputs": [],
   "source": [
    "juego_en_ejecucion = True\n",
    "puede_estitar = False"
   ]
  },
  {
   "cell_type": "markdown",
   "metadata": {},
   "source": [
    "Los valores booleanos proporcionan una forma eficiente de realizar un seguimiento del estado de un programa o de una condición particular que es importante en tu programa."
   ]
  },
  {
   "cell_type": "markdown",
   "metadata": {},
   "source": [
    "## **INTÉNTALO TÚ MISMO**\n",
    "**5-1. Pruebas Condicionales:**\n",
    "\n",
    "Escribe una serie de pruebas condicionales. Imprime una declaración que describa cada prueba y tu predicción para los resultados de cada prueba. Tu código debería lucir algo así:\n",
    "\n",
    "```python\n",
    "carro = 'subaru'\n",
    "print(\"¿Es carro == 'subaru'? Predigo Verdadero.\")\n",
    "print(carro == 'subaru')\n",
    "print(\"\\n¿Es carro == 'audi'? Predigo Falso.\")\n",
    "print(carro == 'audi')\n",
    "\n",
    "# Examina de cerca tus resultados y asegúrate de entender por qué cada línea evalúa como Verdadero o Falso.\n",
    "# Crea al menos 10 pruebas. Haz que al menos 5 pruebas se evalúen como Verdadero y otras 5 pruebas se evalúen como Falso.\n",
    "```"
   ]
  },
  {
   "cell_type": "code",
   "execution_count": 28,
   "metadata": {},
   "outputs": [
    {
     "name": "stdout",
     "output_type": "stream",
     "text": [
      "Mi auto es de marca Nissan\n"
     ]
    }
   ],
   "source": [
    "car = 'nissan'\n",
    "\n",
    "if car == 'nissan':\n",
    "    print(f\"Mi auto es de marca {car.title()}\")\n"
   ]
  },
  {
   "cell_type": "code",
   "execution_count": 29,
   "metadata": {},
   "outputs": [
    {
     "data": {
      "text/plain": [
       "False"
      ]
     },
     "execution_count": 29,
     "metadata": {},
     "output_type": "execute_result"
    }
   ],
   "source": [
    "car == 'ducati'"
   ]
  },
  {
   "cell_type": "code",
   "execution_count": 30,
   "metadata": {},
   "outputs": [
    {
     "data": {
      "text/plain": [
       "True"
      ]
     },
     "execution_count": 30,
     "metadata": {},
     "output_type": "execute_result"
    }
   ],
   "source": [
    "car == 'nissan'"
   ]
  },
  {
   "cell_type": "code",
   "execution_count": 32,
   "metadata": {},
   "outputs": [
    {
     "name": "stdout",
     "output_type": "stream",
     "text": [
      "It is your car nissan\n"
     ]
    }
   ],
   "source": [
    "car = 'nissan'\n",
    "if car != 'nissan':\n",
    "    print(f\"It is not your car {car}\")\n",
    "else:\n",
    "    print(f\"It is your car {car}\")"
   ]
  },
  {
   "cell_type": "markdown",
   "metadata": {},
   "source": [
    "**5-2. Más Pruebas Condicionales:**\n",
    "\n",
    "No tienes que limitar la cantidad de pruebas que creas a 10. Si deseas probar más comparaciones, escribe más pruebas y agrégalas a `conditional_tests.py`. Debes tener al menos un resultado Verdadero y uno Falso para cada uno de los siguientes casos:\n",
    "\n",
    "- Pruebas de igualdad e desigualdad con cadenas.\n",
    "- Pruebas usando el método `lower()`.\n",
    "- Pruebas numéricas que involucren igualdad y desigualdad, mayor que y menor que, mayor o igual que, y menor o igual que.\n",
    "- Pruebas usando las palabras clave `and` y `or`.\n",
    "- Prueba si un elemento está en una lista.\n",
    "- Prueba si un elemento no está en una lista."
   ]
  },
  {
   "cell_type": "code",
   "execution_count": 54,
   "metadata": {},
   "outputs": [
    {
     "data": {
      "text/plain": [
       "True"
      ]
     },
     "execution_count": 54,
     "metadata": {},
     "output_type": "execute_result"
    }
   ],
   "source": [
    "# Igualdad\n",
    "car = 'audi'\n",
    "car == 'audi'"
   ]
  },
  {
   "cell_type": "code",
   "execution_count": 57,
   "metadata": {},
   "outputs": [
    {
     "data": {
      "text/plain": [
       "False"
      ]
     },
     "execution_count": 57,
     "metadata": {},
     "output_type": "execute_result"
    }
   ],
   "source": [
    "# Desigualdad\n",
    "car = 'nissan'\n",
    "car != 'nissan'"
   ]
  },
  {
   "cell_type": "code",
   "execution_count": 64,
   "metadata": {},
   "outputs": [],
   "source": [
    "carro = 'toyota'"
   ]
  },
  {
   "cell_type": "code",
   "execution_count": 65,
   "metadata": {},
   "outputs": [
    {
     "data": {
      "text/plain": [
       "False"
      ]
     },
     "execution_count": 65,
     "metadata": {},
     "output_type": "execute_result"
    }
   ],
   "source": [
    "carro == 'Toyota'"
   ]
  },
  {
   "cell_type": "code",
   "execution_count": 68,
   "metadata": {},
   "outputs": [
    {
     "data": {
      "text/plain": [
       "True"
      ]
     },
     "execution_count": 68,
     "metadata": {},
     "output_type": "execute_result"
    }
   ],
   "source": [
    "carro.lower()\n",
    "carro == 'toyota'"
   ]
  },
  {
   "cell_type": "code",
   "execution_count": 69,
   "metadata": {},
   "outputs": [
    {
     "name": "stdout",
     "output_type": "stream",
     "text": [
      "Claramente no eres mayor que un adulto\n"
     ]
    }
   ],
   "source": [
    "adolescente = 18\n",
    "adulto = 25\n",
    "\n",
    "if adolescente >= adulto:\n",
    "    print(\"Eres mayor que un adulto\")\n",
    "else:\n",
    "    print(\"Claramente no eres mayor que un adulto\")\n"
   ]
  },
  {
   "cell_type": "code",
   "execution_count": 70,
   "metadata": {},
   "outputs": [
    {
     "name": "stdout",
     "output_type": "stream",
     "text": [
      "Eres menor de edad aun, no puedes conducir, al menos que este acompañado por un adulto\n"
     ]
    }
   ],
   "source": [
    "if adolescente <= 18:\n",
    "    print(\"Eres menor de edad aun, no puedes conducir, al menos que este acompañado por un adulto\")"
   ]
  },
  {
   "cell_type": "code",
   "execution_count": 71,
   "metadata": {},
   "outputs": [
    {
     "name": "stdout",
     "output_type": "stream",
     "text": [
      "Ustedes son grandes, ya puede ir al cine solos!!\n"
     ]
    }
   ],
   "source": [
    "if adolescente >= 17 and adulto >= 25:\n",
    "    print(\"Ustedes son grandes, ya puede ir al cine solos!!\")"
   ]
  },
  {
   "cell_type": "code",
   "execution_count": 72,
   "metadata": {},
   "outputs": [
    {
     "name": "stdout",
     "output_type": "stream",
     "text": [
      "Justo se cumple porque el adulto tiene 25\n"
     ]
    }
   ],
   "source": [
    "if adolescente == 17 or adulto == 25:\n",
    "    print(\"Justo se cumple porque el adulto tiene 25\")"
   ]
  },
  {
   "cell_type": "code",
   "execution_count": 73,
   "metadata": {},
   "outputs": [
    {
     "data": {
      "text/plain": [
       "True"
      ]
     },
     "execution_count": 73,
     "metadata": {},
     "output_type": "execute_result"
    }
   ],
   "source": [
    "lista = ['pizza', 'empanadas', 'camarones', 'tortillas']\n",
    "\n",
    "'pizza' in lista"
   ]
  },
  {
   "cell_type": "code",
   "execution_count": 75,
   "metadata": {},
   "outputs": [
    {
     "data": {
      "text/plain": [
       "True"
      ]
     },
     "execution_count": 75,
     "metadata": {},
     "output_type": "execute_result"
    }
   ],
   "source": [
    "lista = ['pizza', 'empanadas', 'camarones', 'tortillas']\n",
    "\n",
    "'pizza' != lista"
   ]
  },
  {
   "cell_type": "markdown",
   "metadata": {},
   "source": [
    "## Declaraciones `if`\n",
    "\n",
    "Cuando comprendes las pruebas condicionales, puedes comenzar a escribir declaraciones `if`. Existen varios tipos diferentes de declaraciones `if`, y tu elección de cuál usar depende de la cantidad de condiciones que necesitas probar. Viste varios ejemplos de declaraciones `if` en la discusión sobre pruebas condicionales, pero ahora profundicemos más en el tema."
   ]
  },
  {
   "cell_type": "markdown",
   "metadata": {},
   "source": [
    "## Declaraciones `if` Simples\n",
    "\n",
    "El tipo más simple de declaración `if` tiene una prueba y una acción:"
   ]
  },
  {
   "cell_type": "markdown",
   "metadata": {},
   "source": [
    "```python\n",
    "if prueba_condicional:\n",
    "    realizar_algo\n",
    "```\n",
    "\n",
    "Puedes poner cualquier prueba condicional en la primera línea y casi cualquier acción en el bloque con sangría que sigue a la prueba. Si la prueba condicional se evalúa como Verdadera, Python ejecuta el código que sigue a la declaración `if`. Si la prueba se evalúa como Falsa, Python ignora el código que sigue a la declaración `if`.\n",
    "\n",
    "Digamos que tenemos una variable que representa la edad de una persona y queremos saber si esa persona es lo suficientemente mayor como para votar. El siguiente código prueba si la persona puede votar:"
   ]
  },
  {
   "cell_type": "code",
   "execution_count": 2,
   "metadata": {},
   "outputs": [
    {
     "name": "stdout",
     "output_type": "stream",
     "text": [
      "¡Eres lo suficientemente mayor para vota!\n"
     ]
    }
   ],
   "source": [
    "edad = 19\n",
    "if edad >= 18:\n",
    "    print(\"¡Eres lo suficientemente mayor para vota!\")"
   ]
  },
  {
   "cell_type": "markdown",
   "metadata": {},
   "source": [
    "Python verifica si el valor de `edad` es mayor o igual a 18. Lo es, por lo que Python ejecuta la llamada `print()` con sangría:\n",
    "\n",
    "```python\n",
    "¡Eres lo suficientemente mayor para votar!\n",
    "```\n",
    "\n",
    "La sangría juega el mismo papel en las declaraciones `if` que en los bucles `for`. Todas las líneas con sangría después de una declaración `if` se ejecutarán si la prueba es exitosa, y todo el bloque de líneas con sangría se ignorará si la prueba no es exitosa.\n",
    "\n",
    "Puedes tener tantas líneas de código como desees en el bloque que sigue a la declaración `if`. Añadamos otra línea de salida si la persona es lo suficientemente mayor para votar, preguntando si la persona ya se ha registrado para votar:"
   ]
  },
  {
   "cell_type": "code",
   "execution_count": 3,
   "metadata": {},
   "outputs": [
    {
     "name": "stdout",
     "output_type": "stream",
     "text": [
      "¡Eres lo suficientemente mayor para votar!\n",
      "¿Ya te has registrado para votar?\n"
     ]
    }
   ],
   "source": [
    "edad = 19\n",
    "if edad >= 18:\n",
    "    print('¡Eres lo suficientemente mayor para votar!')\n",
    "    print('¿Ya te has registrado para votar?')"
   ]
  },
  {
   "cell_type": "markdown",
   "metadata": {},
   "source": [
    "\n",
    "La prueba condicional pasa y ambas llamadas a print() tienen sangría, por lo que ambas líneas se imprimen:\n",
    "\n",
    "```python\n",
    "¡Eres lo suficientemente mayor para votar!\n",
    "¿Ya te has registrado para votar?\n",
    "```\n",
    "\n",
    "Si el valor de edad es menor que 18, este programa no produciría ninguna salida."
   ]
  },
  {
   "cell_type": "markdown",
   "metadata": {},
   "source": [
    "## Declaraciones **if-else**\n",
    "\n",
    "A menudo, querrás tomar una acción cuando una prueba condicional sea Verdadera y una acción diferente en todos los demás casos. La sintaxis if-else de Python hace esto posible. Un bloque if-else es similar a una declaración if simple, pero la declaración else te permite definir una acción o conjunto de acciones que se ejecutan cuando la prueba condicional falla.\n",
    "\n",
    "Mostraremos el mismo mensaje que teníamos anteriormente si la persona es lo suficientemente mayor para votar, pero esta vez agregaremos un mensaje para cualquiera que no sea lo suficientemente mayor para votar:\n"
   ]
  },
  {
   "cell_type": "code",
   "execution_count": 4,
   "metadata": {},
   "outputs": [
    {
     "name": "stdout",
     "output_type": "stream",
     "text": [
      "Lo siento, eres demasiado joven para votar.\n",
      "¡POr favor regìstrate para votar tan pronto como cumplas 18!\n"
     ]
    }
   ],
   "source": [
    "edad = 17\n",
    "if edad >= 18:\n",
    "    print('¡Eres lo suficientemente mayor para votar!')\n",
    "    print('¿Ya te has registrado para votar?')\n",
    "\n",
    "else:\n",
    "    print('Lo siento, eres demasiado joven para votar.')\n",
    "    print('¡POr favor regìstrate para votar tan pronto como cumplas 18!')"
   ]
  },
  {
   "cell_type": "markdown",
   "metadata": {},
   "source": [
    "Si la prueba condicional pasa, se ejecuta el primer bloque de llamadas a print() con sangría. Si la prueba se evalúa como Falsa, se ejecuta el bloque else. Debido a que la edad es menor que 18 esta vez, la prueba condicional falla y se ejecuta el código en el bloque else:\n",
    "\n",
    "```python\n",
    "Lo siento, eres demasiado joven para votar.\n",
    "¡Por favor regístrate para votar tan pronto como cumplas 18!\n",
    "```\n",
    "\n",
    "Este código funciona porque tiene solo dos situaciones posibles para evaluar: una persona es lo suficientemente mayor para votar o no es lo suficientemente mayor para votar. La estructura if-else funciona bien en situaciones en las que quieres que Python ejecute siempre una de dos acciones posibles. En una cadena if-else simple como esta, una de las dos acciones siempre se ejecutará."
   ]
  },
  {
   "cell_type": "markdown",
   "metadata": {},
   "source": [
    "## Cadena **if-elif-else**\n",
    "\n",
    "A menudo, necesitarás probar más de dos situaciones posibles, y para evaluar estas puedes usar la sintaxis if-elif-else de Python. Python ejecuta solo un bloque en una cadena if-elif-else. Ejecuta cada prueba condicional en orden, hasta que una pasa. Cuando una prueba pasa, el código que sigue a esa prueba se ejecuta y Python omite el resto de las pruebas.\n",
    "\n",
    "Muchas situaciones del mundo real involucran más de dos condiciones posibles. Por ejemplo, considera un parque de atracciones que cobra tarifas diferentes para diferentes grupos de edad:\n",
    "\n",
    "    - La entrada para cualquier persona menor de 4 años es gratuita.\n",
    "    - La entrada para cualquier persona entre las edades de 4 y 18 años es de $25.\n",
    "    - La entrada para cualquier persona de 18 años o más es de $40.\n",
    "\n",
    "¿Cómo podemos usar una declaración if para determinar la tarifa de admisión de una persona? El siguiente código prueba el grupo de edad de una persona y luego imprime un mensaje con el precio de admisión:"
   ]
  },
  {
   "cell_type": "code",
   "execution_count": 5,
   "metadata": {},
   "outputs": [
    {
     "name": "stdout",
     "output_type": "stream",
     "text": [
      "Tu costo de admisiòn es de $25.\n"
     ]
    }
   ],
   "source": [
    "edad = 12\n",
    "if edad < 4:\n",
    "    print('Tu costo de admisiòn es de $0.')\n",
    "elif edad < 18:\n",
    "    print('Tu costo de admisiòn es de $25.')\n",
    "else:\n",
    "    print('Tu costo de asmisiòn es de $40.')"
   ]
  },
  {
   "cell_type": "markdown",
   "metadata": {},
   "source": [
    "La prueba if verifica si una persona tiene menos de 4 años. Cuando la prueba pasa, se imprime un mensaje apropiado y Python omite el resto de las pruebas. La línea elif es realmente otra prueba if, que se ejecuta solo si la prueba anterior falló. En este punto de la cadena, sabemos que la persona tiene al menos 4 años porque la primera prueba falló. Si la persona tiene menos de 18 años, se imprime un mensaje apropiado y Python omite el bloque else. Si tanto las pruebas if como elif fallan, Python ejecuta el código en el bloque else.\n",
    "\n",
    "En este ejemplo, la prueba if se evalúa como Falsa, por lo que su bloque de código no se ejecuta. Sin embargo, la prueba elif se evalúa como Verdadera (12 es menor que 18), por lo que se ejecuta su código. La salida es una frase, informando al usuario sobre el costo de admisión:\n",
    "\n",
    "```python\n",
    "Tu costo de admisión es $25.\n",
    "```\n",
    "\n",
    "Cualquier edad mayor a 17 haría que las dos primeras pruebas fallen. En estas situaciones, se ejecutaría el bloque else y el precio de admisión sería de $40.\n",
    "\n",
    "En lugar de imprimir el precio de admisión dentro del bloque **if-elif-else**, sería más conciso establecer solo el precio dentro de la cadena if-elif-else y luego tener una única llamada a print() que se ejecute después de que se haya evaluado la cadena:"
   ]
  },
  {
   "cell_type": "code",
   "execution_count": 6,
   "metadata": {},
   "outputs": [
    {
     "name": "stdout",
     "output_type": "stream",
     "text": [
      "Tu costo de admisiòn es $25.\n"
     ]
    }
   ],
   "source": [
    "edad = 12\n",
    "if edad < 4:\n",
    "    precio = 0\n",
    "elif edad < 18:\n",
    "    precio = 25\n",
    "else:\n",
    "    precio = 40\n",
    "print(f'Tu costo de admisiòn es ${precio}.')"
   ]
  },
  {
   "cell_type": "markdown",
   "metadata": {},
   "source": [
    "Las líneas con sangría establecen el valor de precio según la edad de la persona, como en el ejemplo anterior. Después de que el precio sea establecido por la cadena if-elif-else, una llamada separada y sin sangría a print() usa este valor para mostrar un mensaje que informa el precio de admisión de la persona.\n",
    "\n",
    "Este código produce la misma salida que el ejemplo anterior, pero el propósito de la cadena if-elif-else es más específico. En lugar de determinar un precio y mostrar un mensaje, simplemente determina el precio de admisión. Además de ser más eficiente, este código revisado es más fácil de modificar que el enfoque original. Para cambiar el texto del mensaje de salida, solo necesitarías cambiar una llamada a print() en lugar de tres llamadas separadas a print()."
   ]
  },
  {
   "cell_type": "markdown",
   "metadata": {},
   "source": [
    "## Uso de varios bloques **elif**\n",
    "\n",
    "Puedes usar tantos bloques elif en tu código como desees. Por ejemplo, si el parque de atracciones implementara un descuento para personas mayores, podrías agregar una prueba condicional más al código para determinar si alguien califica para el descuento para personas mayores. Digamos que cualquier persona de 65 años o más paga la mitad de la tarifa regular, o $20:"
   ]
  },
  {
   "cell_type": "code",
   "execution_count": 7,
   "metadata": {},
   "outputs": [
    {
     "name": "stdout",
     "output_type": "stream",
     "text": [
      "Tu costo de asmisiòn es $25.\n"
     ]
    }
   ],
   "source": [
    "edad = 12\n",
    "if edad < 4:\n",
    "    precio = 0\n",
    "elif edad < 18:\n",
    "    precio = 25\n",
    "elif edad < 65:\n",
    "    precio = 40\n",
    "else:\n",
    "    precio = 20\n",
    "print(f\"Tu costo de asmisiòn es ${precio}.\")"
   ]
  },
  {
   "cell_type": "markdown",
   "metadata": {},
   "source": [
    "La mayor parte de este código no ha cambiado. Ahora, el segundo bloque elif verifica que una persona tenga menos de 65 años antes de asignarle la tarifa completa de admisión de $40.\n",
    "Observa que el valor asignado en el bloque else necesita cambiarse a $20, porque las únicas edades que llegan a este bloque son para personas de 65 años o más."
   ]
  },
  {
   "cell_type": "markdown",
   "metadata": {},
   "source": [
    "## Omisión del bloque else\n",
    "\n",
    "Python no requiere un bloque else al final de una cadena de if-elif. A veces, un bloque else es útil. Otras veces, es más claro utilizar una declaración elif adicional que capture la condición específica de interés:"
   ]
  },
  {
   "cell_type": "code",
   "execution_count": 8,
   "metadata": {},
   "outputs": [
    {
     "name": "stdout",
     "output_type": "stream",
     "text": [
      "Tu costo de admisiòn es $25.\n"
     ]
    }
   ],
   "source": [
    "edad = 12\n",
    "if edad < 4:\n",
    "    precio = 0\n",
    "elif edad < 18:\n",
    "    precio = 25\n",
    "elif edad < 65:\n",
    "    precio = 40\n",
    "elif edad >= 65:\n",
    "    precio = 20\n",
    "print(f'Tu costo de admisiòn es ${precio}.')"
   ]
  },
  {
   "cell_type": "markdown",
   "metadata": {},
   "source": [
    "\n",
    "El último bloque elif asigna un precio de $20 cuando la persona tiene 65 años o más, lo cual es un poco más claro que el bloque else general. Con este cambio, cada bloque de código debe pasar una prueba específica para ser ejecutado.\n",
    "\n",
    "El bloque else es una declaración de captura general. Corresponde a cualquier condición que no haya sido igualada por una prueba específica de if o elif, y a veces puede incluir datos inválidos o incluso maliciosos. Si tienes una condición final específica que estás probando, considera utilizar un bloque elif final y omitir el bloque else. Como resultado, tendrás más confianza en que tu código se ejecutará solo bajo las condiciones correctas."
   ]
  },
  {
   "cell_type": "markdown",
   "metadata": {},
   "source": [
    "## Prueba de múltiples condiciones\n",
    "\n",
    "La cadena if-elif-else es potente, pero solo es apropiada cuando solo necesitas que pase una prueba. Tan pronto como Python encuentra una prueba que pasa, salta el resto de las pruebas. Este comportamiento es beneficioso, ya que es eficiente y te permite probar una condición específica.\n",
    "\n",
    "Sin embargo, a veces es importante verificar todas las condiciones de interés. En este caso, debes usar una serie de simples declaraciones if sin bloques elif o else. Esta técnica tiene sentido cuando más de una condición podría ser Verdadera, y quieres actuar sobre cada condición que sea Verdadera.\n",
    "\n",
    "Reconsideremos el ejemplo de la pizzería. Si alguien pide una pizza de dos ingredientes, necesitarás asegurarte de incluir ambos ingredientes en su pizza:"
   ]
  },
  {
   "cell_type": "code",
   "execution_count": 9,
   "metadata": {},
   "outputs": [
    {
     "name": "stdout",
     "output_type": "stream",
     "text": [
      "Agregando champiñones.\n",
      "Agregando queso extra.\n",
      "\n",
      "¡Se termino de hacer tu pizza!\n"
     ]
    }
   ],
   "source": [
    "ingredientes_solicitados = ['champiñones', 'queso extra']    # Creamos una lista con dos ingredientes\n",
    "if 'champiñones' in ingredientes_solicitados:    # SI champiñones esta en la lista \n",
    "    print('Agregando champiñones.')\n",
    "if 'pepperoni' in ingredientes_solicitados:\n",
    "    print('Agregando pepperoni.')\n",
    "if 'queso extra' in ingredientes_solicitados:\n",
    "    print('Agregando queso extra.')\n",
    "print('\\n¡Se termino de hacer tu pizza!')"
   ]
  },
  {
   "cell_type": "markdown",
   "metadata": {},
   "source": [
    "Comenzamos con una lista que contiene los ingredientes solicitados. La primera instrucción if verifica si la persona solicitó champiñones en su pizza. Si es así, se imprime un mensaje confirmando ese ingrediente. La prueba para pepperoni es otra simple instrucción if, no una instrucción elif o else, por lo que esta prueba se ejecuta independientemente de si la prueba anterior pasó o no. La última instrucción if verifica si se solicitó queso extra, independientemente de los resultados de las dos pruebas anteriores. Estas tres pruebas independientes se ejecutan cada vez que se ejecuta este programa.\n",
    "\n",
    "Debido a que se evalúa cada condición en este ejemplo, tanto los champiñones como el queso extra se agregan a la pizza:\n",
    "\n",
    "```python\n",
    "Agregando champiñones.\n",
    "Agregando queso extra.\n",
    "¡Se terminó de hacer tu pizza!\n",
    "```\n",
    "\n",
    "Este código no funcionaría correctamente si usáramos un bloque if-elif-else, porque el código dejaría de ejecutarse después de que pase solo una prueba. Así es como se vería:"
   ]
  },
  {
   "cell_type": "code",
   "execution_count": 11,
   "metadata": {},
   "outputs": [
    {
     "name": "stdout",
     "output_type": "stream",
     "text": [
      "Agregando champiñones.\n",
      "\n",
      "¡Se terminò de hacer tu pizza!\n"
     ]
    }
   ],
   "source": [
    "ingredientes_solicitados = ['champiñones', 'queso extra']\n",
    "if 'champiñones' in ingredientes_solicitados:\n",
    "    print('Agregando champiñones.')\n",
    "elif 'pepperoni' in ingredientes_solicitados:\n",
    "    print('Agregando pepperoni.')\n",
    "elif 'queso extra' in ingredientes_solicitados:\n",
    "    print('Agregando queso extra.')\n",
    "print('\\n¡Se terminò de hacer tu pizza!')"
   ]
  },
  {
   "cell_type": "markdown",
   "metadata": {},
   "source": [
    "La prueba para 'champiñones' es la primera en pasar, por lo que se agregan champiñones a la pizza. Sin embargo, los valores 'queso extra' y 'pepperoni' nunca se verifican, porque Python no ejecuta pruebas más allá de la primera que pase en una cadena if-elif-else. El primer ingrediente del cliente se agregará, pero se perderán todos sus otros ingredientes:\n",
    "\n",
    "```python\n",
    "Agregando champiñones.\n",
    "¡Se terminó de hacer tu pizza!\n",
    "```\n",
    "\n",
    "En resumen, si quieres que se ejecute solo un bloque de código, usa una cadena if-elif-else. Si más de un bloque de código necesita ejecutarse, usa una serie de declaraciones if independientes."
   ]
  },
  {
   "cell_type": "markdown",
   "metadata": {},
   "source": [
    "## **HAZLO TU MISMO**\n",
    "**5-3. Colores de alienígenas #1:**\n",
    "\n",
    "Imagina que un alienígena acaba de ser derribado en un juego. \n",
    "* Crea una variable llamada alien_color y asígnale un valor de 'verde', 'amarillo' o 'rojo'. \n",
    "* Escribe una declaración if para verificar si el color del alienígena es verde. \n",
    "* Si lo es, imprime un mensaje de que el jugador acaba de ganar 5 puntos.\n",
    "* Escribe una versión de este programa que pase la prueba if y otra que falle. (La versión que falle no tendrá salida)."
   ]
  },
  {
   "cell_type": "code",
   "execution_count": 13,
   "metadata": {},
   "outputs": [
    {
     "name": "stdout",
     "output_type": "stream",
     "text": [
      "El alienigena aliminado es de color: Verde.\n",
      "Haz ganado 5 puntos!!!\n"
     ]
    }
   ],
   "source": [
    "alien_color = ['verde', 'amarillo', 'rojo']\n",
    "\n",
    "if 'azul' in alien_color:   \n",
    "    print('El colo del alienigena es azul')\n",
    "if 'verde' in alien_color:\n",
    "    print(f'El alienigena aliminado es de color: {alien_color[0].title()}.\\nHaz ganado 5 puntos!!!')\n"
   ]
  },
  {
   "cell_type": "markdown",
   "metadata": {},
   "source": [
    "**5-4. Colores de alienígenas #2:**\n",
    "\n",
    "* Elige un color para un alienígena como hiciste en el Ejercicio 5-3, y escribe una cadena if-else.\n",
    "* Si el color del alienígena es verde, imprime una declaración de que el jugador acaba de ganar 5 puntos por disparar al alienígena.\n",
    "* Si el color del alienígena no es verde, imprime una declaración de que el jugador acaba de ganar 10 puntos.\n",
    "* Escribe una versión de este programa que ejecute el bloque if y otra que ejecute el bloque else."
   ]
  },
  {
   "cell_type": "code",
   "execution_count": 14,
   "metadata": {},
   "outputs": [
    {
     "name": "stdout",
     "output_type": "stream",
     "text": [
      "Acabas de ganar 5 punto\n"
     ]
    }
   ],
   "source": [
    "alien = 'verde'\n",
    "\n",
    "if alien == 'verde':\n",
    "    print('Acabas de ganar 5 punto')\n",
    "else:\n",
    "    print('Acabas de ganas 10 puntos')\n"
   ]
  },
  {
   "cell_type": "code",
   "execution_count": 15,
   "metadata": {},
   "outputs": [
    {
     "name": "stdout",
     "output_type": "stream",
     "text": [
      "Acabas de ganas 10 puntos\n"
     ]
    }
   ],
   "source": [
    "alien = 'azul'\n",
    "\n",
    "if alien == 'verde':\n",
    "    print('Acabas de ganar 5 punto')\n",
    "else:\n",
    "    print('Acabas de ganas 10 puntos')\n"
   ]
  },
  {
   "cell_type": "markdown",
   "metadata": {},
   "source": [
    "**5-5. Colores de alienígenas #3:**\n",
    "\n",
    "* Convierte tu cadena if-else del Ejercicio 5-4 en una cadena if-elif-else.\n",
    "* Si el alienígena es verde, imprime un mensaje de que el jugador ganó 5 puntos.\n",
    "* Si el alienígena es amarillo, imprime un mensaje de que el jugador ganó 10 puntos.\n",
    "* Si el alienígena es rojo, imprime un mensaje de que el jugador ganó 15 puntos.\n",
    "* Escribe tres versiones de este programa, asegurándote de que se imprima cada mensaje para el color de alienígena correspondiente."
   ]
  },
  {
   "cell_type": "code",
   "execution_count": 16,
   "metadata": {},
   "outputs": [
    {
     "name": "stdout",
     "output_type": "stream",
     "text": [
      "Haz ganado 5 puntos\n"
     ]
    }
   ],
   "source": [
    "alien_color = 'verde'\n",
    "\n",
    "if alien_color == 'verde':\n",
    "    print('Haz ganado 5 puntos')\n",
    "elif alien_color == 'amarillo':\n",
    "    print('Haz ganado 10 punto')\n",
    "elif alien_color == 'rojo':\n",
    "    print('Haz ganado 15 puntos')"
   ]
  },
  {
   "cell_type": "code",
   "execution_count": 17,
   "metadata": {},
   "outputs": [
    {
     "name": "stdout",
     "output_type": "stream",
     "text": [
      "Haz ganado 10 punto\n"
     ]
    }
   ],
   "source": [
    "alien_color = 'amarillo'\n",
    "\n",
    "if alien_color == 'verde':\n",
    "    print('Haz ganado 5 puntos')\n",
    "elif alien_color == 'amarillo':\n",
    "    print('Haz ganado 10 punto')\n",
    "elif alien_color == 'rojo':\n",
    "    print('Haz ganado 15 puntos')"
   ]
  },
  {
   "cell_type": "code",
   "execution_count": 18,
   "metadata": {},
   "outputs": [
    {
     "name": "stdout",
     "output_type": "stream",
     "text": [
      "Haz ganado 15 puntos\n"
     ]
    }
   ],
   "source": [
    "alien_color = 'rojo'\n",
    "\n",
    "if alien_color == 'verde':\n",
    "    print('Haz ganado 5 puntos')\n",
    "elif alien_color == 'amarillo':\n",
    "    print('Haz ganado 10 punto')\n",
    "elif alien_color == 'rojo':\n",
    "    print('Haz ganado 15 puntos')"
   ]
  },
  {
   "cell_type": "markdown",
   "metadata": {},
   "source": [
    "**5-6. Etapas de la vida:**\n",
    "\n",
    "Escribe una cadena if-elif-else que determine la etapa de la vida de una persona. Establece un valor para la variable age y luego:\n",
    "- Si la persona tiene menos de 2 años, imprime un mensaje de que la persona es un bebé.\n",
    "- Si la persona tiene al menos 2 años pero menos de 4, imprime un mensaje de que la persona es un niño pequeño.\n",
    "- Si la persona tiene al menos 4 años pero menos de 13, imprime un mensaje de que la persona es un niño.\n",
    "- Si la persona tiene al menos 13 años pero menos de 20, imprime un mensaje de que la persona es un adolescente.\n",
    "- Si la persona tiene al menos 20 años pero menos de 65, imprime un mensaje de que la persona es un adulto.\n",
    "- Si la persona tiene 65 años o más, imprime un mensaje de que la persona es un anciano."
   ]
  },
  {
   "cell_type": "code",
   "execution_count": 22,
   "metadata": {},
   "outputs": [
    {
     "name": "stdout",
     "output_type": "stream",
     "text": [
      "Esta persona es un adulto. Tiene 29 años.\n"
     ]
    }
   ],
   "source": [
    "age = 29\n",
    "\n",
    "if age < 2:\n",
    "    print('Esta persona es un bebè.')\n",
    "elif age >= 2 and age < 4:\n",
    "    print('Esta persona es un niño pequeño.')\n",
    "elif age >= 4 and age < 13:\n",
    "    print('Esta persona es un niño.')\n",
    "elif age >= 13 and age < 20:\n",
    "    print('Esta persona es un adolescente.')\n",
    "elif age >= 20 and age < 65:\n",
    "    print(f'Esta persona es un adulto. Tiene {age} años.')\n",
    "elif age >= 65:\n",
    "    print('Usted es una persona mayor')"
   ]
  },
  {
   "cell_type": "markdown",
   "metadata": {},
   "source": [
    "**5-7. Frutas favoritas:**\n",
    "\n",
    "* Haz una lista de tus frutas favoritas y luego escribe una serie de declaraciones if independientes que verifiquen ciertas frutas en tu lista.\n",
    "* Haz una lista de tus tres frutas favoritas y llámala favorite_fruits. \n",
    "* Escribe cinco declaraciones if. Cada una debe verificar si un cierto tipo de fruta está en tu lista. \n",
    "* Si la fruta está en tu lista, el bloque if debería imprimir una declaración, como \"¡Realmente te gustan las bananas!\""
   ]
  },
  {
   "cell_type": "code",
   "execution_count": 26,
   "metadata": {},
   "outputs": [
    {
     "name": "stdout",
     "output_type": "stream",
     "text": [
      "¡Realmente te gustan Platano!!!\n",
      "¡Realmente te gustan los Durazno!!!\n",
      "¡Realmente te gustan las Frambuesa!!!\n",
      "Claramente no estan las bananas en tu lista de frutas favortias\n",
      "Claramente no estan los melones en tu lista de frutas favoritas\n"
     ]
    }
   ],
   "source": [
    "favorite_fruits = ['platano', 'durazno', 'frambuesa']\n",
    "\n",
    "if 'platano' in favorite_fruits:\n",
    "    print(f'¡Realmente te gustan {favorite_fruits[0].title()}!!!')\n",
    "\n",
    "if 'durazno' in favorite_fruits:\n",
    "    print(f\"¡Realmente te gustan los {favorite_fruits[1].title()}!!!\")\n",
    "\n",
    "if 'frambuesa' in favorite_fruits:\n",
    "    print(f\"¡Realmente te gustan las {favorite_fruits[2].title()}!!!\")\n",
    "\n",
    "if 'banana' in favorite_fruits:\n",
    "    print(f'¡Realmente te gustan las {favorite_fruits}!!!')\n",
    "else:\n",
    "    print('Claramente no estan las bananas en tu lista de frutas favortias')\n",
    "\n",
    "if 'melon' in favorite_fruits:\n",
    "    print(f'¡Realmente te gustan las {favorite_fruits}!!!')\n",
    "else:\n",
    "    print('Claramente no estan los melones en tu lista de frutas favoritas')\n"
   ]
  },
  {
   "cell_type": "markdown",
   "metadata": {},
   "source": [
    "## Usar declaraciones if con listas\n",
    "\n",
    "Puedes realizar trabajos interesantes cuando combinas listas y declaraciones if. Puedes estar atento a valores especiales que deben tratarse de manera diferente a otros valores en la lista. Puedes gestionar eficientemente condiciones cambiantes, como la disponibilidad de ciertos elementos en un restaurante a lo largo de un turno. También puedes empezar a asegurarte de que tu código funcione como esperas en todas las situaciones posibles."
   ]
  },
  {
   "cell_type": "markdown",
   "metadata": {},
   "source": [
    "## Comprobando Elementos Especiales\n",
    "\n",
    "Este capítulo comenzó con un ejemplo simple que mostraba cómo manejar un valor especial como 'bmw', que necesitaba imprimirse en un formato diferente a otros valores en la lista. Ahora que tienes una comprensión básica de las pruebas condicionales y las declaraciones if, veamos más de cerca cómo puedes estar atento a los valores especiales en una lista y manejar esos valores adecuadamente.\n",
    "\n",
    "Continuemos con el ejemplo de la pizzería. La pizzería muestra un mensaje cada vez que se agrega un ingrediente a tu pizza, mientras se está preparando. El código para esta acción puede escribirse de manera muy eficiente al hacer una lista de los ingredientes que el cliente ha solicitado y usar un bucle para anunciar cada ingrediente a medida que se agrega a la pizza:"
   ]
  },
  {
   "cell_type": "code",
   "execution_count": 27,
   "metadata": {},
   "outputs": [
    {
     "name": "stdout",
     "output_type": "stream",
     "text": [
      "Agregando champiñones.\n",
      "Agregando pimientos verdes.\n",
      "Agregando extra queso.\n",
      "\n",
      "¡Se ha terminado de hacer tu pizza!\n"
     ]
    }
   ],
   "source": [
    "ingredientes_solicitados = ['champiñones', 'pimientos verdes', 'extra queso']\n",
    "\n",
    "for ingrediente in ingredientes_solicitados:\n",
    "    print(f'Agregando {ingrediente}.')\n",
    "\n",
    "print('\\n¡Se ha terminado de hacer tu pizza!')\n"
   ]
  },
  {
   "cell_type": "markdown",
   "metadata": {},
   "source": [
    "La salida es sencilla porque este código es solo un simple bucle for:\n",
    "\n",
    "```python\n",
    "Agregando champiñones.\n",
    "Agregando pimientos verdes.\n",
    "Agregando extra queso.\n",
    "¡Se ha terminado de hacer tu pizza!\n",
    "```\n",
    "\n",
    "Pero ¿qué pasa si la pizzería se queda sin pimientos verdes? Una declaración if dentro del bucle for puede manejar esta situación de manera apropiada:"
   ]
  },
  {
   "cell_type": "code",
   "execution_count": 29,
   "metadata": {},
   "outputs": [
    {
     "name": "stdout",
     "output_type": "stream",
     "text": [
      "Agregando champiñones.\n",
      "Lo siento, ahora mismo no tenemos pimientos verdes.\n",
      "Agregando extra queso.\n",
      "\n",
      "¡Se ha terminado de hacer tu pizza!\n"
     ]
    }
   ],
   "source": [
    "ingredientes_solicitados = ['champiñones', 'pimientos verdes', 'extra queso']\n",
    "\n",
    "for ingrediente in ingredientes_solicitados:\n",
    "    if ingrediente == 'pimientos verdes':\n",
    "        print('Lo siento, ahora mismo no tenemos pimientos verdes.')\n",
    "    else:\n",
    "        print(f'Agregando {ingrediente}.')\n",
    "print(\"\\n¡Se ha terminado de hacer tu pizza!\")"
   ]
  },
  {
   "cell_type": "markdown",
   "metadata": {},
   "source": [
    "Esta vez, verificamos cada ingrediente solicitado antes de agregarlo a la pizza. La declaración if verifica si la persona solicitó pimientos verdes. Si es así, mostramos un mensaje informándoles por qué no pueden tener pimientos verdes. El bloque else asegura que todos los demás ingredientes se agregarán a la pizza.\n",
    "\n",
    "La salida muestra que cada ingrediente solicitado se maneja de manera apropiada:\n",
    "\n",
    "```python\n",
    "Agregando champiñones.\n",
    "Lo siento, ahora mismo no tenemos pimientos verdes.\n",
    "Agregando extra queso.\n",
    "¡Se ha terminado de hacer tu pizza!\n",
    "```"
   ]
  },
  {
   "cell_type": "markdown",
   "metadata": {},
   "source": [
    "## Comprobando si una Lista no está Vacía\n",
    "\n",
    "Hasta ahora hemos hecho una suposición simple sobre cada lista con la que hemos trabajado: hemos asumido que cada lista tiene al menos un elemento. Pronto permitiremos a los usuarios proporcionar la información que se almacena en una lista, por lo que no podremos asumir que una lista tiene algún elemento en cada ejecución de un bucle. En esta situación, es útil verificar si una lista está vacía antes de ejecutar un bucle for.\n",
    "\n",
    "Como ejemplo, vamos a verificar si la lista de ingredientes solicitados está vacía antes de preparar la pizza. Si la lista está vacía, solicitaremos al usuario y nos aseguraremos de que deseen una pizza simple. Si la lista no está vacía, prepararemos la pizza igual que en los ejemplos anteriores:"
   ]
  },
  {
   "cell_type": "code",
   "execution_count": 31,
   "metadata": {},
   "outputs": [
    {
     "name": "stdout",
     "output_type": "stream",
     "text": [
      "¿Estàs seguro de que quieres un pizza simple?\n"
     ]
    }
   ],
   "source": [
    "ingredientes_solicitados = []    # Definimos una lista vacia\n",
    "\n",
    "if ingredientes_solicitados:    # Si ingredientes_solicitados\n",
    "    for ingrediente in ingredientes_solicitados:    # Para cada ingrediente en ingredientes_solicitados\n",
    "        print(f\"Agregando {ingrediente}.\")    # Imprimimos Agregando dicho ingrediente\n",
    "    print(\"\\n¡Se ha terminado de hacer tu pizza!\")    # Imprimimos Se ha terminado de hacer tu pizza!\n",
    "else:    # Si esto no se cumple entonces :\n",
    "    print('¿Estàs seguro de que quieres un pizza simple?')    # Imprimismo ¿Estas seguro de que quieres una pizza simple?"
   ]
  },
  {
   "cell_type": "markdown",
   "metadata": {},
   "source": [
    "Esta vez comenzamos con una lista vacía de ingredientes solicitados. En lugar de iniciar un bucle for de inmediato, hacemos una verificación rápida primero. Cuando se usa el nombre de una lista en una declaración if, Python devuelve True si la lista contiene al menos un elemento; una lista vacía se evalúa como False. Si ingredientes_solicitados pasa la prueba condicional, ejecutamos el mismo bucle for que usamos en el ejemplo anterior. Si la prueba condicional falla, imprimimos un mensaje preguntando al cliente si realmente desea una pizza simple sin ingredientes.\n",
    "\n",
    "La lista está vacía en este caso, por lo que el resultado pregunta si el usuario realmente quiere una pizza simple:\n",
    "\n",
    "```python\n",
    "¿Estás seguro de que quieres una pizza simple?\n",
    "```\n",
    "\n",
    "Si la lista no está vacía, la salida mostrará cada ingrediente solicitado siendo agregado a la pizza.\n"
   ]
  },
  {
   "cell_type": "markdown",
   "metadata": {},
   "source": [
    "## Usando Múltiples Listas\n",
    "\n",
    "Las personas pedirán casi cualquier cosa, especialmente cuando se trata de ingredientes para pizza. ¿Qué pasa si un cliente realmente quiere papas fritas en su pizza? Puedes usar listas y declaraciones if para asegurarte de que tu entrada tenga sentido antes de actuar sobre ella.\n",
    "\n",
    "Veamos las solicitudes de ingredientes inusuales antes de preparar una pizza. El siguiente ejemplo define dos listas. La primera es una lista de ingredientes disponibles en la pizzería, y la segunda es la lista de ingredientes que el usuario ha solicitado. En esta ocasión, cada elemento en ingredientes_solicitados se verifica con respecto a la lista de ingredientes disponibles antes de agregarlo a la pizza:"
   ]
  },
  {
   "cell_type": "code",
   "execution_count": 32,
   "metadata": {},
   "outputs": [
    {
     "name": "stdout",
     "output_type": "stream",
     "text": [
      "Agregando champiñones.\n",
      "Lo siento, no tenemos papas fritas.\n",
      "Agregando extra queso.\n",
      "\n",
      "¡Se ha terminado de hacer tu pizza!\n"
     ]
    }
   ],
   "source": [
    "ingredientes_disponibles = ['champiñones', 'aceitunas', 'pimientos verdes', 'pepperoni', 'piña', 'extra queso']\n",
    "ingredientes_solicitados = ['champiñones', 'papas fritas', 'extra queso']\n",
    "\n",
    "for ingrediente in ingredientes_solicitados:\n",
    "    if ingrediente in ingredientes_disponibles:\n",
    "        print(f\"Agregando {ingrediente}.\")\n",
    "    else:\n",
    "        print(f'Lo siento, no tenemos {ingrediente}.')\n",
    "print(\"\\n¡Se ha terminado de hacer tu pizza!\")\n"
   ]
  },
  {
   "cell_type": "markdown",
   "metadata": {},
   "source": [
    "Primero, definimos una lista de ingredientes disponibles en esta pizzería. Ten en cuenta que esto podría ser una tupla si la pizzería tiene una selección estable de ingredientes. Luego, creamos una lista de ingredientes que un cliente ha solicitado. Hay una solicitud inusual de un ingrediente en este ejemplo: 'papas fritas'. Luego recorremos la lista de ingredientes solicitados. Dentro del bucle, verificamos si cada ingrediente solicitado está realmente en la lista de ingredientes disponibles. Si lo está, agregamos ese ingrediente a la pizza. Si el ingrediente solicitado no está en la lista de ingredientes disponibles, se ejecutará el bloque else. El bloque else imprime un mensaje que informa al usuario sobre los ingredientes no disponibles.\n",
    "\n",
    "Este código produce una salida limpia e informativa:\n",
    "\n",
    "```python\n",
    "Agregando champiñones.\n",
    "Lo siento, no tenemos papas fritas.\n",
    "Agregando extra queso.\n",
    "¡Se ha terminado de hacer tu pizza!\n",
    "```\n",
    "\n",
    "¡En solo unas pocas líneas de código, hemos manejado una situación del mundo real de manera bastante efectiva!"
   ]
  },
  {
   "cell_type": "markdown",
   "metadata": {},
   "source": [
    "# **HAZLO TU MISMO**\n",
    "**5-8. Hola Admin:**\n",
    "\n",
    "* Hola Admin: Crea una lista de cinco o más nombres de usuario, incluyendo el nombre 'admin'.\n",
    "* Imagina que estás escribiendo un código que imprimirá un saludo a cada usuario después de que inicien sesión en un sitio web. Recorre la lista e imprime un saludo a cada usuario.\n",
    "* Si el nombre de usuario es 'admin', imprime un saludo especial, como Hola admin, ¿te gustaría ver un informe de estado?\n",
    "* De lo contrario, imprime un saludo genérico, como Hola Jaden, gracias por iniciar sesión nuevamente.\n"
   ]
  },
  {
   "cell_type": "code",
   "execution_count": 35,
   "metadata": {},
   "outputs": [
    {
     "name": "stdout",
     "output_type": "stream",
     "text": [
      "Hola Francisca, gracias por iniciar sesiòn nuevamente.\n",
      "Hola admin, ¿Te gustaria ver el reporte de la app?\n",
      "Hola Pablo, gracias por iniciar sesiòn nuevamente.\n",
      "Hola Naomi, gracias por iniciar sesiòn nuevamente.\n",
      "Hola William, gracias por iniciar sesiòn nuevamente.\n"
     ]
    }
   ],
   "source": [
    "users = ['francisca', 'admin', 'pablo', 'naomi', 'william']\n",
    "\n",
    "for user in users:\n",
    "    if user == 'admin':\n",
    "        print(f'Hola admin, ¿Te gustaria ver el reporte de la app?')\n",
    "    else:\n",
    "        print(f'Hola {user.title()}, gracias por iniciar sesiòn nuevamente.')\n"
   ]
  },
  {
   "cell_type": "markdown",
   "metadata": {},
   "source": [
    "**5-9. Sin Usuarios:**\n",
    "\n",
    "* Sin Usuarios: Agrega una prueba if a hello_admin.py para asegurarte de que la lista de usuarios no esté vacía.\n",
    "* Si la lista está vacía, imprime el mensaje ¡Necesitamos encontrar algunos usuarios!\n",
    "* Elimina todos los nombres de usuario de tu lista y asegúrate de que se imprima el mensaje correcto.\n"
   ]
  },
  {
   "cell_type": "code",
   "execution_count": 36,
   "metadata": {},
   "outputs": [
    {
     "name": "stdout",
     "output_type": "stream",
     "text": [
      "Necesitamos encontrar mas usuarios\n"
     ]
    }
   ],
   "source": [
    "users = []\n",
    "\n",
    "for user in users:\n",
    "    print(f'Bievenido {user}')\n",
    "else:\n",
    "    print('Necesitamos encontrar mas usuarios')\n"
   ]
  },
  {
   "cell_type": "markdown",
   "metadata": {},
   "source": [
    "**5-10. Verificación de Nombres de Usuario:**\n",
    "\n",
    "* Verificación de Nombres de Usuario: Haz lo siguiente para crear un programa que simule cómo los sitios web aseguran que todos tengan un nombre de usuario único.\n",
    "* Crea una lista de cinco o más nombres de usuario llamada current_users.\n",
    "* Haz otra lista de cinco nombres de usuario llamada new_users. Asegúrate de que uno o dos de los nuevos nombres de usuario también estén en la lista current_users.\n",
    "* Recorre la lista new_users para ver si cada nuevo nombre de usuario ya ha sido utilizado. Si ha sido utilizado, imprime un mensaje diciendo que la persona tendrá que ingresar un nuevo nombre de usuario. \n",
    "* Si un nombre de usuario no ha sido utilizado, imprime un mensaje que indique que el nombre de usuario está disponible.\n",
    "* Asegúrate de que tu comparación no distinga entre mayúsculas y minúsculas. Si se ha utilizado 'John', no se debe aceptar 'JOHN'. (Para hacer esto, necesitarás hacer una copia de current_users que contenga las versiones en minúsculas de todos los usuarios existentes.)"
   ]
  },
  {
   "cell_type": "code",
   "execution_count": 39,
   "metadata": {},
   "outputs": [
    {
     "name": "stdout",
     "output_type": "stream",
     "text": [
      "El nombre Marisol, esta disponible\n",
      "Ya hay alguien resgitrado con ese nombre de usuario Martina, debera ingresar un nuevo nombre de usuario.\n",
      "El nombre Lorenzo, esta disponible\n",
      "El nombre Naomi, esta disponible\n",
      "El nombre Marco, esta disponible\n"
     ]
    }
   ],
   "source": [
    "current_users = ['juan', 'martina', 'juana', 'franchesca', 'william']\n",
    "new_users = ['marisol', 'martina', 'lorenzo', 'naomi', 'marco']\n",
    "\n",
    "for user in new_users:\n",
    "    if user in current_users:\n",
    "        print(f'Ya hay alguien resgitrado con ese nombre de usuario {user.title()}, debera ingresar un nuevo nombre de usuario.')\n",
    "    else:\n",
    "        print(f\"El nombre {user.title()}, esta disponible\")"
   ]
  }
 ],
 "metadata": {
  "kernelspec": {
   "display_name": "env",
   "language": "python",
   "name": "python3"
  },
  "language_info": {
   "codemirror_mode": {
    "name": "ipython",
    "version": 3
   },
   "file_extension": ".py",
   "mimetype": "text/x-python",
   "name": "python",
   "nbconvert_exporter": "python",
   "pygments_lexer": "ipython3",
   "version": "3.12.3"
  }
 },
 "nbformat": 4,
 "nbformat_minor": 2
}
