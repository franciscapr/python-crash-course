{
 "cells": [
  {
   "cell_type": "markdown",
   "metadata": {},
   "source": [
    "# **CAPÍTULO 5: INSTRUCCIONES IF (CONDICIONALES)**\n",
    "* Un ejemplo sencillo\n",
    "* Pruebas condicionales\n",
    "* Comprobación de igualdad\n",
    "* Ignorar mayúsculas al comprobar igualdad\n",
    "* Comprobación de desigualdad\n",
    "* Comparaciones numéricas\n",
    "* Comprobar múltiples condiciones\n",
    "* Comprobar si un valor está en una lista\n",
    "* Comprobar si un valor no está en una lista\n",
    "* Expresiones booleanas\n",
    "* Ejercicio 5-1: Pruebas condicionales\n",
    "* Ejercicio 5-2: Más pruebas condicionales\n",
    "* Instrucciones if\n",
    "* Instrucciones if simples\n",
    "* Instrucciones if-else\n",
    "* La cadena if-elif-else\n",
    "* Uso de múltiples bloques elif\n",
    "* Omitir el bloque else\n",
    "* Pruebas de múltiples condiciones\n",
    "* Ejercicio 5-3: Colores de alienígenas #1\n",
    "* Ejercicio 5-4: Colores de alienígenas #2\n",
    "* Ejercicio 5-5: Colores de alienígenas #3\n",
    "* Ejercicio 5-6: Etapas de la vida\n",
    "* Ejercicio 5-7: Fruta favorita\n",
    "* Uso de instrucciones if con listas\n",
    "* Comprobar elementos especiales\n",
    "* Comprobar que una lista no esté vacía\n",
    "* Uso de múltiples listas\n",
    "* Ejercicio 5-8: Hola, administrador\n",
    "* Ejercicio 5-9: Ningún usuario\n",
    "* Ejercicio 5-10: Comprobación de nombres de usuario\n",
    "* Ejercicio 5-11: Números ordinales\n",
    "* Estilo de tus instrucciones if\n",
    "* Ejercicio 5-12: Estilo de instrucciones if\n",
    "* Ejercicio 5-13: Tus ideas\n",
    "* Resumen"
   ]
  },
  {
   "cell_type": "markdown",
   "metadata": {},
   "source": [
    "# **DECLARACIONES IF**\n",
    "\n",
    "\n",
    "La programación a menudo implica examinar un conjunto de condiciones y decidir qué acción tomar en función de esas condiciones. La declaración 'if' de Python te permite examinar el estado actual de un programa y responder de manera apropiada a ese estado.\n",
    "\n",
    "En este capítulo, aprenderás a escribir pruebas condicionales, las cuales te permiten verificar cualquier condición de interés. Aprenderás a escribir declaraciones \"if\" simples y cómo crear una serie más compleja de declaraciones \"if\" para identificar cuándo se cumplen exactamente las condiciones que deseas. Luego aplicarás este concepto a listas, de modo que podrás escribir un bucle \"for\" que maneje la mayoría de los elementos en una lista de una manera, pero maneje ciertos elementos con valores específicos de manera diferente.\n"
   ]
  },
  {
   "cell_type": "markdown",
   "metadata": {},
   "source": [
    "#### **Un Ejemplo Sencillo**\n",
    "\n",
    "El siguiente ejemplo muestra cómo las pruebas condicionales te permiten responder correctamente a situaciones especiales. Imagina que tienes una lista de autos y quieres imprimir el nombre de cada uno. Los nombres de los autos son nombres propios, por lo que la mayoría de los nombres de los autos deberían imprimirse en mayúsculas y minúsculas iniciales. Sin embargo, el valor 'bmw' debería imprimirse completamente en mayúsculas. El siguiente código recorre una lista de nombres de autos y busca el valor 'bmw'. Cada vez que el valor es 'bmw', se imprime en mayúsculas en lugar de en mayúsculas y minúsculas iniciales:"
   ]
  },
  {
   "cell_type": "code",
   "execution_count": 2,
   "metadata": {},
   "outputs": [
    {
     "name": "stdout",
     "output_type": "stream",
     "text": [
      "Audi\n",
      "BMW\n",
      "Subaru\n",
      "Toyota\n"
     ]
    }
   ],
   "source": [
    "cars = ['audi', 'bmw', 'subaru', 'toyota']    # Creamos una lista con 4 elementos\n",
    "for car in cars:    # Para cada auto en autos\n",
    "    if car == 'bmw':    # Si auto es igual a 'bmw'\n",
    "        print(car.upper())  # Imprimimor el auto 'bmw' en mayuscula\n",
    "    else:   # Si no\n",
    "        print(car.title())  # Imprimimos los autos con la inicial en mayuscula"
   ]
  },
  {
   "cell_type": "markdown",
   "metadata": {},
   "source": [
    "\n",
    "El bucle en este ejemplo primero verifica si el valor actual de 'car' es 'bmw'. Si lo es, el valor se imprime en mayúsculas. Si el valor de 'car' es cualquier cosa que no sea 'bmw', se imprime en mayúsculas y minúsculas iniciales:\n",
    "\n",
    "```python\n",
    "Audi\n",
    "BMW\n",
    "Subaru\n",
    "Toyota\n",
    "```\n",
    "\n",
    "Este ejemplo combina varios de los conceptos que aprenderás en este capítulo. Comencemos por analizar los tipos de pruebas que puedes utilizar para examinar las condiciones en tu programa."
   ]
  },
  {
   "cell_type": "markdown",
   "metadata": {},
   "source": [
    "## Pruebas Condicionales\n",
    "\n",
    "En el centro de cada declaración 'if' hay una expresión que puede evaluarse como Verdadero o Falso, y se llama prueba condicional. Python utiliza los valores Verdadero (True) y Falso (False) para decidir si el código en una declaración 'if' debe ejecutarse. Si una prueba condicional se evalúa como Verdadero, Python ejecuta el código que sigue a la declaración 'if'. Si la prueba se evalúa como Falso, Python ignora el código que sigue a la declaración 'if'."
   ]
  },
  {
   "cell_type": "markdown",
   "metadata": {},
   "source": [
    "## Comprobando la Igualdad\n",
    "\n",
    "La mayoría de las pruebas condicionales comparan el valor actual de una variable con un valor específico de interés. La prueba condicional más simple verifica si el valor de una variable es igual al valor de interés:"
   ]
  },
  {
   "cell_type": "code",
   "execution_count": 3,
   "metadata": {},
   "outputs": [
    {
     "data": {
      "text/plain": [
       "True"
      ]
     },
     "execution_count": 3,
     "metadata": {},
     "output_type": "execute_result"
    }
   ],
   "source": [
    "car = 'bmw'\n",
    "car == 'bmw'"
   ]
  },
  {
   "cell_type": "markdown",
   "metadata": {},
   "source": [
    "\n",
    "La primera línea establece el valor de 'car' como 'bmw' utilizando un solo signo igual, como has visto muchas veces antes. La siguiente línea verifica si el valor de 'car' es 'bmw' utilizando un doble signo igual (==). Este operador de igualdad devuelve True si los valores a ambos lados del operador coinciden y False si no coinciden. En este ejemplo, los valores coinciden, por lo que Python devuelve True.\n",
    "\n",
    "Cuando el valor de 'car' es cualquier cosa que no sea 'bmw', esta prueba devuelve False:"
   ]
  },
  {
   "cell_type": "code",
   "execution_count": 4,
   "metadata": {},
   "outputs": [
    {
     "data": {
      "text/plain": [
       "False"
      ]
     },
     "execution_count": 4,
     "metadata": {},
     "output_type": "execute_result"
    }
   ],
   "source": [
    "car = 'audi'\n",
    "car == 'bmw'"
   ]
  },
  {
   "cell_type": "markdown",
   "metadata": {},
   "source": [
    "Un solo signo igual es realmente una declaración; podrías interpretar la primera línea de código aquí como \"Establece el valor de 'car' igual a 'audi'\". Por otro lado, un doble signo igual hace una pregunta: \"¿Es el valor de 'car' igual a 'bmw'?\" La mayoría de los lenguajes de programación utilizan los signos iguales de esta manera."
   ]
  },
  {
   "cell_type": "markdown",
   "metadata": {},
   "source": [
    "## Ignorar el Caso al Verificar la Igualdad\n",
    "\n",
    "La verificación de la igualdad es sensible a mayúsculas y minúsculas en Python. Por ejemplo, dos valores con diferente capitalización no se consideran iguales:"
   ]
  },
  {
   "cell_type": "code",
   "execution_count": 5,
   "metadata": {},
   "outputs": [
    {
     "data": {
      "text/plain": [
       "False"
      ]
     },
     "execution_count": 5,
     "metadata": {},
     "output_type": "execute_result"
    }
   ],
   "source": [
    "car = 'Audi'\n",
    "car == 'audi'"
   ]
  },
  {
   "cell_type": "markdown",
   "metadata": {},
   "source": [
    "\n",
    "Si la distinción entre mayúsculas y minúsculas es importante, este comportamiento es ventajoso. Pero si la distinción entre mayúsculas y minúsculas no importa y en su lugar solo quieres verificar el valor de una variable, puedes convertir el valor de la variable a minúsculas antes de hacer la comparación:"
   ]
  },
  {
   "cell_type": "code",
   "execution_count": 6,
   "metadata": {},
   "outputs": [
    {
     "data": {
      "text/plain": [
       "True"
      ]
     },
     "execution_count": 6,
     "metadata": {},
     "output_type": "execute_result"
    }
   ],
   "source": [
    "car = 'Audi'\n",
    "car.lower() == 'audi'"
   ]
  },
  {
   "cell_type": "markdown",
   "metadata": {},
   "source": [
    "Esta prueba devolverá True sin importar cómo esté formateado el valor 'Audi' porque la prueba ahora es insensible a las mayúsculas y minúsculas. El método lower() no cambia el valor que se almacenó originalmente en 'car', por lo que puedes hacer este tipo de comparación sin afectar a la variable original:"
   ]
  },
  {
   "cell_type": "code",
   "execution_count": 7,
   "metadata": {},
   "outputs": [
    {
     "data": {
      "text/plain": [
       "'Audi'"
      ]
     },
     "execution_count": 7,
     "metadata": {},
     "output_type": "execute_result"
    }
   ],
   "source": [
    "car = 'Audi'\n",
    "car.lower() == 'audi'\n",
    "car"
   ]
  },
  {
   "cell_type": "markdown",
   "metadata": {},
   "source": [
    "\n",
    "Primero asignamos la cadena en mayúsculas 'Audi' a la variable 'car'. Luego, convertimos el valor de 'car' a minúsculas y comparamos el valor en minúsculas con la cadena 'audi'. Las dos cadenas coinciden, por lo que Python devuelve True. Podemos ver que el valor almacenado en 'car' no ha sido afectado por el método lower().\n",
    "\n",
    "Los sitios web aplican ciertas reglas para los datos que los usuarios ingresan de manera similar a esto. Por ejemplo, un sitio podría usar una prueba condicional como esta para asegurarse de que cada usuario tenga un nombre de usuario verdaderamente único, no solo una variación en la capitalización del nombre de usuario de otra persona. Cuando alguien envía un nuevo nombre de usuario, ese nuevo nombre de usuario se convierte a minúsculas y se compara con las versiones en minúsculas de todos los nombres de usuario existentes. Durante esta verificación, un nombre de usuario como 'John' será rechazado si alguna variación de 'john' ya está en uso."
   ]
  },
  {
   "cell_type": "markdown",
   "metadata": {},
   "source": [
    "## Comprobación de Desigualdad\n",
    "\n",
    "Cuando quieres determinar si dos valores no son iguales, puedes utilizar el operador de desigualdad (!=). Utilicemos otra declaración 'if' para examinar cómo usar el operador de desigualdad. Almacenaremos un ingrediente de pizza solicitado en una variable y luego mostraremos un mensaje si la persona no pidió anchoas:"
   ]
  },
  {
   "cell_type": "code",
   "execution_count": 8,
   "metadata": {},
   "outputs": [
    {
     "name": "stdout",
     "output_type": "stream",
     "text": [
      "¡Sin anchoas por favor!\n"
     ]
    }
   ],
   "source": [
    "requested_topping = 'mushrooms'\n",
    "if requested_topping != 'anchovies':\n",
    "    print(\"¡Sin anchoas por favor!\")"
   ]
  },
  {
   "cell_type": "markdown",
   "metadata": {},
   "source": [
    "\n",
    "Este código compara el valor de 'requested_topping' con el valor 'anchovies'. Si estos dos valores no coinciden, Python devuelve True y ejecuta el código que sigue a la declaración 'if'. Si los dos valores coinciden, Python devuelve False y no ejecuta el código que sigue a la declaración 'if'. Como el valor de 'requested_topping' no es 'anchovies', se ejecuta la función print():\n",
    "\n",
    "```python\n",
    "¡Sin anchoas por favor!\n",
    "```\n",
    "\n",
    "La mayoría de las expresiones condicionales que escribas probarán la igualdad, pero a veces encontrarás más eficiente probar la desigualdad."
   ]
  }
 ],
 "metadata": {
  "kernelspec": {
   "display_name": "env",
   "language": "python",
   "name": "python3"
  },
  "language_info": {
   "codemirror_mode": {
    "name": "ipython",
    "version": 3
   },
   "file_extension": ".py",
   "mimetype": "text/x-python",
   "name": "python",
   "nbconvert_exporter": "python",
   "pygments_lexer": "ipython3",
   "version": "3.12.3"
  }
 },
 "nbformat": 4,
 "nbformat_minor": 2
}
